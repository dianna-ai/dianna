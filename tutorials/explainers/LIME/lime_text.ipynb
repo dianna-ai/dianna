{
 "cells": [
  {
   "cell_type": "markdown",
   "id": "6f6affbc",
   "metadata": {
    "pycharm": {
     "name": "#%% md\n"
    }
   },
   "source": [
    "<img width=\"150\" alt=\"Logo_ER10\" src=\"https://user-images.githubusercontent.com/3244249/151994514-b584b984-a148-4ade-80ee-0f88b0aefa45.png\">\n",
    "\n",
    "### Interpreting a movie review sentiment model with LIME\n",
    "This notebook demonstrates the use of DIANNA with the LIME method on the [Stanford Sentiment Treebank dataset](https://nlp.stanford.edu/sentiment/index.html) which contains one-sentence movie reviews. See also [their paper](https://nlp.stanford.edu/~socherr/EMNLP2013_RNTN.pdf). A pre-trained neural network classifier is used, which identifies whether a movie review is positive or negative.\n",
    "\n",
    "LIME (Local Interpretable Model-agnostic Explanations) is an explainable-AI method that aims to create an interpretable model that locally represents the classifier. For more details see the [LIME paper](https://arxiv.org/abs/1602.04938)."
   ]
  },
  {
   "cell_type": "markdown",
   "id": "224e1862",
   "metadata": {},
   "source": [
    "#### Colab Setup"
   ]
  },
  {
   "cell_type": "code",
   "execution_count": 1,
   "id": "df22c5aa",
   "metadata": {},
   "outputs": [],
   "source": [
    "running_in_colab = 'google.colab' in str(get_ipython())\n",
    "if running_in_colab:\n",
    "    # install dianna\n",
    "    !python3 -m pip install dianna[notebooks]"
   ]
  },
  {
   "cell_type": "markdown",
   "id": "091947e1",
   "metadata": {
    "pycharm": {
     "name": "#%% md\n"
    }
   },
   "source": [
    "#### 1. Imports and paths"
   ]
  },
  {
   "cell_type": "code",
   "execution_count": null,
   "id": "bf888085",
   "metadata": {
    "pycharm": {
     "name": "#%%\n"
    }
   },
   "outputs": [],
   "source": [
    "import os\n",
    "import matplotlib.pyplot as plt\n",
    "import numpy as np\n",
    "import spacy\n",
    "from torchtext.vocab import Vectors\n",
    "from scipy.special import expit as sigmoid\n",
    "\n",
    "import dianna\n",
    "from dianna import visualization\n",
    "from dianna import utils\n",
    "from dianna.utils.downloader import download\n",
    "from dianna.utils.tokenizers import SpacyTokenizer"
   ]
  },
  {
   "cell_type": "code",
   "execution_count": 3,
   "id": "4263ce5c",
   "metadata": {
    "pycharm": {
     "name": "#%%\n"
    }
   },
   "outputs": [],
   "source": [
    "model_path = download('movie_review_model.onnx', 'model')\n",
    "word_vector_path = download('movie_reviews_word_vectors.txt', 'data')\n",
    "labels = (\"negative\", \"positive\")"
   ]
  },
  {
   "cell_type": "markdown",
   "id": "86fd772b",
   "metadata": {
    "pycharm": {
     "name": "#%% md\n"
    }
   },
   "source": [
    "#### 2. Loading the model\n",
    "\n",
    "The classifier is stored in ONNX format. It accepts numerical tokens as input, and outputs a score between 0 and 1, where 0 means the review is negative and 1 that it is positive.  \n",
    "Here we define a class to run the model, which accepts a sentence (i.e. string) as input instead and returns two classes: negative and positive."
   ]
  },
  {
   "cell_type": "code",
   "execution_count": null,
   "id": "f09c7fc3",
   "metadata": {},
   "outputs": [],
   "source": [
    "# ensure the tokenizer for english is available\n",
    "spacy.cli.download('en_core_web_sm')"
   ]
  },
  {
   "cell_type": "code",
   "execution_count": 5,
   "id": "02e6d4b1",
   "metadata": {
    "pycharm": {
     "name": "#%%\n"
    }
   },
   "outputs": [],
   "source": [
    "class MovieReviewsModelRunner:\n",
    "    def __init__(self, model, word_vectors, max_filter_size):\n",
    "        self.run_model = utils.get_function(model)\n",
    "        self.vocab = Vectors(word_vectors, cache=os.path.dirname(word_vectors))\n",
    "        self.max_filter_size = max_filter_size\n",
    "        \n",
    "        self.tokenizer = SpacyTokenizer(name='en_core_web_sm')\n",
    "\n",
    "    def __call__(self, sentences):\n",
    "        # ensure the input has a batch axis\n",
    "        if isinstance(sentences, str):\n",
    "            sentences = [sentences]\n",
    "\n",
    "        output = []\n",
    "        for sentence in sentences:\n",
    "            # tokenize and pad to minimum length\n",
    "            tokens = self.tokenizer.tokenize(sentence.lower())\n",
    "            if len(tokens) < self.max_filter_size:\n",
    "                tokens += ['<pad>'] * (self.max_filter_size - len(tokens))\n",
    "            \n",
    "            # numericalize the tokens\n",
    "            tokens_numerical = [self.vocab.stoi[token] if token in self.vocab.stoi else self.vocab.stoi['<unk>']\n",
    "                                for token in tokens]\n",
    "\n",
    "            # run the model, applying a sigmoid because the model outputs logits, remove any remaining batch axis\n",
    "            pred = float(sigmoid(self.run_model([tokens_numerical])))\n",
    "            output.append(pred)\n",
    "\n",
    "        # output two classes\n",
    "        positivity = np.array(output)\n",
    "        negativity = 1 - positivity\n",
    "        return np.transpose([negativity, positivity])       "
   ]
  },
  {
   "cell_type": "code",
   "execution_count": 6,
   "id": "214007db",
   "metadata": {
    "pycharm": {
     "name": "#%%\n"
    }
   },
   "outputs": [
    {
     "name": "stderr",
     "output_type": "stream",
     "text": [
      "100%|████████████████████████████████████████████████████████████████████████████████████████████████████████████████████████████████████▉| 13888/13889 [00:00<00:00, 29837.09it/s]\n"
     ]
    }
   ],
   "source": [
    "# define model runner. max_filter_size is a property of the model\n",
    "model_runner = MovieReviewsModelRunner(model_path, word_vector_path, max_filter_size=5)"
   ]
  },
  {
   "cell_type": "markdown",
   "id": "7939aef9",
   "metadata": {
    "pycharm": {
     "name": "#%% md\n"
    }
   },
   "source": [
    "#### 3. Applying LIME with DIANNA\n",
    "The simplest way to run DIANNA on text data is with `dianna.explain_text`. The arguments are:\n",
    "* The function that runs the model (a path to a model in ONNX format is also accepted)\n",
    "* The text we want to explain\n",
    "* The name of the explainable-AI method we want to use, here LIME\n",
    "* The numerical index of the class we want an explanation for\n",
    "\n",
    "`dianna.explain_text` returns a list of tuples. Each tuple contains a word, its location in the input text, and its importance for the selected output class"
   ]
  },
  {
   "cell_type": "code",
   "execution_count": 7,
   "id": "083ff6b1",
   "metadata": {
    "pycharm": {
     "name": "#%%\n"
    }
   },
   "outputs": [],
   "source": [
    "review = \"A delectable and intriguing thriller filled with surprises.\""
   ]
  },
  {
   "cell_type": "code",
   "execution_count": 8,
   "id": "1b2b2ab2",
   "metadata": {
    "pycharm": {
     "name": "#%%\n"
    }
   },
   "outputs": [
    {
     "name": "stderr",
     "output_type": "stream",
     "text": [
      "/var/folders/rj/_8tmcy8118q5h1zc_3dz1rz00000gn/T/ipykernel_32287/1753736335.py:26: DeprecationWarning: Conversion of an array with ndim > 0 to a scalar is deprecated, and will error in future. Ensure you extract a single element from your array before performing this operation. (Deprecated NumPy 1.25.)\n",
      "  pred = float(sigmoid(self.run_model([tokens_numerical])))\n"
     ]
    },
    {
     "data": {
      "text/plain": [
       "[('intriguing', 3, 0.1494251390016417),\n",
       " ('thriller', 4, 0.06169666393710174),\n",
       " ('delectable', 1, 0.05673652647678169),\n",
       " ('A', 0, 0.01974513430826506),\n",
       " ('and', 2, 0.01822693342907461),\n",
       " ('with', 6, 0.014052819256237513),\n",
       " ('filled', 5, -0.011330645775131239),\n",
       " ('.', 8, 0.0037673252252354216),\n",
       " ('surprises', 7, 0.0035828865798261094)]"
      ]
     },
     "execution_count": 8,
     "metadata": {},
     "output_type": "execute_result"
    }
   ],
   "source": [
    "# We're getting the explanation for the 'positive' class only,\n",
    "# but dianna supports explaining for multiple labels in one go.\n",
    "# It therefore always outputs a list of saliency maps. We want\n",
    "# the first and only saliency map from this list here.\n",
    "explanation_relevance = dianna.explain_text(model_runner, review, model_runner.tokenizer,\n",
    "                                            'LIME', labels=[labels.index('positive')])[0]\n",
    "explanation_relevance"
   ]
  },
  {
   "cell_type": "markdown",
   "id": "a3ef466a",
   "metadata": {
    "pycharm": {
     "name": "#%% md\n"
    }
   },
   "source": [
    "#### 4. Visualization\n",
    "DIANNA includes a visualization package, capable of highlighting the relevance of each word in the text for a chosen class. The visualization is in HTML format.\n",
    "Words in favour of the selected class are highlighted in red, while words against the selected class - in blue."
   ]
  },
  {
   "cell_type": "code",
   "execution_count": 9,
   "id": "1bbba305",
   "metadata": {
    "pycharm": {
     "name": "#%%\n"
    }
   },
   "outputs": [
    {
     "data": {
      "image/png": "[encoded data removed]",
      "text/plain": [
       "<Figure size 720x72 with 2 Axes>"
      ]
     },
     "metadata": {
      "needs_background": "light"
     },
     "output_type": "display_data"
    }
   ],
   "source": [
    "fig, _ = visualization.highlight_text(explanation_relevance, model_runner.tokenizer.tokenize(review))"
   ]
  },
  {
   "cell_type": "markdown",
   "id": "1f460858",
   "metadata": {
    "pycharm": {
     "name": "#%% md\n"
    }
   },
   "source": [
    "The most important word for this review being classified as positive is \"intriguing\", followed by \"delectable\" and \"thriller\".\n"
   ]
  },
  {
   "cell_type": "markdown",
   "id": "9818c180-322d-4a52-8170-7f7e0fe70e31",
   "metadata": {},
   "source": [
    "#### Trying more text explanations"
   ]
  },
  {
   "cell_type": "markdown",
   "id": "d997d9c0-6277-4778-b9a4-3248a8c8ea93",
   "metadata": {},
   "source": [
    "And what are the words' relevances to a '**negative**' classification decision?"
   ]
  },
  {
   "cell_type": "code",
   "execution_count": 10,
   "id": "24ffddee-6e39-4a0d-876d-2622c96a5195",
   "metadata": {},
   "outputs": [
    {
     "name": "stderr",
     "output_type": "stream",
     "text": [
      "/var/folders/rj/_8tmcy8118q5h1zc_3dz1rz00000gn/T/ipykernel_32287/1753736335.py:26: DeprecationWarning: Conversion of an array with ndim > 0 to a scalar is deprecated, and will error in future. Ensure you extract a single element from your array before performing this operation. (Deprecated NumPy 1.25.)\n",
      "  pred = float(sigmoid(self.run_model([tokens_numerical])))\n"
     ]
    },
    {
     "data": {
      "text/plain": [
       "[('intriguing', 3, -0.15120818911158293),\n",
       " ('thriller', 4, -0.06503445215836798),\n",
       " ('delectable', 1, -0.05959389939279887),\n",
       " ('A', 0, -0.01926809327783268),\n",
       " ('and', 2, -0.014870616516598822),\n",
       " ('with', 6, -0.012206798269964911),\n",
       " ('filled', 5, 0.00912963811840552),\n",
       " ('surprises', 7, -0.006663047358285325),\n",
       " ('.', 8, -0.001571926230751491)]"
      ]
     },
     "execution_count": 10,
     "metadata": {},
     "output_type": "execute_result"
    }
   ],
   "source": [
    "explanation_relevance = dianna.explain_text(model_runner, review, model_runner.tokenizer,\n",
    "                                            'LIME', labels=[labels.index('negative')])[0]\n",
    "explanation_relevance"
   ]
  },
  {
   "cell_type": "code",
   "execution_count": 11,
   "id": "9043f3e5-79da-4dbf-8190-17b6ecdf2f1d",
   "metadata": {},
   "outputs": [
    {
     "data": {
      "image/png": "[encoded data removed]",
      "text/plain": [
       "<Figure size 720x72 with 2 Axes>"
      ]
     },
     "metadata": {
      "needs_background": "light"
     },
     "output_type": "display_data"
    }
   ],
   "source": [
    "fig, _ = visualization.highlight_text(explanation_relevance, model_runner.tokenizer.tokenize(review))"
   ]
  },
  {
   "cell_type": "markdown",
   "id": "d27ae57f-f2ff-4089-b804-06e58ce5af67",
   "metadata": {},
   "source": [
    "And what about a harder to classify review with mixed words, but still a clear overall sentiment?"
   ]
  },
  {
   "cell_type": "code",
   "execution_count": 12,
   "id": "e3846fef-abfd-4e49-b4de-bf437205dd18",
   "metadata": {},
   "outputs": [],
   "source": [
    "mixed_review = 'The movie started great but the ending is boring and unoriginal!'"
   ]
  },
  {
   "cell_type": "code",
   "execution_count": 13,
   "id": "919f2f12-7c04-4fa2-9f83-2043a450dc07",
   "metadata": {},
   "outputs": [
    {
     "name": "stderr",
     "output_type": "stream",
     "text": [
      "/var/folders/rj/_8tmcy8118q5h1zc_3dz1rz00000gn/T/ipykernel_32287/1753736335.py:26: DeprecationWarning: Conversion of an array with ndim > 0 to a scalar is deprecated, and will error in future. Ensure you extract a single element from your array before performing this operation. (Deprecated NumPy 1.25.)\n",
      "  pred = float(sigmoid(self.run_model([tokens_numerical])))\n"
     ]
    },
    {
     "data": {
      "text/plain": [
       "[('boring', 8, 0.4518653570721131),\n",
       " ('great', 3, -0.22827878280499303),\n",
       " ('ending', 6, 0.11350805065432693),\n",
       " ('!', 11, 0.0957722037393977),\n",
       " ('unoriginal', 10, 0.052681002368695704),\n",
       " ('movie', 1, -0.04113332032878819),\n",
       " ('is', 7, 0.034230793363654734),\n",
       " ('the', 5, -0.022376073721346687),\n",
       " ('and', 9, 0.013376920413792116),\n",
       " ('but', 4, 0.009010962798098054)]"
      ]
     },
     "execution_count": 13,
     "metadata": {},
     "output_type": "execute_result"
    }
   ],
   "source": [
    "explanation_relevance = dianna.explain_text(model_runner, mixed_review, model_runner.tokenizer,\n",
    "                                            'LIME', labels=[labels.index('negative')])[0]\n",
    "explanation_relevance"
   ]
  },
  {
   "cell_type": "code",
   "execution_count": 14,
   "id": "86247d24-6c7e-46d5-89c0-2f51c7905988",
   "metadata": {},
   "outputs": [
    {
     "data": {
      "image/png": "[encoded data removed]",
      "text/plain": [
       "<Figure size 720x72 with 2 Axes>"
      ]
     },
     "metadata": {
      "needs_background": "light"
     },
     "output_type": "display_data"
    }
   ],
   "source": [
    "fig, _ = visualization.highlight_text(explanation_relevance, model_runner.tokenizer.tokenize(mixed_review))"
   ]
  },
  {
   "cell_type": "markdown",
   "id": "a3ad9c13-cfd2-4cf7-a03f-322326839406",
   "metadata": {},
   "source": [
    "Indeed, \"boring\" and \"unoriginal\" are the words carrying the overall negative sentiment, hence they contribute most toward that decision, while \"great\" being a positive word, contributes negatively towards the classifier's decision!"
   ]
  }
 ],
 "metadata": {
  "kernelspec": {
   "display_name": "Python 3 (ipykernel)",
   "language": "python",
   "name": "python3"
  },
  "language_info": {
   "codemirror_mode": {
    "name": "ipython",
    "version": 3
   },
   "file_extension": ".py",
   "mimetype": "text/x-python",
   "name": "python",
   "nbconvert_exporter": "python",
   "pygments_lexer": "ipython3",
   "version": "3.9.1"
  }
 },
 "nbformat": 4,
 "nbformat_minor": 5
}
