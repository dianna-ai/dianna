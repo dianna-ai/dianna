{
 "cells": [
  {
   "cell_type": "markdown",
   "id": "6f6affbc",
   "metadata": {
    "pycharm": {
     "name": "#%% md\n"
    }
   },
   "source": [
    "<img width=\"150\" alt=\"Logo_ER10\" src=\"https://user-images.githubusercontent.com/3244249/151994514-b584b984-a148-4ade-80ee-0f88b0aefa45.png\">\n",
    "\n",
    "### Interpreting a movie review sentiment model with LIME\n",
    "This notebook demonstrates the use of DIANNA with the LIME method on the [Stanford Sentiment Treebank dataset](https://nlp.stanford.edu/sentiment/index.html) which contains one-sentence movie reviews. See also [their paper](https://nlp.stanford.edu/~socherr/EMNLP2013_RNTN.pdf). A pre-trained neural network classifier is used, which identifies whether a movie review is positive or negative.\n",
    "\n",
    "LIME (Local Interpretable Model-agnostic Explanations) is an explainable-AI method that aims to create an interpretable model that locally represents the classifier. For more details see the [LIME paper](https://arxiv.org/abs/1602.04938)."
   ]
  },
  {
   "cell_type": "markdown",
   "id": "224e1862",
   "metadata": {},
   "source": [
    "#### Colab Setup"
   ]
  },
  {
   "cell_type": "code",
   "id": "df22c5aa",
   "metadata": {
    "ExecuteTime": {
     "end_time": "2024-09-24T07:47:55.852747Z",
     "start_time": "2024-09-24T07:47:55.848544Z"
    }
   },
   "source": [
    "running_in_colab = 'google.colab' in str(get_ipython())\n",
    "if running_in_colab:\n",
    "    # install dianna\n",
    "    !python3 -m pip install dianna[notebooks]"
   ],
   "outputs": [],
   "execution_count": 16
  },
  {
   "cell_type": "markdown",
   "id": "091947e1",
   "metadata": {
    "pycharm": {
     "name": "#%% md\n"
    }
   },
   "source": [
    "#### 1. Imports and paths"
   ]
  },
  {
   "cell_type": "code",
   "id": "bf888085",
   "metadata": {
    "pycharm": {
     "name": "#%%\n"
    },
    "ExecuteTime": {
     "end_time": "2024-09-24T07:47:56.742624Z",
     "start_time": "2024-09-24T07:47:56.737825Z"
    }
   },
   "source": [
    "import numpy as np\n",
    "import spacy\n",
    "from scipy.special import expit as sigmoid\n",
    "\n",
    "import dianna\n",
    "from dianna import utils\n",
    "from dianna import visualization\n",
    "from dianna.utils.downloader import download\n",
    "from dianna.utils.tokenizers import SpacyTokenizer\n",
    "import pandas as pd"
   ],
   "outputs": [],
   "execution_count": 17
  },
  {
   "cell_type": "code",
   "id": "4263ce5c",
   "metadata": {
    "pycharm": {
     "name": "#%%\n"
    },
    "ExecuteTime": {
     "end_time": "2024-09-24T07:48:00.464556Z",
     "start_time": "2024-09-24T07:48:00.444113Z"
    }
   },
   "source": [
    "model_path = download('movie_review_model.onnx', 'model')\n",
    "word_vector_path = download('movie_reviews_word_vectors.txt', 'data')\n",
    "labels = (\"negative\", \"positive\")"
   ],
   "outputs": [],
   "execution_count": 18
  },
  {
   "cell_type": "markdown",
   "id": "86fd772b",
   "metadata": {
    "pycharm": {
     "name": "#%% md\n"
    }
   },
   "source": [
    "#### 2. Loading the model\n",
    "\n",
    "The classifier is stored in ONNX format. It accepts numerical tokens as input, and outputs a score between 0 and 1, where 0 means the review is negative and 1 that it is positive.  \n",
    "Here we define a class to run the model, which accepts a sentence (i.e. string) as input instead and returns two classes: negative and positive."
   ]
  },
  {
   "cell_type": "code",
   "id": "f09c7fc3",
   "metadata": {
    "ExecuteTime": {
     "end_time": "2024-09-24T07:48:04.770153Z",
     "start_time": "2024-09-24T07:48:01.340062Z"
    }
   },
   "source": [
    "# ensure the tokenizer for english is available\n",
    "spacy.cli.download('en_core_web_sm')"
   ],
   "outputs": [
    {
     "name": "stdout",
     "output_type": "stream",
     "text": [
      "\u001B[38;5;2m✔ Download and installation successful\u001B[0m\n",
      "You can now load the package via spacy.load('en_core_web_sm')\n",
      "\u001B[38;5;3m⚠ Restart to reload dependencies\u001B[0m\n",
      "If you are in a Jupyter or Colab notebook, you may need to restart Python in\n",
      "order to load all the package's dependencies. You can do this by selecting the\n",
      "'Restart kernel' or 'Restart runtime' option.\n"
     ]
    }
   ],
   "execution_count": 19
  },
  {
   "cell_type": "code",
   "id": "02e6d4b1",
   "metadata": {
    "pycharm": {
     "name": "#%%\n"
    },
    "ExecuteTime": {
     "end_time": "2024-09-24T07:48:08.759550Z",
     "start_time": "2024-09-24T07:48:08.752171Z"
    }
   },
   "source": [
    "class MovieReviewsModelRunner:\n",
    "    def __init__(self, model, word_vectors, max_filter_size):\n",
    "        self.run_model = utils.get_function(model)\n",
    "        self.keys = list(pd.read_csv(word_vector_path, header=None, delimiter=' ')[0])\n",
    "        self.max_filter_size = max_filter_size\n",
    "        \n",
    "        self.tokenizer = SpacyTokenizer(name='en_core_web_sm')\n",
    "\n",
    "    def __call__(self, sentences):\n",
    "        # ensure the input has a batch axis\n",
    "        if isinstance(sentences, str):\n",
    "            sentences = [sentences]\n",
    "\n",
    "        output = []\n",
    "        for sentence in sentences:\n",
    "            # tokenize and pad to minimum length\n",
    "            tokens = self.tokenizer.tokenize(sentence.lower())\n",
    "            if len(tokens) < self.max_filter_size:\n",
    "                tokens += ['<pad>'] * (self.max_filter_size - len(tokens))\n",
    "            \n",
    "            # numericalize the tokens\n",
    "            tokens_numerical = [self.keys.index(token) if token in self.keys else self.keys.index('<unk>')\n",
    "                                for token in tokens]\n",
    "\n",
    "            # run the model, applying a sigmoid because the model outputs logits, remove any remaining batch axis\n",
    "            pred = float(sigmoid(self.run_model([tokens_numerical])))\n",
    "            output.append(pred)\n",
    "\n",
    "        # output two classes\n",
    "        positivity = np.array(output)\n",
    "        negativity = 1 - positivity\n",
    "        return np.transpose([negativity, positivity])       "
   ],
   "outputs": [],
   "execution_count": 20
  },
  {
   "cell_type": "code",
   "id": "214007db",
   "metadata": {
    "pycharm": {
     "name": "#%%\n"
    },
    "ExecuteTime": {
     "end_time": "2024-09-24T07:48:09.989126Z",
     "start_time": "2024-09-24T07:48:09.389420Z"
    }
   },
   "source": [
    "# define model runner. max_filter_size is a property of the model\n",
    "model_runner = MovieReviewsModelRunner(model_path, word_vector_path, max_filter_size=5)"
   ],
   "outputs": [],
   "execution_count": 21
  },
  {
   "cell_type": "markdown",
   "id": "7939aef9",
   "metadata": {
    "pycharm": {
     "name": "#%% md\n"
    }
   },
   "source": [
    "#### 3. Applying LIME with DIANNA\n",
    "The simplest way to run DIANNA on text data is with `dianna.explain_text`. The arguments are:\n",
    "* The function that runs the model (a path to a model in ONNX format is also accepted)\n",
    "* The text we want to explain\n",
    "* The name of the explainable-AI method we want to use, here LIME\n",
    "* The numerical index of the class we want an explanation for\n",
    "\n",
    "`dianna.explain_text` returns a list of tuples. Each tuple contains a word, its location in the input text, and its importance for the selected output class"
   ]
  },
  {
   "cell_type": "code",
   "id": "083ff6b1",
   "metadata": {
    "pycharm": {
     "name": "#%%\n"
    },
    "ExecuteTime": {
     "end_time": "2024-09-24T07:48:16.138275Z",
     "start_time": "2024-09-24T07:48:16.134837Z"
    }
   },
   "source": [
    "review = \"A delectable and intriguing thriller filled with surprises.\""
   ],
   "outputs": [],
   "execution_count": 22
  },
  {
   "cell_type": "code",
   "id": "1b2b2ab2",
   "metadata": {
    "pycharm": {
     "name": "#%%\n"
    },
    "ExecuteTime": {
     "end_time": "2024-09-24T07:49:41.640025Z",
     "start_time": "2024-09-24T07:48:17.677391Z"
    }
   },
   "source": [
    "# We're getting the explanation for the 'positive' class only,\n",
    "# but dianna supports explaining for multiple labels in one go.\n",
    "# It therefore always outputs a list of saliency maps. We want\n",
    "# the first and only saliency map from this list here.\n",
    "explanation_relevance = dianna.explain_text(model_runner, review, model_runner.tokenizer,\n",
    "                                            'LIME', labels=[labels.index('positive')])[0]\n",
    "explanation_relevance"
   ],
   "outputs": [
    {
     "name": "stderr",
     "output_type": "stream",
     "text": [
      "C:\\Users\\ChristiaanMeijer\\AppData\\Local\\Temp\\ipykernel_24288\\920258139.py:26: DeprecationWarning: Conversion of an array with ndim > 0 to a scalar is deprecated, and will error in future. Ensure you extract a single element from your array before performing this operation. (Deprecated NumPy 1.25.)\n",
      "  pred = float(sigmoid(self.run_model([tokens_numerical])))\n"
     ]
    },
    {
     "data": {
      "text/plain": [
       "[('A', 0, 0.015866258534045923),\n",
       " ('delectable', 1, 0.056779367404829105),\n",
       " ('and', 2, 0.02010577523931426),\n",
       " ('intriguing', 3, 0.15199938297130808),\n",
       " ('thriller', 4, 0.06191921460301456),\n",
       " ('filled', 5, -0.009348110187351329),\n",
       " ('with', 6, 0.012401232573987918),\n",
       " ('surprises', 7, 0.0033519606402072225),\n",
       " ('.', 8, 0.005006942933185387)]"
      ]
     },
     "execution_count": 23,
     "metadata": {},
     "output_type": "execute_result"
    }
   ],
   "execution_count": 23
  },
  {
   "cell_type": "markdown",
   "id": "a3ef466a",
   "metadata": {
    "pycharm": {
     "name": "#%% md\n"
    }
   },
   "source": [
    "#### 4. Visualization\n",
    "DIANNA includes a visualization package, capable of highlighting the relevance of each word in the text for a chosen class. The visualization is in HTML format.\n",
    "Words in favour of the selected class are highlighted in red, while words against the selected class - in blue."
   ]
  },
  {
   "cell_type": "code",
   "id": "1bbba305",
   "metadata": {
    "pycharm": {
     "name": "#%%\n"
    },
    "ExecuteTime": {
     "end_time": "2024-09-24T07:49:47.558460Z",
     "start_time": "2024-09-24T07:49:47.448027Z"
    }
   },
   "source": [
    "fig, _ = visualization.highlight_text(explanation_relevance, model_runner.tokenizer.tokenize(review))"
   ],
   "outputs": [
    {
     "data": {
      "text/plain": [
       "<Figure size 1000x100 with 2 Axes>"
      ],
      "image/png": "[encoded data removed]"
     },
     "metadata": {},
     "output_type": "display_data"
    }
   ],
   "execution_count": 24
  },
  {
   "cell_type": "markdown",
   "id": "1f460858",
   "metadata": {
    "pycharm": {
     "name": "#%% md\n"
    }
   },
   "source": [
    "The most important word for this review being classified as positive is \"intriguing\", followed by \"delectable\" and \"thriller\".\n"
   ]
  },
  {
   "cell_type": "markdown",
   "id": "9818c180-322d-4a52-8170-7f7e0fe70e31",
   "metadata": {},
   "source": [
    "#### Trying more text explanations"
   ]
  },
  {
   "cell_type": "markdown",
   "id": "d997d9c0-6277-4778-b9a4-3248a8c8ea93",
   "metadata": {},
   "source": [
    "And what are the words' relevances to a '**negative**' classification decision?"
   ]
  },
  {
   "cell_type": "code",
   "id": "24ffddee-6e39-4a0d-876d-2622c96a5195",
   "metadata": {
    "ExecuteTime": {
     "end_time": "2024-09-24T07:51:12.987181Z",
     "start_time": "2024-09-24T07:49:51.811355Z"
    }
   },
   "source": [
    "explanation_relevance = dianna.explain_text(model_runner, review, model_runner.tokenizer,\n",
    "                                            'LIME', labels=[labels.index('negative')])[0]\n",
    "explanation_relevance"
   ],
   "outputs": [
    {
     "name": "stderr",
     "output_type": "stream",
     "text": [
      "C:\\Users\\ChristiaanMeijer\\AppData\\Local\\Temp\\ipykernel_24288\\920258139.py:26: DeprecationWarning: Conversion of an array with ndim > 0 to a scalar is deprecated, and will error in future. Ensure you extract a single element from your array before performing this operation. (Deprecated NumPy 1.25.)\n",
      "  pred = float(sigmoid(self.run_model([tokens_numerical])))\n"
     ]
    },
    {
     "data": {
      "text/plain": [
       "[('A', 0, -0.019514978089691937),\n",
       " ('delectable', 1, -0.05962810304456748),\n",
       " ('and', 2, -0.01683303947825472),\n",
       " ('intriguing', 3, -0.15045311584825755),\n",
       " ('thriller', 4, -0.0651238678922685),\n",
       " ('filled', 5, 0.011041035541857452),\n",
       " ('with', 6, -0.016607320707398725),\n",
       " ('surprises', 7, -0.006697423484235601),\n",
       " ('.', 8, -0.0020763731322912186)]"
      ]
     },
     "execution_count": 25,
     "metadata": {},
     "output_type": "execute_result"
    }
   ],
   "execution_count": 25
  },
  {
   "cell_type": "code",
   "id": "9043f3e5-79da-4dbf-8190-17b6ecdf2f1d",
   "metadata": {
    "ExecuteTime": {
     "end_time": "2024-09-24T07:51:13.181929Z",
     "start_time": "2024-09-24T07:51:13.076714Z"
    }
   },
   "source": [
    "fig, _ = visualization.highlight_text(explanation_relevance, model_runner.tokenizer.tokenize(review))"
   ],
   "outputs": [
    {
     "data": {
      "text/plain": [
       "<Figure size 1000x100 with 2 Axes>"
      ],
      "image/png": "[encoded data removed]"
     },
     "metadata": {},
     "output_type": "display_data"
    }
   ],
   "execution_count": 26
  },
  {
   "cell_type": "markdown",
   "id": "d27ae57f-f2ff-4089-b804-06e58ce5af67",
   "metadata": {},
   "source": [
    "And what about a harder to classify review with mixed words, but still a clear overall sentiment?"
   ]
  },
  {
   "cell_type": "code",
   "id": "e3846fef-abfd-4e49-b4de-bf437205dd18",
   "metadata": {
    "ExecuteTime": {
     "end_time": "2024-09-24T07:51:13.219506Z",
     "start_time": "2024-09-24T07:51:13.216181Z"
    }
   },
   "source": [
    "mixed_review = 'The movie started great but the ending is boring and unoriginal!'"
   ],
   "outputs": [],
   "execution_count": 27
  },
  {
   "cell_type": "code",
   "id": "919f2f12-7c04-4fa2-9f83-2043a450dc07",
   "metadata": {
    "ExecuteTime": {
     "end_time": "2024-09-24T07:52:34.792349Z",
     "start_time": "2024-09-24T07:51:13.253989Z"
    }
   },
   "source": [
    "explanation_relevance = dianna.explain_text(model_runner, mixed_review, model_runner.tokenizer,\n",
    "                                            'LIME', labels=[labels.index('negative')])[0]\n",
    "explanation_relevance"
   ],
   "outputs": [
    {
     "name": "stderr",
     "output_type": "stream",
     "text": [
      "C:\\Users\\ChristiaanMeijer\\AppData\\Local\\Temp\\ipykernel_24288\\920258139.py:26: DeprecationWarning: Conversion of an array with ndim > 0 to a scalar is deprecated, and will error in future. Ensure you extract a single element from your array before performing this operation. (Deprecated NumPy 1.25.)\n",
      "  pred = float(sigmoid(self.run_model([tokens_numerical])))\n"
     ]
    },
    {
     "data": {
      "text/plain": [
       "[('movie', 1, -0.03673063275292124),\n",
       " ('great', 3, -0.2260445326024729),\n",
       " ('but', 4, 0.009804884666921327),\n",
       " ('the', 5, -0.023609172345536004),\n",
       " ('ending', 6, 0.10596165300878727),\n",
       " ('is', 7, 0.0328580853298903),\n",
       " ('boring', 8, 0.4543361377485931),\n",
       " ('and', 9, 0.009474746608939101),\n",
       " ('unoriginal', 10, 0.05610043478029175),\n",
       " ('!', 11, 0.10317066988731821)]"
      ]
     },
     "execution_count": 28,
     "metadata": {},
     "output_type": "execute_result"
    }
   ],
   "execution_count": 28
  },
  {
   "cell_type": "code",
   "id": "86247d24-6c7e-46d5-89c0-2f51c7905988",
   "metadata": {
    "ExecuteTime": {
     "end_time": "2024-09-24T07:52:34.904089Z",
     "start_time": "2024-09-24T07:52:34.800056Z"
    }
   },
   "source": [
    "fig, _ = visualization.highlight_text(explanation_relevance, model_runner.tokenizer.tokenize(mixed_review))"
   ],
   "outputs": [
    {
     "data": {
      "text/plain": [
       "<Figure size 1000x100 with 2 Axes>"
      ],
      "image/png": "[encoded data removed]"
     },
     "metadata": {},
     "output_type": "display_data"
    }
   ],
   "execution_count": 29
  },
  {
   "cell_type": "markdown",
   "id": "a3ad9c13-cfd2-4cf7-a03f-322326839406",
   "metadata": {},
   "source": [
    "Indeed, \"boring\" and \"unoriginal\" are the words carrying the overall negative sentiment, hence they contribute most toward that decision, while \"great\" being a positive word, contributes negatively towards the classifier's decision!"
   ]
  }
 ],
 "metadata": {
  "kernelspec": {
   "display_name": "Python 3 (ipykernel)",
   "language": "python",
   "name": "python3"
  },
  "language_info": {
   "codemirror_mode": {
    "name": "ipython",
    "version": 3
   },
   "file_extension": ".py",
   "mimetype": "text/x-python",
   "name": "python",
   "nbconvert_exporter": "python",
   "pygments_lexer": "ipython3",
   "version": "3.11.9"
  }
 },
 "nbformat": 4,
 "nbformat_minor": 5
}
