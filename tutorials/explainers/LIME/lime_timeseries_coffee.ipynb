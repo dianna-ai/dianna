{
 "cells": [
  {
   "cell_type": "markdown",
   "metadata": {},
   "source": [
    "<img width=\"150\" alt=\"Logo_ER10\" src=\"https://user-images.githubusercontent.com/3244249/151994514-b584b984-a148-4ade-80ee-0f88b0aefa45.png\">\n",
    "\n",
    "### Model Interpretation using LIME for coffee dataset classifier\n",
    "This notebook demonstrates the use of DIANNA with the LIME timeseries method on the [Coffee dataset](https://www.timeseriesclassification.com/description.php?Dataset=Coffee).\n",
    "\n",
    "LIME (Local Interpretable Model-agnostic Explanations) is an explainable-AI method that aims to create an interpretable model that locally represents the classifier. For more details see the [LIME paper](https://arxiv.org/abs/1602.04938)."
   ]
  },
  {
   "cell_type": "markdown",
   "metadata": {},
   "source": [
    "#### Colab Setup"
   ]
  },
  {
   "cell_type": "code",
   "execution_count": 1,
   "metadata": {
    "ExecuteTime": {
     "end_time": "2023-05-31T09:48:42.651335Z",
     "start_time": "2023-05-31T09:48:42.646323Z"
    }
   },
   "outputs": [],
   "source": [
    "running_in_colab = 'google.colab' in str(get_ipython())\n",
    "if running_in_colab:\n",
    "    # install dianna\n",
    "    !python3 -m pip install dianna[notebooks]"
   ]
  },
  {
   "cell_type": "markdown",
   "metadata": {},
   "source": [
    "### Import libraries"
   ]
  },
  {
   "cell_type": "code",
   "execution_count": 2,
   "metadata": {
    "ExecuteTime": {
     "end_time": "2023-05-31T09:48:43.874520Z",
     "start_time": "2023-05-31T09:48:42.653341Z"
    }
   },
   "outputs": [],
   "source": [
    "import dianna\n",
    "import pandas as pd\n",
    "from sklearn.neighbors import KNeighborsClassifier as KNN\n",
    "from sklearn.metrics import accuracy_score as acc\n",
    "import numpy as np\n",
    "from dianna.utils.downloader import download"
   ]
  },
  {
   "cell_type": "markdown",
   "metadata": {},
   "source": [
    "#### 1 - Loading the data\n",
    "Load coffee dataset."
   ]
  },
  {
   "cell_type": "code",
   "execution_count": 3,
   "metadata": {
    "ExecuteTime": {
     "end_time": "2023-05-31T09:48:43.909870Z",
     "start_time": "2023-05-31T09:48:43.878877Z"
    }
   },
   "outputs": [],
   "source": [
    "# Load coffee dataset\n",
    "coffee_train = pd.read_csv(download('coffee_train.csv', 'data'),\n",
    "                            sep=',', header=None).astype(float)\n",
    "coffee_train_y = coffee_train.loc[:, 0]\n",
    "coffee_train_x = coffee_train.loc[:, 1:]\n",
    "coffee_test = pd.read_csv(download('coffee_test.csv', 'data'),\n",
    "                           sep=',', header=None).astype(float)\n",
    "coffee_test_y = coffee_test.loc[:, 0]\n",
    "coffee_test_x = coffee_test.loc[:, 1:]"
   ]
  },
  {
   "cell_type": "markdown",
   "metadata": {},
   "source": [
    "#### 2 - Define a KNN model to classify two types of coffee\n",
    "Here we train a simple k-nearest neighbors (KNN) model for classification task."
   ]
  },
  {
   "cell_type": "code",
   "execution_count": 4,
   "metadata": {
    "ExecuteTime": {
     "end_time": "2023-05-31T09:48:43.996106Z",
     "start_time": "2023-05-31T09:48:43.909870Z"
    }
   },
   "outputs": [
    {
     "name": "stdout",
     "output_type": "stream",
     "text": [
      "Accuracy KNN for coffee dataset: 0.964286\n"
     ]
    }
   ],
   "source": [
    "# Define and train model\n",
    "knn = KNN()\n",
    "knn.fit(coffee_train_x, coffee_train_y)\n",
    "print('Accuracy KNN for coffee dataset: %f' % (acc(coffee_test_y, knn.predict(coffee_test_x))))"
   ]
  },
  {
   "cell_type": "markdown",
   "metadata": {},
   "source": [
    "An instance is selected for explanation."
   ]
  },
  {
   "cell_type": "code",
   "execution_count": 5,
   "metadata": {
    "ExecuteTime": {
     "end_time": "2023-05-31T09:48:44.015023Z",
     "start_time": "2023-05-31T09:48:43.999815Z"
    }
   },
   "outputs": [
    {
     "data": {
      "text/plain": [
       "(286,)"
      ]
     },
     "execution_count": 5,
     "metadata": {},
     "output_type": "execute_result"
    }
   ],
   "source": [
    "# Select instance for explanation\n",
    "idx = 5 # explained instance\n",
    "series = coffee_test_x.iloc[idx, :]\n",
    "num_features = len(series) # how many feature contained in explanation\n",
    "num_slices = len(series) # split time series\n",
    "\n",
    "class_names = ['Arabica', 'Robusta']\n",
    "labels = np.argsort(class_names)\n",
    "series.shape"
   ]
  },
  {
   "cell_type": "markdown",
   "metadata": {},
   "source": [
    "Note that the LIME timeseries explainer in DIANNA can only receive input in the order of [timeseries, channels]. Given the way that the model was trained, we need to create an model runner for the explainer."
   ]
  },
  {
   "cell_type": "code",
   "execution_count": 6,
   "metadata": {
    "ExecuteTime": {
     "end_time": "2023-05-31T09:48:44.069544Z",
     "start_time": "2023-05-31T09:48:44.013016Z"
    }
   },
   "outputs": [],
   "source": [
    "# the explainer must receive input in the order of [timeseries, channels]\n",
    "data_instance = np.expand_dims(series, axis=1)\n",
    "def run_model(data):\n",
    "    data = data[:,:,0]\n",
    "    return knn.predict_proba(data)"
   ]
  },
  {
   "cell_type": "markdown",
   "metadata": {},
   "source": [
    "#### 3 - Applying LIME with DIANNA for timeseries"
   ]
  },
  {
   "cell_type": "markdown",
   "metadata": {},
   "source": [
    "In this section we apply LIME to this KNN model to calculate the relevance score and visualize the results."
   ]
  },
  {
   "cell_type": "code",
   "execution_count": 7,
   "metadata": {
    "ExecuteTime": {
     "end_time": "2023-05-31T09:48:46.604782Z",
     "start_time": "2023-05-31T09:48:44.043890Z"
    }
   },
   "outputs": [
    {
     "name": "stderr",
     "output_type": "stream",
     "text": [
      "Explaining: 100%|█████████████████████████████████████████████████████████████████████████████████████████████████████████████████████████| 500/500 [00:00<00:00, 1386.36it/s]\n"
     ]
    }
   ],
   "source": [
    "exp = dianna.explain_timeseries(run_model, input_timeseries=data_instance, method='lime',\n",
    "                                labels=[0,1], class_names=class_names, num_features=num_features,\n",
    "                                num_samples=500, num_slices=num_slices, distance_method='cosine')"
   ]
  },
  {
   "cell_type": "markdown",
   "metadata": {},
   "source": [
    "Now we can visualize results using the built-in visualizer in `LIME` explainer. The elements contributing positively towards the classification decision are indicated in 'red' and those contributing negatively - in 'blue'."
   ]
  },
  {
   "cell_type": "code",
   "execution_count": 8,
   "metadata": {
    "ExecuteTime": {
     "end_time": "2023-05-31T09:48:47.575864Z",
     "start_time": "2023-05-31T09:48:46.604500Z"
    }
   },
   "outputs": [
    {
     "data": {
      "image/png": "[encoded data removed]",
      "text/plain": [
       "<Figure size 432x288 with 2 Axes>"
      ]
     },
     "metadata": {
      "needs_background": "light"
     },
     "output_type": "display_data"
    }
   ],
   "source": [
    "from dianna import visualization\n",
    "# Normalize the explanation scores for the purpose of visualization\n",
    "def normalize(data):\n",
    "    \"\"\"Squash all values into [-1,1] range.\"\"\"\n",
    "    zero_to_one = (data - np.min(data)) / (np.max(data) - np.min(data))\n",
    "    return 2*zero_to_one -1\n",
    "\n",
    "heatmap_channel = normalize(exp[0])\n",
    "segments = []\n",
    "for i in range(len(heatmap_channel) - 1):\n",
    "    segments.append({\n",
    "        'index': i,\n",
    "        'start': i - 0.5,\n",
    "        'stop': i + 0.5,\n",
    "        'weight': heatmap_channel[i]})\n",
    "fig, _ = visualization.plot_timeseries(range(len(heatmap_channel)), data_instance,\n",
    "                              segments, x_label=\"Time index\", y_label=\"Temperature\")"
   ]
  },
  {
   "cell_type": "markdown",
   "metadata": {},
   "source": [
    "#### 4- Experiment with ONNX\n",
    "DIANNA supports ONNX models. Here we demonstrate the use of LIME explainer for timeseries with a pre-trained ONNX model, which is a random forest classifier for the same [Coffee dataset](https://www.timeseriesclassification.com/description.php?Dataset=Coffee). <br>\n",
    "\n",
    "The model is trained by this [notebook](https://github.com/dianna-ai/dianna-exploration/blob/main/example_data/model_generation/coffee/generate_model.ipynb): <br>"
   ]
  },
  {
   "cell_type": "code",
   "execution_count": 9,
   "metadata": {
    "ExecuteTime": {
     "end_time": "2023-05-31T09:48:47.637503Z",
     "start_time": "2023-05-31T09:48:47.578872Z"
    }
   },
   "outputs": [],
   "source": [
    "from dianna.utils.onnx_runner import SimpleModelRunner\n",
    "\n",
    "model_path = download('coffee.onnx', 'model')\n",
    "loaded_model = SimpleModelRunner(model_path)\n",
    "predictions = loaded_model(data_instance.T.astype(np.float32))"
   ]
  },
  {
   "cell_type": "markdown",
   "metadata": {},
   "source": [
    "A runner function is required since the model works with input in the order of [channels, timeseries], while LIME in DIANNA should receive input in the opposite order. "
   ]
  },
  {
   "cell_type": "code",
   "execution_count": 10,
   "metadata": {
    "ExecuteTime": {
     "end_time": "2023-05-31T09:48:47.638506Z",
     "start_time": "2023-05-31T09:48:47.593279Z"
    }
   },
   "outputs": [],
   "source": [
    "import onnxruntime as ort\n",
    "\n",
    "def run_model(data):\n",
    "    # model must receive input in the order of [channels, timeseries]\n",
    "    # get ONNX predictions\n",
    "    predictions = []\n",
    "    for i in range(data.shape[0]):\n",
    "        input_data = data[i].T\n",
    "        sess = ort.InferenceSession(model_path)\n",
    "        input_name = sess.get_inputs()[0].name\n",
    "        output_name = sess.get_outputs()[0].name\n",
    "\n",
    "        onnx_input = {input_name: input_data.astype(np.float32)}\n",
    "        pred_onnx = sess.run([output_name], onnx_input)[0]\n",
    "        predictions.append(pred_onnx)\n",
    "    \n",
    "    return np.asarray(predictions)"
   ]
  },
  {
   "cell_type": "markdown",
   "metadata": {},
   "source": [
    "Now we can call the explainer and visualize the results."
   ]
  },
  {
   "cell_type": "code",
   "execution_count": 11,
   "metadata": {
    "ExecuteTime": {
     "end_time": "2023-05-31T09:48:49.417332Z",
     "start_time": "2023-05-31T09:48:47.613369Z"
    }
   },
   "outputs": [
    {
     "name": "stderr",
     "output_type": "stream",
     "text": [
      "Explaining: 100%|██████████████████████████████████████████████████████████████████████████████████████████████████████████████████████████| 500/500 [00:01<00:00, 345.87it/s]\n"
     ]
    }
   ],
   "source": [
    "exp = dianna.explain_timeseries(run_model, input_timeseries=data_instance, method='lime',\n",
    "                                labels=[0], class_names=class_names, num_features=num_features,\n",
    "                                num_samples=500, num_slices=num_slices, batch_size=1, distance_method='cosine')"
   ]
  },
  {
   "cell_type": "code",
   "execution_count": 12,
   "metadata": {
    "ExecuteTime": {
     "end_time": "2023-05-31T09:48:50.058148Z",
     "start_time": "2023-05-31T09:48:49.419338Z"
    }
   },
   "outputs": [
    {
     "data": {
      "image/png": "[encoded data removed]",
      "text/plain": [
       "<Figure size 432x288 with 2 Axes>"
      ]
     },
     "metadata": {
      "needs_background": "light"
     },
     "output_type": "display_data"
    }
   ],
   "source": [
    "heatmap_channel = normalize(exp[0])\n",
    "segments = []\n",
    "for i in range(len(heatmap_channel) - 1):\n",
    "    segments.append({\n",
    "        'index': i,\n",
    "        'start': i - 0.5,\n",
    "        'stop': i + 0.5,\n",
    "        'weight': heatmap_channel[i]})\n",
    "fig, _ = visualization.plot_timeseries(range(len(heatmap_channel)), data_instance,\n",
    "                              segments, x_label=\"Time index\", y_label=\"Temperature\")"
   ]
  },
  {
   "cell_type": "markdown",
   "metadata": {},
   "source": [
    "#### 5 - Conclusions\n",
    "The importance of each segmententation of timeseries to the classification result is shown in the image. This is achieved by applying LIME approach to timeseries.\n",
    "\n",
    "Both examples ...(To be completed.)"
   ]
  }
 ],
 "metadata": {
  "kernelspec": {
   "display_name": "Python 3 (ipykernel)",
   "language": "python",
   "name": "python3"
  },
  "language_info": {
   "codemirror_mode": {
    "name": "ipython",
    "version": 3
   },
   "file_extension": ".py",
   "mimetype": "text/x-python",
   "name": "python",
   "nbconvert_exporter": "python",
   "pygments_lexer": "ipython3",
   "version": "3.9.1"
  }
 },
 "nbformat": 4,
 "nbformat_minor": 4
}
