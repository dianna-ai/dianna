{
 "cells": [
  {
   "cell_type": "markdown",
   "id": "african-verse",
   "metadata": {},
   "source": [
    "<img width=\"150\" alt=\"Logo_ER10\" src=\"https://user-images.githubusercontent.com/3244249/151994514-b584b984-a148-4ade-80ee-0f88b0aefa45.png\">\n",
    "\n",
    "### Interpreting the sentence classification of legal texts using LIME\n",
    "\n",
    "LIME (Local Interpretable Model-agnostic Explanations) is an explainable-AI method that aims to create an interpretable model that locally represents the classifier. For more details see the [LIME paper](https://arxiv.org/abs/1602.04938).\n",
    "\n",
    "This notebook demonstrates how to use the LIME explainable-AI method in [DIANNA](https://github.com/dianna-ai/dianna) to explain a text classification model created as part of the [Nature of EU Rules project](https://research-software-directory.org/projects/the-nature-of-eu-rules-strict-and-detailed-or-lacking-bite). The model is used to perform binary classification of individual sentences from EU legislation to determine whether they specify a regulation or not (i.e., whether they specify a legal obligation or prohibition that some legal entity should comply with). [Here's an example](https://eur-lex.europa.eu/legal-content/EN/TXT/HTML/?uri=CELEX:32012R1215&qid=1724343987254) of what an EU legislative document looks like.\n",
    "\n",
    "##### Regulatory sentence example:\n",
    "\n",
    "```Citizens of all Member States shall separate their recyclables before disposing of trash, or else face a fine.```\n",
    "\n",
    "##### Non-regulatory (constitutive) sentence example:\n",
    "\n",
    "```This Regulation shall apply in civil and commercial matters whatever the nature of the court or tribunal.```\n",
    "\n",
    "**Note:** while the occurrence of words like ``shall`` and ``must`` (which are called **deontic** words) are necessary condition for a sentence to be classified as regulatory, they are not a sufficient condition."
   ]
  },
  {
   "cell_type": "markdown",
   "id": "fa6d17b0",
   "metadata": {},
   "source": [
    "#### Colab Setup"
   ]
  },
  {
   "cell_type": "code",
   "execution_count": 1,
   "id": "471630ff",
   "metadata": {
    "ExecuteTime": {
     "end_time": "2024-07-10T11:13:59.624761Z",
     "start_time": "2024-07-10T11:13:59.563650Z"
    }
   },
   "outputs": [],
   "source": [
    "running_in_colab = 'google.colab' in str(get_ipython())\n",
    "if running_in_colab:\n",
    "    # install dianna\n",
    "    !python3 -m pip install dianna[notebooks]"
   ]
  },
  {
   "cell_type": "markdown",
   "id": "a5cf6f82-c1c7-4814-ae0f-5a1c0b8578f6",
   "metadata": {},
   "source": [
    "#### 0. Imports and paths"
   ]
  },
  {
   "cell_type": "code",
   "execution_count": 2,
   "id": "34b556d8-5337-44dc-8efe-14d1dff6f011",
   "metadata": {
    "ExecuteTime": {
     "end_time": "2024-07-10T11:13:59.625762Z",
     "start_time": "2024-07-10T11:13:59.568658Z"
    }
   },
   "outputs": [
    {
     "name": "stderr",
     "output_type": "stream",
     "text": [
      "C:\\Users\\ChristiaanMeijer\\anaconda3\\envs\\dianna3112\\Lib\\site-packages\\torchtext\\data\\__init__.py:4: UserWarning: \n",
      "/!\\ IMPORTANT WARNING ABOUT TORCHTEXT STATUS /!\\ \n",
      "Torchtext is deprecated and the last released version will be 0.18 (this one). You can silence this warning by calling the following at the beginnign of your scripts: `import torchtext; torchtext.disable_torchtext_deprecation_warning()`\n",
      "  warnings.warn(torchtext._TORCHTEXT_DEPRECATION_MSG)\n"
     ]
    }
   ],
   "source": [
    "from torch.utils.data import DataLoader\n",
    "from typing import Iterable\n",
    "from tqdm import tqdm\n",
    "\n",
    "import numpy as np\n",
    "import pandas as pd\n",
    "import torch\n",
    "import xgboost\n",
    "\n",
    "import dianna\n",
    "from dianna import visualization\n",
    "from dianna.utils.downloader import download\n",
    "from dianna.utils.tokenizers import SpacyTokenizer"
   ]
  },
  {
   "cell_type": "code",
   "execution_count": 3,
   "id": "c616916c-78ef-48d0-a744-b25b37b62a3f",
   "metadata": {
    "ExecuteTime": {
     "end_time": "2024-07-10T11:13:59.666220Z",
     "start_time": "2024-07-10T11:13:59.576245Z"
    }
   },
   "outputs": [],
   "source": [
    "class_names = ['constitutive', 'regulatory']\n",
    "model_path = download('inlegal_bert_xgboost_classifier.json', 'model')"
   ]
  },
  {
   "cell_type": "markdown",
   "metadata": {
    "collapsed": false
   },
   "source": [
    "# 1 - Define test data"
   ]
  },
  {
   "cell_type": "code",
   "execution_count": 4,
   "metadata": {
    "ExecuteTime": {
     "end_time": "2024-07-10T11:13:59.666220Z",
     "start_time": "2024-07-10T11:13:59.590692Z"
    },
    "collapsed": false
   },
   "outputs": [],
   "source": [
    "constitutive_statement_0 = \"The purchase, import or transport from Syria of crude oil and petroleum products shall be prohibited.\"\n",
    "constitutive_statement_1 = \"This Decision shall enter into force on the twentieth day following that of its publication in the Official Journal of the European Union.\"\n",
    "regulatory_statement_0 = \"Where observations are submitted, or where substantial new evidence is presented, the Council shall review its decision and inform the person or entity concerned accordingly.\"\n",
    "regulatory_statement_1 = \"The relevant Member State shall inform the other Member States of any authorisation granted under this Article.\"\n",
    "regulatory_statement_2 = \"Member States shall cooperate, in accordance with their national legislation, with inspections and disposals undertaken pursuant to paragraphs 1 and 2.\""
   ]
  },
  {
   "cell_type": "markdown",
   "id": "bad4f5b1-6097-4ef3-98c4-78432ad640b0",
   "metadata": {
    "ExecuteTime": {
     "end_time": "2024-03-21T10:28:34.466985Z",
     "start_time": "2024-03-21T10:28:34.456937Z"
    }
   },
   "source": [
    "# 2 - Load and prepare the model\n",
    "\n",
    "The model is a combination of a pretrained transformer used as a feature extractor, with an XGBoost model trained on top. The following cells load the model into the variable called `model_runner`."
   ]
  },
  {
   "cell_type": "code",
   "execution_count": 5,
   "metadata": {
    "ExecuteTime": {
     "end_time": "2024-07-10T11:13:59.666763Z",
     "start_time": "2024-07-10T11:13:59.598468Z"
    },
    "collapsed": false
   },
   "outputs": [],
   "source": [
    "from transformers import AutoTokenizer, AutoModel\n",
    "def create_features(texts: list[str], model_tag=\"law-ai/InLegalBERT\") -> torch.Tensor:\n",
    "    \"\"\"Create features for a list of texts.\"\"\"\n",
    "    max_length = 512\n",
    "    tokenizer = AutoTokenizer.from_pretrained(model_tag)\n",
    "    model = AutoModel.from_pretrained(model_tag)\n",
    "\n",
    "    def process_batch(batch: Iterable[str]):\n",
    "        cropped_texts = [text[:max_length] for text in batch]\n",
    "        encoded_inputs = tokenizer(cropped_texts, padding='longest', truncation=True, max_length=max_length,\n",
    "                                   return_tensors=\"pt\")\n",
    "        with torch.no_grad():\n",
    "            outputs = model(**encoded_inputs)\n",
    "        last_hidden_states = outputs.last_hidden_state\n",
    "        sentence_features = last_hidden_states.mean(dim=1)\n",
    "        return sentence_features\n",
    "\n",
    "    dataloader = DataLoader(texts, batch_size=1)  # batch size of 1 was quickest for my development machine\n",
    "    features = [process_batch(batch) for batch in tqdm(dataloader, desc=f'Creating features')]\n",
    "    return np.array(torch.cat(features, dim=0))\n",
    "\n"
   ]
  },
  {
   "cell_type": "code",
   "execution_count": 6,
   "metadata": {
    "ExecuteTime": {
     "end_time": "2024-07-10T11:13:59.672763Z",
     "start_time": "2024-07-10T11:13:59.606453Z"
    },
    "collapsed": false
   },
   "outputs": [],
   "source": [
    "models={}\n",
    "def classify_texts(texts: list[str], model_path, return_proba: bool = False):\n",
    "    \"\"\"Classifies every text in a list of texts using the xgboost model stored in model_path.\n",
    "\n",
    "    The xgboost model will be loaded and used to classify the texts. The texts however will first be processed by a\n",
    "    large language model which will do the feature extraction for every text. The classifications of the\n",
    "    xgboost model will be returned.\n",
    "    For training the xgboost model, see train_legalbert_xgboost.py.\n",
    "\n",
    "    Parameters\n",
    "    ----------\n",
    "    texts\n",
    "        A list of strings of which each needs to be classified.\n",
    "    model_path\n",
    "        The path to a stored xgboost model\n",
    "    return_proba\n",
    "        return the probabilities of the model\n",
    "\n",
    "    Returns\n",
    "    -------\n",
    "        List of classifications, one for every text in the list\n",
    "\n",
    "    \"\"\"\n",
    "    features = create_features(texts)\n",
    "    if model_path not in models:\n",
    "        print(f'Loading model from {model_path}.')\n",
    "        model = xgboost.XGBClassifier()\n",
    "        model.load_model(model_path)\n",
    "        models[model_path] = model\n",
    "\n",
    "    model = models[model_path]\n",
    "    if return_proba:\n",
    "        return model.predict_proba(features)\n",
    "    return model.predict(features)"
   ]
  },
  {
   "cell_type": "code",
   "execution_count": 7,
   "id": "555842c5-3f82-4f63-93bb-696645d4b447",
   "metadata": {
    "ExecuteTime": {
     "end_time": "2024-07-10T11:14:00.114564Z",
     "start_time": "2024-07-10T11:13:59.617764Z"
    }
   },
   "outputs": [],
   "source": [
    "class StatementClassifier:\n",
    "    def __init__(self):\n",
    "        self.tokenizer = SpacyTokenizer(name='en_core_web_sm')\n",
    "\n",
    "    def __call__(self, sentences):\n",
    "        # ensure the input has a batch axis\n",
    "        if isinstance(sentences, str):\n",
    "            sentences = [sentences]\n",
    "\n",
    "        probs = classify_texts(sentences, model_path, return_proba=True)\n",
    "\n",
    "        return np.transpose([(probs[:, 0]), (1 - probs[:, 0])])\n",
    "\n",
    "model_runner = StatementClassifier()"
   ]
  },
  {
   "cell_type": "markdown",
   "metadata": {
    "collapsed": false
   },
   "source": [
    "## Test the model"
   ]
  },
  {
   "cell_type": "code",
   "execution_count": 8,
   "metadata": {
    "ExecuteTime": {
     "end_time": "2024-07-10T11:14:01.218604Z",
     "start_time": "2024-07-10T11:14:00.117563Z"
    },
    "collapsed": false
   },
   "outputs": [
    {
     "name": "stderr",
     "output_type": "stream",
     "text": [
      "Creating features: 100%|██████████| 5/5 [00:01<00:00,  3.63it/s]"
     ]
    },
    {
     "name": "stdout",
     "output_type": "stream",
     "text": [
      "Loading model from C:\\Users\\ChristiaanMeijer\\AppData\\Local\\dianna\\dianna\\Cache\\inlegal_bert_xgboost_classifier.json.\n"
     ]
    },
    {
     "name": "stderr",
     "output_type": "stream",
     "text": [
      "\n"
     ]
    },
    {
     "data": {
      "text/html": [
       "<div>\n",
       "<style scoped>\n",
       "    .dataframe tbody tr th:only-of-type {\n",
       "        vertical-align: middle;\n",
       "    }\n",
       "\n",
       "    .dataframe tbody tr th {\n",
       "        vertical-align: top;\n",
       "    }\n",
       "\n",
       "    .dataframe thead th {\n",
       "        text-align: right;\n",
       "    }\n",
       "</style>\n",
       "<table border=\"1\" class=\"dataframe\">\n",
       "  <thead>\n",
       "    <tr style=\"text-align: right;\">\n",
       "      <th></th>\n",
       "      <th>statement</th>\n",
       "      <th>prediction</th>\n",
       "      <th>actual</th>\n",
       "    </tr>\n",
       "  </thead>\n",
       "  <tbody>\n",
       "    <tr>\n",
       "      <th>0</th>\n",
       "      <td>The purchase, import or transport from Syria o...</td>\n",
       "      <td>constitutive</td>\n",
       "      <td>constitutive</td>\n",
       "    </tr>\n",
       "    <tr>\n",
       "      <th>1</th>\n",
       "      <td>This Decision shall enter into force on the tw...</td>\n",
       "      <td>constitutive</td>\n",
       "      <td>constitutive</td>\n",
       "    </tr>\n",
       "    <tr>\n",
       "      <th>2</th>\n",
       "      <td>Where observations are submitted, or where sub...</td>\n",
       "      <td>regulatory</td>\n",
       "      <td>regulatory</td>\n",
       "    </tr>\n",
       "    <tr>\n",
       "      <th>3</th>\n",
       "      <td>The relevant Member State shall inform the oth...</td>\n",
       "      <td>regulatory</td>\n",
       "      <td>regulatory</td>\n",
       "    </tr>\n",
       "    <tr>\n",
       "      <th>4</th>\n",
       "      <td>Member States shall cooperate, in accordance w...</td>\n",
       "      <td>regulatory</td>\n",
       "      <td>regulatory</td>\n",
       "    </tr>\n",
       "  </tbody>\n",
       "</table>\n",
       "</div>"
      ],
      "text/plain": [
       "                                           statement    prediction  \\\n",
       "0  The purchase, import or transport from Syria o...  constitutive   \n",
       "1  This Decision shall enter into force on the tw...  constitutive   \n",
       "2  Where observations are submitted, or where sub...    regulatory   \n",
       "3  The relevant Member State shall inform the oth...    regulatory   \n",
       "4  Member States shall cooperate, in accordance w...    regulatory   \n",
       "\n",
       "         actual  \n",
       "0  constitutive  \n",
       "1  constitutive  \n",
       "2    regulatory  \n",
       "3    regulatory  \n",
       "4    regulatory  "
      ]
     },
     "execution_count": 8,
     "metadata": {},
     "output_type": "execute_result"
    }
   ],
   "source": [
    "statements = [constitutive_statement_0, constitutive_statement_1, regulatory_statement_0, regulatory_statement_1,\n",
    "               regulatory_statement_2]\n",
    "actual_classes = [class_names[c] for c in [0,0,1,1,1]]\n",
    "model_outputs = model_runner(statements)\n",
    "predictioned_classes = [class_names[m] for m in np.argmax(model_outputs, axis=1)]\n",
    "\n",
    "pd.DataFrame({'statement': statements, 'prediction': predictioned_classes, 'actual': actual_classes})"
   ]
  },
  {
   "cell_type": "markdown",
   "metadata": {
    "collapsed": false
   },
   "source": [
    "# 3 - Explain the model"
   ]
  },
  {
   "cell_type": "markdown",
   "metadata": {
    "collapsed": false
   },
   "source": [
    "## Set parameters for DIANNA"
   ]
  },
  {
   "cell_type": "code",
   "execution_count": 9,
   "metadata": {
    "ExecuteTime": {
     "end_time": "2024-07-10T11:14:01.225117Z",
     "start_time": "2024-07-10T11:14:01.221604Z"
    },
    "collapsed": false
   },
   "outputs": [
    {
     "name": "stdout",
     "output_type": "stream",
     "text": [
      "label_of_interest is regulatory\n"
     ]
    }
   ],
   "source": [
    "label_of_interest = 1\n",
    "print('label_of_interest is', class_names[label_of_interest])\n",
    "statement = regulatory_statement_1\n",
    "num_samples = 2000\n",
    "num_features = 999  # top n number of words to include in the attribution map\n",
    "\n",
    "def run_dianna(input_text):\n",
    "    return dianna.explain_text(model_runner, input_text, model_runner.tokenizer,\n",
    "                               'LIME', labels=[label_of_interest], num_samples=num_samples, num_features=num_features, )[0]"
   ]
  },
  {
   "cell_type": "markdown",
   "metadata": {
    "collapsed": false
   },
   "source": [
    "## Are the results stable with current parameters?\n",
    "A crucial hyperparameter is the `num_samples` which is set above. Too few samples results in a noisy explanation. Too many, is computationally expensive. If repeated runs yield (very) different results, the number of samples is too low for the current setting (which includes data, model, sentence length and other xai parameters)."
   ]
  },
  {
   "cell_type": "code",
   "execution_count": 10,
   "metadata": {
    "ExecuteTime": {
     "end_time": "2024-03-21T11:57:43.971896Z",
     "start_time": "2024-03-21T11:57:43.921805Z"
    },
    "collapsed": false
   },
   "outputs": [
    {
     "name": "stderr",
     "output_type": "stream",
     "text": [
      "Creating features: 100%|██████████| 2000/2000 [02:17<00:00, 14.55it/s]\n",
      "Creating features: 100%|██████████| 2000/2000 [02:10<00:00, 15.32it/s]\n",
      "Creating features: 100%|██████████| 2000/2000 [02:11<00:00, 15.16it/s]\n"
     ]
    },
    {
     "data": {
      "text/html": [
       "<div>\n",
       "<style scoped>\n",
       "    .dataframe tbody tr th:only-of-type {\n",
       "        vertical-align: middle;\n",
       "    }\n",
       "\n",
       "    .dataframe tbody tr th {\n",
       "        vertical-align: top;\n",
       "    }\n",
       "\n",
       "    .dataframe thead th {\n",
       "        text-align: right;\n",
       "    }\n",
       "</style>\n",
       "<table border=\"1\" class=\"dataframe\">\n",
       "  <thead>\n",
       "    <tr style=\"text-align: right;\">\n",
       "      <th></th>\n",
       "      <th>The</th>\n",
       "      <th>relevant</th>\n",
       "      <th>Member</th>\n",
       "      <th>State</th>\n",
       "      <th>shall</th>\n",
       "      <th>inform</th>\n",
       "      <th>the</th>\n",
       "      <th>other</th>\n",
       "      <th>Member</th>\n",
       "      <th>States</th>\n",
       "      <th>of</th>\n",
       "      <th>any</th>\n",
       "      <th>authorisation</th>\n",
       "      <th>granted</th>\n",
       "      <th>under</th>\n",
       "      <th>this</th>\n",
       "      <th>Article</th>\n",
       "      <th>.</th>\n",
       "    </tr>\n",
       "  </thead>\n",
       "  <tbody>\n",
       "    <tr>\n",
       "      <th>count</th>\n",
       "      <td>3.000000</td>\n",
       "      <td>3.000000</td>\n",
       "      <td>3.000000</td>\n",
       "      <td>3.000000</td>\n",
       "      <td>3.000000</td>\n",
       "      <td>3.000000</td>\n",
       "      <td>3.000000</td>\n",
       "      <td>3.000000</td>\n",
       "      <td>3.000000</td>\n",
       "      <td>3.000000</td>\n",
       "      <td>3.000000</td>\n",
       "      <td>3.000000</td>\n",
       "      <td>3.000000</td>\n",
       "      <td>3.000000</td>\n",
       "      <td>3.000000</td>\n",
       "      <td>3.000000</td>\n",
       "      <td>3.000000</td>\n",
       "      <td>3.000000</td>\n",
       "    </tr>\n",
       "    <tr>\n",
       "      <th>mean</th>\n",
       "      <td>0.066543</td>\n",
       "      <td>0.040031</td>\n",
       "      <td>0.060046</td>\n",
       "      <td>0.105916</td>\n",
       "      <td>0.192736</td>\n",
       "      <td>0.145457</td>\n",
       "      <td>0.078587</td>\n",
       "      <td>0.064191</td>\n",
       "      <td>0.089121</td>\n",
       "      <td>0.142354</td>\n",
       "      <td>0.114781</td>\n",
       "      <td>0.042535</td>\n",
       "      <td>0.065503</td>\n",
       "      <td>0.039873</td>\n",
       "      <td>0.091866</td>\n",
       "      <td>0.080870</td>\n",
       "      <td>0.054341</td>\n",
       "      <td>0.111533</td>\n",
       "    </tr>\n",
       "    <tr>\n",
       "      <th>std</th>\n",
       "      <td>0.027477</td>\n",
       "      <td>0.007484</td>\n",
       "      <td>0.022590</td>\n",
       "      <td>0.000665</td>\n",
       "      <td>0.008612</td>\n",
       "      <td>0.014756</td>\n",
       "      <td>0.004525</td>\n",
       "      <td>0.004821</td>\n",
       "      <td>0.011775</td>\n",
       "      <td>0.022780</td>\n",
       "      <td>0.011397</td>\n",
       "      <td>0.013324</td>\n",
       "      <td>0.010638</td>\n",
       "      <td>0.009031</td>\n",
       "      <td>0.003086</td>\n",
       "      <td>0.010070</td>\n",
       "      <td>0.020705</td>\n",
       "      <td>0.005437</td>\n",
       "    </tr>\n",
       "    <tr>\n",
       "      <th>min</th>\n",
       "      <td>0.049605</td>\n",
       "      <td>0.034720</td>\n",
       "      <td>0.038425</td>\n",
       "      <td>0.105155</td>\n",
       "      <td>0.182833</td>\n",
       "      <td>0.128693</td>\n",
       "      <td>0.073430</td>\n",
       "      <td>0.060816</td>\n",
       "      <td>0.075847</td>\n",
       "      <td>0.124168</td>\n",
       "      <td>0.102572</td>\n",
       "      <td>0.028173</td>\n",
       "      <td>0.059008</td>\n",
       "      <td>0.029511</td>\n",
       "      <td>0.088517</td>\n",
       "      <td>0.069802</td>\n",
       "      <td>0.038332</td>\n",
       "      <td>0.108313</td>\n",
       "    </tr>\n",
       "    <tr>\n",
       "      <th>25%</th>\n",
       "      <td>0.050691</td>\n",
       "      <td>0.035751</td>\n",
       "      <td>0.048323</td>\n",
       "      <td>0.105681</td>\n",
       "      <td>0.189868</td>\n",
       "      <td>0.139946</td>\n",
       "      <td>0.076934</td>\n",
       "      <td>0.061430</td>\n",
       "      <td>0.084527</td>\n",
       "      <td>0.129578</td>\n",
       "      <td>0.109601</td>\n",
       "      <td>0.036556</td>\n",
       "      <td>0.059365</td>\n",
       "      <td>0.036776</td>\n",
       "      <td>0.090501</td>\n",
       "      <td>0.076558</td>\n",
       "      <td>0.042649</td>\n",
       "      <td>0.108395</td>\n",
       "    </tr>\n",
       "    <tr>\n",
       "      <th>50%</th>\n",
       "      <td>0.051778</td>\n",
       "      <td>0.036782</td>\n",
       "      <td>0.058221</td>\n",
       "      <td>0.106208</td>\n",
       "      <td>0.196902</td>\n",
       "      <td>0.151198</td>\n",
       "      <td>0.080438</td>\n",
       "      <td>0.062044</td>\n",
       "      <td>0.093207</td>\n",
       "      <td>0.134989</td>\n",
       "      <td>0.116630</td>\n",
       "      <td>0.044939</td>\n",
       "      <td>0.059722</td>\n",
       "      <td>0.044042</td>\n",
       "      <td>0.092485</td>\n",
       "      <td>0.083314</td>\n",
       "      <td>0.046967</td>\n",
       "      <td>0.108477</td>\n",
       "    </tr>\n",
       "    <tr>\n",
       "      <th>75%</th>\n",
       "      <td>0.075011</td>\n",
       "      <td>0.042686</td>\n",
       "      <td>0.070857</td>\n",
       "      <td>0.106296</td>\n",
       "      <td>0.197688</td>\n",
       "      <td>0.153839</td>\n",
       "      <td>0.081166</td>\n",
       "      <td>0.065878</td>\n",
       "      <td>0.095758</td>\n",
       "      <td>0.151447</td>\n",
       "      <td>0.120885</td>\n",
       "      <td>0.049716</td>\n",
       "      <td>0.068751</td>\n",
       "      <td>0.045054</td>\n",
       "      <td>0.093540</td>\n",
       "      <td>0.086404</td>\n",
       "      <td>0.062345</td>\n",
       "      <td>0.113144</td>\n",
       "    </tr>\n",
       "    <tr>\n",
       "      <th>max</th>\n",
       "      <td>0.098245</td>\n",
       "      <td>0.048591</td>\n",
       "      <td>0.083493</td>\n",
       "      <td>0.106385</td>\n",
       "      <td>0.198473</td>\n",
       "      <td>0.156479</td>\n",
       "      <td>0.081894</td>\n",
       "      <td>0.069713</td>\n",
       "      <td>0.098308</td>\n",
       "      <td>0.167905</td>\n",
       "      <td>0.125140</td>\n",
       "      <td>0.054494</td>\n",
       "      <td>0.077780</td>\n",
       "      <td>0.046066</td>\n",
       "      <td>0.094595</td>\n",
       "      <td>0.089493</td>\n",
       "      <td>0.077724</td>\n",
       "      <td>0.117810</td>\n",
       "    </tr>\n",
       "  </tbody>\n",
       "</table>\n",
       "</div>"
      ],
      "text/plain": [
       "            The  relevant    Member     State     shall    inform       the  \\\n",
       "count  3.000000  3.000000  3.000000  3.000000  3.000000  3.000000  3.000000   \n",
       "mean   0.066543  0.040031  0.060046  0.105916  0.192736  0.145457  0.078587   \n",
       "std    0.027477  0.007484  0.022590  0.000665  0.008612  0.014756  0.004525   \n",
       "min    0.049605  0.034720  0.038425  0.105155  0.182833  0.128693  0.073430   \n",
       "25%    0.050691  0.035751  0.048323  0.105681  0.189868  0.139946  0.076934   \n",
       "50%    0.051778  0.036782  0.058221  0.106208  0.196902  0.151198  0.080438   \n",
       "75%    0.075011  0.042686  0.070857  0.106296  0.197688  0.153839  0.081166   \n",
       "max    0.098245  0.048591  0.083493  0.106385  0.198473  0.156479  0.081894   \n",
       "\n",
       "          other    Member    States        of       any  authorisation  \\\n",
       "count  3.000000  3.000000  3.000000  3.000000  3.000000       3.000000   \n",
       "mean   0.064191  0.089121  0.142354  0.114781  0.042535       0.065503   \n",
       "std    0.004821  0.011775  0.022780  0.011397  0.013324       0.010638   \n",
       "min    0.060816  0.075847  0.124168  0.102572  0.028173       0.059008   \n",
       "25%    0.061430  0.084527  0.129578  0.109601  0.036556       0.059365   \n",
       "50%    0.062044  0.093207  0.134989  0.116630  0.044939       0.059722   \n",
       "75%    0.065878  0.095758  0.151447  0.120885  0.049716       0.068751   \n",
       "max    0.069713  0.098308  0.167905  0.125140  0.054494       0.077780   \n",
       "\n",
       "        granted     under      this   Article         .  \n",
       "count  3.000000  3.000000  3.000000  3.000000  3.000000  \n",
       "mean   0.039873  0.091866  0.080870  0.054341  0.111533  \n",
       "std    0.009031  0.003086  0.010070  0.020705  0.005437  \n",
       "min    0.029511  0.088517  0.069802  0.038332  0.108313  \n",
       "25%    0.036776  0.090501  0.076558  0.042649  0.108395  \n",
       "50%    0.044042  0.092485  0.083314  0.046967  0.108477  \n",
       "75%    0.045054  0.093540  0.086404  0.062345  0.113144  \n",
       "max    0.046066  0.094595  0.089493  0.077724  0.117810  "
      ]
     },
     "execution_count": 10,
     "metadata": {},
     "output_type": "execute_result"
    }
   ],
   "source": [
    "explanation_relevances = [run_dianna(statement) for i in range(3)]\n",
    "sorted_relevances = [sorted(r, key=lambda t : t[1]) for r in explanation_relevances]\n",
    "\n",
    "pd.DataFrame([[r[2] for r in sr] for sr in sorted_relevances], columns=[r[0] for r in sorted_relevances[0]]).describe()"
   ]
  },
  {
   "cell_type": "markdown",
   "metadata": {
    "collapsed": false
   },
   "source": [
    "Seems quite stable with 2000 samples in LIME. We can now run DIANNA knowing results will contain mostly signal and not just noise."
   ]
  },
  {
   "cell_type": "markdown",
   "metadata": {
    "collapsed": false
   },
   "source": [
    "## Running the actual explainer\n",
    "We run the explainer one more time (convenient for whoever skipped the last cell) and show the attributions. This time we run it on a single example statement from the test data. The output table displays attribution scores for each word in the sentence. Each score represents how important or relevant that particular word was for the model to assign it the specified class. The closer the attribution score is to 1 the more important the word is to the classification."
   ]
  },
  {
   "cell_type": "code",
   "execution_count": 11,
   "metadata": {
    "ExecuteTime": {
     "end_time": "2024-07-10T10:39:53.877421Z",
     "start_time": "2024-07-10T10:38:41.095511Z"
    },
    "collapsed": false
   },
   "outputs": [
    {
     "name": "stderr",
     "output_type": "stream",
     "text": [
      "Creating features: 100%|██████████| 2000/2000 [02:28<00:00, 13.44it/s]"
     ]
    },
    {
     "name": "stdout",
     "output_type": "stream",
     "text": [
      "attributions for class regulatory\n"
     ]
    },
    {
     "name": "stderr",
     "output_type": "stream",
     "text": [
      "\n"
     ]
    },
    {
     "data": {
      "text/html": [
       "<div>\n",
       "<style scoped>\n",
       "    .dataframe tbody tr th:only-of-type {\n",
       "        vertical-align: middle;\n",
       "    }\n",
       "\n",
       "    .dataframe tbody tr th {\n",
       "        vertical-align: top;\n",
       "    }\n",
       "\n",
       "    .dataframe thead th {\n",
       "        text-align: right;\n",
       "    }\n",
       "</style>\n",
       "<table border=\"1\" class=\"dataframe\">\n",
       "  <thead>\n",
       "    <tr style=\"text-align: right;\">\n",
       "      <th></th>\n",
       "      <th>0</th>\n",
       "      <th>1</th>\n",
       "      <th>2</th>\n",
       "    </tr>\n",
       "  </thead>\n",
       "  <tbody>\n",
       "    <tr>\n",
       "      <th>0</th>\n",
       "      <td>The</td>\n",
       "      <td>0</td>\n",
       "      <td>0.040727</td>\n",
       "    </tr>\n",
       "    <tr>\n",
       "      <th>1</th>\n",
       "      <td>relevant</td>\n",
       "      <td>1</td>\n",
       "      <td>0.063082</td>\n",
       "    </tr>\n",
       "    <tr>\n",
       "      <th>2</th>\n",
       "      <td>Member</td>\n",
       "      <td>2</td>\n",
       "      <td>0.065679</td>\n",
       "    </tr>\n",
       "    <tr>\n",
       "      <th>3</th>\n",
       "      <td>State</td>\n",
       "      <td>3</td>\n",
       "      <td>0.080698</td>\n",
       "    </tr>\n",
       "    <tr>\n",
       "      <th>4</th>\n",
       "      <td>shall</td>\n",
       "      <td>4</td>\n",
       "      <td>0.171471</td>\n",
       "    </tr>\n",
       "    <tr>\n",
       "      <th>5</th>\n",
       "      <td>inform</td>\n",
       "      <td>5</td>\n",
       "      <td>0.142825</td>\n",
       "    </tr>\n",
       "    <tr>\n",
       "      <th>6</th>\n",
       "      <td>the</td>\n",
       "      <td>6</td>\n",
       "      <td>0.073943</td>\n",
       "    </tr>\n",
       "    <tr>\n",
       "      <th>7</th>\n",
       "      <td>other</td>\n",
       "      <td>7</td>\n",
       "      <td>0.078633</td>\n",
       "    </tr>\n",
       "    <tr>\n",
       "      <th>8</th>\n",
       "      <td>Member</td>\n",
       "      <td>8</td>\n",
       "      <td>0.070353</td>\n",
       "    </tr>\n",
       "    <tr>\n",
       "      <th>9</th>\n",
       "      <td>States</td>\n",
       "      <td>9</td>\n",
       "      <td>0.132782</td>\n",
       "    </tr>\n",
       "    <tr>\n",
       "      <th>10</th>\n",
       "      <td>of</td>\n",
       "      <td>10</td>\n",
       "      <td>0.115537</td>\n",
       "    </tr>\n",
       "    <tr>\n",
       "      <th>11</th>\n",
       "      <td>any</td>\n",
       "      <td>11</td>\n",
       "      <td>0.059245</td>\n",
       "    </tr>\n",
       "    <tr>\n",
       "      <th>12</th>\n",
       "      <td>authorisation</td>\n",
       "      <td>12</td>\n",
       "      <td>0.057643</td>\n",
       "    </tr>\n",
       "    <tr>\n",
       "      <th>13</th>\n",
       "      <td>granted</td>\n",
       "      <td>13</td>\n",
       "      <td>0.057985</td>\n",
       "    </tr>\n",
       "    <tr>\n",
       "      <th>14</th>\n",
       "      <td>under</td>\n",
       "      <td>14</td>\n",
       "      <td>0.118352</td>\n",
       "    </tr>\n",
       "    <tr>\n",
       "      <th>15</th>\n",
       "      <td>this</td>\n",
       "      <td>15</td>\n",
       "      <td>0.085583</td>\n",
       "    </tr>\n",
       "    <tr>\n",
       "      <th>16</th>\n",
       "      <td>Article</td>\n",
       "      <td>16</td>\n",
       "      <td>0.062079</td>\n",
       "    </tr>\n",
       "    <tr>\n",
       "      <th>17</th>\n",
       "      <td>.</td>\n",
       "      <td>17</td>\n",
       "      <td>0.120736</td>\n",
       "    </tr>\n",
       "  </tbody>\n",
       "</table>\n",
       "</div>"
      ],
      "text/plain": [
       "                0   1         2\n",
       "0             The   0  0.040727\n",
       "1        relevant   1  0.063082\n",
       "2          Member   2  0.065679\n",
       "3           State   3  0.080698\n",
       "4           shall   4  0.171471\n",
       "5          inform   5  0.142825\n",
       "6             the   6  0.073943\n",
       "7           other   7  0.078633\n",
       "8          Member   8  0.070353\n",
       "9          States   9  0.132782\n",
       "10             of  10  0.115537\n",
       "11            any  11  0.059245\n",
       "12  authorisation  12  0.057643\n",
       "13        granted  13  0.057985\n",
       "14          under  14  0.118352\n",
       "15           this  15  0.085583\n",
       "16        Article  16  0.062079\n",
       "17              .  17  0.120736"
      ]
     },
     "execution_count": 11,
     "metadata": {},
     "output_type": "execute_result"
    }
   ],
   "source": [
    "explanation_relevance = run_dianna(statement)\n",
    "print('attributions for class', class_names[label_of_interest])\n",
    "pd.DataFrame(explanation_relevance)"
   ]
  },
  {
   "cell_type": "markdown",
   "id": "7e177746-3654-4518-9c1c-b7047f922273",
   "metadata": {
    "ExecuteTime": {
     "end_time": "2024-03-21T10:38:43.263330Z",
     "start_time": "2024-03-21T10:38:41.425881Z"
    }
   },
   "source": [
    "# 4 - Visualization\n",
    "DIANNA includes a visualization package, capable of highlighting the relevance of each word in the text for a chosen class. The visualization is in HTML format.\n",
    "Words in favour of the selected class are highlighted in red, while words against the selected class - in blue.\n",
    "\n",
    "Below we see a plot showing which words (colored with higher intensity of red) contributed the most to the classification of the sentence ``The relevant Member State shall inform the other Member States of any authorisation granted under this Article.`` as ``regulatory``. \n",
    "\n",
    "We can see that the most important words are: ``shall``, ``inform``, ``States``, ``of`` and ``under``. ``shall`` indicates a necessary deontic word for regulatory sentences which makes sense. ``inform`` is an action word or verb. These actions typically occur in regulatory sentences because such sentences often have to indicate what a particular party should or should not do to successfully comply with a regulation. Therefore it also makes sense that ``inform`` has high attribution. \n",
    "\n",
    "Another component often occurring in EU regulatory sentences is a reference to the actual party or legal entity being regulated. In this case the party being regulated is ``Member States`` (all EU Member countries). However we see that ``Member`` does not receive a high attribution score relative to ``States``. It could be that the model prefers ``States of`` as indicating a party to be regulated as in ``United States of America`` (``of`` has a similar attribution score to ``States``). Perhaps the model has learned that ``States of`` is usually a subphrase of an agent of some kind (which is the precondition for being a party to be regulated)."
   ]
  },
  {
   "cell_type": "code",
   "execution_count": 12,
   "id": "0136005d-a22f-43a0-80da-4ec1f283f870",
   "metadata": {
    "ExecuteTime": {
     "end_time": "2024-07-10T10:39:54.163294Z",
     "start_time": "2024-07-10T10:39:53.872085Z"
    }
   },
   "outputs": [
    {
     "data": {
      "image/png": "[encoded data removed]",
      "text/plain": [
       "<Figure size 1000x100 with 2 Axes>"
      ]
     },
     "metadata": {},
     "output_type": "display_data"
    }
   ],
   "source": [
    "_ = visualization.highlight_text(explanation_relevance, model_runner.tokenizer.tokenize(statement))"
   ]
  }
 ],
 "metadata": {
  "kernelspec": {
   "display_name": "Python 3 (ipykernel)",
   "language": "python",
   "name": "python3"
  },
  "language_info": {
   "codemirror_mode": {
    "name": "ipython",
    "version": 3
   },
   "file_extension": ".py",
   "mimetype": "text/x-python",
   "name": "python",
   "nbconvert_exporter": "python",
   "pygments_lexer": "ipython3",
   "version": "3.10.13"
  }
 },
 "nbformat": 4,
 "nbformat_minor": 5
}
