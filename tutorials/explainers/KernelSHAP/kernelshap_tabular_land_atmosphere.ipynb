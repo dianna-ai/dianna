{
 "cells": [
  {
   "cell_type": "markdown",
   "id": "b961e78a-3fb9-47df-b86a-3f21f18bdfb5",
   "metadata": {
    "tags": []
   },
   "source": [
    "<img width=\"150\" alt=\"Logo_ER10\" src=\"https://user-images.githubusercontent.com/3244249/151994514-b584b984-a148-4ade-80ee-0f88b0aefa45.png\">\n",
    "\n",
    "### Model interpretation using Kernel SHAP (SHapley Additive exPlanations) for  terrestrial water-energy-carbon fluxes\n",
    "\n",
    "This notebook shows how to apply the Kernel SHAP explainability method on a model trained to predict \"**latent heat flux (LEtot)**\". The model is a Random Forest model that predicts \"LEtot\" using a set of **land-atmosphere** variables.<br>\n",
    "\n",
    "The model training workflow and data are based on the research carried by \"Qianqian Han\" https://doi.org/10.5194/egusphere-egu24-5488 in the context of [EcoExtreML](https://research-software-directory.org/projects/ecoextreml) project. \n",
    "\n",
    "Kernel SHAP (SHapley Additive exPlanations) values are a unified measure of feature importance that allocates the contribution of each feature to the prediction for a specific instance. In the context of a regression problem, the interpretation of Kernel SHAP values is as follows:\n",
    "\n",
    "- **Magnitude**: The magnitude of a SHAP value for a feature indicates the degree to which that feature affects the prediction. A larger absolute SHAP value means that the feature has a stronger impact on the output.\n",
    "- **Sign**: The sign of a SHAP value indicates the direction of the effect. A positive SHAP value for a feature indicates that the presence of that feature increases the model's output, while a negative SHAP value indicates that the presence of that feature decreases the model's output.\n",
    "- **Zero**: A SHAP value of zero for a feature indicates that the feature did not contribute to the prediction for that specific instance.\n",
    "\n",
    "It's important to note that SHAP values are instance-specific. For a general measure of feature importance, you would need to calculate SHAP values for many instances."
   ]
  },
  {
   "cell_type": "markdown",
   "id": "fa56c977-4533-4852-bfa4-5dbb06101a32",
   "metadata": {
    "tags": []
   },
   "source": [
    "#### Colab Setup"
   ]
  },
  {
   "cell_type": "code",
   "execution_count": 1,
   "id": "2af4d822-2986-4989-9b85-cd06e877a183",
   "metadata": {
    "tags": []
   },
   "outputs": [],
   "source": [
    "running_in_colab = 'google.colab' in str(get_ipython())\n",
    "if running_in_colab:\n",
    "    # install dianna\n",
    "    !python3 -m pip install dianna[notebooks]"
   ]
  },
  {
   "cell_type": "markdown",
   "id": "1368fdb7-0d2e-45f8-b044-789d90efec7c",
   "metadata": {
    "tags": []
   },
   "source": [
    "#### 0 - Libraries"
   ]
  },
  {
   "cell_type": "code",
   "execution_count": 2,
   "id": "1e44f61a-5fa4-4790-ad25-6e1a868b03a5",
   "metadata": {
    "tags": []
   },
   "outputs": [],
   "source": [
    "import pandas as pd\n",
    "import numpy as np\n",
    "from joblib import load\n",
    "from sklearn.model_selection import train_test_split\n",
    "\n",
    "import dianna\n",
    "from dianna import visualization\n",
    "from dianna.utils import SimpleModelRunner\n",
    "from dianna.utils.downloader import download\n",
    "\n",
    "# for plotting purpuses\n",
    "import os\n",
    "import shap\n",
    "import matplotlib.pyplot as plt\n",
    "from shap import Explanation\n",
    "from IPython.display import display, HTML\n",
    "\n",
    "np.random.seed(0)"
   ]
  },
  {
   "cell_type": "markdown",
   "id": "e083ba91-ac3c-4f2c-b1d6-8fe5ee2ad64f",
   "metadata": {},
   "source": [
    "#### 1- Load and visualize the data"
   ]
  },
  {
   "cell_type": "code",
   "execution_count": 3,
   "id": "a0d02b92-beae-4cd0-9c7f-ad2d3a9d0b05",
   "metadata": {
    "tags": []
   },
   "outputs": [],
   "source": [
    "# this data covers only one year of data i.e. 2014\n",
    "data_path = download('stemmus_scope_emulator_train_test_2014_data.csv', 'data')"
   ]
  },
  {
   "cell_type": "code",
   "execution_count": 4,
   "id": "2243edc2-4f1c-4ea5-9242-5a506ad0e436",
   "metadata": {
    "tags": []
   },
   "outputs": [
    {
     "data": {
      "text/html": [
       "<div>\n",
       "<style scoped>\n",
       "    .dataframe tbody tr th:only-of-type {\n",
       "        vertical-align: middle;\n",
       "    }\n",
       "\n",
       "    .dataframe tbody tr th {\n",
       "        vertical-align: top;\n",
       "    }\n",
       "\n",
       "    .dataframe thead th {\n",
       "        text-align: right;\n",
       "    }\n",
       "</style>\n",
       "<table border=\"1\" class=\"dataframe\">\n",
       "  <thead>\n",
       "    <tr style=\"text-align: right;\">\n",
       "      <th></th>\n",
       "      <th>Unnamed: 0</th>\n",
       "      <th>station</th>\n",
       "      <th>date_UTC</th>\n",
       "      <th>Precip_msr</th>\n",
       "      <th>Rin</th>\n",
       "      <th>Rli</th>\n",
       "      <th>p</th>\n",
       "      <th>Ta</th>\n",
       "      <th>ea</th>\n",
       "      <th>u</th>\n",
       "      <th>...</th>\n",
       "      <th>IGBP_veg_long2</th>\n",
       "      <th>IGBP_veg_long3</th>\n",
       "      <th>IGBP_veg_long4</th>\n",
       "      <th>IGBP_veg_long5</th>\n",
       "      <th>IGBP_veg_long6</th>\n",
       "      <th>IGBP_veg_long7</th>\n",
       "      <th>IGBP_veg_long8</th>\n",
       "      <th>IGBP_veg_long9</th>\n",
       "      <th>IGBP_veg_long10</th>\n",
       "      <th>IGBP_veg_long11</th>\n",
       "    </tr>\n",
       "  </thead>\n",
       "  <tbody>\n",
       "    <tr>\n",
       "      <th>0</th>\n",
       "      <td>0</td>\n",
       "      <td>AU-ASM</td>\n",
       "      <td>2013-12-31 15:00:00</td>\n",
       "      <td>0.0</td>\n",
       "      <td>0.000000</td>\n",
       "      <td>422.350995</td>\n",
       "      <td>940.534220</td>\n",
       "      <td>31.677529</td>\n",
       "      <td>0.087688</td>\n",
       "      <td>2.134386</td>\n",
       "      <td>...</td>\n",
       "      <td>0.0</td>\n",
       "      <td>0.0</td>\n",
       "      <td>0.0</td>\n",
       "      <td>1.0</td>\n",
       "      <td>0.0</td>\n",
       "      <td>0.0</td>\n",
       "      <td>0.0</td>\n",
       "      <td>0.0</td>\n",
       "      <td>0.0</td>\n",
       "      <td>0.0</td>\n",
       "    </tr>\n",
       "    <tr>\n",
       "      <th>1</th>\n",
       "      <td>1</td>\n",
       "      <td>AU-ASM</td>\n",
       "      <td>2013-12-31 16:00:00</td>\n",
       "      <td>0.0</td>\n",
       "      <td>0.000000</td>\n",
       "      <td>405.639800</td>\n",
       "      <td>932.560705</td>\n",
       "      <td>31.299402</td>\n",
       "      <td>0.099312</td>\n",
       "      <td>1.201066</td>\n",
       "      <td>...</td>\n",
       "      <td>0.0</td>\n",
       "      <td>0.0</td>\n",
       "      <td>0.0</td>\n",
       "      <td>1.0</td>\n",
       "      <td>0.0</td>\n",
       "      <td>0.0</td>\n",
       "      <td>0.0</td>\n",
       "      <td>0.0</td>\n",
       "      <td>0.0</td>\n",
       "      <td>0.0</td>\n",
       "    </tr>\n",
       "    <tr>\n",
       "      <th>2</th>\n",
       "      <td>2</td>\n",
       "      <td>AU-ASM</td>\n",
       "      <td>2013-12-31 17:00:00</td>\n",
       "      <td>0.0</td>\n",
       "      <td>0.000000</td>\n",
       "      <td>413.726000</td>\n",
       "      <td>939.196055</td>\n",
       "      <td>30.007821</td>\n",
       "      <td>0.107478</td>\n",
       "      <td>1.354100</td>\n",
       "      <td>...</td>\n",
       "      <td>0.0</td>\n",
       "      <td>0.0</td>\n",
       "      <td>0.0</td>\n",
       "      <td>1.0</td>\n",
       "      <td>0.0</td>\n",
       "      <td>0.0</td>\n",
       "      <td>0.0</td>\n",
       "      <td>0.0</td>\n",
       "      <td>0.0</td>\n",
       "      <td>0.0</td>\n",
       "    </tr>\n",
       "    <tr>\n",
       "      <th>3</th>\n",
       "      <td>3</td>\n",
       "      <td>AU-ASM</td>\n",
       "      <td>2013-12-31 18:00:00</td>\n",
       "      <td>0.0</td>\n",
       "      <td>0.000000</td>\n",
       "      <td>412.545700</td>\n",
       "      <td>940.048085</td>\n",
       "      <td>30.011499</td>\n",
       "      <td>0.110519</td>\n",
       "      <td>1.795051</td>\n",
       "      <td>...</td>\n",
       "      <td>0.0</td>\n",
       "      <td>0.0</td>\n",
       "      <td>0.0</td>\n",
       "      <td>1.0</td>\n",
       "      <td>0.0</td>\n",
       "      <td>0.0</td>\n",
       "      <td>0.0</td>\n",
       "      <td>0.0</td>\n",
       "      <td>0.0</td>\n",
       "      <td>0.0</td>\n",
       "    </tr>\n",
       "    <tr>\n",
       "      <th>4</th>\n",
       "      <td>4</td>\n",
       "      <td>AU-ASM</td>\n",
       "      <td>2013-12-31 19:00:00</td>\n",
       "      <td>0.0</td>\n",
       "      <td>0.000000</td>\n",
       "      <td>381.210585</td>\n",
       "      <td>940.882070</td>\n",
       "      <td>29.375940</td>\n",
       "      <td>0.112046</td>\n",
       "      <td>1.729858</td>\n",
       "      <td>...</td>\n",
       "      <td>0.0</td>\n",
       "      <td>0.0</td>\n",
       "      <td>0.0</td>\n",
       "      <td>1.0</td>\n",
       "      <td>0.0</td>\n",
       "      <td>0.0</td>\n",
       "      <td>0.0</td>\n",
       "      <td>0.0</td>\n",
       "      <td>0.0</td>\n",
       "      <td>0.0</td>\n",
       "    </tr>\n",
       "    <tr>\n",
       "      <th>...</th>\n",
       "      <td>...</td>\n",
       "      <td>...</td>\n",
       "      <td>...</td>\n",
       "      <td>...</td>\n",
       "      <td>...</td>\n",
       "      <td>...</td>\n",
       "      <td>...</td>\n",
       "      <td>...</td>\n",
       "      <td>...</td>\n",
       "      <td>...</td>\n",
       "      <td>...</td>\n",
       "      <td>...</td>\n",
       "      <td>...</td>\n",
       "      <td>...</td>\n",
       "      <td>...</td>\n",
       "      <td>...</td>\n",
       "      <td>...</td>\n",
       "      <td>...</td>\n",
       "      <td>...</td>\n",
       "      <td>...</td>\n",
       "      <td>...</td>\n",
       "    </tr>\n",
       "    <tr>\n",
       "      <th>136583</th>\n",
       "      <td>136583</td>\n",
       "      <td>US-Myb</td>\n",
       "      <td>2014-03-14 22:00:00</td>\n",
       "      <td>0.0</td>\n",
       "      <td>691.839510</td>\n",
       "      <td>315.739010</td>\n",
       "      <td>1023.000000</td>\n",
       "      <td>20.380014</td>\n",
       "      <td>10.184294</td>\n",
       "      <td>2.369500</td>\n",
       "      <td>...</td>\n",
       "      <td>0.0</td>\n",
       "      <td>0.0</td>\n",
       "      <td>0.0</td>\n",
       "      <td>0.0</td>\n",
       "      <td>0.0</td>\n",
       "      <td>0.0</td>\n",
       "      <td>0.0</td>\n",
       "      <td>1.0</td>\n",
       "      <td>0.0</td>\n",
       "      <td>0.0</td>\n",
       "    </tr>\n",
       "    <tr>\n",
       "      <th>136584</th>\n",
       "      <td>136584</td>\n",
       "      <td>US-Myb</td>\n",
       "      <td>2014-03-14 23:00:00</td>\n",
       "      <td>0.0</td>\n",
       "      <td>536.578495</td>\n",
       "      <td>315.739010</td>\n",
       "      <td>1022.500000</td>\n",
       "      <td>21.415002</td>\n",
       "      <td>10.509555</td>\n",
       "      <td>1.799000</td>\n",
       "      <td>...</td>\n",
       "      <td>0.0</td>\n",
       "      <td>0.0</td>\n",
       "      <td>0.0</td>\n",
       "      <td>0.0</td>\n",
       "      <td>0.0</td>\n",
       "      <td>0.0</td>\n",
       "      <td>0.0</td>\n",
       "      <td>1.0</td>\n",
       "      <td>0.0</td>\n",
       "      <td>0.0</td>\n",
       "    </tr>\n",
       "    <tr>\n",
       "      <th>136585</th>\n",
       "      <td>136585</td>\n",
       "      <td>US-Myb</td>\n",
       "      <td>2014-03-15 00:00:00</td>\n",
       "      <td>0.0</td>\n",
       "      <td>346.486005</td>\n",
       "      <td>309.051010</td>\n",
       "      <td>1022.200000</td>\n",
       "      <td>22.374994</td>\n",
       "      <td>10.878103</td>\n",
       "      <td>1.528500</td>\n",
       "      <td>...</td>\n",
       "      <td>0.0</td>\n",
       "      <td>0.0</td>\n",
       "      <td>0.0</td>\n",
       "      <td>0.0</td>\n",
       "      <td>0.0</td>\n",
       "      <td>0.0</td>\n",
       "      <td>0.0</td>\n",
       "      <td>1.0</td>\n",
       "      <td>0.0</td>\n",
       "      <td>0.0</td>\n",
       "    </tr>\n",
       "    <tr>\n",
       "      <th>136586</th>\n",
       "      <td>136586</td>\n",
       "      <td>US-Myb</td>\n",
       "      <td>2014-03-15 01:00:00</td>\n",
       "      <td>0.0</td>\n",
       "      <td>150.326500</td>\n",
       "      <td>302.363010</td>\n",
       "      <td>1022.150000</td>\n",
       "      <td>22.409997</td>\n",
       "      <td>10.705077</td>\n",
       "      <td>1.653500</td>\n",
       "      <td>...</td>\n",
       "      <td>0.0</td>\n",
       "      <td>0.0</td>\n",
       "      <td>0.0</td>\n",
       "      <td>0.0</td>\n",
       "      <td>0.0</td>\n",
       "      <td>0.0</td>\n",
       "      <td>0.0</td>\n",
       "      <td>1.0</td>\n",
       "      <td>0.0</td>\n",
       "      <td>0.0</td>\n",
       "    </tr>\n",
       "    <tr>\n",
       "      <th>136587</th>\n",
       "      <td>136587</td>\n",
       "      <td>US-Myb</td>\n",
       "      <td>2014-03-15 02:00:00</td>\n",
       "      <td>0.0</td>\n",
       "      <td>19.586501</td>\n",
       "      <td>302.363010</td>\n",
       "      <td>1022.000000</td>\n",
       "      <td>21.284998</td>\n",
       "      <td>11.456781</td>\n",
       "      <td>1.538500</td>\n",
       "      <td>...</td>\n",
       "      <td>0.0</td>\n",
       "      <td>0.0</td>\n",
       "      <td>0.0</td>\n",
       "      <td>0.0</td>\n",
       "      <td>0.0</td>\n",
       "      <td>0.0</td>\n",
       "      <td>0.0</td>\n",
       "      <td>1.0</td>\n",
       "      <td>0.0</td>\n",
       "      <td>0.0</td>\n",
       "    </tr>\n",
       "  </tbody>\n",
       "</table>\n",
       "<p>136588 rows × 27 columns</p>\n",
       "</div>"
      ],
      "text/plain": [
       "        Unnamed: 0 station             date_UTC  Precip_msr         Rin  \\\n",
       "0                0  AU-ASM  2013-12-31 15:00:00         0.0    0.000000   \n",
       "1                1  AU-ASM  2013-12-31 16:00:00         0.0    0.000000   \n",
       "2                2  AU-ASM  2013-12-31 17:00:00         0.0    0.000000   \n",
       "3                3  AU-ASM  2013-12-31 18:00:00         0.0    0.000000   \n",
       "4                4  AU-ASM  2013-12-31 19:00:00         0.0    0.000000   \n",
       "...            ...     ...                  ...         ...         ...   \n",
       "136583      136583  US-Myb  2014-03-14 22:00:00         0.0  691.839510   \n",
       "136584      136584  US-Myb  2014-03-14 23:00:00         0.0  536.578495   \n",
       "136585      136585  US-Myb  2014-03-15 00:00:00         0.0  346.486005   \n",
       "136586      136586  US-Myb  2014-03-15 01:00:00         0.0  150.326500   \n",
       "136587      136587  US-Myb  2014-03-15 02:00:00         0.0   19.586501   \n",
       "\n",
       "               Rli            p         Ta         ea         u  ...  \\\n",
       "0       422.350995   940.534220  31.677529   0.087688  2.134386  ...   \n",
       "1       405.639800   932.560705  31.299402   0.099312  1.201066  ...   \n",
       "2       413.726000   939.196055  30.007821   0.107478  1.354100  ...   \n",
       "3       412.545700   940.048085  30.011499   0.110519  1.795051  ...   \n",
       "4       381.210585   940.882070  29.375940   0.112046  1.729858  ...   \n",
       "...            ...          ...        ...        ...       ...  ...   \n",
       "136583  315.739010  1023.000000  20.380014  10.184294  2.369500  ...   \n",
       "136584  315.739010  1022.500000  21.415002  10.509555  1.799000  ...   \n",
       "136585  309.051010  1022.200000  22.374994  10.878103  1.528500  ...   \n",
       "136586  302.363010  1022.150000  22.409997  10.705077  1.653500  ...   \n",
       "136587  302.363010  1022.000000  21.284998  11.456781  1.538500  ...   \n",
       "\n",
       "        IGBP_veg_long2  IGBP_veg_long3  IGBP_veg_long4  IGBP_veg_long5  \\\n",
       "0                  0.0             0.0             0.0             1.0   \n",
       "1                  0.0             0.0             0.0             1.0   \n",
       "2                  0.0             0.0             0.0             1.0   \n",
       "3                  0.0             0.0             0.0             1.0   \n",
       "4                  0.0             0.0             0.0             1.0   \n",
       "...                ...             ...             ...             ...   \n",
       "136583             0.0             0.0             0.0             0.0   \n",
       "136584             0.0             0.0             0.0             0.0   \n",
       "136585             0.0             0.0             0.0             0.0   \n",
       "136586             0.0             0.0             0.0             0.0   \n",
       "136587             0.0             0.0             0.0             0.0   \n",
       "\n",
       "        IGBP_veg_long6  IGBP_veg_long7  IGBP_veg_long8  IGBP_veg_long9  \\\n",
       "0                  0.0             0.0             0.0             0.0   \n",
       "1                  0.0             0.0             0.0             0.0   \n",
       "2                  0.0             0.0             0.0             0.0   \n",
       "3                  0.0             0.0             0.0             0.0   \n",
       "4                  0.0             0.0             0.0             0.0   \n",
       "...                ...             ...             ...             ...   \n",
       "136583             0.0             0.0             0.0             1.0   \n",
       "136584             0.0             0.0             0.0             1.0   \n",
       "136585             0.0             0.0             0.0             1.0   \n",
       "136586             0.0             0.0             0.0             1.0   \n",
       "136587             0.0             0.0             0.0             1.0   \n",
       "\n",
       "        IGBP_veg_long10  IGBP_veg_long11  \n",
       "0                   0.0              0.0  \n",
       "1                   0.0              0.0  \n",
       "2                   0.0              0.0  \n",
       "3                   0.0              0.0  \n",
       "4                   0.0              0.0  \n",
       "...                 ...              ...  \n",
       "136583              0.0              0.0  \n",
       "136584              0.0              0.0  \n",
       "136585              0.0              0.0  \n",
       "136586              0.0              0.0  \n",
       "136587              0.0              0.0  \n",
       "\n",
       "[136588 rows x 27 columns]"
      ]
     },
     "execution_count": 4,
     "metadata": {},
     "output_type": "execute_result"
    }
   ],
   "source": [
    "dataset = pd.read_csv(data_path)\n",
    "dataset"
   ]
  },
  {
   "cell_type": "code",
   "execution_count": 5,
   "id": "ffc9d0a4-ccee-4eff-b443-d56335816374",
   "metadata": {
    "tags": []
   },
   "outputs": [],
   "source": [
    "# test, train data\n",
    "dataset['date_UTC'] = pd.to_datetime(dataset['date_UTC'])\n",
    "\n",
    "x_vars = ['station', 'date_UTC', 'Rin', 'Rli', 'p', 'Ta', 'ea', 'u', 'CO2', 'LAI','Vcmo', 'hc', 'Precip_msr','SSM', *[f'IGBP_veg_long{i}' for i in range(1, 12)]]\n",
    "x = dataset[x_vars]\n",
    "\n",
    "y_vars = ['station', 'date_UTC', 'LEtot']\n",
    "y = dataset[y_vars]\n",
    "\n",
    "# Note: These are not exactly the same data on which model was trained because of randomness in train_test_split!\n",
    "x_train, x_test, y_train, y_test = train_test_split(x, y, test_size=0.25, random_state=0, shuffle=True)\n",
    "\n",
    "# sort based on time\n",
    "x_test = x_test.sort_values('date_UTC')\n",
    "y_test = y_test.sort_values('date_UTC')\n",
    "\n",
    "x_train = x_train.sort_values('date_UTC')\n",
    "y_train = y_train.sort_values('date_UTC')"
   ]
  },
  {
   "cell_type": "markdown",
   "id": "dfb0c03a-34c7-4ebb-953f-20ece4ff7fe7",
   "metadata": {
    "tags": []
   },
   "source": [
    "#### 2- Load the model"
   ]
  },
  {
   "cell_type": "code",
   "execution_count": 6,
   "id": "e88b0899-c739-4921-9c07-031989bf6e5b",
   "metadata": {
    "tags": []
   },
   "outputs": [],
   "source": [
    "def preprocess(data):\n",
    "    data_reshaped = data\n",
    "    if len(data.shape) == 1:\n",
    "        data_reshaped = data.reshape(1,-1)\n",
    "    return data_reshaped.astype(np.float32)\n",
    "\n",
    "# this model is trained on the data of 2014\n",
    "model_path = download('stemmus_scope_emulator_model_LEtot.onnx', 'model')\n",
    "runner = SimpleModelRunner(model_path, preprocess_function=preprocess)"
   ]
  },
  {
   "cell_type": "markdown",
   "id": "53291587-6211-4dfc-baf1-7b66d85bd7eb",
   "metadata": {
    "tags": []
   },
   "source": [
    "##### Inspect the performance of the model \n",
    "\n",
    "Here, the correlation and relative mean absolute error (MAE) are calculated using test data"
   ]
  },
  {
   "cell_type": "code",
   "execution_count": null,
   "id": "3ed3fc8c-0430-45e2-bdf3-ea2c6d3c1292",
   "metadata": {
    "tags": []
   },
   "outputs": [
    {
     "name": "stdout",
     "output_type": "stream",
     "text": [
      "Relative MAE is 0.09253918269272535 and correlation is 0.9868130054495278\n"
     ]
    }
   ],
   "source": [
    "features = x_test.drop(columns=['station', 'date_UTC']).fillna(0)\n",
    "y_predict = runner(features.to_numpy())\n",
    "y_actual = y_test.drop(columns=['station', 'date_UTC']).fillna(0).to_numpy()\n",
    "\n",
    "relative_mae = np.mean(np.abs(y_predict - y_actual))/ np.mean(y_actual)\n",
    "cor = np.corrcoef(y_predict.T, y_actual.T)[0,1]\n",
    "print(f\"Relative MAE is {relative_mae} and correlation is {cor}\")"
   ]
  },
  {
   "cell_type": "markdown",
   "id": "5d05435c-0077-4903-8de7-0059940a3f7a",
   "metadata": {
    "tags": []
   },
   "source": [
    "#### 3 - Example: Run the explainer for one sample (data instance)\n",
    "\n",
    "First we run DIANNA on a single data instance to show how to run DIANNA with this dataset."
   ]
  },
  {
   "cell_type": "code",
   "execution_count": 8,
   "id": "1dbd7dbc-5ee3-4ef2-86ea-d0d2adbadd42",
   "metadata": {
    "tags": []
   },
   "outputs": [],
   "source": [
    "# select one instance to be explained\n",
    "features = x_test.drop(columns=['station', 'date_UTC']).fillna(0)\n",
    "data_instance = features.iloc[0].values.reshape(1, -1)\n",
    "\n",
    "# The background dataset to use for integrating out features (see shap documentation)\n",
    "# the number of clusters 5 is determind using kmean inertia plot, see\n",
    "# https://scikit-learn.org/stable/modules/clustering.html#k-means\n",
    "background_data = x_train.drop(columns=['station', 'date_UTC']).fillna(0).to_numpy()"
   ]
  },
  {
   "cell_type": "code",
   "execution_count": 9,
   "id": "1f80f4a0-e8b0-4149-baae-0645f87a1cf5",
   "metadata": {
    "tags": []
   },
   "outputs": [
    {
     "data": {
      "application/vnd.jupyter.widget-view+json": {
       "model_id": "393e7bf1cf65404abe9cc0f4270c4541",
       "version_major": 2,
       "version_minor": 0
      },
      "text/plain": [
       "  0%|          | 0/1 [00:00<?, ?it/s]"
      ]
     },
     "metadata": {},
     "output_type": "display_data"
    },
    {
     "name": "stdout",
     "output_type": "stream",
     "text": [
      "CPU times: user 12 s, sys: 3.87 s, total: 15.9 s\n",
      "Wall time: 4.58 s\n"
     ]
    }
   ],
   "source": [
    "%%time\n",
    "explanation = dianna.explain_tabular(runner, input_tabular=data_instance, method='kernelshap',\n",
    "                                     mode ='regression', training_data=background_data, training_data_kmeans=5,\n",
    "                                     feature_names=features.columns)"
   ]
  },
  {
   "cell_type": "markdown",
   "id": "723cb8c8-c38f-4921-a704-1c64f3b7bdd4",
   "metadata": {},
   "source": [
    "#### 4 - Visualize the results"
   ]
  },
  {
   "cell_type": "code",
   "execution_count": 11,
   "id": "c8a86628-b73b-4df1-9ba8-02678211da31",
   "metadata": {
    "tags": []
   },
   "outputs": [
    {
     "data": {
      "image/png": "[encoded data removed]",
      "text/plain": [
       "<Figure size 640x480 with 1 Axes>"
      ]
     },
     "metadata": {},
     "output_type": "display_data"
    }
   ],
   "source": [
    "_ = visualization.plot_tabular(explanation[0], features.columns, num_features=len(features.columns))"
   ]
  },
  {
   "cell_type": "markdown",
   "id": "9e45ccd6-c04a-4e22-9e26-e9dc89ce212b",
   "metadata": {},
   "source": [
    "##### some insights\n",
    "The figure shows that the values of Ta, SSM, Rin in this sample had a negative effect on model's predicted value for that instance, while the value of ea had a positive effect. Some of the variables uch as IGBP and Precip_msr variables, have SHAP values of zero, indicating they did not contribute to the predictions. Let's have a look at other instances."
   ]
  },
  {
   "cell_type": "markdown",
   "id": "80411a9d-881e-4196-8559-17aaadd15841",
   "metadata": {},
   "source": [
    "#### 5 -  Run the explainer at one location, several data instances (here as an example one month time series)\n",
    "\n",
    "To investigate feature importance in general for a single location, we now run multiple data-instances through our DIANNA pipeline and inspect the results."
   ]
  },
  {
   "cell_type": "markdown",
   "id": "7a8d4242-b3ef-4f10-8b65-a52146e4f45a",
   "metadata": {},
   "source": [
    "##### 5.1 - define some functions for visualizations\n",
    "\n",
    "The code in the following cell is necessary to display all visualizations, with their captions, side-by-side for convenient viewing."
   ]
  },
  {
   "cell_type": "code",
   "execution_count": 12,
   "id": "a0f8d8ac-8e40-4b44-b6de-ac79c9a2ba99",
   "metadata": {},
   "outputs": [],
   "source": [
    "def display_figures(figures, captions, rows, cols):\n",
    "    html = \"<table>\"\n",
    "    for i in range(rows):\n",
    "        html += \"<tr>\"\n",
    "        for j in range(cols):\n",
    "            index = i * cols + j\n",
    "            if index < len(figures):\n",
    "                fig_data = figures[index]\n",
    "                fig_data.set_size_inches(10, 8)\n",
    "                fig_data.savefig(f'fig{index}.png', dpi=100)\n",
    "                html += f\"<td style='word-wrap: break-word; max-width: 500px;'><img src='fig{index}.png'><br><p dir='ltr'>{captions[index]}</p></td>\"\n",
    "            else:\n",
    "                html += \"<td></td>\"\n",
    "        html += \"</tr>\"\n",
    "    html += \"</table>\"\n",
    "    display(HTML(html))\n",
    "\n",
    "\n",
    "def comparison_plot(y_actual, y_pred, show=True):\n",
    "    plt.plot(y_actual, label='Actual', color=\"blue\", linewidth=3, alpha=0.7)\n",
    "    plt.plot(y_pred, label='Prediction', color=\"orange\")\n",
    "    plt.xlabel('time index')\n",
    "    plt.ylabel('LEtot')\n",
    "    plt.legend()\n",
    "    if show:\n",
    "        plt.show()\n",
    "\n",
    "captions = [\"Fig 1: Prediction vs Actual time series using test data. The x axis is time index.\", \n",
    "            \"Fig 2: Heatamp. The x axis is time index. The y axis is the feature names. The colorbar shows the shap values. \"\n",
    "            \"The f(x) graph shows the cumulative SHAP values across all features for each sample, \"\n",
    "            \"highlighting the relative importance of features across different samples.\", \n",
    "            \"Fig 3: Summary. The x axis is shap values. The colorbar shows the range of each feature values (from low to high).\"]"
   ]
  },
  {
   "cell_type": "code",
   "execution_count": 13,
   "id": "bcd5292c-101c-4bd4-abe8-1f5f1e3bb4af",
   "metadata": {},
   "outputs": [],
   "source": [
    "# to store explanations values\n",
    "explanations = {}"
   ]
  },
  {
   "cell_type": "code",
   "execution_count": 14,
   "id": "44a9e1ed-bef7-453d-a308-9a649214ba27",
   "metadata": {},
   "outputs": [],
   "source": [
    "# select one location and time steps\n",
    "location = \"US-Myb\"\n",
    "month = 1\n",
    "key = f\"{location}_{month}\"\n",
    "\n",
    "x_test_time = x_test[(x_test[\"station\"] == location) & (x_test[\"date_UTC\"].dt.month == month)]\n",
    "features = x_test_time.drop(columns=['station', 'date_UTC']).fillna(0)\n",
    "background_data = x_train.drop(columns=['station', 'date_UTC']).fillna(0).to_numpy()"
   ]
  },
  {
   "cell_type": "code",
   "execution_count": 15,
   "id": "598deb27-0ff9-4af3-ad37-b48e8823d098",
   "metadata": {},
   "outputs": [
    {
     "name": "stdout",
     "output_type": "stream",
     "text": [
      "Dianna is done!\n"
     ]
    }
   ],
   "source": [
    "# run explainer over time series, this might take a few minutes\n",
    "explanations[key] = dianna.explain_tabular(runner, input_tabular=features.values, method='kernelshap',\n",
    "                                          mode ='regression', training_data=background_data, training_data_kmeans=5,\n",
    "                                          feature_names=features.columns, silent=True)\n",
    "\n",
    "print(\"Dianna is done!\") "
   ]
  },
  {
   "cell_type": "code",
   "execution_count": 16,
   "id": "58e165a8-e59d-48fa-bba7-c491581708f9",
   "metadata": {},
   "outputs": [
    {
     "data": {
      "text/html": [
       "<table><tr><td style='word-wrap: break-word; max-width: 500px;'><img src='fig0.png'><br><p dir='ltr'>Fig 1: Prediction vs Actual time series using test data. The x axis is time index.</p></td><td style='word-wrap: break-word; max-width: 500px;'><img src='fig1.png'><br><p dir='ltr'>Fig 2: Heatamp. The x axis is time index. The y axis is the feature names. The colorbar shows the shap values. The f(x) graph shows the cumulative SHAP values across all features for each sample, highlighting the relative importance of features across different samples.</p></td><td style='word-wrap: break-word; max-width: 500px;'><img src='fig2.png'><br><p dir='ltr'>Fig 3: Summary. The x axis is shap values. The colorbar shows the range of each feature values (from low to high).</p></td></tr></table>"
      ],
      "text/plain": [
       "<IPython.core.display.HTML object>"
      ]
     },
     "metadata": {},
     "output_type": "display_data"
    }
   ],
   "source": [
    "# create shap_values object\n",
    "shap_values = Explanation(explanations[key])\n",
    "shap_values.feature_names = features.columns\n",
    "\n",
    "# create comparison plot: predictions vs test data \n",
    "y_predict_time = runner(features.to_numpy())\n",
    "y_test_time = y_test[(y_test[\"station\"] == location) & (y_test[\"date_UTC\"].dt.month == month)].drop(columns=['station', 'date_UTC']).fillna(0).to_numpy()\n",
    "comparison_plot(y_test_time, y_predict_time, show=False)    \n",
    "comparison_img = plt.gcf()\n",
    "plt.close()\n",
    "\n",
    "# create summary plot\n",
    "shap.summary_plot(shap_values, features.values, feature_names=features.columns, cmap=\"PRGn\", show=False, max_display=15)\n",
    "summary_img = plt.gcf()\n",
    "plt.close()\n",
    "\n",
    "# create heatmap plot\n",
    "shap.plots.heatmap(shap_values, cmap=\"bwr\", show=False, max_display=15)\n",
    "heatmap_img = plt.gcf()\n",
    "plt.close()\n",
    "\n",
    "# plot all three figures in one cell\n",
    "figures = [comparison_img, heatmap_img, summary_img]\n",
    "display_figures(figures, captions, 1, 3)"
   ]
  },
  {
   "cell_type": "code",
   "execution_count": 17,
   "id": "4f52e487-4616-49e2-86b9-08a8b8ed8ecc",
   "metadata": {},
   "outputs": [
    {
     "name": "stdout",
     "output_type": "stream",
     "text": [
      "Relative MAE is 0.2215188921211095 and correlation is 0.9700512335266412\n"
     ]
    }
   ],
   "source": [
    "relative_mae = np.mean(np.abs(y_predict_time - y_test_time))/ np.mean(y_test_time)\n",
    "cor = np.corrcoef(y_predict_time.T, y_test_time.T)[0,1]\n",
    "print(f\"Relative MAE is {relative_mae} and correlation is {cor}\")"
   ]
  },
  {
   "cell_type": "markdown",
   "id": "5e993ae9-bf7b-47cb-a674-5a361dc8b7e3",
   "metadata": {},
   "source": [
    "##### some insights\n",
    "Figure 1 illustrates that under-predictions (where predicted values are lower than actual test values) predominantly occur in the first half of the time series. To understand this behavior, we can examine the SHAP values for further insights. As shown in Figure 2, the SHAP values for three variables (Ta, Rin, and SSM) are largely negative in the first half of the time series. According to SHAP definitions, these three variables are contributing most to this under-predictions. Figure 3 reveals that both high and low values of Ta and SSM lead to negative SHAP values, while only low values of Rin result in negative SHAP values.\n",
    "\n",
    "Conversely, Figure 1 shows that over-predictions (where predicted values are higher than actual test values) mainly occur in the latter part of the time series. To investigate the cause of these spikes, we again refer to the SHAP values. Figure 2 indicates that the SHAP values of Rin are strongly positive in the latter part of the time series. Additionally, the SHAP values of SSM remain strongly negative in this part of the series. From Figure 3, we observe that only high values of Rin lead to high positive SHAP values and are contributing most to over-predictions.\n",
    "\n",
    "Another observation from Figures 2 and 3 is that several variables, such as IGBP and Precip_msr variables, have SHAP values of zero, indicating they did not contribute to the predictions."
   ]
  },
  {
   "cell_type": "markdown",
   "id": "618d964a-d011-4ed0-9204-660740d0cbac",
   "metadata": {},
   "source": [
    "### Select a different location and month\n",
    "\n",
    "Now we are going to investigate the feature importance for a different location and time."
   ]
  },
  {
   "cell_type": "code",
   "execution_count": 34,
   "id": "51ae2fca-ac1c-4f33-be90-49513d38abc7",
   "metadata": {},
   "outputs": [],
   "source": [
    "# select one location and time steps\n",
    "location = \"US-Me6\"\n",
    "month = 2\n",
    "key = f\"{location}_{month}\"\n",
    "\n",
    "x_test_time = x_test[(x_test[\"station\"] == location) & (x_test[\"date_UTC\"].dt.month == month)]\n",
    "features = x_test_time.drop(columns=['station', 'date_UTC']).fillna(0)\n",
    "background_data = x_train.drop(columns=['station', 'date_UTC']).fillna(0).to_numpy()"
   ]
  },
  {
   "cell_type": "code",
   "execution_count": 23,
   "id": "ea8de04a-dfeb-4892-a20a-10621470e3b9",
   "metadata": {},
   "outputs": [
    {
     "name": "stdout",
     "output_type": "stream",
     "text": [
      "Dianna is done!\n"
     ]
    }
   ],
   "source": [
    "# run explainer over time series, this might take a few minutes\n",
    "explanations[key] = dianna.explain_tabular(runner, input_tabular=features.values, method='kernelshap',\n",
    "                                          mode ='regression', training_data=background_data, training_data_kmeans=5,\n",
    "                                          feature_names=features.columns, silent=True)\n",
    "\n",
    "print(\"Dianna is done!\") "
   ]
  },
  {
   "cell_type": "code",
   "execution_count": 38,
   "id": "e3b17dfd-fc4c-4481-bb5d-5077042bcb94",
   "metadata": {},
   "outputs": [
    {
     "data": {
      "text/html": [
       "<table><tr><td style='word-wrap: break-word; max-width: 500px;'><img src='fig0.png'><br><p dir='ltr'>Fig 1: Prediction vs Actual time series using test data. The x axis is time index.</p></td><td style='word-wrap: break-word; max-width: 500px;'><img src='fig1.png'><br><p dir='ltr'>Fig 2: Heatamp. The x axis is time index. The y axis is the feature names. The colorbar shows the shap values. The f(x) graph shows the cumulative SHAP values across all features for each sample, highlighting the relative importance of features across different samples.</p></td><td style='word-wrap: break-word; max-width: 500px;'><img src='fig2.png'><br><p dir='ltr'>Fig 3: Summary. The x axis is shap values. The colorbar shows the range of each feature values (from low to high).</p></td></tr></table>"
      ],
      "text/plain": [
       "<IPython.core.display.HTML object>"
      ]
     },
     "metadata": {},
     "output_type": "display_data"
    }
   ],
   "source": [
    "# create shap_values object\n",
    "shap_values = Explanation(explanations[key])\n",
    "shap_values.feature_names = features.columns\n",
    "\n",
    "# create comparison plot: predictions vs test data \n",
    "y_predict_time = runner(features.to_numpy())\n",
    "y_test_time = y_test[(y_test[\"station\"] == location) & (y_test[\"date_UTC\"].dt.month == month)].drop(columns=['station', 'date_UTC']).fillna(0).to_numpy()\n",
    "comparison_plot(y_test_time, y_predict_time, show=False)    \n",
    "comparison_img = plt.gcf()\n",
    "plt.close()\n",
    "\n",
    "# create summary plot\n",
    "shap.summary_plot(shap_values, features.values, feature_names=features.columns, cmap=\"PRGn\", show=False, max_display=15)\n",
    "summary_img = plt.gcf()\n",
    "plt.close()\n",
    "\n",
    "# create heatmap plot\n",
    "shap.plots.heatmap(shap_values, cmap=\"bwr\", show=False, max_display=15)\n",
    "heatmap_img = plt.gcf()\n",
    "plt.close()\n",
    "\n",
    "# plot all three figures in one cell\n",
    "figures = [comparison_img, heatmap_img, summary_img]\n",
    "display_figures(figures, captions, 1, 3)"
   ]
  },
  {
   "cell_type": "code",
   "execution_count": 25,
   "id": "94dfef6f-3568-4765-b051-2a05105dacf6",
   "metadata": {},
   "outputs": [
    {
     "name": "stdout",
     "output_type": "stream",
     "text": [
      "Relative MAE is 0.27991943305822775 and correlation is 0.9344053781949128\n"
     ]
    }
   ],
   "source": [
    "relative_mae = np.mean(np.abs(y_predict_time - y_test_time))/ np.mean(y_test_time)\n",
    "cor = np.corrcoef(y_predict_time.T, y_test_time.T)[0,1]\n",
    "print(f\"Relative MAE is {relative_mae} and correlation is {cor}\")"
   ]
  },
  {
   "cell_type": "markdown",
   "id": "b878e5f0-c21e-4055-8fe7-9ac227405ce6",
   "metadata": {},
   "source": [
    "##### some insights\n",
    "Figure 1 illustrates that under-predictions (where predicted values are lower than actual test values) predominantly occur in the middle of the time series. To understand this behavior, we can examine the SHAP values for further insights. As shown in Figure 2, the SHAP values for three variables (Ta, Rin, and SSM) are largely negative in the middle of the time series. According to SHAP definitions, these three variables are contributing most to this under-predictions. Figure 3 reveals that both high and low values of Ta and SSM lead to negative SHAP values, while only low values of Rin result in negative SHAP values.\n",
    "\n",
    "Another observation from Figures 2 and 3 is that several variables, such as IGBP and Precip_msr variables, have SHAP values of zero, indicating they did not contribute to the predictions."
   ]
  },
  {
   "cell_type": "markdown",
   "id": "39c0a710-ad17-4b97-8cfc-888b20f96ccc",
   "metadata": {},
   "source": [
    "##### zoom in\n",
    "Figure 1 illustrates that at time index = 96 there is an under-predictions (where predicted value is  61.001163 whereas actual value is 94.3072815). To understand this, let's zoom in to the data and ask diannan to explain this instance."
   ]
  },
  {
   "cell_type": "code",
   "execution_count": 48,
   "id": "9de8f681-0adc-4a3c-932f-26e2a9100b69",
   "metadata": {},
   "outputs": [
    {
     "data": {
      "application/vnd.jupyter.widget-view+json": {
       "model_id": "aae4c9118fd54a86be0a504dc29e0d10",
       "version_major": 2,
       "version_minor": 0
      },
      "text/plain": [
       "  0%|          | 0/1 [00:00<?, ?it/s]"
      ]
     },
     "metadata": {},
     "output_type": "display_data"
    },
    {
     "data": {
      "image/png": "[encoded data removed]",
      "text/plain": [
       "<Figure size 640x480 with 1 Axes>"
      ]
     },
     "metadata": {},
     "output_type": "display_data"
    }
   ],
   "source": [
    "# select data where there is a large under-predictions\n",
    "data_instance = features.iloc[96].values.reshape(1, -1) \n",
    "explanation = dianna.explain_tabular(runner, input_tabular=data_instance, method='kernelshap',\n",
    "                                     mode ='regression', training_data=background_data, training_data_kmeans=5,\n",
    "                                     feature_names=features.columns)\n",
    "_ = visualization.plot_tabular(explanation[0], features.columns, num_features=len(features.columns))"
   ]
  },
  {
   "cell_type": "markdown",
   "id": "84649c2c-ec64-4568-97c9-7b9adc4ce682",
   "metadata": {},
   "source": [
    "##### some insights\n",
    "This figure illustrates that the variable Ta is contributing (negatively) most to this under-predictions."
   ]
  },
  {
   "cell_type": "markdown",
   "id": "8180cd5f-4bef-41e4-b7aa-8ed4f46e386c",
   "metadata": {},
   "source": [
    "##### another zoom in\n",
    "Figure 1 illustrates that at time index = 101 there is an over-predictions (where predicted value is 117.56776 whereas actual value is 92.1536555). To understand this, let's zoom in to the data and ask diannan to explain this instance."
   ]
  },
  {
   "cell_type": "code",
   "execution_count": null,
   "id": "bda0aa70-bfe4-4f7e-adee-5d54d11ed1f9",
   "metadata": {},
   "outputs": [
    {
     "data": {
      "application/vnd.jupyter.widget-view+json": {
       "model_id": "4258ac5f3f7e4b4d9b57b1276a0f8517",
       "version_major": 2,
       "version_minor": 0
      },
      "text/plain": [
       "  0%|          | 0/1 [00:00<?, ?it/s]"
      ]
     },
     "metadata": {},
     "output_type": "display_data"
    },
    {
     "data": {
      "image/png": "[encoded data removed]",
      "text/plain": [
       "<Figure size 640x480 with 1 Axes>"
      ]
     },
     "metadata": {},
     "output_type": "display_data"
    }
   ],
   "source": [
    "# select data where there is a large over-predictions\n",
    "data_instance = features.iloc[101].values.reshape(1, -1) \n",
    "explanation = dianna.explain_tabular(runner, input_tabular=data_instance, method='kernelshap',\n",
    "                                     mode ='regression', training_data=background_data, training_data_kmeans=5,\n",
    "                                     feature_names=features.columns)\n",
    "_ = visualization.plot_tabular(explanation[0], features.columns, num_features=len(features.columns))"
   ]
  },
  {
   "cell_type": "markdown",
   "id": "6d493cc7-56d9-4f2b-bc12-8677b29cfb00",
   "metadata": {},
   "source": [
    "##### some insights\n",
    "This figure illustrates that the variable Rin is contributing (positively) most to this over-predictions."
   ]
  },
  {
   "cell_type": "code",
   "execution_count": null,
   "id": "a898a3a6-04ca-4a1d-9aca-0cd516883f0d",
   "metadata": {},
   "outputs": [],
   "source": [
    "# Remove the temporary figure files that were created by plot functions\n",
    "for i in range(len(figures)):\n",
    "    os.remove(f'fig{i}.png')"
   ]
  },
  {
   "cell_type": "markdown",
   "id": "a9bcddca-5e1c-4c2e-8143-a38975349871",
   "metadata": {},
   "source": [
    "### 6. Conclusion\n",
    "\n",
    "In this notebook, we use a Random Forest model to predict \"latent heat flux (LEtot)\" using a set of 23 land-atmosphere features. To interpret the model's predictions, we run the KernelSHAP method via Dianna to assess the contribution of each feature to the output. The shap values showed that the features Ta, Rin, and SSM hold the greatest importance, while variables such as IGBP and Precip_msr did not contribute to the predictions."
   ]
  },
  {
   "cell_type": "code",
   "execution_count": null,
   "id": "11472329-764a-4938-9b47-5765e14c5d42",
   "metadata": {},
   "outputs": [],
   "source": []
  }
 ],
 "metadata": {
  "kernelspec": {
   "display_name": "Python 3 (ipykernel)",
   "language": "python",
   "name": "python3"
  },
  "language_info": {
   "codemirror_mode": {
    "name": "ipython",
    "version": 3
   },
   "file_extension": ".py",
   "mimetype": "text/x-python",
   "name": "python",
   "nbconvert_exporter": "python",
   "pygments_lexer": "ipython3",
   "version": "3.11.9"
  }
 },
 "nbformat": 4,
 "nbformat_minor": 5
}
