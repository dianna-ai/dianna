{
 "cells": [
  {
   "cell_type": "markdown",
   "id": "b961e78a-3fb9-47df-b86a-3f21f18bdfb5",
   "metadata": {
    "tags": []
   },
   "source": [
    "<img width=\"150\" alt=\"Logo_ER10\" src=\"https://user-images.githubusercontent.com/3244249/151994514-b584b984-a148-4ade-80ee-0f88b0aefa45.png\">\n",
    "\n",
    "### Model interpretation using Kernel SHAP (SHapley Additive exPlanations) for  terrestrial water-energy-carbon fluxes\n",
    "\n",
    "This notebook shows how to apply the Kernel SHAP explainability method on a model trained to predict \"**latent heat flux (LEtot)**\". The model is a Random Forest model that predicts \"LEtot\" using a set ofland-atmosphere variables.<br>\n",
    "\n",
    "The model training workflow and data are based on the research carried by \"Qianqian Han\" https://doi.org/10.5194/egusphere-egu24-5488 in the context of [EcoExtreML](https://research-software-directory.org/projects/ecoextreml) project. \n",
    "\n",
    "Kernel SHAP (SHapley Additive exPlanations) values are a unified measure of feature importance that allocates the contribution of each feature to the prediction for a specific instance. In the context of a regression problem, the interpretation of Kernel SHAP values is as follows:\n",
    "\n",
    "- **Magnitude**: The magnitude of a SHAP value for a feature indicates the degree to which that feature affects the prediction. A larger absolute SHAP value means that the feature has a stronger impact on the output.\n",
    "- **Sign**: The sign of a SHAP value indicates the direction of the effect. A positive SHAP value for a feature indicates that the presence of that feature increases the model's output, while a negative SHAP value indicates that the presence of that feature decreases the model's output.\n",
    "- **Zero**: A SHAP value of zero for a feature indicates that the feature did not contribute to the prediction for that specific instance.\n",
    "\n",
    "It's important to note that SHAP values are instance-specific. For a general measure of feature importance, you would need to calculate SHAP values for many instances and then aggregate them in some way."
   ]
  },
  {
   "cell_type": "markdown",
   "id": "fa56c977-4533-4852-bfa4-5dbb06101a32",
   "metadata": {
    "tags": []
   },
   "source": [
    "#### Colab Setup"
   ]
  },
  {
   "cell_type": "code",
   "execution_count": null,
   "id": "2af4d822-2986-4989-9b85-cd06e877a183",
   "metadata": {
    "tags": []
   },
   "outputs": [],
   "source": [
    "running_in_colab = 'google.colab' in str(get_ipython())\n",
    "if running_in_colab:\n",
    "    # install dianna\n",
    "    !python3 -m pip install dianna[notebooks]"
   ]
  },
  {
   "cell_type": "markdown",
   "id": "1368fdb7-0d2e-45f8-b044-789d90efec7c",
   "metadata": {
    "tags": []
   },
   "source": [
    "#### 0 - Libraries"
   ]
  },
  {
   "cell_type": "code",
   "execution_count": 1,
   "id": "1e44f61a-5fa4-4790-ad25-6e1a868b03a5",
   "metadata": {
    "tags": []
   },
   "outputs": [],
   "source": [
    "import pandas as pd\n",
    "import numpy as np\n",
    "from joblib import load\n",
    "from sklearn.model_selection import train_test_split\n",
    "\n",
    "import dianna\n",
    "from dianna import visualization\n",
    "from dianna.utils import SimpleModelRunner\n",
    "from dianna.utils.downloader import download\n",
    "\n",
    "# for plotting purpuses\n",
    "import io\n",
    "import shap\n",
    "import matplotlib.pyplot as plt\n",
    "from matplotlib.image import imread\n",
    "from shap import Explanation\n",
    "from IPython.display import display, HTML\n",
    "\n",
    "np.random.seed(0)"
   ]
  },
  {
   "cell_type": "markdown",
   "id": "e083ba91-ac3c-4f2c-b1d6-8fe5ee2ad64f",
   "metadata": {},
   "source": [
    "#### 1- Load and visualize the data"
   ]
  },
  {
   "cell_type": "code",
   "execution_count": 2,
   "id": "a0d02b92-beae-4cd0-9c7f-ad2d3a9d0b05",
   "metadata": {
    "tags": []
   },
   "outputs": [],
   "source": [
    "# this data covers only one yearof data i.e. 2014\n",
    "data_path = download('stemmus_scope_emulator_train_test_2014_data.csv', 'data')"
   ]
  },
  {
   "cell_type": "code",
   "execution_count": 3,
   "id": "2243edc2-4f1c-4ea5-9242-5a506ad0e436",
   "metadata": {
    "tags": []
   },
   "outputs": [
    {
     "data": {
      "text/html": [
       "<div>\n",
       "<style scoped>\n",
       "    .dataframe tbody tr th:only-of-type {\n",
       "        vertical-align: middle;\n",
       "    }\n",
       "\n",
       "    .dataframe tbody tr th {\n",
       "        vertical-align: top;\n",
       "    }\n",
       "\n",
       "    .dataframe thead th {\n",
       "        text-align: right;\n",
       "    }\n",
       "</style>\n",
       "<table border=\"1\" class=\"dataframe\">\n",
       "  <thead>\n",
       "    <tr style=\"text-align: right;\">\n",
       "      <th></th>\n",
       "      <th>Unnamed: 0</th>\n",
       "      <th>station</th>\n",
       "      <th>date_UTC</th>\n",
       "      <th>Precip_msr</th>\n",
       "      <th>Rin</th>\n",
       "      <th>Rli</th>\n",
       "      <th>p</th>\n",
       "      <th>Ta</th>\n",
       "      <th>ea</th>\n",
       "      <th>u</th>\n",
       "      <th>...</th>\n",
       "      <th>IGBP_veg_long2</th>\n",
       "      <th>IGBP_veg_long3</th>\n",
       "      <th>IGBP_veg_long4</th>\n",
       "      <th>IGBP_veg_long5</th>\n",
       "      <th>IGBP_veg_long6</th>\n",
       "      <th>IGBP_veg_long7</th>\n",
       "      <th>IGBP_veg_long8</th>\n",
       "      <th>IGBP_veg_long9</th>\n",
       "      <th>IGBP_veg_long10</th>\n",
       "      <th>IGBP_veg_long11</th>\n",
       "    </tr>\n",
       "  </thead>\n",
       "  <tbody>\n",
       "    <tr>\n",
       "      <th>0</th>\n",
       "      <td>0</td>\n",
       "      <td>AU-ASM</td>\n",
       "      <td>2013-12-31 15:00:00</td>\n",
       "      <td>0.0</td>\n",
       "      <td>0.000000</td>\n",
       "      <td>422.350995</td>\n",
       "      <td>940.534220</td>\n",
       "      <td>31.677529</td>\n",
       "      <td>0.087688</td>\n",
       "      <td>2.134386</td>\n",
       "      <td>...</td>\n",
       "      <td>0.0</td>\n",
       "      <td>0.0</td>\n",
       "      <td>0.0</td>\n",
       "      <td>1.0</td>\n",
       "      <td>0.0</td>\n",
       "      <td>0.0</td>\n",
       "      <td>0.0</td>\n",
       "      <td>0.0</td>\n",
       "      <td>0.0</td>\n",
       "      <td>0.0</td>\n",
       "    </tr>\n",
       "    <tr>\n",
       "      <th>1</th>\n",
       "      <td>1</td>\n",
       "      <td>AU-ASM</td>\n",
       "      <td>2013-12-31 16:00:00</td>\n",
       "      <td>0.0</td>\n",
       "      <td>0.000000</td>\n",
       "      <td>405.639800</td>\n",
       "      <td>932.560705</td>\n",
       "      <td>31.299402</td>\n",
       "      <td>0.099312</td>\n",
       "      <td>1.201066</td>\n",
       "      <td>...</td>\n",
       "      <td>0.0</td>\n",
       "      <td>0.0</td>\n",
       "      <td>0.0</td>\n",
       "      <td>1.0</td>\n",
       "      <td>0.0</td>\n",
       "      <td>0.0</td>\n",
       "      <td>0.0</td>\n",
       "      <td>0.0</td>\n",
       "      <td>0.0</td>\n",
       "      <td>0.0</td>\n",
       "    </tr>\n",
       "    <tr>\n",
       "      <th>2</th>\n",
       "      <td>2</td>\n",
       "      <td>AU-ASM</td>\n",
       "      <td>2013-12-31 17:00:00</td>\n",
       "      <td>0.0</td>\n",
       "      <td>0.000000</td>\n",
       "      <td>413.726000</td>\n",
       "      <td>939.196055</td>\n",
       "      <td>30.007821</td>\n",
       "      <td>0.107478</td>\n",
       "      <td>1.354100</td>\n",
       "      <td>...</td>\n",
       "      <td>0.0</td>\n",
       "      <td>0.0</td>\n",
       "      <td>0.0</td>\n",
       "      <td>1.0</td>\n",
       "      <td>0.0</td>\n",
       "      <td>0.0</td>\n",
       "      <td>0.0</td>\n",
       "      <td>0.0</td>\n",
       "      <td>0.0</td>\n",
       "      <td>0.0</td>\n",
       "    </tr>\n",
       "    <tr>\n",
       "      <th>3</th>\n",
       "      <td>3</td>\n",
       "      <td>AU-ASM</td>\n",
       "      <td>2013-12-31 18:00:00</td>\n",
       "      <td>0.0</td>\n",
       "      <td>0.000000</td>\n",
       "      <td>412.545700</td>\n",
       "      <td>940.048085</td>\n",
       "      <td>30.011499</td>\n",
       "      <td>0.110519</td>\n",
       "      <td>1.795051</td>\n",
       "      <td>...</td>\n",
       "      <td>0.0</td>\n",
       "      <td>0.0</td>\n",
       "      <td>0.0</td>\n",
       "      <td>1.0</td>\n",
       "      <td>0.0</td>\n",
       "      <td>0.0</td>\n",
       "      <td>0.0</td>\n",
       "      <td>0.0</td>\n",
       "      <td>0.0</td>\n",
       "      <td>0.0</td>\n",
       "    </tr>\n",
       "    <tr>\n",
       "      <th>4</th>\n",
       "      <td>4</td>\n",
       "      <td>AU-ASM</td>\n",
       "      <td>2013-12-31 19:00:00</td>\n",
       "      <td>0.0</td>\n",
       "      <td>0.000000</td>\n",
       "      <td>381.210585</td>\n",
       "      <td>940.882070</td>\n",
       "      <td>29.375940</td>\n",
       "      <td>0.112046</td>\n",
       "      <td>1.729858</td>\n",
       "      <td>...</td>\n",
       "      <td>0.0</td>\n",
       "      <td>0.0</td>\n",
       "      <td>0.0</td>\n",
       "      <td>1.0</td>\n",
       "      <td>0.0</td>\n",
       "      <td>0.0</td>\n",
       "      <td>0.0</td>\n",
       "      <td>0.0</td>\n",
       "      <td>0.0</td>\n",
       "      <td>0.0</td>\n",
       "    </tr>\n",
       "    <tr>\n",
       "      <th>...</th>\n",
       "      <td>...</td>\n",
       "      <td>...</td>\n",
       "      <td>...</td>\n",
       "      <td>...</td>\n",
       "      <td>...</td>\n",
       "      <td>...</td>\n",
       "      <td>...</td>\n",
       "      <td>...</td>\n",
       "      <td>...</td>\n",
       "      <td>...</td>\n",
       "      <td>...</td>\n",
       "      <td>...</td>\n",
       "      <td>...</td>\n",
       "      <td>...</td>\n",
       "      <td>...</td>\n",
       "      <td>...</td>\n",
       "      <td>...</td>\n",
       "      <td>...</td>\n",
       "      <td>...</td>\n",
       "      <td>...</td>\n",
       "      <td>...</td>\n",
       "    </tr>\n",
       "    <tr>\n",
       "      <th>136583</th>\n",
       "      <td>136583</td>\n",
       "      <td>US-Myb</td>\n",
       "      <td>2014-03-14 22:00:00</td>\n",
       "      <td>0.0</td>\n",
       "      <td>691.839510</td>\n",
       "      <td>315.739010</td>\n",
       "      <td>1023.000000</td>\n",
       "      <td>20.380014</td>\n",
       "      <td>10.184294</td>\n",
       "      <td>2.369500</td>\n",
       "      <td>...</td>\n",
       "      <td>0.0</td>\n",
       "      <td>0.0</td>\n",
       "      <td>0.0</td>\n",
       "      <td>0.0</td>\n",
       "      <td>0.0</td>\n",
       "      <td>0.0</td>\n",
       "      <td>0.0</td>\n",
       "      <td>1.0</td>\n",
       "      <td>0.0</td>\n",
       "      <td>0.0</td>\n",
       "    </tr>\n",
       "    <tr>\n",
       "      <th>136584</th>\n",
       "      <td>136584</td>\n",
       "      <td>US-Myb</td>\n",
       "      <td>2014-03-14 23:00:00</td>\n",
       "      <td>0.0</td>\n",
       "      <td>536.578495</td>\n",
       "      <td>315.739010</td>\n",
       "      <td>1022.500000</td>\n",
       "      <td>21.415002</td>\n",
       "      <td>10.509555</td>\n",
       "      <td>1.799000</td>\n",
       "      <td>...</td>\n",
       "      <td>0.0</td>\n",
       "      <td>0.0</td>\n",
       "      <td>0.0</td>\n",
       "      <td>0.0</td>\n",
       "      <td>0.0</td>\n",
       "      <td>0.0</td>\n",
       "      <td>0.0</td>\n",
       "      <td>1.0</td>\n",
       "      <td>0.0</td>\n",
       "      <td>0.0</td>\n",
       "    </tr>\n",
       "    <tr>\n",
       "      <th>136585</th>\n",
       "      <td>136585</td>\n",
       "      <td>US-Myb</td>\n",
       "      <td>2014-03-15 00:00:00</td>\n",
       "      <td>0.0</td>\n",
       "      <td>346.486005</td>\n",
       "      <td>309.051010</td>\n",
       "      <td>1022.200000</td>\n",
       "      <td>22.374994</td>\n",
       "      <td>10.878103</td>\n",
       "      <td>1.528500</td>\n",
       "      <td>...</td>\n",
       "      <td>0.0</td>\n",
       "      <td>0.0</td>\n",
       "      <td>0.0</td>\n",
       "      <td>0.0</td>\n",
       "      <td>0.0</td>\n",
       "      <td>0.0</td>\n",
       "      <td>0.0</td>\n",
       "      <td>1.0</td>\n",
       "      <td>0.0</td>\n",
       "      <td>0.0</td>\n",
       "    </tr>\n",
       "    <tr>\n",
       "      <th>136586</th>\n",
       "      <td>136586</td>\n",
       "      <td>US-Myb</td>\n",
       "      <td>2014-03-15 01:00:00</td>\n",
       "      <td>0.0</td>\n",
       "      <td>150.326500</td>\n",
       "      <td>302.363010</td>\n",
       "      <td>1022.150000</td>\n",
       "      <td>22.409997</td>\n",
       "      <td>10.705077</td>\n",
       "      <td>1.653500</td>\n",
       "      <td>...</td>\n",
       "      <td>0.0</td>\n",
       "      <td>0.0</td>\n",
       "      <td>0.0</td>\n",
       "      <td>0.0</td>\n",
       "      <td>0.0</td>\n",
       "      <td>0.0</td>\n",
       "      <td>0.0</td>\n",
       "      <td>1.0</td>\n",
       "      <td>0.0</td>\n",
       "      <td>0.0</td>\n",
       "    </tr>\n",
       "    <tr>\n",
       "      <th>136587</th>\n",
       "      <td>136587</td>\n",
       "      <td>US-Myb</td>\n",
       "      <td>2014-03-15 02:00:00</td>\n",
       "      <td>0.0</td>\n",
       "      <td>19.586501</td>\n",
       "      <td>302.363010</td>\n",
       "      <td>1022.000000</td>\n",
       "      <td>21.284998</td>\n",
       "      <td>11.456781</td>\n",
       "      <td>1.538500</td>\n",
       "      <td>...</td>\n",
       "      <td>0.0</td>\n",
       "      <td>0.0</td>\n",
       "      <td>0.0</td>\n",
       "      <td>0.0</td>\n",
       "      <td>0.0</td>\n",
       "      <td>0.0</td>\n",
       "      <td>0.0</td>\n",
       "      <td>1.0</td>\n",
       "      <td>0.0</td>\n",
       "      <td>0.0</td>\n",
       "    </tr>\n",
       "  </tbody>\n",
       "</table>\n",
       "<p>136588 rows × 27 columns</p>\n",
       "</div>"
      ],
      "text/plain": [
       "        Unnamed: 0 station             date_UTC  Precip_msr         Rin  \\\n",
       "0                0  AU-ASM  2013-12-31 15:00:00         0.0    0.000000   \n",
       "1                1  AU-ASM  2013-12-31 16:00:00         0.0    0.000000   \n",
       "2                2  AU-ASM  2013-12-31 17:00:00         0.0    0.000000   \n",
       "3                3  AU-ASM  2013-12-31 18:00:00         0.0    0.000000   \n",
       "4                4  AU-ASM  2013-12-31 19:00:00         0.0    0.000000   \n",
       "...            ...     ...                  ...         ...         ...   \n",
       "136583      136583  US-Myb  2014-03-14 22:00:00         0.0  691.839510   \n",
       "136584      136584  US-Myb  2014-03-14 23:00:00         0.0  536.578495   \n",
       "136585      136585  US-Myb  2014-03-15 00:00:00         0.0  346.486005   \n",
       "136586      136586  US-Myb  2014-03-15 01:00:00         0.0  150.326500   \n",
       "136587      136587  US-Myb  2014-03-15 02:00:00         0.0   19.586501   \n",
       "\n",
       "               Rli            p         Ta         ea         u  ...  \\\n",
       "0       422.350995   940.534220  31.677529   0.087688  2.134386  ...   \n",
       "1       405.639800   932.560705  31.299402   0.099312  1.201066  ...   \n",
       "2       413.726000   939.196055  30.007821   0.107478  1.354100  ...   \n",
       "3       412.545700   940.048085  30.011499   0.110519  1.795051  ...   \n",
       "4       381.210585   940.882070  29.375940   0.112046  1.729858  ...   \n",
       "...            ...          ...        ...        ...       ...  ...   \n",
       "136583  315.739010  1023.000000  20.380014  10.184294  2.369500  ...   \n",
       "136584  315.739010  1022.500000  21.415002  10.509555  1.799000  ...   \n",
       "136585  309.051010  1022.200000  22.374994  10.878103  1.528500  ...   \n",
       "136586  302.363010  1022.150000  22.409997  10.705077  1.653500  ...   \n",
       "136587  302.363010  1022.000000  21.284998  11.456781  1.538500  ...   \n",
       "\n",
       "        IGBP_veg_long2  IGBP_veg_long3  IGBP_veg_long4  IGBP_veg_long5  \\\n",
       "0                  0.0             0.0             0.0             1.0   \n",
       "1                  0.0             0.0             0.0             1.0   \n",
       "2                  0.0             0.0             0.0             1.0   \n",
       "3                  0.0             0.0             0.0             1.0   \n",
       "4                  0.0             0.0             0.0             1.0   \n",
       "...                ...             ...             ...             ...   \n",
       "136583             0.0             0.0             0.0             0.0   \n",
       "136584             0.0             0.0             0.0             0.0   \n",
       "136585             0.0             0.0             0.0             0.0   \n",
       "136586             0.0             0.0             0.0             0.0   \n",
       "136587             0.0             0.0             0.0             0.0   \n",
       "\n",
       "        IGBP_veg_long6  IGBP_veg_long7  IGBP_veg_long8  IGBP_veg_long9  \\\n",
       "0                  0.0             0.0             0.0             0.0   \n",
       "1                  0.0             0.0             0.0             0.0   \n",
       "2                  0.0             0.0             0.0             0.0   \n",
       "3                  0.0             0.0             0.0             0.0   \n",
       "4                  0.0             0.0             0.0             0.0   \n",
       "...                ...             ...             ...             ...   \n",
       "136583             0.0             0.0             0.0             1.0   \n",
       "136584             0.0             0.0             0.0             1.0   \n",
       "136585             0.0             0.0             0.0             1.0   \n",
       "136586             0.0             0.0             0.0             1.0   \n",
       "136587             0.0             0.0             0.0             1.0   \n",
       "\n",
       "        IGBP_veg_long10  IGBP_veg_long11  \n",
       "0                   0.0              0.0  \n",
       "1                   0.0              0.0  \n",
       "2                   0.0              0.0  \n",
       "3                   0.0              0.0  \n",
       "4                   0.0              0.0  \n",
       "...                 ...              ...  \n",
       "136583              0.0              0.0  \n",
       "136584              0.0              0.0  \n",
       "136585              0.0              0.0  \n",
       "136586              0.0              0.0  \n",
       "136587              0.0              0.0  \n",
       "\n",
       "[136588 rows x 27 columns]"
      ]
     },
     "execution_count": 3,
     "metadata": {},
     "output_type": "execute_result"
    }
   ],
   "source": [
    "model_input = pd.read_csv(data_path)\n",
    "model_input"
   ]
  },
  {
   "cell_type": "code",
   "execution_count": 4,
   "id": "ffc9d0a4-ccee-4eff-b443-d56335816374",
   "metadata": {
    "tags": []
   },
   "outputs": [],
   "source": [
    "# test, train data\n",
    "model_input['date_UTC'] = pd.to_datetime(model_input['date_UTC'])\n",
    "\n",
    "x_vars = ['station', 'date_UTC', 'Rin', 'Rli', 'p', 'Ta', 'ea', 'u', 'CO2', 'LAI','Vcmo', 'hc', 'Precip_msr','SSM', *[f'IGBP_veg_long{i}' for i in range(1, 12)]]\n",
    "x = model_input[x_vars]\n",
    "\n",
    "y_vars = ['station', 'date_UTC', 'LEtot']\n",
    "y = model_input[y_vars]\n",
    "\n",
    "x_train, x_test, y_train, y_test = train_test_split(x, y, test_size=0.25, random_state=0, shuffle=True)\n",
    "\n",
    "# sort based on time\n",
    "x_test = x_test.sort_values('date_UTC')\n",
    "y_test = y_test.sort_values('date_UTC')\n",
    "\n",
    "x_train = x_train.sort_values('date_UTC')\n",
    "y_train = y_train.sort_values('date_UTC')"
   ]
  },
  {
   "cell_type": "markdown",
   "id": "dfb0c03a-34c7-4ebb-953f-20ece4ff7fe7",
   "metadata": {
    "tags": []
   },
   "source": [
    "#### 2- Load the model"
   ]
  },
  {
   "cell_type": "code",
   "execution_count": 5,
   "id": "e88b0899-c739-4921-9c07-031989bf6e5b",
   "metadata": {
    "tags": []
   },
   "outputs": [],
   "source": [
    "def preprocess(data):\n",
    "    data_reshaped = data\n",
    "    if len(data.shape) == 1:\n",
    "        data_reshaped = data.reshape(1,-1)\n",
    "    return data_reshaped.astype(np.float32)\n",
    "\n",
    "# this model is trained on the data of 2014\n",
    "model_path = download('stemmus_scope_emulator_model_LEtot.onnx', 'model')\n",
    "runner = SimpleModelRunner(model_path, preprocess_function=preprocess)"
   ]
  },
  {
   "cell_type": "code",
   "execution_count": 6,
   "id": "034dfa99-1d0b-4f6a-8e36-806a50cfcdd8",
   "metadata": {
    "tags": []
   },
   "outputs": [
    {
     "name": "stdout",
     "output_type": "stream",
     "text": [
      "Relative RMSE is 0.09253918269272535 and correlation is 0.9868130054495278\n"
     ]
    }
   ],
   "source": [
    "features = x_test.drop(columns=['station', 'date_UTC']).fillna(0)\n",
    "y_predict = runner(features.to_numpy())\n",
    "y_actual = y_test.drop(columns=['station', 'date_UTC']).fillna(0).to_numpy()\n",
    "\n",
    "relative_mae = np.mean(np.abs(y_predict - y_actual))/ np.mean(y_actual)\n",
    "cor = np.corrcoef(y_predict.T, y_actual.T)[0,1]\n",
    "print(f\"Relative MAE is {relative_mae} and correlation is {cor}\")"
   ]
  },
  {
   "cell_type": "markdown",
   "id": "5d05435c-0077-4903-8de7-0059940a3f7a",
   "metadata": {
    "tags": []
   },
   "source": [
    "#### 3 - Example: Run the explainer for one sample (data instance)\n",
    "\n",
    "This is just an example to know how to set up things with Dianna."
   ]
  },
  {
   "cell_type": "code",
   "execution_count": 7,
   "id": "48e702a8-8578-4184-9db8-c684decdb447",
   "metadata": {
    "tags": []
   },
   "outputs": [],
   "source": [
    "# select one instance of test data\n",
    "# instances to be explained\n",
    "features = x_test.drop(columns=['station', 'date_UTC']).fillna(0)\n",
    "data_instance = features.iloc[0].values.reshape(1, -1)\n",
    "\n",
    "# The background dataset to use for integrating out features (see shap documentation)\n",
    "background_data = x_train.drop(columns=['station', 'date_UTC']).fillna(0).to_numpy()"
   ]
  },
  {
   "cell_type": "code",
   "execution_count": 8,
   "id": "573b2915-9380-43c9-9f3e-85c5b730d715",
   "metadata": {
    "tags": []
   },
   "outputs": [
    {
     "data": {
      "application/vnd.jupyter.widget-view+json": {
       "model_id": "5fa8b8a7f8c84ba1bc9c90666fa1af6f",
       "version_major": 2,
       "version_minor": 0
      },
      "text/plain": [
       "  0%|          | 0/1 [00:00<?, ?it/s]"
      ]
     },
     "metadata": {},
     "output_type": "display_data"
    },
    {
     "name": "stdout",
     "output_type": "stream",
     "text": [
      "CPU times: user 8.13 s, sys: 4.11 s, total: 12.2 s\n",
      "Wall time: 2.14 s\n"
     ]
    }
   ],
   "source": [
    "%%time\n",
    "explanation = dianna.explain_tabular(runner, input_tabular=data_instance, method='kernelshap',\n",
    "                                     mode ='regression', training_data=background_data, training_data_kmeans=2,\n",
    "                                     feature_names=features.columns)"
   ]
  },
  {
   "cell_type": "markdown",
   "id": "723cb8c8-c38f-4921-a704-1c64f3b7bdd4",
   "metadata": {},
   "source": [
    "#### 4 - Visualize the results"
   ]
  },
  {
   "cell_type": "code",
   "execution_count": 9,
   "id": "c8a86628-b73b-4df1-9ba8-02678211da31",
   "metadata": {
    "tags": []
   },
   "outputs": [
    {
     "data": {
      "image/png": "[encoded data removed]",
      "text/plain": [
       "<Figure size 640x480 with 1 Axes>"
      ]
     },
     "metadata": {},
     "output_type": "display_data"
    }
   ],
   "source": [
    "_ = visualization.plot_tabular(explanation[0], features.columns, num_features=len(features.columns))"
   ]
  },
  {
   "cell_type": "markdown",
   "id": "692371cb-5d55-4e28-95b2-36ee3ec24d65",
   "metadata": {},
   "source": [
    "#### 5 -  Run the explainer at one location, several data instances (here as an example one month time series)\n",
    "\n",
    "This is an example to get the insights created by Dianna."
   ]
  },
  {
   "cell_type": "markdown",
   "id": "7a8d4242-b3ef-4f10-8b65-a52146e4f45a",
   "metadata": {},
   "source": [
    "##### 5.1 - define some functions for visualizing the results"
   ]
  },
  {
   "cell_type": "code",
   "execution_count": 10,
   "id": "e28b8679-8727-4e02-a0ff-63cafd2ef976",
   "metadata": {},
   "outputs": [],
   "source": [
    "def display_figures(figures, captions, rows, cols):\n",
    "    html = \"<table>\"\n",
    "    for i in range(rows):\n",
    "        html += \"<tr>\"\n",
    "        for j in range(cols):\n",
    "            index = i * cols + j\n",
    "            if index < len(figures):\n",
    "                fig_data = figures[index]\n",
    "                fig_data.set_size_inches(10, 8)\n",
    "                fig_data.savefig(f'fig{index}.png', dpi=100)\n",
    "                html += f\"<td style='word-wrap: break-word; max-width: 500px;'><img src='fig{index}.png'><br><p dir='ltr'>{captions[index]}</p></td>\"\n",
    "            else:\n",
    "                html += \"<td></td>\"\n",
    "        html += \"</tr>\"\n",
    "    html += \"</table>\"\n",
    "    display(HTML(html))\n",
    "\n",
    "def comparison_plot(y_actual, y_pred, show=True):\n",
    "    plt.plot(y_actual, label='Actual', color=\"blue\", linewidth=3, alpha=0.7)\n",
    "    plt.plot(y_pred, label='Prediction', color=\"orange\")\n",
    "    plt.xlabel('time index')\n",
    "    plt.ylabel('LEtot')\n",
    "    plt.legend()\n",
    "    if show:\n",
    "        plt.show()\n",
    "\n",
    "captions = [\"Fig 1: Prediction vs Actual time series using test data. The x axis is time index.\", \n",
    "            \"Fig 2: Heatamp. The x axis is time index. The y axis is the feature names. The colorbar shows the shap values. \"\n",
    "            \"The f(x) graph shows the cumulative SHAP values across all features for each sample, \"\n",
    "            \"highlighting the relative importance of features across different samples.\", \n",
    "            \"Fig 3: Summary. The x axis is shap values. The colorbar shows the range of each feature values (from low to high).\"]"
   ]
  },
  {
   "cell_type": "code",
   "execution_count": 11,
   "id": "aae2e61b-987e-4500-8aee-1c3356e42c61",
   "metadata": {},
   "outputs": [],
   "source": [
    "# select one location and time steps\n",
    "location = \"US-Myb\"\n",
    "month = 1"
   ]
  },
  {
   "cell_type": "code",
   "execution_count": 12,
   "id": "26618c23-a9cc-4e46-b87f-6f29247787db",
   "metadata": {},
   "outputs": [
    {
     "name": "stdout",
     "output_type": "stream",
     "text": [
      "Dianna is done!\n"
     ]
    }
   ],
   "source": [
    "# run the explainer\n",
    "x_test_time = x_test[(x_test[\"station\"] == location) & (x_test[\"date_UTC\"].dt.month == month)]\n",
    "features = x_test_time.drop(columns=['station', 'date_UTC']).fillna(0)\n",
    "x_train_time = x_train[(x_train[\"station\"] == location) & (x_train[\"date_UTC\"].dt.month == month)]\n",
    "background_data = x_train_time.drop(columns=['station', 'date_UTC']).fillna(0).to_numpy()\n",
    "\n",
    "# run explainer over time series\n",
    "explanations = dianna.explain_tabular(runner, input_tabular=features.values, method='kernelshap',\n",
    "                                      mode ='regression', training_data=background_data, training_data_kmeans=2,\n",
    "                                      feature_names=features.columns, silent=True)\n",
    "\n",
    "print(\"Dianna is done!\") "
   ]
  },
  {
   "cell_type": "code",
   "execution_count": 13,
   "id": "69a1c7c6-4881-4c74-8b6d-bf358cb45837",
   "metadata": {},
   "outputs": [
    {
     "data": {
      "text/html": [
       "<table><tr><td style='word-wrap: break-word; max-width: 500px;'><img src='fig0.png'><br><p dir='ltr'>Fig 1: Prediction vs Actual time series using test data. The x axis is time index.</p></td><td style='word-wrap: break-word; max-width: 500px;'><img src='fig1.png'><br><p dir='ltr'>Fig 2: Heatamp. The x axis is time index. The y axis is the feature names. The colorbar shows the shap values. The f(x) graph shows the cumulative SHAP values across all features for each sample, highlighting the relative importance of features across different samples.</p></td><td style='word-wrap: break-word; max-width: 500px;'><img src='fig2.png'><br><p dir='ltr'>Fig 3: Summary. The x axis is shap values. The colorbar shows the range of each feature values (from low to high).</p></td></tr></table>"
      ],
      "text/plain": [
       "<IPython.core.display.HTML object>"
      ]
     },
     "metadata": {},
     "output_type": "display_data"
    }
   ],
   "source": [
    "# create plots\n",
    "shap_values = Explanation(explanations)\n",
    "shap_values.feature_names = features.columns\n",
    "\n",
    "# plot predictions vs test data at one location\n",
    "y_predict_time = runner(features.to_numpy())\n",
    "y_test_time = y_test[(y_test[\"station\"] == location) & (y_test[\"date_UTC\"].dt.month == month)].drop(columns=['station', 'date_UTC']).fillna(0).to_numpy()\n",
    "\n",
    "comparison_plot(y_test_time, y_predict_time, show=False)    \n",
    "comparison_img = plt.gcf()\n",
    "plt.close()\n",
    "\n",
    "shap.summary_plot(shap_values, features.values, feature_names=features.columns, cmap=\"PRGn\", show=False)\n",
    "summary_img = plt.gcf()\n",
    "plt.close()\n",
    "\n",
    "shap.plots.heatmap(shap_values, cmap=\"bwr\", show=False)\n",
    "heatmap_img = plt.gcf()\n",
    "plt.close()\n",
    "\n",
    "display_figures([comparison_img, heatmap_img, summary_img], captions, 1, 3)"
   ]
  },
  {
   "cell_type": "code",
   "execution_count": 14,
   "id": "72ffcb21-e4ab-494c-a170-59c495f7b0fb",
   "metadata": {},
   "outputs": [
    {
     "name": "stdout",
     "output_type": "stream",
     "text": [
      "Relative RMSE is 0.2215188921211095 and correlation is 0.9700512335266412\n"
     ]
    }
   ],
   "source": [
    "relative_mae = np.mean(np.abs(y_predict_time - y_test_time))/ np.mean(y_test_time)\n",
    "cor = np.corrcoef(y_predict_time.T, y_test_time.T)[0,1]\n",
    "print(f\"Relative MAE is {relative_mae} and correlation is {cor}\")"
   ]
  },
  {
   "cell_type": "markdown",
   "id": "2fa0f1f9-06e9-486b-ac14-b411dfba1b90",
   "metadata": {},
   "source": [
    "### Select another location"
   ]
  },
  {
   "cell_type": "code",
   "execution_count": 15,
   "id": "242abbf8-9716-4302-a17b-5cdfab47f4df",
   "metadata": {},
   "outputs": [],
   "source": [
    "# select one location and time steps\n",
    "location = \"US-Me6\"\n",
    "month = 1"
   ]
  },
  {
   "cell_type": "code",
   "execution_count": 16,
   "id": "4de36fed-a13e-43ce-90c9-d56a305d2aaf",
   "metadata": {},
   "outputs": [
    {
     "name": "stdout",
     "output_type": "stream",
     "text": [
      "Dianna is done!\n"
     ]
    }
   ],
   "source": [
    "# run the explainer\n",
    "x_test_time = x_test[(x_test[\"station\"] == location) & (x_test[\"date_UTC\"].dt.month == month)]\n",
    "features = x_test_time.drop(columns=['station', 'date_UTC']).fillna(0)\n",
    "x_train_time = x_train[(x_train[\"station\"] == location) & (x_train[\"date_UTC\"].dt.month == month)]\n",
    "background_data = x_train_time.drop(columns=['station', 'date_UTC']).fillna(0).to_numpy()\n",
    "\n",
    "# run explainer over time series\n",
    "explanations = dianna.explain_tabular(runner, input_tabular=features.values, method='kernelshap',\n",
    "                                      mode ='regression', training_data=background_data, training_data_kmeans=2,\n",
    "                                      feature_names=features.columns, silent=True)\n",
    "\n",
    "print(\"Dianna is done!\") "
   ]
  },
  {
   "cell_type": "code",
   "execution_count": 17,
   "id": "e0f07b58-8775-4908-b995-4683a9e51f7f",
   "metadata": {},
   "outputs": [
    {
     "data": {
      "text/html": [
       "<table><tr><td style='word-wrap: break-word; max-width: 500px;'><img src='fig0.png'><br><p dir='ltr'>Fig 1: Prediction vs Actual time series using test data. The x axis is time index.</p></td><td style='word-wrap: break-word; max-width: 500px;'><img src='fig1.png'><br><p dir='ltr'>Fig 2: Heatamp. The x axis is time index. The y axis is the feature names. The colorbar shows the shap values. The f(x) graph shows the cumulative SHAP values across all features for each sample, highlighting the relative importance of features across different samples.</p></td><td style='word-wrap: break-word; max-width: 500px;'><img src='fig2.png'><br><p dir='ltr'>Fig 3: Summary. The x axis is shap values. The colorbar shows the range of each feature values (from low to high).</p></td></tr></table>"
      ],
      "text/plain": [
       "<IPython.core.display.HTML object>"
      ]
     },
     "metadata": {},
     "output_type": "display_data"
    }
   ],
   "source": [
    "# create plots\n",
    "shap_values = Explanation(explanations)\n",
    "shap_values.feature_names = features.columns\n",
    "\n",
    "# plot predictions vs test data at one location\n",
    "y_predict_time = runner(features.to_numpy())\n",
    "y_test_time = y_test[(y_test[\"station\"] == location) & (y_test[\"date_UTC\"].dt.month == month)].drop(columns=['station', 'date_UTC']).fillna(0).to_numpy()\n",
    "\n",
    "comparison_plot(y_test_time, y_predict_time, show=False)    \n",
    "comparison_img = plt.gcf()\n",
    "plt.close()\n",
    "\n",
    "shap.summary_plot(shap_values, features.values, feature_names=features.columns, cmap=\"PRGn\", show=False)\n",
    "summary_img = plt.gcf()\n",
    "plt.close()\n",
    "\n",
    "shap.plots.heatmap(shap_values, cmap=\"bwr\", show=False)\n",
    "heatmap_img = plt.gcf()\n",
    "plt.close()\n",
    "\n",
    "display_figures([comparison_img, heatmap_img, summary_img], captions, 1, 3)"
   ]
  },
  {
   "cell_type": "code",
   "execution_count": 18,
   "id": "f7b34871-6b66-4e49-9912-0fbbc0afd641",
   "metadata": {},
   "outputs": [
    {
     "name": "stdout",
     "output_type": "stream",
     "text": [
      "Relative RMSE is 0.22654165750998773 and correlation is 0.9545003829483406\n"
     ]
    }
   ],
   "source": [
    "relative_mae = np.mean(np.abs(y_predict_time - y_test_time))/ np.mean(y_test_time)\n",
    "cor = np.corrcoef(y_predict_time.T, y_test_time.T)[0,1]\n",
    "print(f\"Relative MAE is {relative_mae} and correlation is {cor}\")"
   ]
  },
  {
   "cell_type": "markdown",
   "id": "618d964a-d011-4ed0-9204-660740d0cbac",
   "metadata": {},
   "source": [
    "### Select another month"
   ]
  },
  {
   "cell_type": "code",
   "execution_count": 24,
   "id": "51ae2fca-ac1c-4f33-be90-49513d38abc7",
   "metadata": {},
   "outputs": [],
   "source": [
    "# select one location and time steps\n",
    "location = \"US-Me6\"\n",
    "month = 2"
   ]
  },
  {
   "cell_type": "code",
   "execution_count": 25,
   "id": "094c99b4-325e-4f10-a811-bbf0e9c2913f",
   "metadata": {},
   "outputs": [
    {
     "name": "stdout",
     "output_type": "stream",
     "text": [
      "Dianna is done!\n"
     ]
    }
   ],
   "source": [
    "# run the explainer\n",
    "x_test_time = x_test[(x_test[\"station\"] == location) & (x_test[\"date_UTC\"].dt.month == month)]\n",
    "features = x_test_time.drop(columns=['station', 'date_UTC']).fillna(0)\n",
    "x_train_time = x_train[(x_train[\"station\"] == location) & (x_train[\"date_UTC\"].dt.month == month)]\n",
    "background_data = x_train_time.drop(columns=['station', 'date_UTC']).fillna(0).to_numpy()\n",
    "\n",
    "# run explainer over time series\n",
    "explanations = dianna.explain_tabular(runner, input_tabular=features.values, method='kernelshap',\n",
    "                                      mode ='regression', training_data=background_data, training_data_kmeans=2,\n",
    "                                      feature_names=features.columns, silent=True)\n",
    "\n",
    "print(\"Dianna is done!\") "
   ]
  },
  {
   "cell_type": "code",
   "execution_count": 22,
   "id": "e3b17dfd-fc4c-4481-bb5d-5077042bcb94",
   "metadata": {},
   "outputs": [
    {
     "data": {
      "text/html": [
       "<table><tr><td style='word-wrap: break-word; max-width: 500px;'><img src='fig0.png'><br><p dir='ltr'>Fig 1: Prediction vs Actual time series using test data. The x axis is time index.</p></td><td style='word-wrap: break-word; max-width: 500px;'><img src='fig1.png'><br><p dir='ltr'>Fig 2: Heatamp. The x axis is time index. The y axis is the feature names. The colorbar shows the shap values. The f(x) graph shows the cumulative SHAP values across all features for each sample, highlighting the relative importance of features across different samples.</p></td><td style='word-wrap: break-word; max-width: 500px;'><img src='fig2.png'><br><p dir='ltr'>Fig 3: Summary. The x axis is shap values. The colorbar shows the range of each feature values (from low to high).</p></td></tr></table>"
      ],
      "text/plain": [
       "<IPython.core.display.HTML object>"
      ]
     },
     "metadata": {},
     "output_type": "display_data"
    }
   ],
   "source": [
    "# create plots\n",
    "shap_values = Explanation(explanations)\n",
    "shap_values.feature_names = features.columns\n",
    "\n",
    "# plot predictions vs test data at one location\n",
    "y_predict_time = runner(features.to_numpy())\n",
    "y_test_time = y_test[(y_test[\"station\"] == location) & (y_test[\"date_UTC\"].dt.month == month)].drop(columns=['station', 'date_UTC']).fillna(0).to_numpy()\n",
    "\n",
    "comparison_plot(y_test_time, y_predict_time, show=False)    \n",
    "comparison_img = plt.gcf()\n",
    "plt.close()\n",
    "\n",
    "shap.summary_plot(shap_values, features.values, feature_names=features.columns, cmap=\"PRGn\", show=False)\n",
    "summary_img = plt.gcf()\n",
    "plt.close()\n",
    "\n",
    "shap.plots.heatmap(shap_values, cmap=\"bwr\", show=False)\n",
    "heatmap_img = plt.gcf()\n",
    "plt.close()\n",
    "\n",
    "display_figures([comparison_img, heatmap_img, summary_img], captions, 1, 3)"
   ]
  },
  {
   "cell_type": "code",
   "execution_count": 23,
   "id": "8350b94f-001f-4784-a7b8-8d4ebffb514c",
   "metadata": {},
   "outputs": [
    {
     "name": "stdout",
     "output_type": "stream",
     "text": [
      "Relative RMSE is 0.27991943305822775 and correlation is 0.9344053781949128\n"
     ]
    }
   ],
   "source": [
    "relative_mae = np.mean(np.abs(y_predict_time - y_test_time))/ np.mean(y_test_time)\n",
    "cor = np.corrcoef(y_predict_time.T, y_test_time.T)[0,1]\n",
    "print(f\"Relative MAE is {relative_mae} and correlation is {cor}\")"
   ]
  },
  {
   "cell_type": "code",
   "execution_count": null,
   "id": "41582353-bcce-4100-b484-6ea7f13c65dc",
   "metadata": {},
   "outputs": [],
   "source": []
  }
 ],
 "metadata": {
  "kernelspec": {
   "display_name": "Python 3 (ipykernel)",
   "language": "python",
   "name": "python3"
  },
  "language_info": {
   "codemirror_mode": {
    "name": "ipython",
    "version": 3
   },
   "file_extension": ".py",
   "mimetype": "text/x-python",
   "name": "python",
   "nbconvert_exporter": "python",
   "pygments_lexer": "ipython3",
   "version": "3.11.7"
  }
 },
 "nbformat": 4,
 "nbformat_minor": 5
}
