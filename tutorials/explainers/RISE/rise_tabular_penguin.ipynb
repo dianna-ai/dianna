{
 "cells": [
  {
   "cell_type": "markdown",
   "metadata": {},
   "source": [
    "<img width=\"150\" alt=\"Logo_ER10\" src=\"https://user-images.githubusercontent.com/3244249/151994514-b584b984-a148-4ade-80ee-0f88b0aefa45.png\">\n",
    "\n",
    "### Model Interpretation using LIME for penguin dataset classifier\n",
    "This notebook demonstrates the use of DIANNA with the RISE tabular method on the penguins dataset.\n",
    "\n",
    "RISE is short for Randomized Input Sampling for Explanation of Black-box Models. It estimates each feature's relevance to the model's decision empirically by probing the model with randomly masked versions of the input text and obtaining the corresponding outputs. More details about this method can be found in the [paper introducing RISE](https://arxiv.org/abs/1806.07421)."
   ]
  },
  {
   "cell_type": "markdown",
   "metadata": {},
   "source": [
    "Colab setup"
   ]
  },
  {
   "cell_type": "code",
   "execution_count": 1,
   "metadata": {
    "ExecuteTime": {
     "start_time": "2024-05-30T11:11:52.728074Z",
     "end_time": "2024-05-30T11:11:52.815285Z"
    }
   },
   "outputs": [],
   "source": [
    "running_in_colab = 'google.colab' in str(get_ipython())\n",
    "if running_in_colab:\n",
    "  # install dianna\n",
    "  !python3 -m pip install dianna[notebooks]\n",
    "  \n",
    "  # download data used in this demo\n",
    "  import os \n",
    "  base_url = 'https://raw.githubusercontent.com/dianna-ai/dianna/main/tutorials/'\n",
    "  paths_to_download = ['models/penguin_model.onnx']\n",
    "  for path in paths_to_download:\n",
    "      !wget {base_url + path} -P {os.path.dirname(path)}"
   ]
  },
  {
   "cell_type": "markdown",
   "metadata": {},
   "source": [
    "#### 0 - Import libraries"
   ]
  },
  {
   "cell_type": "code",
   "execution_count": 2,
   "metadata": {
    "ExecuteTime": {
     "start_time": "2024-05-30T11:11:52.734426Z",
     "end_time": "2024-05-30T11:11:52.815285Z"
    }
   },
   "outputs": [],
   "source": [
    "import dianna\n",
    "import numpy as np\n",
    "import pandas as pd\n",
    "import seaborn as sns\n",
    "from sklearn.model_selection import train_test_split\n",
    "from dianna.utils.onnx_runner import SimpleModelRunner\n",
    "from pathlib import Path\n",
    "\n",
    "root_dir = Path(dianna.__file__).parent"
   ]
  },
  {
   "cell_type": "markdown",
   "metadata": {},
   "source": [
    "#### 1 - Loading the data\n",
    "Load penguins dataset."
   ]
  },
  {
   "cell_type": "code",
   "execution_count": 3,
   "metadata": {
    "ExecuteTime": {
     "start_time": "2024-05-30T11:11:52.748720Z",
     "end_time": "2024-05-30T11:11:52.831285Z"
    }
   },
   "outputs": [],
   "source": [
    "penguins = sns.load_dataset('penguins')"
   ]
  },
  {
   "cell_type": "markdown",
   "metadata": {},
   "source": [
    "Prepare the data"
   ]
  },
  {
   "cell_type": "code",
   "execution_count": 4,
   "metadata": {
    "ExecuteTime": {
     "start_time": "2024-05-30T11:11:52.756731Z",
     "end_time": "2024-05-30T11:11:52.891178Z"
    }
   },
   "outputs": [
    {
     "data": {
      "text/plain": "     bill_length_mm  bill_depth_mm  flipper_length_mm  body_mass_g\n0              39.1           18.7              181.0       3750.0\n1              39.5           17.4              186.0       3800.0\n2              40.3           18.0              195.0       3250.0\n4              36.7           19.3              193.0       3450.0\n5              39.3           20.6              190.0       3650.0\n..              ...            ...                ...          ...\n338            47.2           13.7              214.0       4925.0\n340            46.8           14.3              215.0       4850.0\n341            50.4           15.7              222.0       5750.0\n342            45.2           14.8              212.0       5200.0\n343            49.9           16.1              213.0       5400.0\n\n[342 rows x 4 columns]",
      "text/html": "<div>\n<style scoped>\n    .dataframe tbody tr th:only-of-type {\n        vertical-align: middle;\n    }\n\n    .dataframe tbody tr th {\n        vertical-align: top;\n    }\n\n    .dataframe thead th {\n        text-align: right;\n    }\n</style>\n<table border=\"1\" class=\"dataframe\">\n  <thead>\n    <tr style=\"text-align: right;\">\n      <th></th>\n      <th>bill_length_mm</th>\n      <th>bill_depth_mm</th>\n      <th>flipper_length_mm</th>\n      <th>body_mass_g</th>\n    </tr>\n  </thead>\n  <tbody>\n    <tr>\n      <th>0</th>\n      <td>39.1</td>\n      <td>18.7</td>\n      <td>181.0</td>\n      <td>3750.0</td>\n    </tr>\n    <tr>\n      <th>1</th>\n      <td>39.5</td>\n      <td>17.4</td>\n      <td>186.0</td>\n      <td>3800.0</td>\n    </tr>\n    <tr>\n      <th>2</th>\n      <td>40.3</td>\n      <td>18.0</td>\n      <td>195.0</td>\n      <td>3250.0</td>\n    </tr>\n    <tr>\n      <th>4</th>\n      <td>36.7</td>\n      <td>19.3</td>\n      <td>193.0</td>\n      <td>3450.0</td>\n    </tr>\n    <tr>\n      <th>5</th>\n      <td>39.3</td>\n      <td>20.6</td>\n      <td>190.0</td>\n      <td>3650.0</td>\n    </tr>\n    <tr>\n      <th>...</th>\n      <td>...</td>\n      <td>...</td>\n      <td>...</td>\n      <td>...</td>\n    </tr>\n    <tr>\n      <th>338</th>\n      <td>47.2</td>\n      <td>13.7</td>\n      <td>214.0</td>\n      <td>4925.0</td>\n    </tr>\n    <tr>\n      <th>340</th>\n      <td>46.8</td>\n      <td>14.3</td>\n      <td>215.0</td>\n      <td>4850.0</td>\n    </tr>\n    <tr>\n      <th>341</th>\n      <td>50.4</td>\n      <td>15.7</td>\n      <td>222.0</td>\n      <td>5750.0</td>\n    </tr>\n    <tr>\n      <th>342</th>\n      <td>45.2</td>\n      <td>14.8</td>\n      <td>212.0</td>\n      <td>5200.0</td>\n    </tr>\n    <tr>\n      <th>343</th>\n      <td>49.9</td>\n      <td>16.1</td>\n      <td>213.0</td>\n      <td>5400.0</td>\n    </tr>\n  </tbody>\n</table>\n<p>342 rows × 4 columns</p>\n</div>"
     },
     "execution_count": 4,
     "metadata": {},
     "output_type": "execute_result"
    }
   ],
   "source": [
    "# Remove categorial columns and NaN values\n",
    "penguins_filtered = penguins.drop(columns=['island', 'sex']).dropna()\n",
    "\n",
    "# Get the species\n",
    "species = penguins['species'].unique()\n",
    "\n",
    "# Extract inputs and target\n",
    "input_features = penguins_filtered.drop(columns=['species'])\n",
    "target = pd.get_dummies(penguins_filtered['species'])\n",
    "\n",
    "# Let's explore the features of the dataset\n",
    "input_features"
   ]
  },
  {
   "cell_type": "markdown",
   "metadata": {},
   "source": [
    "The data-set currently has four features that were used to train the model: bill length, bill depth, flipper length, and body mass. These features were used to classify the different species."
   ]
  },
  {
   "cell_type": "markdown",
   "metadata": {},
   "source": [
    "Training, validation, and test data split."
   ]
  },
  {
   "cell_type": "code",
   "execution_count": 5,
   "metadata": {
    "ExecuteTime": {
     "start_time": "2024-05-30T11:11:52.775984Z",
     "end_time": "2024-05-30T11:11:52.893178Z"
    }
   },
   "outputs": [],
   "source": [
    "X_train, X_test, y_train, y_test = train_test_split(input_features, target, test_size=0.2,\n",
    "                                                    random_state=0, shuffle=True, stratify=target)"
   ]
  },
  {
   "cell_type": "markdown",
   "metadata": {},
   "source": [
    "Get an instance to explain."
   ]
  },
  {
   "cell_type": "code",
   "execution_count": 6,
   "metadata": {
    "ExecuteTime": {
     "start_time": "2024-05-30T11:11:52.781926Z",
     "end_time": "2024-05-30T11:11:52.893178Z"
    }
   },
   "outputs": [],
   "source": [
    "# get an instance from test data\n",
    "data_instance = X_test.iloc[10].to_numpy()"
   ]
  },
  {
   "cell_type": "markdown",
   "metadata": {},
   "source": [
    "#### 2. Loading ONNX model\n",
    "DIANNA supports ONNX models. Here we demonstrate the use of LIME explainer for tabular data with a pre-trained ONNX model, which is a MLP classifier for the penguins dataset. <br>\n",
    "\n",
    "The model is trained following this notebook: <br>\n",
    "https://github.com/dianna-ai/dianna-exploration/blob/main/example_data/model_generation/penguin_species/generate_model.ipynb"
   ]
  },
  {
   "cell_type": "code",
   "execution_count": 7,
   "metadata": {
    "ExecuteTime": {
     "start_time": "2024-05-30T11:11:52.786936Z",
     "end_time": "2024-05-30T11:11:52.921188Z"
    }
   },
   "outputs": [
    {
     "data": {
      "text/plain": "'Gentoo'"
     },
     "execution_count": 7,
     "metadata": {},
     "output_type": "execute_result"
    }
   ],
   "source": [
    "# load onnx model and check the prediction with it\n",
    "model_path = Path(root_dir, 'models', 'penguin_model.onnx')\n",
    "loaded_model = SimpleModelRunner(model_path)\n",
    "predictions = loaded_model(data_instance.reshape(1,-1).astype(np.float32))\n",
    "species[np.argmax(predictions)]"
   ]
  },
  {
   "cell_type": "markdown",
   "metadata": {},
   "source": [
    "A runner function is created to prepare data for the ONNX inference session."
   ]
  },
  {
   "cell_type": "code",
   "execution_count": 8,
   "metadata": {
    "ExecuteTime": {
     "start_time": "2024-05-30T11:11:52.881179Z",
     "end_time": "2024-05-30T11:11:52.922190Z"
    }
   },
   "outputs": [],
   "source": [
    "import onnxruntime as ort\n",
    "\n",
    "def run_model(data):\n",
    "    # get ONNX predictions\n",
    "    sess = ort.InferenceSession(model_path)\n",
    "    input_name = sess.get_inputs()[0].name\n",
    "    output_name = sess.get_outputs()[0].name\n",
    "\n",
    "    onnx_input = {input_name: data.astype(np.float32)}\n",
    "    pred_onnx = sess.run([output_name], onnx_input)[0]\n",
    "    \n",
    "    return pred_onnx"
   ]
  },
  {
   "cell_type": "markdown",
   "metadata": {},
   "source": [
    "#### 3. Applying RISE with DIANNA\n",
    "The simplest way to run DIANNA on image data is with `dianna.explain_tabular`.\n",
    "\n",
    "DIANNA requires input in numpy format, so the input data is converted into a numpy array.\n",
    "\n",
    "Note that the training data is also required for proper perturbation of the input data."
   ]
  },
  {
   "cell_type": "code",
   "execution_count": 9,
   "metadata": {
    "ExecuteTime": {
     "start_time": "2024-05-30T11:11:52.885179Z",
     "end_time": "2024-05-30T11:11:53.364609Z"
    }
   },
   "outputs": [
    {
     "name": "stderr",
     "output_type": "stream",
     "text": [
      "Explaining: 100%|██████████| 10/10 [00:00<00:00, 322.57it/s]\n"
     ]
    }
   ],
   "source": [
    "explanation = dianna.explain_tabular(run_model, input_tabular=data_instance, method='rise',\n",
    "                                     mode ='classification', training_data = X_train.to_numpy(),\n",
    "                                     feature_names=input_features.columns, class_names=species)"
   ]
  },
  {
   "cell_type": "code",
   "execution_count": 10,
   "outputs": [
    {
     "data": {
      "text/plain": "array([[1.3488360e-05, 3.1694275e-05, 9.9995482e-01]], dtype=float32)"
     },
     "execution_count": 10,
     "metadata": {},
     "output_type": "execute_result"
    }
   ],
   "source": [
    "run_model(data_instance[None,...])"
   ],
   "metadata": {
    "collapsed": false,
    "ExecuteTime": {
     "start_time": "2024-05-30T11:11:53.332880Z",
     "end_time": "2024-05-30T11:11:53.369138Z"
    }
   }
  },
  {
   "cell_type": "markdown",
   "metadata": {},
   "source": [
    "#### 4. Visualization\n",
    "The output can be visualized with the DIANNA built-in visualization function. It shows the importance of each feature contributing to the prediction.\n",
    "\n",
    "The prediction is \"Gentoo\", so let's visualize the feature importance scores for \"Gentoo\".\n",
    "\n",
    "It can be noticed that the body mass feature has the biggest weight in the prediction."
   ]
  },
  {
   "cell_type": "code",
   "execution_count": 11,
   "metadata": {
    "ExecuteTime": {
     "start_time": "2024-05-30T11:11:53.370141Z",
     "end_time": "2024-05-30T11:11:53.560552Z"
    }
   },
   "outputs": [
    {
     "data": {
      "text/plain": "<Figure size 640x480 with 1 Axes>",
      "image/png": "[encoded data removed]"
     },
     "metadata": {},
     "output_type": "display_data"
    }
   ],
   "source": [
    "from dianna.visualization import plot_tabular\n",
    "\n",
    "_ = plot_tabular(explanation[np.argmax(predictions)], X_test.columns, num_features=10)"
   ]
  },
  {
   "cell_type": "code",
   "execution_count": 12,
   "outputs": [
    {
     "data": {
      "text/plain": "array([[6.4450759e-01, 6.8236494e-01, 6.4905328e-01, 8.5704887e-06],\n       [2.1436421e-02, 2.1601211e-02, 9.7484328e-04, 7.2740775e-05],\n       [3.0805644e-01, 3.3603430e-01, 3.4597191e-01, 9.8991853e-01]],\n      dtype=float32)"
     },
     "execution_count": 12,
     "metadata": {},
     "output_type": "execute_result"
    }
   ],
   "source": [
    "explanation"
   ],
   "metadata": {
    "collapsed": false,
    "ExecuteTime": {
     "start_time": "2024-05-30T11:11:53.561551Z",
     "end_time": "2024-05-30T11:11:53.565301Z"
    }
   }
  }
 ],
 "metadata": {
  "kernelspec": {
   "display_name": "dianna",
   "language": "python",
   "name": "python3"
  },
  "language_info": {
   "codemirror_mode": {
    "name": "ipython",
    "version": 3
   },
   "file_extension": ".py",
   "mimetype": "text/x-python",
   "name": "python",
   "nbconvert_exporter": "python",
   "pygments_lexer": "ipython3",
   "version": "3.10.13"
  }
 },
 "nbformat": 4,
 "nbformat_minor": 2
}
