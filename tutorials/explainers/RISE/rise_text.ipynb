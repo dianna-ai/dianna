{
 "cells": [
  {
   "cell_type": "markdown",
   "id": "8179c57c",
   "metadata": {},
   "source": [
    "<img width=\"150\" alt=\"Logo_ER10\" src=\"https://user-images.githubusercontent.com/3244249/151994514-b584b984-a148-4ade-80ee-0f88b0aefa45.png\">\n",
    "\n",
    "### Interpreting a movie review sentiment model with RISE\n",
    "This notebook demonstrates the use of DIANNA with the RISE method on the [Stanford Sentiment Treebank dataset](https://nlp.stanford.edu/sentiment/index.html) which contains one-sentence movie reviews. See also [their paper](https://nlp.stanford.edu/~socherr/EMNLP2013_RNTN.pdf). A pre-trained neural network classifier is used, which identifies whether a movie review is positive or negative.\n",
    "\n",
    "[RISE](http://bmvc2018.org/contents/papers/1064.pdf) is short for Randomized Input Sampling for Explanation of Black-box Models. It estimates each word's relevance to the model's decision empirically by probing the model with randomly masked versions of the input image and obtaining the corresponding outputs.  \n",
    "\n",
    "*NOTE*: This tutorial is still work-in-progress, the final results need to be improved by tweaking the RISE parameters"
   ]
  },
  {
   "cell_type": "markdown",
   "id": "242b796c",
   "metadata": {},
   "source": [
    "#### Colab Setup"
   ]
  },
  {
   "cell_type": "code",
   "execution_count": 1,
   "id": "897b2477",
   "metadata": {},
   "outputs": [],
   "source": [
    "running_in_colab = 'google.colab' in str(get_ipython())\n",
    "if running_in_colab:\n",
    "    # install dianna\n",
    "    !python3 -m pip install dianna[notebooks]"
   ]
  },
  {
   "cell_type": "markdown",
   "id": "50fd3dee",
   "metadata": {},
   "source": [
    "#### 0 -  Imports and paths"
   ]
  },
  {
   "cell_type": "code",
   "execution_count": 2,
   "id": "f705ebfe",
   "metadata": {},
   "outputs": [
    {
     "name": "stderr",
     "output_type": "stream",
     "text": [
      "2024-06-19 10:50:44.487613: I tensorflow/core/platform/cpu_feature_guard.cc:182] This TensorFlow binary is optimized to use available CPU instructions in performance-critical operations.\n",
      "To enable the following instructions: AVX2 AVX512F AVX512_VNNI FMA, in other operations, rebuild TensorFlow with the appropriate compiler flags.\n"
     ]
    }
   ],
   "source": [
    "import os\n",
    "import matplotlib.pyplot as plt\n",
    "import numpy as np\n",
    "import spacy\n",
    "from torchtext.vocab import Vectors\n",
    "from scipy.special import expit as sigmoid\n",
    "\n",
    "import dianna\n",
    "from dianna import visualization\n",
    "from dianna import utils\n",
    "from dianna.utils.tokenizers import SpacyTokenizer\n",
    "from dianna.utils.downloader import download"
   ]
  },
  {
   "cell_type": "code",
   "execution_count": 3,
   "id": "79b95d61",
   "metadata": {},
   "outputs": [],
   "source": [
    "model_path = download('movie_review_model.onnx', 'model')\n",
    "word_vector_path = download('movie_reviews_word_vectors.txt', 'data')\n",
    "labels = (\"negative\", \"positive\")"
   ]
  },
  {
   "cell_type": "markdown",
   "id": "f42c4b53",
   "metadata": {},
   "source": [
    "#### 1 - Loading the model\n",
    "\n",
    "The classifier is stored in ONNX format. It accepts numerical tokens as input, and outputs a score between 0 and 1, where 0 means the review is negative and 1 that it is positive.  \n",
    "Here we define a class to run the model, which accepts a sentence (i.e. string) as input instead and returns two classes: negative and positive."
   ]
  },
  {
   "cell_type": "code",
   "execution_count": null,
   "id": "712db400",
   "metadata": {
    "tags": []
   },
   "outputs": [],
   "source": [
    "# ensure the tokenizer for english is available\n",
    "spacy.cli.download('en_core_web_sm')"
   ]
  },
  {
   "cell_type": "code",
   "execution_count": 5,
   "id": "d558af74",
   "metadata": {},
   "outputs": [],
   "source": [
    "class MovieReviewsModelRunner:\n",
    "    def __init__(self, model, word_vectors, max_filter_size):\n",
    "        self.run_model = utils.get_function(model)\n",
    "        self.vocab = Vectors(word_vectors, cache=os.path.dirname(word_vectors))\n",
    "        self.max_filter_size = max_filter_size\n",
    "        \n",
    "        self.tokenizer = SpacyTokenizer(name='en_core_web_sm')\n",
    "\n",
    "    def __call__(self, sentences):\n",
    "        # ensure the input has a batch axis\n",
    "        if isinstance(sentences, str):\n",
    "            sentences = [sentences]\n",
    "\n",
    "        output = []\n",
    "        for sentence in sentences:\n",
    "            # tokenize and pad to minimum length\n",
    "            tokens = self.tokenizer.tokenize(sentence.lower())\n",
    "            if len(tokens) < self.max_filter_size:\n",
    "                tokens += ['<pad>'] * (self.max_filter_size - len(tokens))\n",
    "            \n",
    "            # numericalize the tokens\n",
    "            tokens_numerical = [self.vocab.stoi[token] if token in self.vocab.stoi else self.vocab.stoi['<unk>']\n",
    "                                for token in tokens]\n",
    "\n",
    "            # run the model, applying a sigmoid because the model outputs logits, remove any remaining batch axis\n",
    "            pred = float(sigmoid(self.run_model([tokens_numerical])))\n",
    "            output.append(pred)\n",
    "\n",
    "        # output two classes\n",
    "        positivity = np.array(output)\n",
    "        negativity = 1 - positivity\n",
    "        return np.transpose([negativity, positivity])\n",
    "            "
   ]
  },
  {
   "cell_type": "code",
   "execution_count": 6,
   "id": "48c268ba",
   "metadata": {},
   "outputs": [],
   "source": [
    "# define model runner. max_filter_size is a property of the model\n",
    "model_runner = MovieReviewsModelRunner(model_path, word_vector_path, max_filter_size=5)"
   ]
  },
  {
   "cell_type": "markdown",
   "id": "1d182278",
   "metadata": {},
   "source": [
    "#### 2 - Applying RISE with DIANNA\n",
    "The simplest way to run DIANNA on text data is with `dianna.explain_text`. The arguments are:\n",
    "* The function that runs the model (a path to a model in ONNX format is also accepted)\n",
    "* The text we want to explain\n",
    "* The name of the explainable-AI method we want to use, here RISE\n",
    "* The numerical indices of the classes we want an explanation for\n",
    "\n",
    "`dianna.explain_text` returns a list of tuples. Each tuple contains a word, its location in the input text, and its relevance for the selected output class"
   ]
  },
  {
   "cell_type": "code",
   "execution_count": 7,
   "id": "2d21c06e",
   "metadata": {},
   "outputs": [],
   "source": [
    "review = \"A delectable and intriguing thriller filled with surprises.\""
   ]
  },
  {
   "cell_type": "code",
   "execution_count": 8,
   "id": "d65cf3e6",
   "metadata": {},
   "outputs": [
    {
     "name": "stderr",
     "output_type": "stream",
     "text": [
      "Explaining:   0%|                                                                                                                                      | 0/10 [00:00<?, ?it/s]/var/folders/rj/_8tmcy8118q5h1zc_3dz1rz00000gn/T/ipykernel_57896/2131265396.py:26: DeprecationWarning: Conversion of an array with ndim > 0 to a scalar is deprecated, and will error in future. Ensure you extract a single element from your array before performing this operation. (Deprecated NumPy 1.25.)\n",
      "  pred = float(sigmoid(self.run_model([tokens_numerical])))\n",
      "Explaining: 100%|█████████████████████████████████████████████████████████████████████████████████████████████████████████████████████████████| 10/10 [00:10<00:00,  1.05s/it]\n",
      "Explaining: 100%|█████████████████████████████████████████████████████████████████████████████████████████████████████████████████████████████| 10/10 [00:10<00:00,  1.07s/it]\n",
      "Explaining: 100%|█████████████████████████████████████████████████████████████████████████████████████████████████████████████████████████████| 10/10 [00:11<00:00,  1.12s/it]\n",
      "Explaining: 100%|█████████████████████████████████████████████████████████████████████████████████████████████████████████████████████████████| 10/10 [00:10<00:00,  1.04s/it]\n",
      "Explaining: 100%|█████████████████████████████████████████████████████████████████████████████████████████████████████████████████████████████| 10/10 [00:10<00:00,  1.04s/it]\n",
      "Explaining: 100%|█████████████████████████████████████████████████████████████████████████████████████████████████████████████████████████████| 10/10 [00:10<00:00,  1.04s/it]\n",
      "Explaining: 100%|█████████████████████████████████████████████████████████████████████████████████████████████████████████████████████████████| 10/10 [00:10<00:00,  1.04s/it]\n",
      "Explaining: 100%|█████████████████████████████████████████████████████████████████████████████████████████████████████████████████████████████| 10/10 [00:10<00:00,  1.05s/it]\n",
      "Explaining: 100%|█████████████████████████████████████████████████████████████████████████████████████████████████████████████████████████████| 10/10 [00:10<00:00,  1.04s/it]\n"
     ]
    },
    {
     "name": "stdout",
     "output_type": "stream",
     "text": [
      "Rise parameter p_keep was automatically determined at 0.2\n"
     ]
    },
    {
     "name": "stderr",
     "output_type": "stream",
     "text": [
      "Explaining: 100%|█████████████████████████████████████████████████████████████████████████████████████████████████████████████████████████████| 10/10 [00:10<00:00,  1.04s/it]\n"
     ]
    },
    {
     "data": {
      "text/plain": [
       "[('A', 0, 0.9231837159395218),\n",
       " ('delectable', 1, 0.9229824450612069),\n",
       " ('and', 2, 0.7675862945616244),\n",
       " ('intriguing', 3, 0.992293090224266),\n",
       " ('thriller', 4, 0.8590762543678283),\n",
       " ('filled', 5, 0.6606353822350503),\n",
       " ('with', 6, 0.8455197700858116),\n",
       " ('surprises', 7, 0.7891208632290362),\n",
       " ('.', 8, 0.7589593331515788)]"
      ]
     },
     "execution_count": 8,
     "metadata": {},
     "output_type": "execute_result"
    }
   ],
   "source": [
    "# An explanation is returned for each label, but we ask for just one label so the output is a list of length one.\n",
    "explanation_relevances =  dianna.explain_text(model_runner, review, model_runner.tokenizer, 'RISE',\n",
    "                                              labels=[labels.index('positive')])[0]\n",
    "explanation_relevances"
   ]
  },
  {
   "cell_type": "markdown",
   "id": "858293ed",
   "metadata": {},
   "source": [
    "#### 3 - Visualization\n",
    "DIANNA includes a visualization package, capable of highlighting each word of a text based on their relevance scores. The visualization is in HTML format.\n",
    "In this visualization, words in favour of the selected class are highlighted in red. Words against the selected class are not present in this example, otherwise they would be highlighted in blue."
   ]
  },
  {
   "cell_type": "code",
   "execution_count": 9,
   "id": "ef1f6353",
   "metadata": {},
   "outputs": [
    {
     "data": {
      "image/png": "[encoded data removed]",
      "text/plain": [
       "<Figure size 720x72 with 2 Axes>"
      ]
     },
     "metadata": {
      "needs_background": "light"
     },
     "output_type": "display_data"
    }
   ],
   "source": [
    "fig, _ = visualization.highlight_text(explanation_relevances, model_runner.tokenizer.tokenize(review))"
   ]
  },
  {
   "cell_type": "markdown",
   "id": "08b7e149",
   "metadata": {},
   "source": [
    "All words seem relevant to the review's classification outcome. From the numerical values above, it is confirmed that all words contribute positively according to RISE, with \"intriguing\" as the most important word with the highest positive relevance score."
   ]
  },
  {
   "cell_type": "markdown",
   "id": "1ecf3008-5a3e-4a40-a170-35e736d81998",
   "metadata": {},
   "source": [
    "#### Trying more text explanations"
   ]
  },
  {
   "cell_type": "markdown",
   "id": "dc0fcdcc-3bae-4d2c-ba43-89d6bdce0d40",
   "metadata": {},
   "source": [
    "And what are the words' relevancies to a '**negative**' classification decision?"
   ]
  },
  {
   "cell_type": "code",
   "execution_count": 10,
   "id": "15a7f909-7c36-44c9-9857-8bd3d8bcbe99",
   "metadata": {},
   "outputs": [
    {
     "name": "stderr",
     "output_type": "stream",
     "text": [
      "Explaining:   0%|                                                                                                                                      | 0/10 [00:00<?, ?it/s]/var/folders/rj/_8tmcy8118q5h1zc_3dz1rz00000gn/T/ipykernel_57896/2131265396.py:26: DeprecationWarning: Conversion of an array with ndim > 0 to a scalar is deprecated, and will error in future. Ensure you extract a single element from your array before performing this operation. (Deprecated NumPy 1.25.)\n",
      "  pred = float(sigmoid(self.run_model([tokens_numerical])))\n",
      "Explaining: 100%|█████████████████████████████████████████████████████████████████████████████████████████████████████████████████████████████| 10/10 [00:10<00:00,  1.02s/it]\n",
      "Explaining: 100%|█████████████████████████████████████████████████████████████████████████████████████████████████████████████████████████████| 10/10 [00:10<00:00,  1.02s/it]\n",
      "Explaining: 100%|█████████████████████████████████████████████████████████████████████████████████████████████████████████████████████████████| 10/10 [00:10<00:00,  1.03s/it]\n",
      "Explaining: 100%|█████████████████████████████████████████████████████████████████████████████████████████████████████████████████████████████| 10/10 [00:10<00:00,  1.02s/it]\n",
      "Explaining: 100%|█████████████████████████████████████████████████████████████████████████████████████████████████████████████████████████████| 10/10 [00:10<00:00,  1.04s/it]\n",
      "Explaining: 100%|█████████████████████████████████████████████████████████████████████████████████████████████████████████████████████████████| 10/10 [00:10<00:00,  1.02s/it]\n",
      "Explaining: 100%|█████████████████████████████████████████████████████████████████████████████████████████████████████████████████████████████| 10/10 [00:10<00:00,  1.03s/it]\n",
      "Explaining: 100%|█████████████████████████████████████████████████████████████████████████████████████████████████████████████████████████████| 10/10 [00:10<00:00,  1.04s/it]\n",
      "Explaining: 100%|█████████████████████████████████████████████████████████████████████████████████████████████████████████████████████████████| 10/10 [00:10<00:00,  1.03s/it]\n"
     ]
    },
    {
     "name": "stdout",
     "output_type": "stream",
     "text": [
      "Rise parameter p_keep was automatically determined at 0.2\n"
     ]
    },
    {
     "name": "stderr",
     "output_type": "stream",
     "text": [
      "Explaining: 100%|█████████████████████████████████████████████████████████████████████████████████████████████████████████████████████████████| 10/10 [00:10<00:00,  1.03s/it]\n"
     ]
    },
    {
     "data": {
      "text/plain": [
       "[('A', 0, 0.24567474484443663),\n",
       " ('delectable', 1, 0.1349274933338165),\n",
       " ('and', 2, 0.26932167425751685),\n",
       " ('intriguing', 3, 0.020306619107723235),\n",
       " ('thriller', 4, 0.15377337276935577),\n",
       " ('filled', 5, 0.30352758169174193),\n",
       " ('with', 6, 0.24570873886346814),\n",
       " ('surprises', 7, 0.2859520173072815),\n",
       " ('.', 8, 0.2851527728140354)]"
      ]
     },
     "execution_count": 10,
     "metadata": {},
     "output_type": "execute_result"
    }
   ],
   "source": [
    "explanation_relevances =  dianna.explain_text(model_runner, review, model_runner.tokenizer, 'RISE',\n",
    "                                              labels=[labels.index('negative')])[0]\n",
    "explanation_relevances"
   ]
  },
  {
   "cell_type": "code",
   "execution_count": 11,
   "id": "1235620e-9c46-4868-a55c-3e4caeddb833",
   "metadata": {},
   "outputs": [
    {
     "data": {
      "image/png": "[encoded data removed]",
      "text/plain": [
       "<Figure size 720x72 with 2 Axes>"
      ]
     },
     "metadata": {
      "needs_background": "light"
     },
     "output_type": "display_data"
    }
   ],
   "source": [
    "fig, _ = visualization.highlight_text(explanation_relevances, model_runner.tokenizer.tokenize(review))"
   ]
  },
  {
   "cell_type": "markdown",
   "id": "75f50d62-9c27-4831-a1b1-9e6595daa88d",
   "metadata": {},
   "source": [
    "Interestingly, RISE still gives positive, though smaller, relevance scores."
   ]
  },
  {
   "cell_type": "markdown",
   "id": "df2b470a-d002-4774-ac48-be972e2b34cd",
   "metadata": {},
   "source": [
    "Let's try RISE on a negative review."
   ]
  },
  {
   "cell_type": "code",
   "execution_count": 12,
   "id": "ad101d6b-5ec4-4324-b3b8-7224e6375255",
   "metadata": {},
   "outputs": [],
   "source": [
    "review = \"What an auwful movie!\""
   ]
  },
  {
   "cell_type": "code",
   "execution_count": 13,
   "id": "781769e7-9744-4afb-a764-c2829986f4a9",
   "metadata": {},
   "outputs": [
    {
     "name": "stderr",
     "output_type": "stream",
     "text": [
      "Explaining:   0%|                                                                                                                                      | 0/10 [00:00<?, ?it/s]/var/folders/rj/_8tmcy8118q5h1zc_3dz1rz00000gn/T/ipykernel_57896/2131265396.py:26: DeprecationWarning: Conversion of an array with ndim > 0 to a scalar is deprecated, and will error in future. Ensure you extract a single element from your array before performing this operation. (Deprecated NumPy 1.25.)\n",
      "  pred = float(sigmoid(self.run_model([tokens_numerical])))\n",
      "Explaining: 100%|█████████████████████████████████████████████████████████████████████████████████████████████████████████████████████████████| 10/10 [00:11<00:00,  1.14s/it]\n",
      "Explaining: 100%|█████████████████████████████████████████████████████████████████████████████████████████████████████████████████████████████| 10/10 [00:12<00:00,  1.25s/it]\n",
      "Explaining: 100%|█████████████████████████████████████████████████████████████████████████████████████████████████████████████████████████████| 10/10 [00:12<00:00,  1.24s/it]\n",
      "Explaining: 100%|█████████████████████████████████████████████████████████████████████████████████████████████████████████████████████████████| 10/10 [00:11<00:00,  1.14s/it]\n",
      "Explaining: 100%|█████████████████████████████████████████████████████████████████████████████████████████████████████████████████████████████| 10/10 [00:11<00:00,  1.13s/it]\n",
      "Explaining: 100%|█████████████████████████████████████████████████████████████████████████████████████████████████████████████████████████████| 10/10 [00:10<00:00,  1.09s/it]\n",
      "Explaining: 100%|█████████████████████████████████████████████████████████████████████████████████████████████████████████████████████████████| 10/10 [00:11<00:00,  1.10s/it]\n",
      "Explaining: 100%|█████████████████████████████████████████████████████████████████████████████████████████████████████████████████████████████| 10/10 [00:12<00:00,  1.22s/it]\n",
      "Explaining: 100%|█████████████████████████████████████████████████████████████████████████████████████████████████████████████████████████████| 10/10 [00:15<00:00,  1.52s/it]\n"
     ]
    },
    {
     "name": "stdout",
     "output_type": "stream",
     "text": [
      "Rise parameter p_keep was automatically determined at 0.5\n"
     ]
    },
    {
     "name": "stderr",
     "output_type": "stream",
     "text": [
      "Explaining: 100%|█████████████████████████████████████████████████████████████████████████████████████████████████████████████████████████████| 10/10 [00:12<00:00,  1.29s/it]\n"
     ]
    },
    {
     "data": {
      "text/plain": [
       "[('What', 0, 0.5585659542679786),\n",
       " ('an', 1, 0.551299241900444),\n",
       " ('auwful', 2, 0.5386798014044761),\n",
       " ('movie', 3, 0.4678982335329056),\n",
       " ('!', 4, 0.5218451062440872)]"
      ]
     },
     "execution_count": 13,
     "metadata": {},
     "output_type": "execute_result"
    }
   ],
   "source": [
    "explanation_relevances =  dianna.explain_text(model_runner, review, model_runner.tokenizer, 'RISE',\n",
    "                                              labels=[labels.index('positive')])[0]\n",
    "explanation_relevances"
   ]
  },
  {
   "cell_type": "code",
   "execution_count": 14,
   "id": "d7541ef8-73fd-4962-9a4a-b11f4ce2bb53",
   "metadata": {},
   "outputs": [
    {
     "data": {
      "image/png": "[encoded data removed]",
      "text/plain": [
       "<Figure size 720x72 with 2 Axes>"
      ]
     },
     "metadata": {
      "needs_background": "light"
     },
     "output_type": "display_data"
    }
   ],
   "source": [
    "fig, _ = visualization.highlight_text(explanation_relevances, model_runner.tokenizer.tokenize(review))"
   ]
  },
  {
   "cell_type": "code",
   "execution_count": 15,
   "id": "170df017-db46-4864-ba9b-622c86770950",
   "metadata": {},
   "outputs": [
    {
     "name": "stderr",
     "output_type": "stream",
     "text": [
      "Explaining:   0%|                                                                                                                                      | 0/10 [00:00<?, ?it/s]/var/folders/rj/_8tmcy8118q5h1zc_3dz1rz00000gn/T/ipykernel_57896/2131265396.py:26: DeprecationWarning: Conversion of an array with ndim > 0 to a scalar is deprecated, and will error in future. Ensure you extract a single element from your array before performing this operation. (Deprecated NumPy 1.25.)\n",
      "  pred = float(sigmoid(self.run_model([tokens_numerical])))\n",
      "Explaining: 100%|█████████████████████████████████████████████████████████████████████████████████████████████████████████████████████████████| 10/10 [00:12<00:00,  1.20s/it]\n",
      "Explaining: 100%|█████████████████████████████████████████████████████████████████████████████████████████████████████████████████████████████| 10/10 [00:12<00:00,  1.24s/it]\n",
      "Explaining: 100%|█████████████████████████████████████████████████████████████████████████████████████████████████████████████████████████████| 10/10 [00:12<00:00,  1.25s/it]\n",
      "Explaining: 100%|█████████████████████████████████████████████████████████████████████████████████████████████████████████████████████████████| 10/10 [00:12<00:00,  1.25s/it]\n",
      "Explaining: 100%|█████████████████████████████████████████████████████████████████████████████████████████████████████████████████████████████| 10/10 [00:12<00:00,  1.21s/it]\n",
      "Explaining: 100%|█████████████████████████████████████████████████████████████████████████████████████████████████████████████████████████████| 10/10 [00:12<00:00,  1.23s/it]\n",
      "Explaining: 100%|█████████████████████████████████████████████████████████████████████████████████████████████████████████████████████████████| 10/10 [00:12<00:00,  1.20s/it]\n",
      "Explaining: 100%|█████████████████████████████████████████████████████████████████████████████████████████████████████████████████████████████| 10/10 [00:12<00:00,  1.22s/it]\n",
      "Explaining: 100%|█████████████████████████████████████████████████████████████████████████████████████████████████████████████████████████████| 10/10 [00:12<00:00,  1.23s/it]\n"
     ]
    },
    {
     "name": "stdout",
     "output_type": "stream",
     "text": [
      "Rise parameter p_keep was automatically determined at 0.5\n"
     ]
    },
    {
     "name": "stderr",
     "output_type": "stream",
     "text": [
      "Explaining: 100%|█████████████████████████████████████████████████████████████████████████████████████████████████████████████████████████████| 10/10 [00:11<00:00,  1.19s/it]\n"
     ]
    },
    {
     "data": {
      "text/plain": [
       "[('What', 0, 0.41470666956901553),\n",
       " ('an', 1, 0.46841842705011366),\n",
       " ('auwful', 2, 0.4550933982133865),\n",
       " ('movie', 3, 0.5515895926356316),\n",
       " ('!', 4, 0.46371136182546613)]"
      ]
     },
     "execution_count": 15,
     "metadata": {},
     "output_type": "execute_result"
    }
   ],
   "source": [
    "explanation_relevances =  dianna.explain_text(model_runner, review, model_runner.tokenizer, 'RISE',\n",
    "                                              labels=[labels.index('negative')])[0]\n",
    "explanation_relevances"
   ]
  },
  {
   "cell_type": "code",
   "execution_count": 16,
   "id": "964614e8-c88f-4683-b155-08fc9ef20178",
   "metadata": {},
   "outputs": [
    {
     "data": {
      "image/png": "[encoded data removed]",
      "text/plain": [
       "<Figure size 720x72 with 2 Axes>"
      ]
     },
     "metadata": {
      "needs_background": "light"
     },
     "output_type": "display_data"
    }
   ],
   "source": [
    "fig, _ = visualization.highlight_text(explanation_relevances, model_runner.tokenizer.tokenize(review))"
   ]
  },
  {
   "cell_type": "markdown",
   "id": "e3bf1e08-5026-4190-ad5c-bee1581d090a",
   "metadata": {},
   "source": [
    "And what about a harder to classify review with mixed words, but still a clear **'negative'** sentiment?"
   ]
  },
  {
   "cell_type": "code",
   "execution_count": 17,
   "id": "6a9c0021-e489-4d9b-b02a-5864b24cf005",
   "metadata": {},
   "outputs": [],
   "source": [
    "mixed_review = 'The movie started great but the ending is boring and unoriginal!'"
   ]
  },
  {
   "cell_type": "code",
   "execution_count": 18,
   "id": "6f49b64c-b78b-4ed4-aaad-7a8abc07e58d",
   "metadata": {},
   "outputs": [
    {
     "name": "stderr",
     "output_type": "stream",
     "text": [
      "Explaining:   0%|                                                                                                                                      | 0/10 [00:00<?, ?it/s]/var/folders/rj/_8tmcy8118q5h1zc_3dz1rz00000gn/T/ipykernel_57896/2131265396.py:26: DeprecationWarning: Conversion of an array with ndim > 0 to a scalar is deprecated, and will error in future. Ensure you extract a single element from your array before performing this operation. (Deprecated NumPy 1.25.)\n",
      "  pred = float(sigmoid(self.run_model([tokens_numerical])))\n",
      "Explaining: 100%|█████████████████████████████████████████████████████████████████████████████████████████████████████████████████████████████| 10/10 [00:12<00:00,  1.22s/it]\n",
      "Explaining: 100%|█████████████████████████████████████████████████████████████████████████████████████████████████████████████████████████████| 10/10 [00:12<00:00,  1.28s/it]\n",
      "Explaining: 100%|█████████████████████████████████████████████████████████████████████████████████████████████████████████████████████████████| 10/10 [00:12<00:00,  1.21s/it]\n",
      "Explaining: 100%|█████████████████████████████████████████████████████████████████████████████████████████████████████████████████████████████| 10/10 [00:11<00:00,  1.12s/it]\n",
      "Explaining: 100%|█████████████████████████████████████████████████████████████████████████████████████████████████████████████████████████████| 10/10 [00:11<00:00,  1.10s/it]\n",
      "Explaining: 100%|█████████████████████████████████████████████████████████████████████████████████████████████████████████████████████████████| 10/10 [00:11<00:00,  1.17s/it]\n",
      "Explaining: 100%|█████████████████████████████████████████████████████████████████████████████████████████████████████████████████████████████| 10/10 [00:13<00:00,  1.33s/it]\n",
      "Explaining: 100%|█████████████████████████████████████████████████████████████████████████████████████████████████████████████████████████████| 10/10 [00:12<00:00,  1.22s/it]\n",
      "Explaining: 100%|█████████████████████████████████████████████████████████████████████████████████████████████████████████████████████████████| 10/10 [00:12<00:00,  1.23s/it]\n"
     ]
    },
    {
     "name": "stdout",
     "output_type": "stream",
     "text": [
      "Rise parameter p_keep was automatically determined at 0.5\n"
     ]
    },
    {
     "name": "stderr",
     "output_type": "stream",
     "text": [
      "Explaining: 100%|█████████████████████████████████████████████████████████████████████████████████████████████████████████████████████████████| 10/10 [00:12<00:00,  1.20s/it]\n"
     ]
    },
    {
     "data": {
      "text/plain": [
       "[('The', 0, 0.7169723920561373),\n",
       " ('movie', 1, 0.6687293334938585),\n",
       " ('started', 2, 0.6562253791633993),\n",
       " ('great', 3, 0.5401303122267127),\n",
       " ('but', 4, 0.6699208276085555),\n",
       " ('the', 5, 0.719041859857738),\n",
       " ('ending', 6, 0.7492872266341001),\n",
       " ('is', 7, 0.682789968572557),\n",
       " ('boring', 8, 0.8832048594653606),\n",
       " ('and', 9, 0.6724561789743603),\n",
       " ('unoriginal', 10, 0.6988800691720098),\n",
       " ('!', 11, 0.713891674624756)]"
      ]
     },
     "execution_count": 18,
     "metadata": {},
     "output_type": "execute_result"
    }
   ],
   "source": [
    "explanation_relevances =  dianna.explain_text(model_runner, mixed_review, model_runner.tokenizer, 'RISE',\n",
    "                                              labels=[labels.index('negative')])[0]\n",
    "explanation_relevances"
   ]
  },
  {
   "cell_type": "code",
   "execution_count": 19,
   "id": "2a70dc31-3a61-4374-99a1-bb2cd463b354",
   "metadata": {},
   "outputs": [
    {
     "data": {
      "image/png": "[encoded data removed]",
      "text/plain": [
       "<Figure size 720x72 with 2 Axes>"
      ]
     },
     "metadata": {
      "needs_background": "light"
     },
     "output_type": "display_data"
    }
   ],
   "source": [
    "fig, _ = visualization.highlight_text(explanation_relevances, model_runner.tokenizer.tokenize(mixed_review))"
   ]
  },
  {
   "cell_type": "markdown",
   "id": "aec20838-2529-4667-a871-f862c76eb5ce",
   "metadata": {},
   "source": [
    "All words contribute strongly to the 'negative' class, the least- the most positive word \"great\". \n",
    "\n",
    "What is the explanation if we question the model for its **'positive'** classification?"
   ]
  },
  {
   "cell_type": "code",
   "execution_count": 20,
   "id": "0dc7c5ef-7098-4dc8-a0c2-7d61b5994731",
   "metadata": {},
   "outputs": [
    {
     "name": "stderr",
     "output_type": "stream",
     "text": [
      "Explaining:   0%|                                                                                                                                      | 0/10 [00:00<?, ?it/s]/var/folders/rj/_8tmcy8118q5h1zc_3dz1rz00000gn/T/ipykernel_57896/2131265396.py:26: DeprecationWarning: Conversion of an array with ndim > 0 to a scalar is deprecated, and will error in future. Ensure you extract a single element from your array before performing this operation. (Deprecated NumPy 1.25.)\n",
      "  pred = float(sigmoid(self.run_model([tokens_numerical])))\n",
      "Explaining: 100%|█████████████████████████████████████████████████████████████████████████████████████████████████████████████████████████████| 10/10 [00:11<00:00,  1.13s/it]\n",
      "Explaining: 100%|█████████████████████████████████████████████████████████████████████████████████████████████████████████████████████████████| 10/10 [00:12<00:00,  1.20s/it]\n",
      "Explaining: 100%|█████████████████████████████████████████████████████████████████████████████████████████████████████████████████████████████| 10/10 [00:11<00:00,  1.11s/it]\n",
      "Explaining: 100%|█████████████████████████████████████████████████████████████████████████████████████████████████████████████████████████████| 10/10 [00:15<00:00,  1.55s/it]\n",
      "Explaining: 100%|█████████████████████████████████████████████████████████████████████████████████████████████████████████████████████████████| 10/10 [00:14<00:00,  1.40s/it]\n",
      "Explaining: 100%|█████████████████████████████████████████████████████████████████████████████████████████████████████████████████████████████| 10/10 [00:13<00:00,  1.36s/it]\n",
      "Explaining: 100%|█████████████████████████████████████████████████████████████████████████████████████████████████████████████████████████████| 10/10 [00:13<00:00,  1.34s/it]\n",
      "Explaining: 100%|█████████████████████████████████████████████████████████████████████████████████████████████████████████████████████████████| 10/10 [00:13<00:00,  1.39s/it]\n",
      "Explaining: 100%|█████████████████████████████████████████████████████████████████████████████████████████████████████████████████████████████| 10/10 [00:12<00:00,  1.29s/it]\n"
     ]
    },
    {
     "name": "stdout",
     "output_type": "stream",
     "text": [
      "Rise parameter p_keep was automatically determined at 0.4\n"
     ]
    },
    {
     "name": "stderr",
     "output_type": "stream",
     "text": [
      "Explaining: 100%|█████████████████████████████████████████████████████████████████████████████████████████████████████████████████████████████| 10/10 [00:14<00:00,  1.46s/it]\n"
     ]
    },
    {
     "data": {
      "text/plain": [
       "[('The', 0, 0.30712842611363156),\n",
       " ('movie', 1, 0.37241230026353145),\n",
       " ('started', 2, 0.3505748242978006),\n",
       " ('great', 3, 0.5125764565728604),\n",
       " ('but', 4, 0.360927327638492),\n",
       " ('the', 5, 0.397558942111209),\n",
       " ('ending', 6, 0.28833574101561676),\n",
       " ('is', 7, 0.3268587530846707),\n",
       " ('boring', 8, 0.09991051717661321),\n",
       " ('and', 9, 0.3289114627614617),\n",
       " ('unoriginal', 10, 0.2932515951246023),\n",
       " ('!', 11, 0.33868792382534596)]"
      ]
     },
     "execution_count": 20,
     "metadata": {},
     "output_type": "execute_result"
    }
   ],
   "source": [
    "explanation_relevances =  dianna.explain_text(model_runner, mixed_review, model_runner.tokenizer, 'RISE',\n",
    "                                              labels=[labels.index('positive')])[0]\n",
    "explanation_relevances"
   ]
  },
  {
   "cell_type": "code",
   "execution_count": 21,
   "id": "691316e4-0763-4301-b2fd-58d45b07b338",
   "metadata": {},
   "outputs": [
    {
     "data": {
      "image/png": "[encoded data removed]",
      "text/plain": [
       "<Figure size 720x72 with 2 Axes>"
      ]
     },
     "metadata": {
      "needs_background": "light"
     },
     "output_type": "display_data"
    }
   ],
   "source": [
    "fig, _ = visualization.highlight_text(explanation_relevances, model_runner.tokenizer.tokenize(mixed_review))"
   ]
  }
 ],
 "metadata": {
  "kernelspec": {
   "display_name": "Python 3 (ipykernel)",
   "language": "python",
   "name": "python3"
  },
  "language_info": {
   "codemirror_mode": {
    "name": "ipython",
    "version": 3
   },
   "file_extension": ".py",
   "mimetype": "text/x-python",
   "name": "python",
   "nbconvert_exporter": "python",
   "pygments_lexer": "ipython3",
   "version": "3.9.1"
  }
 },
 "nbformat": 4,
 "nbformat_minor": 5
}
