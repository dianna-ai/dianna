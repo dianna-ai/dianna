{
 "cells": [
  {
   "cell_type": "markdown",
   "id": "8179c57c",
   "metadata": {},
   "source": [
    "<img width=\"150\" alt=\"Logo_ER10\" src=\"https://user-images.githubusercontent.com/3244249/151994514-b584b984-a148-4ade-80ee-0f88b0aefa45.png\">\n",
    "\n",
    "### Interpreting a movie review sentiment model with RISE\n",
    "This notebook demonstrates the use of DIANNA with the RISE method on the [Stanford Sentiment Treebank dataset](https://nlp.stanford.edu/sentiment/index.html) which contains one-sentence movie reviews. See also [their paper](https://nlp.stanford.edu/~socherr/EMNLP2013_RNTN.pdf). A pre-trained neural network classifier is used, which identifies whether a movie review is positive or negative.\n",
    "\n",
    "[RISE](http://bmvc2018.org/contents/papers/1064.pdf) is short for Randomized Input Sampling for Explanation of Black-box Models. It estimates each word's relevance to the model's decision empirically by probing the model with randomly masked versions of the input image and obtaining the corresponding outputs.  \n",
    "\n",
    "*NOTE*: This tutorial is still work-in-progress, the final results need to be improved by tweaking the RISE parameters"
   ]
  },
  {
   "cell_type": "markdown",
   "id": "242b796c",
   "metadata": {},
   "source": [
    "#### Colab Setup"
   ]
  },
  {
   "cell_type": "code",
   "execution_count": 1,
   "id": "897b2477",
   "metadata": {},
   "outputs": [],
   "source": [
    "from pathlib import Path\n",
    "\n",
    "running_in_colab = 'google.colab' in str(get_ipython())\n",
    "if running_in_colab:\n",
    "    # install dianna\n",
    "    !python3 -m pip install dianna[notebooks]"
   ]
  },
  {
   "cell_type": "markdown",
   "id": "50fd3dee",
   "metadata": {},
   "source": [
    "#### 0 -  Imports and paths"
   ]
  },
  {
   "cell_type": "code",
   "execution_count": 2,
   "id": "f705ebfe",
   "metadata": {},
   "outputs": [
    {
     "name": "stderr",
     "output_type": "stream",
     "text": [
      "/home/elenar/.local/lib/python3.10/site-packages/torchtext/vocab/__init__.py:4: UserWarning: \n",
      "/!\\ IMPORTANT WARNING ABOUT TORCHTEXT STATUS /!\\ \n",
      "Torchtext is deprecated and the last released version will be 0.18 (this one). You can silence this warning by calling the following at the beginnign of your scripts: `import torchtext; torchtext.disable_torchtext_deprecation_warning()`\n",
      "  warnings.warn(torchtext._TORCHTEXT_DEPRECATION_MSG)\n",
      "/home/elenar/.local/lib/python3.10/site-packages/torchtext/utils.py:4: UserWarning: \n",
      "/!\\ IMPORTANT WARNING ABOUT TORCHTEXT STATUS /!\\ \n",
      "Torchtext is deprecated and the last released version will be 0.18 (this one). You can silence this warning by calling the following at the beginnign of your scripts: `import torchtext; torchtext.disable_torchtext_deprecation_warning()`\n",
      "  warnings.warn(torchtext._TORCHTEXT_DEPRECATION_MSG)\n",
      "/home/elenar/.local/lib/python3.10/site-packages/torchtext/data/__init__.py:4: UserWarning: \n",
      "/!\\ IMPORTANT WARNING ABOUT TORCHTEXT STATUS /!\\ \n",
      "Torchtext is deprecated and the last released version will be 0.18 (this one). You can silence this warning by calling the following at the beginnign of your scripts: `import torchtext; torchtext.disable_torchtext_deprecation_warning()`\n",
      "  warnings.warn(torchtext._TORCHTEXT_DEPRECATION_MSG)\n"
     ]
    }
   ],
   "source": [
    "import os\n",
    "import matplotlib.pyplot as plt\n",
    "import numpy as np\n",
    "import spacy\n",
    "from torchtext.vocab import Vectors\n",
    "from scipy.special import expit as sigmoid\n",
    "\n",
    "import dianna\n",
    "from dianna import visualization\n",
    "from dianna import utils\n",
    "from dianna.utils.tokenizers import SpacyTokenizer\n",
    "\n",
    "root_dir = Path(dianna.__file__).parent"
   ]
  },
  {
   "cell_type": "code",
   "execution_count": 3,
   "id": "79b95d61",
   "metadata": {},
   "outputs": [],
   "source": [
    "model_path = Path(root_dir, 'models', 'movie_review_model.onnx')\n",
    "word_vector_path = Path(root_dir, 'data', 'movie_reviews_word_vectors.txt')\n",
    "labels = (\"negative\", \"positive\")"
   ]
  },
  {
   "cell_type": "markdown",
   "id": "f42c4b53",
   "metadata": {},
   "source": [
    "#### 1 - Loading the model\n",
    "\n",
    "The classifier is stored in ONNX format. It accepts numerical tokens as input, and outputs a score between 0 and 1, where 0 means the review is negative and 1 that it is positive.  \n",
    "Here we define a class to run the model, which accepts a sentence (i.e. string) as input instead and returns two classes: negative and positive."
   ]
  },
  {
   "cell_type": "code",
   "execution_count": 4,
   "id": "712db400",
   "metadata": {
    "tags": []
   },
   "outputs": [
    {
     "name": "stdout",
     "output_type": "stream",
     "text": [
      "Defaulting to user installation because normal site-packages is not writeable\n",
      "Collecting en-core-web-sm==3.7.1\n",
      "  Downloading https://github.com/explosion/spacy-models/releases/download/en_core_web_sm-3.7.1/en_core_web_sm-3.7.1-py3-none-any.whl (12.8 MB)\n",
      "     ━━━━━━━━━━━━━━━━━━━━━━━━━━━━━━━━━━━━━━━━ 12.8/12.8 MB 5.8 MB/s eta 0:00:00\n",
      "Requirement already satisfied: spacy<3.8.0,>=3.7.2 in /home/elenar/.local/lib/python3.10/site-packages (from en-core-web-sm==3.7.1) (3.7.4)\n",
      "Requirement already satisfied: wasabi<1.2.0,>=0.9.1 in /home/elenar/.local/lib/python3.10/site-packages (from spacy<3.8.0,>=3.7.2->en-core-web-sm==3.7.1) (1.1.2)\n",
      "Requirement already satisfied: pydantic!=1.8,!=1.8.1,<3.0.0,>=1.7.4 in /home/elenar/.local/lib/python3.10/site-packages (from spacy<3.8.0,>=3.7.2->en-core-web-sm==3.7.1) (2.7.1)\n",
      "Requirement already satisfied: cymem<2.1.0,>=2.0.2 in /home/elenar/.local/lib/python3.10/site-packages (from spacy<3.8.0,>=3.7.2->en-core-web-sm==3.7.1) (2.0.8)\n",
      "Requirement already satisfied: srsly<3.0.0,>=2.4.3 in /home/elenar/.local/lib/python3.10/site-packages (from spacy<3.8.0,>=3.7.2->en-core-web-sm==3.7.1) (2.4.8)\n",
      "Requirement already satisfied: langcodes<4.0.0,>=3.2.0 in /home/elenar/.local/lib/python3.10/site-packages (from spacy<3.8.0,>=3.7.2->en-core-web-sm==3.7.1) (3.4.0)\n",
      "Requirement already satisfied: thinc<8.3.0,>=8.2.2 in /home/elenar/.local/lib/python3.10/site-packages (from spacy<3.8.0,>=3.7.2->en-core-web-sm==3.7.1) (8.2.3)\n",
      "Requirement already satisfied: spacy-legacy<3.1.0,>=3.0.11 in /home/elenar/.local/lib/python3.10/site-packages (from spacy<3.8.0,>=3.7.2->en-core-web-sm==3.7.1) (3.0.12)\n",
      "Requirement already satisfied: packaging>=20.0 in /home/elenar/.local/lib/python3.10/site-packages (from spacy<3.8.0,>=3.7.2->en-core-web-sm==3.7.1) (24.0)\n",
      "Requirement already satisfied: murmurhash<1.1.0,>=0.28.0 in /home/elenar/.local/lib/python3.10/site-packages (from spacy<3.8.0,>=3.7.2->en-core-web-sm==3.7.1) (1.0.10)\n",
      "Requirement already satisfied: requests<3.0.0,>=2.13.0 in /home/elenar/.local/lib/python3.10/site-packages (from spacy<3.8.0,>=3.7.2->en-core-web-sm==3.7.1) (2.32.2)\n",
      "Requirement already satisfied: typer<0.10.0,>=0.3.0 in /home/elenar/.local/lib/python3.10/site-packages (from spacy<3.8.0,>=3.7.2->en-core-web-sm==3.7.1) (0.9.4)\n",
      "Requirement already satisfied: setuptools in /usr/lib/python3/dist-packages (from spacy<3.8.0,>=3.7.2->en-core-web-sm==3.7.1) (59.6.0)\n",
      "Requirement already satisfied: spacy-loggers<2.0.0,>=1.0.0 in /home/elenar/.local/lib/python3.10/site-packages (from spacy<3.8.0,>=3.7.2->en-core-web-sm==3.7.1) (1.0.5)\n",
      "Requirement already satisfied: tqdm<5.0.0,>=4.38.0 in /home/elenar/.local/lib/python3.10/site-packages (from spacy<3.8.0,>=3.7.2->en-core-web-sm==3.7.1) (4.66.4)\n",
      "Requirement already satisfied: jinja2 in /home/elenar/.local/lib/python3.10/site-packages (from spacy<3.8.0,>=3.7.2->en-core-web-sm==3.7.1) (3.1.4)\n",
      "Requirement already satisfied: weasel<0.4.0,>=0.1.0 in /home/elenar/.local/lib/python3.10/site-packages (from spacy<3.8.0,>=3.7.2->en-core-web-sm==3.7.1) (0.3.4)\n",
      "Requirement already satisfied: catalogue<2.1.0,>=2.0.6 in /home/elenar/.local/lib/python3.10/site-packages (from spacy<3.8.0,>=3.7.2->en-core-web-sm==3.7.1) (2.0.10)\n",
      "Requirement already satisfied: numpy>=1.19.0 in /home/elenar/.local/lib/python3.10/site-packages (from spacy<3.8.0,>=3.7.2->en-core-web-sm==3.7.1) (1.26.4)\n",
      "Requirement already satisfied: preshed<3.1.0,>=3.0.2 in /home/elenar/.local/lib/python3.10/site-packages (from spacy<3.8.0,>=3.7.2->en-core-web-sm==3.7.1) (3.0.9)\n",
      "Requirement already satisfied: smart-open<7.0.0,>=5.2.1 in /home/elenar/.local/lib/python3.10/site-packages (from spacy<3.8.0,>=3.7.2->en-core-web-sm==3.7.1) (6.4.0)\n",
      "Requirement already satisfied: language-data>=1.2 in /home/elenar/.local/lib/python3.10/site-packages (from langcodes<4.0.0,>=3.2.0->spacy<3.8.0,>=3.7.2->en-core-web-sm==3.7.1) (1.2.0)\n",
      "Requirement already satisfied: pydantic-core==2.18.2 in /home/elenar/.local/lib/python3.10/site-packages (from pydantic!=1.8,!=1.8.1,<3.0.0,>=1.7.4->spacy<3.8.0,>=3.7.2->en-core-web-sm==3.7.1) (2.18.2)\n",
      "Requirement already satisfied: annotated-types>=0.4.0 in /home/elenar/.local/lib/python3.10/site-packages (from pydantic!=1.8,!=1.8.1,<3.0.0,>=1.7.4->spacy<3.8.0,>=3.7.2->en-core-web-sm==3.7.1) (0.7.0)\n",
      "Requirement already satisfied: typing-extensions>=4.6.1 in /home/elenar/.local/lib/python3.10/site-packages (from pydantic!=1.8,!=1.8.1,<3.0.0,>=1.7.4->spacy<3.8.0,>=3.7.2->en-core-web-sm==3.7.1) (4.12.0)\n",
      "Requirement already satisfied: charset-normalizer<4,>=2 in /home/elenar/.local/lib/python3.10/site-packages (from requests<3.0.0,>=2.13.0->spacy<3.8.0,>=3.7.2->en-core-web-sm==3.7.1) (3.3.2)\n",
      "Requirement already satisfied: urllib3<3,>=1.21.1 in /home/elenar/.local/lib/python3.10/site-packages (from requests<3.0.0,>=2.13.0->spacy<3.8.0,>=3.7.2->en-core-web-sm==3.7.1) (2.2.1)\n",
      "Requirement already satisfied: idna<4,>=2.5 in /home/elenar/.local/lib/python3.10/site-packages (from requests<3.0.0,>=2.13.0->spacy<3.8.0,>=3.7.2->en-core-web-sm==3.7.1) (3.7)\n",
      "Requirement already satisfied: certifi>=2017.4.17 in /home/elenar/.local/lib/python3.10/site-packages (from requests<3.0.0,>=2.13.0->spacy<3.8.0,>=3.7.2->en-core-web-sm==3.7.1) (2024.2.2)\n",
      "Requirement already satisfied: confection<1.0.0,>=0.0.1 in /home/elenar/.local/lib/python3.10/site-packages (from thinc<8.3.0,>=8.2.2->spacy<3.8.0,>=3.7.2->en-core-web-sm==3.7.1) (0.1.4)\n",
      "Requirement already satisfied: blis<0.8.0,>=0.7.8 in /home/elenar/.local/lib/python3.10/site-packages (from thinc<8.3.0,>=8.2.2->spacy<3.8.0,>=3.7.2->en-core-web-sm==3.7.1) (0.7.11)\n",
      "Requirement already satisfied: click<9.0.0,>=7.1.1 in /home/elenar/.local/lib/python3.10/site-packages (from typer<0.10.0,>=0.3.0->spacy<3.8.0,>=3.7.2->en-core-web-sm==3.7.1) (8.1.7)\n",
      "Requirement already satisfied: cloudpathlib<0.17.0,>=0.7.0 in /home/elenar/.local/lib/python3.10/site-packages (from weasel<0.4.0,>=0.1.0->spacy<3.8.0,>=3.7.2->en-core-web-sm==3.7.1) (0.16.0)\n",
      "Requirement already satisfied: MarkupSafe>=2.0 in /home/elenar/.local/lib/python3.10/site-packages (from jinja2->spacy<3.8.0,>=3.7.2->en-core-web-sm==3.7.1) (2.1.5)\n",
      "Requirement already satisfied: marisa-trie>=0.7.7 in /home/elenar/.local/lib/python3.10/site-packages (from language-data>=1.2->langcodes<4.0.0,>=3.2.0->spacy<3.8.0,>=3.7.2->en-core-web-sm==3.7.1) (1.1.1)\n",
      "\u001b[38;5;2m✔ Download and installation successful\u001b[0m\n",
      "You can now load the package via spacy.load('en_core_web_sm')\n",
      "\u001b[38;5;3m⚠ Restart to reload dependencies\u001b[0m\n",
      "If you are in a Jupyter or Colab notebook, you may need to restart Python in\n",
      "order to load all the package's dependencies. You can do this by selecting the\n",
      "'Restart kernel' or 'Restart runtime' option.\n"
     ]
    }
   ],
   "source": [
    "# ensure the tokenizer for english is available\n",
    "spacy.cli.download('en_core_web_sm')"
   ]
  },
  {
   "cell_type": "code",
   "execution_count": 5,
   "id": "d558af74",
   "metadata": {},
   "outputs": [],
   "source": [
    "class MovieReviewsModelRunner:\n",
    "    def __init__(self, model, word_vectors, max_filter_size):\n",
    "        self.run_model = utils.get_function(model)\n",
    "        self.vocab = Vectors(word_vectors, cache=os.path.dirname(word_vectors))\n",
    "        self.max_filter_size = max_filter_size\n",
    "        \n",
    "        self.tokenizer = SpacyTokenizer(name='en_core_web_sm')\n",
    "\n",
    "    def __call__(self, sentences):\n",
    "        # ensure the input has a batch axis\n",
    "        if isinstance(sentences, str):\n",
    "            sentences = [sentences]\n",
    "\n",
    "        output = []\n",
    "        for sentence in sentences:\n",
    "            # tokenize and pad to minimum length\n",
    "            tokens = self.tokenizer.tokenize(sentence.lower())\n",
    "            if len(tokens) < self.max_filter_size:\n",
    "                tokens += ['<pad>'] * (self.max_filter_size - len(tokens))\n",
    "            \n",
    "            # numericalize the tokens\n",
    "            tokens_numerical = [self.vocab.stoi[token] if token in self.vocab.stoi else self.vocab.stoi['<unk>']\n",
    "                                for token in tokens]\n",
    "\n",
    "            # run the model, applying a sigmoid because the model outputs logits, remove any remaining batch axis\n",
    "            pred = float(sigmoid(self.run_model([tokens_numerical])))\n",
    "            output.append(pred)\n",
    "\n",
    "        # output two classes\n",
    "        positivity = np.array(output)\n",
    "        negativity = 1 - positivity\n",
    "        return np.transpose([negativity, positivity])\n",
    "            "
   ]
  },
  {
   "cell_type": "code",
   "execution_count": 6,
   "id": "48c268ba",
   "metadata": {},
   "outputs": [],
   "source": [
    "# define model runner. max_filter_size is a property of the model\n",
    "model_runner = MovieReviewsModelRunner(model_path, word_vector_path, max_filter_size=5)"
   ]
  },
  {
   "cell_type": "markdown",
   "id": "1d182278",
   "metadata": {},
   "source": [
    "#### 2 - Applying RISE with DIANNA\n",
    "The simplest way to run DIANNA on text data is with `dianna.explain_text`. The arguments are:\n",
    "* The function that runs the model (a path to a model in ONNX format is also accepted)\n",
    "* The text we want to explain\n",
    "* The name of the explainable-AI method we want to use, here RISE\n",
    "* The numerical indices of the classes we want an explanation for\n",
    "\n",
    "`dianna.explain_text` returns a list of tuples. Each tuple contains a word, its location in the input text, and its relevance for the selected output class"
   ]
  },
  {
   "cell_type": "code",
   "execution_count": 7,
   "id": "2d21c06e",
   "metadata": {},
   "outputs": [],
   "source": [
    "review = \"A delectable and intriguing thriller filled with surprises.\""
   ]
  },
  {
   "cell_type": "code",
   "execution_count": 8,
   "id": "d65cf3e6",
   "metadata": {},
   "outputs": [
    {
     "name": "stderr",
     "output_type": "stream",
     "text": [
      "Explaining:   0%|                                                                                | 0/10 [00:00<?, ?it/s]/tmp/ipykernel_273019/2131265396.py:26: DeprecationWarning: Conversion of an array with ndim > 0 to a scalar is deprecated, and will error in future. Ensure you extract a single element from your array before performing this operation. (Deprecated NumPy 1.25.)\n",
      "  pred = float(sigmoid(self.run_model([tokens_numerical])))\n",
      "Explaining: 100%|███████████████████████████████████████████████████████████████████████| 10/10 [00:07<00:00,  1.34it/s]\n",
      "Explaining: 100%|███████████████████████████████████████████████████████████████████████| 10/10 [00:10<00:00,  1.02s/it]\n",
      "Explaining: 100%|███████████████████████████████████████████████████████████████████████| 10/10 [00:09<00:00,  1.04it/s]\n",
      "Explaining: 100%|███████████████████████████████████████████████████████████████████████| 10/10 [00:09<00:00,  1.05it/s]\n",
      "Explaining: 100%|███████████████████████████████████████████████████████████████████████| 10/10 [00:10<00:00,  1.01s/it]\n",
      "Explaining: 100%|███████████████████████████████████████████████████████████████████████| 10/10 [00:09<00:00,  1.04it/s]\n",
      "Explaining: 100%|███████████████████████████████████████████████████████████████████████| 10/10 [00:09<00:00,  1.06it/s]\n",
      "Explaining: 100%|███████████████████████████████████████████████████████████████████████| 10/10 [00:09<00:00,  1.00it/s]\n",
      "Explaining: 100%|███████████████████████████████████████████████████████████████████████| 10/10 [00:13<00:00,  1.34s/it]\n"
     ]
    },
    {
     "name": "stdout",
     "output_type": "stream",
     "text": [
      "Rise parameter p_keep was automatically determined at 0.2\n"
     ]
    },
    {
     "name": "stderr",
     "output_type": "stream",
     "text": [
      "Explaining: 100%|███████████████████████████████████████████████████████████████████████| 10/10 [00:09<00:00,  1.02it/s]\n"
     ]
    },
    {
     "data": {
      "text/plain": [
       "[('A', 0, 0.7407087522745133),\n",
       " ('delectable', 1, 0.8495311078429222),\n",
       " ('and', 2, 0.7926856181025504),\n",
       " ('intriguing', 3, 0.9816137245297432),\n",
       " ('thriller', 4, 0.8030024805665016),\n",
       " ('filled', 5, 0.6749338687956332),\n",
       " ('with', 6, 0.8026320919394493),\n",
       " ('surprises', 7, 0.6744742055237293),\n",
       " ('.', 8, 0.6336713024973869)]"
      ]
     },
     "execution_count": 8,
     "metadata": {},
     "output_type": "execute_result"
    }
   ],
   "source": [
    "# An explanation is returned for each label, but we ask for just one label so the output is a list of length one.\n",
    "explanation_relevances =  dianna.explain_text(model_runner, review, model_runner.tokenizer, 'RISE',\n",
    "                                              labels=[labels.index('positive')])[0]\n",
    "explanation_relevances"
   ]
  },
  {
   "cell_type": "markdown",
   "id": "858293ed",
   "metadata": {},
   "source": [
    "#### 3 - Visualization\n",
    "DIANNA includes a visualization package, capable of highlighting each word of a text based on their relevance scores. The visualization is in HTML format.\n",
    "In this visualization, words in favour of the selected class are highlighted in red. Words against the selected class are not present in this example, otherwise they would be highlighted in blue."
   ]
  },
  {
   "cell_type": "code",
   "execution_count": 9,
   "id": "ef1f6353",
   "metadata": {},
   "outputs": [
    {
     "data": {
      "image/png": "[encoded data removed]",
      "text/plain": [
       "<Figure size 1000x100 with 2 Axes>"
      ]
     },
     "metadata": {},
     "output_type": "display_data"
    }
   ],
   "source": [
    "fig, _ = visualization.highlight_text(explanation_relevances, model_runner.tokenizer.tokenize(review), colormap='bwr')"
   ]
  },
  {
   "cell_type": "markdown",
   "id": "08b7e149",
   "metadata": {},
   "source": [
    "All words seem relevant to the review's classification outcome. From the numerical values above, it is confirmed that all words contribute positively according to RISE, with \"intriguing\" as the most important word with the highest positive relevance score."
   ]
  },
  {
   "cell_type": "markdown",
   "id": "1ecf3008-5a3e-4a40-a170-35e736d81998",
   "metadata": {},
   "source": [
    "#### Trying more text explanations"
   ]
  },
  {
   "cell_type": "markdown",
   "id": "dc0fcdcc-3bae-4d2c-ba43-89d6bdce0d40",
   "metadata": {},
   "source": [
    "And what are the words' relevancies to a '**negative**' classification decision?"
   ]
  },
  {
   "cell_type": "code",
   "execution_count": 10,
   "id": "15a7f909-7c36-44c9-9857-8bd3d8bcbe99",
   "metadata": {},
   "outputs": [
    {
     "name": "stderr",
     "output_type": "stream",
     "text": [
      "Explaining:   0%|                                                                                | 0/10 [00:00<?, ?it/s]/tmp/ipykernel_273019/2131265396.py:26: DeprecationWarning: Conversion of an array with ndim > 0 to a scalar is deprecated, and will error in future. Ensure you extract a single element from your array before performing this operation. (Deprecated NumPy 1.25.)\n",
      "  pred = float(sigmoid(self.run_model([tokens_numerical])))\n",
      "Explaining: 100%|███████████████████████████████████████████████████████████████████████| 10/10 [00:07<00:00,  1.35it/s]\n",
      "Explaining: 100%|███████████████████████████████████████████████████████████████████████| 10/10 [00:09<00:00,  1.07it/s]\n",
      "Explaining: 100%|███████████████████████████████████████████████████████████████████████| 10/10 [00:09<00:00,  1.09it/s]\n",
      "Explaining: 100%|███████████████████████████████████████████████████████████████████████| 10/10 [00:09<00:00,  1.11it/s]\n",
      "Explaining: 100%|███████████████████████████████████████████████████████████████████████| 10/10 [00:09<00:00,  1.05it/s]\n",
      "Explaining: 100%|███████████████████████████████████████████████████████████████████████| 10/10 [00:10<00:00,  1.07s/it]\n",
      "Explaining: 100%|███████████████████████████████████████████████████████████████████████| 10/10 [00:11<00:00,  1.15s/it]\n",
      "Explaining: 100%|███████████████████████████████████████████████████████████████████████| 10/10 [00:10<00:00,  1.05s/it]\n",
      "Explaining: 100%|███████████████████████████████████████████████████████████████████████| 10/10 [00:10<00:00,  1.00s/it]\n"
     ]
    },
    {
     "name": "stdout",
     "output_type": "stream",
     "text": [
      "Rise parameter p_keep was automatically determined at 0.2\n"
     ]
    },
    {
     "name": "stderr",
     "output_type": "stream",
     "text": [
      "Explaining: 100%|███████████████████████████████████████████████████████████████████████| 10/10 [00:10<00:00,  1.02s/it]\n"
     ]
    },
    {
     "data": {
      "text/plain": [
       "[('A', 0, 0.2189647948741913),\n",
       " ('delectable', 1, 0.11569440454244614),\n",
       " ('and', 2, 0.2637704825401306),\n",
       " ('intriguing', 3, 0.022612085938453676),\n",
       " ('thriller', 4, 0.1588981211185455),\n",
       " ('filled', 5, 0.29464017018675803),\n",
       " ('with', 6, 0.24627620875835415),\n",
       " ('surprises', 7, 0.3068540032207966),\n",
       " ('.', 8, 0.31547488912940025)]"
      ]
     },
     "execution_count": 10,
     "metadata": {},
     "output_type": "execute_result"
    }
   ],
   "source": [
    "explanation_relevances =  dianna.explain_text(model_runner, review, model_runner.tokenizer, 'RISE',\n",
    "                                              labels=[labels.index('negative')])[0]\n",
    "explanation_relevances"
   ]
  },
  {
   "cell_type": "code",
   "execution_count": 11,
   "id": "1235620e-9c46-4868-a55c-3e4caeddb833",
   "metadata": {},
   "outputs": [
    {
     "data": {
      "image/png": "[encoded data removed]",
      "text/plain": [
       "<Figure size 1000x100 with 2 Axes>"
      ]
     },
     "metadata": {},
     "output_type": "display_data"
    }
   ],
   "source": [
    "fig, _ = visualization.highlight_text(explanation_relevances, model_runner.tokenizer.tokenize(review), colormap='bwr')"
   ]
  },
  {
   "cell_type": "markdown",
   "id": "75f50d62-9c27-4831-a1b1-9e6595daa88d",
   "metadata": {},
   "source": [
    "Interestingly, RISE still gives positive, though smaller, relevance scores."
   ]
  },
  {
   "cell_type": "markdown",
   "id": "e3bf1e08-5026-4190-ad5c-bee1581d090a",
   "metadata": {},
   "source": [
    "And what about a harder to classify review with mixed words, but still a clear **'negative'** sentiment?"
   ]
  },
  {
   "cell_type": "code",
   "execution_count": 12,
   "id": "6a9c0021-e489-4d9b-b02a-5864b24cf005",
   "metadata": {},
   "outputs": [],
   "source": [
    "mixed_review = 'The movie started great but the ending is boring and unoriginal!'"
   ]
  },
  {
   "cell_type": "code",
   "execution_count": 13,
   "id": "6f49b64c-b78b-4ed4-aaad-7a8abc07e58d",
   "metadata": {},
   "outputs": [
    {
     "name": "stderr",
     "output_type": "stream",
     "text": [
      "Explaining:   0%|                                                                                | 0/10 [00:00<?, ?it/s]/tmp/ipykernel_273019/2131265396.py:26: DeprecationWarning: Conversion of an array with ndim > 0 to a scalar is deprecated, and will error in future. Ensure you extract a single element from your array before performing this operation. (Deprecated NumPy 1.25.)\n",
      "  pred = float(sigmoid(self.run_model([tokens_numerical])))\n",
      "Explaining: 100%|███████████████████████████████████████████████████████████████████████| 10/10 [00:06<00:00,  1.59it/s]\n",
      "Explaining: 100%|███████████████████████████████████████████████████████████████████████| 10/10 [00:09<00:00,  1.08it/s]\n",
      "Explaining: 100%|███████████████████████████████████████████████████████████████████████| 10/10 [00:08<00:00,  1.11it/s]\n",
      "Explaining: 100%|███████████████████████████████████████████████████████████████████████| 10/10 [00:09<00:00,  1.10it/s]\n",
      "Explaining: 100%|███████████████████████████████████████████████████████████████████████| 10/10 [00:09<00:00,  1.09it/s]\n",
      "Explaining: 100%|███████████████████████████████████████████████████████████████████████| 10/10 [00:09<00:00,  1.11it/s]\n",
      "Explaining: 100%|███████████████████████████████████████████████████████████████████████| 10/10 [00:09<00:00,  1.09it/s]\n",
      "Explaining: 100%|███████████████████████████████████████████████████████████████████████| 10/10 [00:09<00:00,  1.06it/s]\n",
      "Explaining: 100%|███████████████████████████████████████████████████████████████████████| 10/10 [00:09<00:00,  1.04it/s]\n"
     ]
    },
    {
     "name": "stdout",
     "output_type": "stream",
     "text": [
      "Rise parameter p_keep was automatically determined at 0.30000000000000004\n"
     ]
    },
    {
     "name": "stderr",
     "output_type": "stream",
     "text": [
      "Explaining: 100%|███████████████████████████████████████████████████████████████████████| 10/10 [00:09<00:00,  1.02it/s]\n"
     ]
    },
    {
     "data": {
      "text/plain": [
       "[('The', 0, 0.6048773323030521),\n",
       " ('movie', 1, 0.5814842011717457),\n",
       " ('started', 2, 0.5750710776789734),\n",
       " ('great', 3, 0.3369917312761147),\n",
       " ('but', 4, 0.6294454034573087),\n",
       " ('the', 5, 0.6278445626112321),\n",
       " ('ending', 6, 0.7654337044774243),\n",
       " ('is', 7, 0.5830397781760741),\n",
       " ('boring', 8, 0.8853204229877639),\n",
       " ('and', 9, 0.6115358469386895),\n",
       " ('unoriginal', 10, 0.7574106802605092),\n",
       " ('!', 11, 0.5722811459408451)]"
      ]
     },
     "execution_count": 13,
     "metadata": {},
     "output_type": "execute_result"
    }
   ],
   "source": [
    "explanation_relevances =  dianna.explain_text(model_runner, mixed_review, model_runner.tokenizer, 'RISE',\n",
    "                                              labels=[labels.index('negative')])[0]\n",
    "explanation_relevances"
   ]
  },
  {
   "cell_type": "code",
   "execution_count": 14,
   "id": "2a70dc31-3a61-4374-99a1-bb2cd463b354",
   "metadata": {},
   "outputs": [
    {
     "data": {
      "image/png": "[encoded data removed]",
      "text/plain": [
       "<Figure size 1000x100 with 2 Axes>"
      ]
     },
     "metadata": {},
     "output_type": "display_data"
    }
   ],
   "source": [
    "fig, _ = visualization.highlight_text(explanation_relevances, model_runner.tokenizer.tokenize(mixed_review), colormap='bwr')"
   ]
  },
  {
   "cell_type": "markdown",
   "id": "aec20838-2529-4667-a871-f862c76eb5ce",
   "metadata": {},
   "source": [
    "All words contribute strongly to the 'negative' class, the least- the most positive word \"great\". \n",
    "\n",
    "What is the explanation if we question the model for its **'positive'** classification?"
   ]
  },
  {
   "cell_type": "code",
   "execution_count": null,
   "id": "0dc7c5ef-7098-4dc8-a0c2-7d61b5994731",
   "metadata": {},
   "outputs": [
    {
     "name": "stderr",
     "output_type": "stream",
     "text": [
      "Explaining:   0%|                                                                                | 0/10 [00:00<?, ?it/s]/tmp/ipykernel_273019/2131265396.py:26: DeprecationWarning: Conversion of an array with ndim > 0 to a scalar is deprecated, and will error in future. Ensure you extract a single element from your array before performing this operation. (Deprecated NumPy 1.25.)\n",
      "  pred = float(sigmoid(self.run_model([tokens_numerical])))\n",
      "Explaining: 100%|███████████████████████████████████████████████████████████████████████| 10/10 [00:06<00:00,  1.46it/s]\n",
      "Explaining: 100%|███████████████████████████████████████████████████████████████████████| 10/10 [00:09<00:00,  1.09it/s]\n",
      "Explaining: 100%|███████████████████████████████████████████████████████████████████████| 10/10 [00:09<00:00,  1.09it/s]\n",
      "Explaining: 100%|███████████████████████████████████████████████████████████████████████| 10/10 [00:09<00:00,  1.06it/s]\n",
      "Explaining: 100%|███████████████████████████████████████████████████████████████████████| 10/10 [00:10<00:00,  1.04s/it]\n",
      "Explaining: 100%|███████████████████████████████████████████████████████████████████████| 10/10 [00:09<00:00,  1.06it/s]\n",
      "Explaining: 100%|███████████████████████████████████████████████████████████████████████| 10/10 [00:10<00:00,  1.03s/it]\n",
      "Explaining: 100%|███████████████████████████████████████████████████████████████████████| 10/10 [00:09<00:00,  1.05it/s]\n",
      "Explaining:  30%|█████████████████████▌                                                  | 3/10 [00:03<00:08,  1.26s/it]"
     ]
    }
   ],
   "source": [
    "explanation_relevances =  dianna.explain_text(model_runner, mixed_review, model_runner.tokenizer, 'RISE',\n",
    "                                              labels=[labels.index('positive')])[0]\n",
    "explanation_relevances"
   ]
  },
  {
   "cell_type": "code",
   "execution_count": null,
   "id": "691316e4-0763-4301-b2fd-58d45b07b338",
   "metadata": {},
   "outputs": [],
   "source": []
  }
 ],
 "metadata": {
  "kernelspec": {
   "display_name": "Python 3 (ipykernel)",
   "language": "python",
   "name": "python3"
  },
  "language_info": {
   "codemirror_mode": {
    "name": "ipython",
    "version": 3
   },
   "file_extension": ".py",
   "mimetype": "text/x-python",
   "name": "python",
   "nbconvert_exporter": "python",
   "pygments_lexer": "ipython3",
   "version": "3.10.12"
  }
 },
 "nbformat": 4,
 "nbformat_minor": 5
}
