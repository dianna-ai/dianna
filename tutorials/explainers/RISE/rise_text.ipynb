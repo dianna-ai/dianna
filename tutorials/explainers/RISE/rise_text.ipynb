{
 "cells": [
  {
   "cell_type": "markdown",
   "id": "8179c57c",
   "metadata": {},
   "source": [
    "<img width=\"150\" alt=\"Logo_ER10\" src=\"https://user-images.githubusercontent.com/3244249/151994514-b584b984-a148-4ade-80ee-0f88b0aefa45.png\">\n",
    "\n",
    "### Interpreting a movie review sentiment model with RISE\n",
    "This notebook demonstrates the use of DIANNA with the RISE method on the [Stanford Sentiment Treebank dataset](https://nlp.stanford.edu/sentiment/index.html) which contains one-sentence movie reviews. See also [their paper](https://nlp.stanford.edu/~socherr/EMNLP2013_RNTN.pdf). A pre-trained neural network classifier is used, which identifies whether a movie review is positive or negative.\n",
    "\n",
    "[RISE](http://bmvc2018.org/contents/papers/1064.pdf) is short for Randomized Input Sampling for Explanation of Black-box Models. It estimates each word's relevance to the model's decision empirically by probing the model with randomly masked versions of the input image and obtaining the corresponding outputs.  \n",
    "\n",
    "*NOTE*: This tutorial is still work-in-progress, the final results need to be improved by tweaking the RISE parameters"
   ]
  },
  {
   "cell_type": "markdown",
   "id": "242b796c",
   "metadata": {},
   "source": [
    "#### Colab Setup"
   ]
  },
  {
   "cell_type": "code",
   "id": "897b2477",
   "metadata": {
    "ExecuteTime": {
     "end_time": "2024-09-24T08:07:31.657556Z",
     "start_time": "2024-09-24T08:07:31.650710Z"
    }
   },
   "source": [
    "running_in_colab = 'google.colab' in str(get_ipython())\n",
    "if running_in_colab:\n",
    "    # install dianna\n",
    "    !python3 -m pip install dianna[notebooks]"
   ],
   "outputs": [],
   "execution_count": 1
  },
  {
   "cell_type": "markdown",
   "id": "50fd3dee",
   "metadata": {},
   "source": [
    "#### 0 -  Imports and paths"
   ]
  },
  {
   "cell_type": "code",
   "id": "9a03fa22e8a5c76b",
   "metadata": {
    "ExecuteTime": {
     "end_time": "2024-09-24T08:07:37.413521Z",
     "start_time": "2024-09-24T08:07:31.662567Z"
    }
   },
   "source": [
    "import os\n",
    "import matplotlib.pyplot as plt\n",
    "import numpy as np\n",
    "import spacy\n",
    "from scipy.special import expit as sigmoid\n",
    "import pandas as pd\n",
    "\n",
    "import dianna\n",
    "from dianna import visualization\n",
    "from dianna import utils\n",
    "from dianna.utils.tokenizers import SpacyTokenizer\n",
    "from dianna.utils.downloader import download"
   ],
   "outputs": [],
   "execution_count": 2
  },
  {
   "cell_type": "code",
   "id": "3316281f54dcd890",
   "metadata": {
    "ExecuteTime": {
     "end_time": "2024-09-24T08:07:37.722406Z",
     "start_time": "2024-09-24T08:07:37.662899Z"
    }
   },
   "source": [
    "model_path = download('movie_review_model.onnx', 'model')\n",
    "word_vector_path = download('movie_reviews_word_vectors.txt', 'data')\n",
    "labels = (\"negative\", \"positive\")"
   ],
   "outputs": [],
   "execution_count": 3
  },
  {
   "cell_type": "markdown",
   "id": "8ba18c98a3ac10e3",
   "metadata": {},
   "source": [
    "#### 1 - Loading the model\n",
    "\n",
    "The classifier is stored in ONNX format. It accepts numerical tokens as input, and outputs a score between 0 and 1, where 0 means the review is negative and 1 that it is positive.  \n",
    "Here we define a class to run the model, which accepts a sentence (i.e. string) as input instead and returns two classes: negative and positive."
   ]
  },
  {
   "cell_type": "code",
   "id": "a7481cd492f6d23e",
   "metadata": {
    "ExecuteTime": {
     "end_time": "2024-09-24T08:07:40.928420Z",
     "start_time": "2024-09-24T08:07:37.731956Z"
    }
   },
   "source": [
    "# ensure the tokenizer for english is available\n",
    "spacy.cli.download('en_core_web_sm')"
   ],
   "outputs": [
    {
     "name": "stdout",
     "output_type": "stream",
     "text": [
      "\u001B[38;5;2m✔ Download and installation successful\u001B[0m\n",
      "You can now load the package via spacy.load('en_core_web_sm')\n",
      "\u001B[38;5;3m⚠ Restart to reload dependencies\u001B[0m\n",
      "If you are in a Jupyter or Colab notebook, you may need to restart Python in\n",
      "order to load all the package's dependencies. You can do this by selecting the\n",
      "'Restart kernel' or 'Restart runtime' option.\n"
     ]
    }
   ],
   "execution_count": 4
  },
  {
   "cell_type": "code",
   "id": "ba113a8fecbab249",
   "metadata": {
    "ExecuteTime": {
     "end_time": "2024-09-24T08:07:41.033015Z",
     "start_time": "2024-09-24T08:07:41.026414Z"
    }
   },
   "source": [
    "class MovieReviewsModelRunner:\n",
    "    def __init__(self, model, word_vectors, max_filter_size):\n",
    "        self.run_model = utils.get_function(model)\n",
    "        self.max_filter_size = max_filter_size\n",
    "        self.keys = list(pd.read_csv(word_vector_path, header=None, delimiter=' ')[0])\n",
    "        self.tokenizer = SpacyTokenizer(name='en_core_web_sm')\n",
    "\n",
    "    def __call__(self, sentences):\n",
    "        # ensure the input has a batch axis\n",
    "        if isinstance(sentences, str):\n",
    "            sentences = [sentences]\n",
    "\n",
    "        output = []\n",
    "        for sentence in sentences:\n",
    "            # tokenize and pad to minimum length\n",
    "            tokens = self.tokenizer.tokenize(sentence.lower())\n",
    "            if len(tokens) < self.max_filter_size:\n",
    "                tokens += ['<pad>'] * (self.max_filter_size - len(tokens))\n",
    "            \n",
    "            # numericalize the tokens\n",
    "            tokens_numerical = [self.keys.index(token) if token in self.keys else self.keys.index('<unk>')\n",
    "                                for token in tokens]\n",
    "\n",
    "            # run the model, applying a sigmoid because the model outputs logits, remove any remaining batch axis\n",
    "            pred = float(sigmoid(self.run_model([tokens_numerical])))\n",
    "            output.append(pred)\n",
    "\n",
    "        # output two classes\n",
    "        positivity = np.array(output)\n",
    "        negativity = 1 - positivity\n",
    "        return np.transpose([negativity, positivity])\n",
    "            "
   ],
   "outputs": [],
   "execution_count": 5
  },
  {
   "cell_type": "code",
   "id": "b9c0a6f3a99a2180",
   "metadata": {
    "ExecuteTime": {
     "end_time": "2024-09-24T08:07:41.847656Z",
     "start_time": "2024-09-24T08:07:41.059510Z"
    }
   },
   "source": [
    "# define model runner. max_filter_size is a property of the model\n",
    "model_runner = MovieReviewsModelRunner(model_path, word_vector_path, max_filter_size=5)"
   ],
   "outputs": [],
   "execution_count": 6
  },
  {
   "cell_type": "markdown",
   "id": "e302908ad2dd7284",
   "metadata": {},
   "source": [
    "#### 2 - Applying RISE with DIANNA\n",
    "The simplest way to run DIANNA on text data is with `dianna.explain_text`. The arguments are:\n",
    "* The function that runs the model (a path to a model in ONNX format is also accepted)\n",
    "* The text we want to explain\n",
    "* The name of the explainable-AI method we want to use, here RISE\n",
    "* The numerical indices of the classes we want an explanation for\n",
    "\n",
    "`dianna.explain_text` returns a list of tuples. Each tuple contains a word, its location in the input text, and its relevance for the selected output class"
   ]
  },
  {
   "cell_type": "code",
   "id": "b121840d683d437f",
   "metadata": {
    "ExecuteTime": {
     "end_time": "2024-09-24T08:07:41.855941Z",
     "start_time": "2024-09-24T08:07:41.852672Z"
    }
   },
   "source": [
    "review = \"A delectable and intriguing thriller filled with surprises.\""
   ],
   "outputs": [],
   "execution_count": 7
  },
  {
   "cell_type": "code",
   "id": "80a09352efe3f713",
   "metadata": {
    "ExecuteTime": {
     "end_time": "2024-09-24T08:10:24.925667Z",
     "start_time": "2024-09-24T08:07:41.871203Z"
    }
   },
   "source": [
    "# An explanation is returned for each label, but we ask for just one label so the output is a list of length one.\n",
    "explanation_relevances =  dianna.explain_text(model_runner, review, model_runner.tokenizer, 'RISE',\n",
    "                                              labels=[labels.index('positive')])[0]\n",
    "explanation_relevances"
   ],
   "outputs": [
    {
     "name": "stderr",
     "output_type": "stream",
     "text": [
      "Explaining:   0%|          | 0/10 [00:00<?, ?it/s]C:\\Users\\ChristiaanMeijer\\AppData\\Local\\Temp\\ipykernel_8180\\1740688838.py:25: DeprecationWarning: Conversion of an array with ndim > 0 to a scalar is deprecated, and will error in future. Ensure you extract a single element from your array before performing this operation. (Deprecated NumPy 1.25.)\n",
      "  pred = float(sigmoid(self.run_model([tokens_numerical])))\n",
      "Explaining: 100%|██████████| 10/10 [00:18<00:00,  1.84s/it]\n",
      "Explaining: 100%|██████████| 10/10 [00:16<00:00,  1.62s/it]\n",
      "Explaining: 100%|██████████| 10/10 [00:15<00:00,  1.57s/it]\n",
      "Explaining: 100%|██████████| 10/10 [00:15<00:00,  1.55s/it]\n",
      "Explaining: 100%|██████████| 10/10 [00:15<00:00,  1.54s/it]\n",
      "Explaining: 100%|██████████| 10/10 [00:16<00:00,  1.68s/it]\n",
      "Explaining: 100%|██████████| 10/10 [00:16<00:00,  1.63s/it]\n",
      "Explaining: 100%|██████████| 10/10 [00:16<00:00,  1.64s/it]\n",
      "Explaining: 100%|██████████| 10/10 [00:15<00:00,  1.59s/it]\n"
     ]
    },
    {
     "name": "stdout",
     "output_type": "stream",
     "text": [
      "Rise parameter p_keep was automatically determined at 0.2\n"
     ]
    },
    {
     "name": "stderr",
     "output_type": "stream",
     "text": [
      "Explaining: 100%|██████████| 10/10 [00:16<00:00,  1.65s/it]\n"
     ]
    },
    {
     "data": {
      "text/plain": [
       "[('A', 0, 0.8152407419681549),\n",
       " ('delectable', 1, 0.751385985314846),\n",
       " ('and', 2, 0.6955154472589493),\n",
       " ('intriguing', 3, 0.8689215674996376),\n",
       " ('thriller', 4, 0.8404127323627472),\n",
       " ('filled', 5, 0.7030552613735198),\n",
       " ('with', 6, 0.7209354951977729),\n",
       " ('surprises', 7, 0.7259819409251212),\n",
       " ('.', 8, 0.7290092249214649)]"
      ]
     },
     "execution_count": 8,
     "metadata": {},
     "output_type": "execute_result"
    }
   ],
   "execution_count": 8
  },
  {
   "cell_type": "markdown",
   "id": "8744b294787a8fc4",
   "metadata": {},
   "source": [
    "#### 3 - Visualization\n",
    "DIANNA includes a visualization package, capable of highlighting each word of a text based on their relevance scores. The visualization is in HTML format.\n",
    "In this visualization, words in favour of the selected class are highlighted in red. Words against the selected class are not present in this example, otherwise they would be highlighted in blue."
   ]
  },
  {
   "cell_type": "code",
   "id": "36f5081b439e1cf",
   "metadata": {
    "ExecuteTime": {
     "end_time": "2024-09-24T08:10:25.160718Z",
     "start_time": "2024-09-24T08:10:25.026100Z"
    }
   },
   "source": [
    "fig, _ = visualization.highlight_text(explanation_relevances, model_runner.tokenizer.tokenize(review))"
   ],
   "outputs": [
    {
     "data": {
      "text/plain": [
       "<Figure size 1000x100 with 2 Axes>"
      ],
      "image/png": "[encoded data removed]"
     },
     "metadata": {},
     "output_type": "display_data"
    }
   ],
   "execution_count": 9
  },
  {
   "cell_type": "markdown",
   "id": "80b1518d38fd8943",
   "metadata": {},
   "source": [
    "All words seem relevant to the review's classification outcome. From the numerical values above, it is confirmed that all words contribute positively according to RISE, with \"intriguing\" as the most important word with the highest positive relevance score."
   ]
  },
  {
   "cell_type": "markdown",
   "id": "266603b752c952a",
   "metadata": {},
   "source": [
    "#### Trying more text explanations"
   ]
  },
  {
   "cell_type": "markdown",
   "id": "7e024082ad2c4bc1",
   "metadata": {},
   "source": [
    "And what are the words' relevancies to a '**negative**' classification decision?"
   ]
  },
  {
   "cell_type": "code",
   "id": "c562871c7546e7e1",
   "metadata": {
    "ExecuteTime": {
     "end_time": "2024-09-24T08:12:58.263889Z",
     "start_time": "2024-09-24T08:10:25.201103Z"
    }
   },
   "source": [
    "explanation_relevances =  dianna.explain_text(model_runner, review, model_runner.tokenizer, 'RISE',\n",
    "                                              labels=[labels.index('negative')])[0]\n",
    "explanation_relevances"
   ],
   "outputs": [
    {
     "name": "stderr",
     "output_type": "stream",
     "text": [
      "Explaining:   0%|          | 0/10 [00:00<?, ?it/s]C:\\Users\\ChristiaanMeijer\\AppData\\Local\\Temp\\ipykernel_8180\\1740688838.py:25: DeprecationWarning: Conversion of an array with ndim > 0 to a scalar is deprecated, and will error in future. Ensure you extract a single element from your array before performing this operation. (Deprecated NumPy 1.25.)\n",
      "  pred = float(sigmoid(self.run_model([tokens_numerical])))\n",
      "Explaining: 100%|██████████| 10/10 [00:16<00:00,  1.66s/it]\n",
      "Explaining: 100%|██████████| 10/10 [00:16<00:00,  1.62s/it]\n",
      "Explaining: 100%|██████████| 10/10 [00:15<00:00,  1.55s/it]\n",
      "Explaining: 100%|██████████| 10/10 [00:15<00:00,  1.52s/it]\n",
      "Explaining: 100%|██████████| 10/10 [00:15<00:00,  1.53s/it]\n",
      "Explaining: 100%|██████████| 10/10 [00:14<00:00,  1.50s/it]\n",
      "Explaining: 100%|██████████| 10/10 [00:14<00:00,  1.49s/it]\n",
      "Explaining: 100%|██████████| 10/10 [00:15<00:00,  1.50s/it]\n",
      "Explaining: 100%|██████████| 10/10 [00:14<00:00,  1.42s/it]\n"
     ]
    },
    {
     "name": "stdout",
     "output_type": "stream",
     "text": [
      "Rise parameter p_keep was automatically determined at 0.2\n"
     ]
    },
    {
     "name": "stderr",
     "output_type": "stream",
     "text": [
      "Explaining: 100%|██████████| 10/10 [00:15<00:00,  1.50s/it]\n"
     ]
    },
    {
     "data": {
      "text/plain": [
       "[('A', 0, 0.2629852992296219),\n",
       " ('delectable', 1, 0.12482632398605346),\n",
       " ('and', 2, 0.27418449968099595),\n",
       " ('intriguing', 3, 0.020306116938591003),\n",
       " ('thriller', 4, 0.17994431644678113),\n",
       " ('filled', 5, 0.32208009347319605),\n",
       " ('with', 6, 0.2551098448038101),\n",
       " ('surprises', 7, 0.32068729370832444),\n",
       " ('.', 8, 0.2672424094378948)]"
      ]
     },
     "execution_count": 10,
     "metadata": {},
     "output_type": "execute_result"
    }
   ],
   "execution_count": 10
  },
  {
   "cell_type": "code",
   "id": "c4db654b9dd8ddb9",
   "metadata": {
    "ExecuteTime": {
     "end_time": "2024-09-24T08:12:58.372233Z",
     "start_time": "2024-09-24T08:12:58.271341Z"
    }
   },
   "source": [
    "fig, _ = visualization.highlight_text(explanation_relevances, model_runner.tokenizer.tokenize(review))"
   ],
   "outputs": [
    {
     "data": {
      "text/plain": [
       "<Figure size 1000x100 with 2 Axes>"
      ],
      "image/png": "[encoded data removed]"
     },
     "metadata": {},
     "output_type": "display_data"
    }
   ],
   "execution_count": 11
  },
  {
   "cell_type": "markdown",
   "id": "1caecafb27801ff0",
   "metadata": {},
   "source": [
    "Interestingly, RISE still gives positive, though smaller, relevance scores."
   ]
  },
  {
   "cell_type": "markdown",
   "id": "abeb2b8e6406df95",
   "metadata": {},
   "source": [
    "Let's try RISE on a negative review."
   ]
  },
  {
   "cell_type": "code",
   "id": "a38be7f717a71ca6",
   "metadata": {
    "ExecuteTime": {
     "end_time": "2024-09-24T08:12:58.400126Z",
     "start_time": "2024-09-24T08:12:58.397128Z"
    }
   },
   "source": [
    "review = \"What an auwful movie!\""
   ],
   "outputs": [],
   "execution_count": 12
  },
  {
   "cell_type": "code",
   "id": "781769e7-9744-4afb-a764-c2829986f4a9",
   "metadata": {
    "ExecuteTime": {
     "end_time": "2024-09-24T08:15:24.338677Z",
     "start_time": "2024-09-24T08:12:58.430128Z"
    }
   },
   "source": [
    "explanation_relevances =  dianna.explain_text(model_runner, review, model_runner.tokenizer, 'RISE',\n",
    "                                              labels=[labels.index('positive')])[0]\n",
    "explanation_relevances"
   ],
   "outputs": [
    {
     "name": "stderr",
     "output_type": "stream",
     "text": [
      "Explaining:   0%|          | 0/10 [00:00<?, ?it/s]C:\\Users\\ChristiaanMeijer\\AppData\\Local\\Temp\\ipykernel_8180\\1740688838.py:25: DeprecationWarning: Conversion of an array with ndim > 0 to a scalar is deprecated, and will error in future. Ensure you extract a single element from your array before performing this operation. (Deprecated NumPy 1.25.)\n",
      "  pred = float(sigmoid(self.run_model([tokens_numerical])))\n",
      "Explaining: 100%|██████████| 10/10 [00:14<00:00,  1.43s/it]\n",
      "Explaining: 100%|██████████| 10/10 [00:14<00:00,  1.49s/it]\n",
      "Explaining: 100%|██████████| 10/10 [00:15<00:00,  1.54s/it]\n",
      "Explaining: 100%|██████████| 10/10 [00:15<00:00,  1.52s/it]\n",
      "Explaining: 100%|██████████| 10/10 [00:15<00:00,  1.53s/it]\n",
      "Explaining: 100%|██████████| 10/10 [00:14<00:00,  1.49s/it]\n",
      "Explaining: 100%|██████████| 10/10 [00:14<00:00,  1.41s/it]\n",
      "Explaining: 100%|██████████| 10/10 [00:13<00:00,  1.39s/it]\n",
      "Explaining: 100%|██████████| 10/10 [00:13<00:00,  1.38s/it]\n"
     ]
    },
    {
     "name": "stdout",
     "output_type": "stream",
     "text": [
      "Rise parameter p_keep was automatically determined at 0.5\n"
     ]
    },
    {
     "name": "stderr",
     "output_type": "stream",
     "text": [
      "Explaining: 100%|██████████| 10/10 [00:14<00:00,  1.41s/it]\n"
     ]
    },
    {
     "data": {
      "text/plain": [
       "[('What', 0, 0.5652854725718498),\n",
       " ('an', 1, 0.5436604416966438),\n",
       " ('auwful', 2, 0.5264478924870492),\n",
       " ('movie', 3, 0.4800699933767319),\n",
       " ('!', 4, 0.5347845470905304)]"
      ]
     },
     "execution_count": 13,
     "metadata": {},
     "output_type": "execute_result"
    }
   ],
   "execution_count": 13
  },
  {
   "cell_type": "code",
   "id": "d7541ef8-73fd-4962-9a4a-b11f4ce2bb53",
   "metadata": {
    "ExecuteTime": {
     "end_time": "2024-09-24T08:15:24.431495Z",
     "start_time": "2024-09-24T08:15:24.345744Z"
    }
   },
   "source": [
    "fig, _ = visualization.highlight_text(explanation_relevances, model_runner.tokenizer.tokenize(review))"
   ],
   "outputs": [
    {
     "data": {
      "text/plain": [
       "<Figure size 1000x100 with 2 Axes>"
      ],
      "image/png": "[encoded data removed]"
     },
     "metadata": {},
     "output_type": "display_data"
    }
   ],
   "execution_count": 14
  },
  {
   "cell_type": "code",
   "id": "170df017-db46-4864-ba9b-622c86770950",
   "metadata": {
    "ExecuteTime": {
     "end_time": "2024-09-24T08:17:56.229214Z",
     "start_time": "2024-09-24T08:15:24.456798Z"
    }
   },
   "source": [
    "explanation_relevances =  dianna.explain_text(model_runner, review, model_runner.tokenizer, 'RISE',\n",
    "                                              labels=[labels.index('negative')])[0]\n",
    "explanation_relevances"
   ],
   "outputs": [
    {
     "name": "stderr",
     "output_type": "stream",
     "text": [
      "Explaining:   0%|          | 0/10 [00:00<?, ?it/s]C:\\Users\\ChristiaanMeijer\\AppData\\Local\\Temp\\ipykernel_8180\\1740688838.py:25: DeprecationWarning: Conversion of an array with ndim > 0 to a scalar is deprecated, and will error in future. Ensure you extract a single element from your array before performing this operation. (Deprecated NumPy 1.25.)\n",
      "  pred = float(sigmoid(self.run_model([tokens_numerical])))\n",
      "Explaining: 100%|██████████| 10/10 [00:14<00:00,  1.44s/it]\n",
      "Explaining: 100%|██████████| 10/10 [00:15<00:00,  1.51s/it]\n",
      "Explaining: 100%|██████████| 10/10 [00:14<00:00,  1.48s/it]\n",
      "Explaining: 100%|██████████| 10/10 [00:15<00:00,  1.54s/it]\n",
      "Explaining: 100%|██████████| 10/10 [00:14<00:00,  1.43s/it]\n",
      "Explaining: 100%|██████████| 10/10 [00:17<00:00,  1.72s/it]\n",
      "Explaining: 100%|██████████| 10/10 [00:14<00:00,  1.48s/it]\n"
     ]
    },
    {
     "name": "stdout",
     "output_type": "stream",
     "text": [
      "Rise parameter p_keep was automatically determined at 0.5\n"
     ]
    },
    {
     "name": "stderr",
     "output_type": "stream",
     "text": [
      "Explaining: 100%|██████████| 10/10 [00:14<00:00,  1.46s/it]\n"
     ]
    },
    {
     "data": {
      "text/plain": [
       "[('What', 0, 0.4364011679291725),\n",
       " ('an', 1, 0.4379050084352493),\n",
       " ('auwful', 2, 0.45589199286699295),\n",
       " ('movie', 3, 0.5256366093754768),\n",
       " ('!', 4, 0.47428932881355285)]"
      ]
     },
     "execution_count": 15,
     "metadata": {},
     "output_type": "execute_result"
    }
   ],
   "execution_count": 15
  },
  {
   "cell_type": "code",
   "id": "964614e8-c88f-4683-b155-08fc9ef20178",
   "metadata": {
    "ExecuteTime": {
     "end_time": "2024-09-24T08:17:56.332607Z",
     "start_time": "2024-09-24T08:17:56.237545Z"
    }
   },
   "source": [
    "fig, _ = visualization.highlight_text(explanation_relevances, model_runner.tokenizer.tokenize(review))"
   ],
   "outputs": [
    {
     "data": {
      "text/plain": [
       "<Figure size 1000x100 with 2 Axes>"
      ],
      "image/png": "[encoded data removed]"
     },
     "metadata": {},
     "output_type": "display_data"
    }
   ],
   "execution_count": 16
  },
  {
   "cell_type": "markdown",
   "id": "e3bf1e08-5026-4190-ad5c-bee1581d090a",
   "metadata": {},
   "source": [
    "And what about a harder to classify review with mixed words, but still a clear **'negative'** sentiment?"
   ]
  },
  {
   "cell_type": "code",
   "id": "6a9c0021-e489-4d9b-b02a-5864b24cf005",
   "metadata": {
    "ExecuteTime": {
     "end_time": "2024-09-24T08:17:56.369988Z",
     "start_time": "2024-09-24T08:17:56.366242Z"
    }
   },
   "source": [
    "mixed_review = 'The movie started great but the ending is boring and unoriginal!'"
   ],
   "outputs": [],
   "execution_count": 17
  },
  {
   "cell_type": "code",
   "id": "6f49b64c-b78b-4ed4-aaad-7a8abc07e58d",
   "metadata": {
    "jupyter": {
     "is_executing": true
    },
    "ExecuteTime": {
     "start_time": "2024-09-24T08:17:56.409479Z"
    }
   },
   "source": [
    "explanation_relevances =  dianna.explain_text(model_runner, mixed_review, model_runner.tokenizer, 'RISE',\n",
    "                                              labels=[labels.index('negative')])[0]\n",
    "explanation_relevances"
   ],
   "outputs": [
    {
     "name": "stderr",
     "output_type": "stream",
     "text": [
      "Explaining:   0%|          | 0/10 [00:00<?, ?it/s]C:\\Users\\ChristiaanMeijer\\AppData\\Local\\Temp\\ipykernel_8180\\1740688838.py:25: DeprecationWarning: Conversion of an array with ndim > 0 to a scalar is deprecated, and will error in future. Ensure you extract a single element from your array before performing this operation. (Deprecated NumPy 1.25.)\n",
      "  pred = float(sigmoid(self.run_model([tokens_numerical])))\n",
      "Explaining: 100%|██████████| 10/10 [00:17<00:00,  1.73s/it]\n",
      "Explaining:  80%|████████  | 8/10 [00:12<00:03,  1.59s/it]"
     ]
    }
   ],
   "execution_count": null
  },
  {
   "cell_type": "code",
   "execution_count": null,
   "id": "2a70dc31-3a61-4374-99a1-bb2cd463b354",
   "metadata": {},
   "outputs": [],
   "source": [
    "fig, _ = visualization.highlight_text(explanation_relevances, model_runner.tokenizer.tokenize(mixed_review))"
   ]
  },
  {
   "cell_type": "markdown",
   "id": "aec20838-2529-4667-a871-f862c76eb5ce",
   "metadata": {},
   "source": [
    "All words contribute strongly to the 'negative' class, the least- the most positive word \"great\". \n",
    "\n",
    "What is the explanation if we question the model for its **'positive'** classification?"
   ]
  },
  {
   "cell_type": "code",
   "execution_count": 20,
   "id": "0dc7c5ef-7098-4dc8-a0c2-7d61b5994731",
   "metadata": {},
   "outputs": [
    {
     "name": "stderr",
     "output_type": "stream",
     "text": [
      "Explaining: 100%|██████████| 10/10 [00:15<00:00,  1.55s/it]\n",
      "Explaining: 100%|██████████| 10/10 [00:15<00:00,  1.55s/it]\n"
     ]
    },
    {
     "name": "stdout",
     "output_type": "stream",
     "text": [
      "Rise parameter p_keep was automatically determined at 0.4\n"
     ]
    },
    {
     "name": "stderr",
     "output_type": "stream",
     "text": [
      "Explaining: 100%|██████████| 10/10 [00:15<00:00,  1.59s/it]\n"
     ]
    },
    {
     "data": {
      "text/plain": [
       "[('The', 0, 0.3930132823437452),\n",
       " ('movie', 1, 0.391335634062998),\n",
       " ('started', 2, 0.3736873556789942),\n",
       " ('great', 3, 0.5640122865419834),\n",
       " ('but', 4, 0.33719351702369743),\n",
       " ('the', 5, 0.394796144478023),\n",
       " ('ending', 6, 0.29160672857658937),\n",
       " ('is', 7, 0.34797732688020916),\n",
       " ('boring', 8, 0.1030324523244053),\n",
       " ('and', 9, 0.33656416439451275),\n",
       " ('unoriginal', 10, 0.26281975384335965),\n",
       " ('!', 11, 0.3825041185086593)]"
      ]
     },
     "execution_count": 20,
     "metadata": {},
     "output_type": "execute_result"
    }
   ],
   "source": [
    "explanation_relevances =  dianna.explain_text(model_runner, mixed_review, model_runner.tokenizer, 'RISE',\n",
    "                                              labels=[labels.index('positive')])[0]\n",
    "explanation_relevances"
   ]
  },
  {
   "cell_type": "code",
   "id": "691316e4-0763-4301-b2fd-58d45b07b338",
   "metadata": {
    "ExecuteTime": {
     "end_time": "2024-09-24T08:23:31.484010Z",
     "start_time": "2024-09-24T08:23:31.375707Z"
    }
   },
   "source": [
    "fig, _ = visualization.highlight_text(explanation_relevances, model_runner.tokenizer.tokenize(mixed_review))"
   ],
   "outputs": [
    {
     "data": {
      "text/plain": [
       "<Figure size 1000x100 with 2 Axes>"
      ],
      "image/png": "[encoded data removed]"
     },
     "metadata": {},
     "output_type": "display_data"
    }
   ],
   "execution_count": 21
  }
 ],
 "metadata": {
  "kernelspec": {
   "display_name": "Python 3 (ipykernel)",
   "language": "python",
   "name": "python3"
  },
  "language_info": {
   "codemirror_mode": {
    "name": "ipython",
    "version": 3
   },
   "file_extension": ".py",
   "mimetype": "text/x-python",
   "name": "python",
   "nbconvert_exporter": "python",
   "pygments_lexer": "ipython3",
   "version": "3.11.9"
  }
 },
 "nbformat": 4,
 "nbformat_minor": 5
}
