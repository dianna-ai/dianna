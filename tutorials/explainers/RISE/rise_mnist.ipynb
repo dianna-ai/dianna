{
 "cells": [
  {
   "cell_type": "markdown",
   "id": "hispanic-instrumentation",
   "metadata": {},
   "source": [
    "<img width=\"150\" alt=\"Logo_ER10\" src=\"https://user-images.githubusercontent.com/3244249/151994514-b584b984-a148-4ade-80ee-0f88b0aefa45.png\">\n",
    "\n",
    "### Model Interpretation for Binary MNIST Model using RISE\n",
    "\n",
    "This notebook demonstrates how to apply the RISE explainability method on a pretrained binary MNIST model using a hand-written digit image. It visualizes the relevance attributions for each pixel/super-pixel by displaying them on top of the input image.<br>\n",
    "\n",
    "RISE is short for Randomized Input Sampling for Explanation of Black-box Models. It estimates the relevance empirically by probing the model with randomly masked versions of the input image to obtain the corresponding outputs.<br>\n",
    "\n",
    "More details about this method can be found in the paper https://arxiv.org/abs/1806.07421.<br>"
   ]
  },
  {
   "cell_type": "markdown",
   "id": "bb84d1e9",
   "metadata": {},
   "source": [
    "### Colab Setup"
   ]
  },
  {
   "cell_type": "code",
   "execution_count": 1,
   "id": "587488c0",
   "metadata": {},
   "outputs": [],
   "source": [
    "running_in_colab = 'google.colab' in str(get_ipython())\n",
    "if running_in_colab:\n",
    "  # install dianna\n",
    "  !python3 -m pip install dianna[notebooks]\n",
    "  \n",
    "  # download data used in this demo\n",
    "  import os \n",
    "  base_url = 'https://raw.githubusercontent.com/dianna-ai/dianna/main/tutorials/'\n",
    "  paths_to_download = ['data/binary-mnist.npz', 'models/mnist_model.onnx']\n",
    "  for path in paths_to_download:\n",
    "      !wget {base_url + path} -P {os.path.dirname(path)}"
   ]
  },
  {
   "attachments": {},
   "cell_type": "markdown",
   "id": "4b4d551e",
   "metadata": {},
   "source": [
    "### Libraries"
   ]
  },
  {
   "cell_type": "code",
   "execution_count": 2,
   "id": "instructional-threshold",
   "metadata": {},
   "outputs": [],
   "source": [
    "import warnings\n",
    "warnings.filterwarnings('ignore') # disable warnings relateds to versions of tf\n",
    "import dianna\n",
    "import onnxruntime\n",
    "import numpy as np\n",
    "from pathlib import Path\n",
    "%matplotlib inline\n",
    "from matplotlib import pyplot as plt\n",
    "from scipy.special import softmax\n",
    "from dianna import visualization"
   ]
  },
  {
   "cell_type": "markdown",
   "id": "4230e223",
   "metadata": {},
   "source": [
    "#### 1 - Loading the model and the dataset\n",
    "Loads pretrained binary MNIST model and the image to be explained."
   ]
  },
  {
   "cell_type": "markdown",
   "id": "33021625",
   "metadata": {},
   "source": [
    "Load saved binary MNIST data."
   ]
  },
  {
   "cell_type": "code",
   "execution_count": 3,
   "id": "configured-drill",
   "metadata": {},
   "outputs": [],
   "source": [
    "# load dataset\n",
    "data = np.load(Path('data', 'binary-mnist.npz'))\n",
    "# load testing data and the related labels\n",
    "X_test = data['X_test'].astype(np.float32).reshape([-1, 1, 28, 28])\n",
    "y_test = data['y_test']"
   ]
  },
  {
   "cell_type": "markdown",
   "id": "worst-gregory",
   "metadata": {},
   "source": [
    "Load the pretrained binary MNIST model and define a model runner."
   ]
  },
  {
   "cell_type": "code",
   "execution_count": 4,
   "id": "polar-placement",
   "metadata": {},
   "outputs": [],
   "source": [
    "def run_model(data):\n",
    "    fname = str(Path('models', 'mnist_model.onnx'))\n",
    "    # get ONNX predictions\n",
    "    sess = onnxruntime.InferenceSession(fname)\n",
    "    input_name = sess.get_inputs()[0].name\n",
    "    output_name = sess.get_outputs()[0].name\n",
    "    \n",
    "    onnx_input = {input_name: data}\n",
    "    pred_onnx = sess.run([output_name], onnx_input)\n",
    "    \n",
    "    return softmax(pred_onnx[0], axis=1)\n",
    "\n",
    "pred_onnx = run_model(X_test)"
   ]
  },
  {
   "cell_type": "markdown",
   "id": "renewable-twelve",
   "metadata": {},
   "source": [
    "Print class and image of a single instance in the test data for preview."
   ]
  },
  {
   "cell_type": "code",
   "execution_count": 5,
   "id": "normal-wallet",
   "metadata": {},
   "outputs": [
    {
     "name": "stdout",
     "output_type": "stream",
     "text": [
      "The predicted class is: digit 0\n"
     ]
    },
    {
     "data": {
      "text/plain": [
       "<matplotlib.image.AxesImage at 0x127460550>"
      ]
     },
     "execution_count": 5,
     "metadata": {},
     "output_type": "execute_result"
    },
    {
     "data": {
      "image/png": "[encoded data removed]",
      "text/plain": [
       "<Figure size 432x288 with 1 Axes>"
      ]
     },
     "metadata": {
      "needs_background": "light"
     },
     "output_type": "display_data"
    }
   ],
   "source": [
    "# class name\n",
    "class_name = ['digit 0', 'digit 1']\n",
    "# instance index\n",
    "i_instance = 3\n",
    "# predicted class\n",
    "pred_class = class_name[np.argmax(pred_onnx[i_instance])]\n",
    "print(\"The predicted class is:\", pred_class)\n",
    "plt.imshow(X_test[i_instance][0], cmap='gray')  # 0 for channel"
   ]
  },
  {
   "cell_type": "markdown",
   "id": "7cf6d4ba",
   "metadata": {},
   "source": [
    "#### 2 - Compute and visualize the relevance attributions\n",
    "Compute the relevance attributions using RISE and visualize them overlayed on the image. "
   ]
  },
  {
   "cell_type": "markdown",
   "id": "e37c65f3",
   "metadata": {},
   "source": [
    "RISE masks random portions of the input image and passes the masked image through the model — the portion that decreases the accuracy the most is the most “important” portion.<br>\n",
    "To call the explainer and generate the relevance scores, the user need to specified the number of masks being randomly generated (`n_masks`), the resolution of features in masks (`feature_res`) and for each mask and each feature in the image, the probability of being kept unmasked (`p_keep`)."
   ]
  },
  {
   "cell_type": "code",
   "execution_count": 6,
   "id": "bacterial-shakespeare",
   "metadata": {},
   "outputs": [
    {
     "name": "stderr",
     "output_type": "stream",
     "text": [
      "Explaining: 100%|██████████| 50/50 [00:00<00:00, 143.17it/s]\n"
     ]
    }
   ],
   "source": [
    "relevances = dianna.explain_image(run_model, X_test[i_instance], method=\"RISE\",\n",
    "                                labels=[i for i in range(2)],\n",
    "                                n_masks=5000, feature_res=8, p_keep=.1,\n",
    "                                axis_labels=('channels','height','width'))"
   ]
  },
  {
   "cell_type": "markdown",
   "id": "58160a33",
   "metadata": {},
   "source": [
    "Visualize the relevance scores for the predicted class on top of the image."
   ]
  },
  {
   "cell_type": "code",
   "execution_count": 7,
   "id": "intimate-operations",
   "metadata": {},
   "outputs": [
    {
     "name": "stdout",
     "output_type": "stream",
     "text": [
      "Explanation for `digit 0`\n"
     ]
    },
    {
     "data": {
      "image/png": "[encoded data removed]",
      "text/plain": [
       "<Figure size 432x288 with 1 Axes>"
      ]
     },
     "metadata": {},
     "output_type": "display_data"
    },
    {
     "data": {
      "image/png": "[encoded data removed]",
      "text/plain": [
       "<Figure size 432x288 with 1 Axes>"
      ]
     },
     "execution_count": 7,
     "metadata": {},
     "output_type": "execute_result"
    }
   ],
   "source": [
    "print(f'Explanation for `{pred_class}`')\n",
    "visualization.plot_image(relevances[0], X_test[i_instance][0], data_cmap='gray', heatmap_cmap='bwr')"
   ]
  },
  {
   "cell_type": "markdown",
   "id": "aaa624ba-55f5-4d91-b90e-551b5f004bcf",
   "metadata": {},
   "source": [
    "#### 3 - Conclusions\n",
    "The relevance scores are generated by passing multiple randomly masked inputs to the black-box model and averaging their pixel relevances. The idea behind this is that whenever a mask preserves important parts of the image it gets higher score. <br>\n",
    "\n",
    "The example here shows that the RISE method evaluates the relevance of each pixel/super pixel to the classification and highlights the lateral parts of the digit zero. This implies that the model determines whether the digit is 0 by checking the lateral parts. The results are reasonable compared to the human visual preception of the test image."
   ]
  }
 ],
 "metadata": {
  "kernelspec": {
   "display_name": "Python 3 (ipykernel)",
   "language": "python",
   "name": "python3"
  },
  "language_info": {
   "codemirror_mode": {
    "name": "ipython",
    "version": 3
   },
   "file_extension": ".py",
   "mimetype": "text/x-python",
   "name": "python",
   "nbconvert_exporter": "python",
   "pygments_lexer": "ipython3",
   "version": "3.9.12"
  }
 },
 "nbformat": 4,
 "nbformat_minor": 5
}
