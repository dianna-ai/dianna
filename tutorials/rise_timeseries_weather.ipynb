{
 "cells": [
  {
   "cell_type": "markdown",
   "metadata": {
    "collapsed": false,
    "pycharm": {
     "name": "#%% md\n"
    }
   },
   "source": [
    "<img width=\"150\" alt=\"Logo_ER10\" src=\"https://user-images.githubusercontent.com/3244249/151994514-b584b984-a148-4ade-80ee-0f88b0aefa45.png\">\n",
    "\n",
    "### Model Interpretation using RISE for timeseries data\n",
    "This notebook shows how to apply the RISE explainability method on a model trained to classify timeseries data. Two examples are included here:\n",
    "- Verify RISE for timeseries with a simple \"expert\" model\n",
    "- Demonstrate RISE with a pretrained weather forecast (onnx) model\n",
    "\n",
    "It visualizes the relevance attributions for each segmentation of timeseries by displaying them on top of the timeseries.<br>\n",
    "\n",
    "RISE is short for Randomized Input Sampling for Explanation of Black-box Models. It estimates the relevance empirically by probing the model with randomly masked versions of the input image to obtain the corresponding outputs.<br>\n",
    "\n",
    "More details about this method can be found in the paper https://arxiv.org/abs/1806.07421.<br>"
   ]
  },
  {
   "cell_type": "markdown",
   "metadata": {},
   "source": [
    "#### Colab Setup"
   ]
  },
  {
   "cell_type": "code",
   "execution_count": 1,
   "metadata": {},
   "outputs": [],
   "source": [
    "running_in_colab = 'google.colab' in str(get_ipython())\n",
    "if running_in_colab:\n",
    "  # install dianna\n",
    "  !python3 -m pip install dianna[notebooks]\n",
    "  \n",
    "  # download data used in this demo\n",
    "  import os \n",
    "  base_url = 'https://raw.githubusercontent.com/dianna-ai/dianna/main/tutorials/'\n",
    "  paths_to_download = ['models/season_prediction_model_temp_max_binary.onnx']\n",
    "  for path in paths_to_download:\n",
    "      local_directory = os.path.dirname(path)\n",
    "      os.makedirs(local_directory, exist_ok=True)\n",
    "      !wget {base_url + path} -O {path}"
   ]
  },
  {
   "attachments": {},
   "cell_type": "markdown",
   "metadata": {},
   "source": [
    "### Libraries"
   ]
  },
  {
   "cell_type": "code",
   "execution_count": 2,
   "metadata": {
    "collapsed": false,
    "pycharm": {
     "name": "#%%\n"
    }
   },
   "outputs": [],
   "source": [
    "import os\n",
    "import pandas as pd\n",
    "import numpy as np\n",
    "from dianna import visualization\n",
    "from matplotlib import pyplot as plt\n",
    "from sklearn.model_selection import train_test_split\n",
    "import onnx\n",
    "import onnxruntime as ort\n",
    "import dianna\n",
    "\n",
    "np.random.seed(0)"
   ]
  },
  {
   "cell_type": "markdown",
   "metadata": {
    "collapsed": false,
    "pycharm": {
     "name": "#%% md\n"
    }
   },
   "source": [
    "#### 1 - Create a mini dataset with extremes for verification\n",
    "To demonstrate the skill of RISE for timeseries model explanation, we \"make up\" a weather dataset (timeseries) with extrem hot days and cold days."
   ]
  },
  {
   "cell_type": "code",
   "execution_count": 3,
   "metadata": {
    "collapsed": false,
    "pycharm": {
     "name": "#%%\n"
    }
   },
   "outputs": [
    {
     "data": {
      "image/png": "[encoded data removed]",
      "text/plain": [
       "<Figure size 432x288 with 1 Axes>"
      ]
     },
     "metadata": {
      "needs_background": "light"
     },
     "output_type": "display_data"
    }
   ],
   "source": [
    "# make up a weather dataset with extrems\n",
    "cold_with_2_hot_days = np.expand_dims(np.array([30, 29] + list(np.zeros(26))) , axis=1)\n",
    "data_extreme = cold_with_2_hot_days\n",
    "fig = plt.figure()\n",
    "plt.plot(data_extreme)\n",
    "plt.xlabel(\"Time index\")\n",
    "plt.ylabel(\"Celcius\")\n",
    "plt.title(\"Temperature\")\n",
    "plt.show()"
   ]
  },
  {
   "cell_type": "markdown",
   "metadata": {
    "collapsed": false,
    "pycharm": {
     "name": "#%% md\n"
    }
   },
   "source": [
    "#### 2 - Define an \"expert\" model to verify RISE for timeseries\n",
    "We can define an 'expert' model to test RISE. This expert model decides it's summer if the mean temp is above the threshold, and winter in other cases."
   ]
  },
  {
   "cell_type": "code",
   "execution_count": 4,
   "metadata": {
    "collapsed": false,
    "pycharm": {
     "name": "#%%\n"
    }
   },
   "outputs": [],
   "source": [
    "# We define a threshold for the model to make decisions\n",
    "# The label is [\"summer\", \"winter\"]\n",
    "threshold = 14\n",
    "\n",
    "def run_expert_model(data):\n",
    "    is_summer = np.mean(np.mean(data, axis=1), axis=1) > threshold\n",
    "    number_of_classes = 2\n",
    "    number_of_instances = data.shape[0]\n",
    "    result = np.zeros((number_of_instances ,number_of_classes))\n",
    "    result[is_summer] = [1.0, 0.0]\n",
    "    result[~is_summer] = [0.0, 1.0]\n",
    "    return result"
   ]
  },
  {
   "cell_type": "markdown",
   "metadata": {
    "collapsed": false,
    "pycharm": {
     "name": "#%% md\n"
    }
   },
   "source": [
    "#### 3 - Compute and visualize the relevance scores\n",
    "In this section we compute the relevance scores for each segment of timeseries using RISE and visualize them on the original timeseries."
   ]
  },
  {
   "cell_type": "markdown",
   "metadata": {
    "collapsed": false,
    "pycharm": {
     "name": "#%% md\n"
    }
   },
   "source": [
    "RISE masks random portions of the input timseries based on given segmentations and passes the masked timeseries through the model — the masked portion that decreases accuracy the most is the most “important” portion.<br>\n",
    "\n",
    "To call the explainer and generate relevance scores map, the user need to specifiy the number of masks being randomly generated (`n_masks`), the resolution of features in masks (`feature_res`) and for each mask and each feature in the image, the probability of being kept unmasked (`p_keep`).<br>\n",
    "\n",
    "Also, we need to define the approach for masking (`mask_type`). Since our data is highly skewed, here we make the masked data to be the \"threshold\" value instead of the mean."
   ]
  },
  {
   "cell_type": "code",
   "execution_count": 5,
   "metadata": {
    "collapsed": false,
    "pycharm": {
     "name": "#%%\n"
    }
   },
   "outputs": [],
   "source": [
    "# we use the threshold to mask the data\n",
    "def input_train_mean(_data):\n",
    "    return threshold"
   ]
  },
  {
   "cell_type": "code",
   "execution_count": 6,
   "metadata": {
    "collapsed": false,
    "pycharm": {
     "name": "#%%\n"
    }
   },
   "outputs": [
    {
     "name": "stderr",
     "output_type": "stream",
     "text": [
      "Explaining: 100%|██████████| 100/100 [00:00<00:00, 35812.02it/s]\n"
     ]
    }
   ],
   "source": [
    "# call the explainer\n",
    "explanation = dianna.explain_timeseries(run_expert_model, timeseries_data=data_extreme,\n",
    "                                        method='rise', labels=[0,1], p_keep=0.1,\n",
    "                                        n_masks=10000, mask_type=input_train_mean)"
   ]
  },
  {
   "cell_type": "markdown",
   "metadata": {
    "collapsed": false,
    "pycharm": {
     "name": "#%% md\n"
    }
   },
   "source": [
    "Now we can visualize the relevance scores on top of the displayed timeseries using the visualization tool in dianna."
   ]
  },
  {
   "cell_type": "code",
   "execution_count": 7,
   "metadata": {
    "collapsed": false,
    "pycharm": {
     "name": "#%%\n"
    }
   },
   "outputs": [
    {
     "data": {
      "image/png": "[encoded data removed]",
      "text/plain": [
       "<Figure size 432x288 with 2 Axes>"
      ]
     },
     "metadata": {
      "needs_background": "light"
     },
     "output_type": "display_data"
    },
    {
     "data": {
      "text/plain": [
       "<AxesSubplot:xlabel='Time index', ylabel='Temperature'>"
      ]
     },
     "execution_count": 7,
     "metadata": {},
     "output_type": "execute_result"
    }
   ],
   "source": [
    "# Normalize the explanation scores for the purpose of visualization\n",
    "def normalize(data):\n",
    "    \"\"\"Squash all values into [-1,1] range.\"\"\"\n",
    "    zero_to_one = (data - np.min(data)) / (np.max(data) - np.min(data))\n",
    "    return 2*zero_to_one -1\n",
    "\n",
    "heatmap_channel = normalize(explanation[0])\n",
    "segments = []\n",
    "for i in range(len(heatmap_channel) - 1):\n",
    "    segments.append({\n",
    "        'index': i,\n",
    "        'start': i - 0.5,\n",
    "        'stop': i + 0.5,\n",
    "        'weight': heatmap_channel[i]})\n",
    "visualization.plot_timeseries(range(len(heatmap_channel)), data_extreme,\n",
    "                              segments, xlabel=\"Time index\", ylabel=\"Temperature\",\n",
    "                              show_plot=True)"
   ]
  },
  {
   "cell_type": "markdown",
   "metadata": {
    "collapsed": false,
    "pycharm": {
     "name": "#%% md\n"
    }
   },
   "source": [
    "Here we plot the explanation for the classification of summer. The results are consistent with our expectation as it marks all hot days in the timeseries. <br>\n",
    "\n",
    "Now let's try out RISE with a weather prediction dataset from real life. <br>\n",
    "Here is the doi to this dataset: <br>\n",
    "10.5281/zenodo.4770936"
   ]
  },
  {
   "cell_type": "markdown",
   "metadata": {
    "collapsed": false,
    "pycharm": {
     "name": "#%% md\n"
    }
   },
   "source": [
    "#### 4 - Loading the weather prediction dataset\n",
    "Downloading the weather prediction dataset from zenodo."
   ]
  },
  {
   "cell_type": "code",
   "execution_count": 8,
   "metadata": {
    "collapsed": false,
    "pycharm": {
     "name": "#%%\n"
    }
   },
   "outputs": [
    {
     "data": {
      "text/html": [
       "<div>\n",
       "<style scoped>\n",
       "    .dataframe tbody tr th:only-of-type {\n",
       "        vertical-align: middle;\n",
       "    }\n",
       "\n",
       "    .dataframe tbody tr th {\n",
       "        vertical-align: top;\n",
       "    }\n",
       "\n",
       "    .dataframe thead th {\n",
       "        text-align: right;\n",
       "    }\n",
       "</style>\n",
       "<table border=\"1\" class=\"dataframe\">\n",
       "  <thead>\n",
       "    <tr style=\"text-align: right;\">\n",
       "      <th></th>\n",
       "      <th>DATE</th>\n",
       "      <th>MONTH</th>\n",
       "      <th>BASEL_cloud_cover</th>\n",
       "      <th>BASEL_humidity</th>\n",
       "      <th>BASEL_pressure</th>\n",
       "      <th>BASEL_global_radiation</th>\n",
       "      <th>BASEL_precipitation</th>\n",
       "      <th>BASEL_sunshine</th>\n",
       "      <th>BASEL_temp_mean</th>\n",
       "      <th>BASEL_temp_min</th>\n",
       "      <th>...</th>\n",
       "      <th>STOCKHOLM_temp_min</th>\n",
       "      <th>STOCKHOLM_temp_max</th>\n",
       "      <th>TOURS_wind_speed</th>\n",
       "      <th>TOURS_humidity</th>\n",
       "      <th>TOURS_pressure</th>\n",
       "      <th>TOURS_global_radiation</th>\n",
       "      <th>TOURS_precipitation</th>\n",
       "      <th>TOURS_temp_mean</th>\n",
       "      <th>TOURS_temp_min</th>\n",
       "      <th>TOURS_temp_max</th>\n",
       "    </tr>\n",
       "  </thead>\n",
       "  <tbody>\n",
       "    <tr>\n",
       "      <th>count</th>\n",
       "      <td>3.654000e+03</td>\n",
       "      <td>3654.000000</td>\n",
       "      <td>3654.000000</td>\n",
       "      <td>3654.000000</td>\n",
       "      <td>3654.000000</td>\n",
       "      <td>3654.000000</td>\n",
       "      <td>3654.000000</td>\n",
       "      <td>3654.000000</td>\n",
       "      <td>3654.000000</td>\n",
       "      <td>3654.000000</td>\n",
       "      <td>...</td>\n",
       "      <td>3654.000000</td>\n",
       "      <td>3654.000000</td>\n",
       "      <td>3654.000000</td>\n",
       "      <td>3654.000000</td>\n",
       "      <td>3654.000000</td>\n",
       "      <td>3654.000000</td>\n",
       "      <td>3654.000000</td>\n",
       "      <td>3654.000000</td>\n",
       "      <td>3654.000000</td>\n",
       "      <td>3654.000000</td>\n",
       "    </tr>\n",
       "    <tr>\n",
       "      <th>mean</th>\n",
       "      <td>2.004568e+07</td>\n",
       "      <td>6.520799</td>\n",
       "      <td>5.418446</td>\n",
       "      <td>0.745107</td>\n",
       "      <td>1.017876</td>\n",
       "      <td>1.330380</td>\n",
       "      <td>0.234849</td>\n",
       "      <td>4.661193</td>\n",
       "      <td>11.022797</td>\n",
       "      <td>6.989135</td>\n",
       "      <td>...</td>\n",
       "      <td>5.104215</td>\n",
       "      <td>11.470635</td>\n",
       "      <td>3.677258</td>\n",
       "      <td>0.781872</td>\n",
       "      <td>1.016639</td>\n",
       "      <td>1.369787</td>\n",
       "      <td>0.186100</td>\n",
       "      <td>12.205802</td>\n",
       "      <td>7.860536</td>\n",
       "      <td>16.551779</td>\n",
       "    </tr>\n",
       "    <tr>\n",
       "      <th>std</th>\n",
       "      <td>2.874287e+04</td>\n",
       "      <td>3.450083</td>\n",
       "      <td>2.325497</td>\n",
       "      <td>0.107788</td>\n",
       "      <td>0.007962</td>\n",
       "      <td>0.935348</td>\n",
       "      <td>0.536267</td>\n",
       "      <td>4.330112</td>\n",
       "      <td>7.414754</td>\n",
       "      <td>6.653356</td>\n",
       "      <td>...</td>\n",
       "      <td>7.250744</td>\n",
       "      <td>8.950217</td>\n",
       "      <td>1.519866</td>\n",
       "      <td>0.115572</td>\n",
       "      <td>0.018885</td>\n",
       "      <td>0.926472</td>\n",
       "      <td>0.422151</td>\n",
       "      <td>6.467155</td>\n",
       "      <td>5.692256</td>\n",
       "      <td>7.714924</td>\n",
       "    </tr>\n",
       "    <tr>\n",
       "      <th>min</th>\n",
       "      <td>2.000010e+07</td>\n",
       "      <td>1.000000</td>\n",
       "      <td>0.000000</td>\n",
       "      <td>0.380000</td>\n",
       "      <td>0.985600</td>\n",
       "      <td>0.050000</td>\n",
       "      <td>0.000000</td>\n",
       "      <td>0.000000</td>\n",
       "      <td>-9.300000</td>\n",
       "      <td>-16.000000</td>\n",
       "      <td>...</td>\n",
       "      <td>-19.700000</td>\n",
       "      <td>-14.500000</td>\n",
       "      <td>0.700000</td>\n",
       "      <td>0.330000</td>\n",
       "      <td>0.000300</td>\n",
       "      <td>0.050000</td>\n",
       "      <td>0.000000</td>\n",
       "      <td>-6.200000</td>\n",
       "      <td>-13.000000</td>\n",
       "      <td>-3.100000</td>\n",
       "    </tr>\n",
       "    <tr>\n",
       "      <th>25%</th>\n",
       "      <td>2.002070e+07</td>\n",
       "      <td>4.000000</td>\n",
       "      <td>4.000000</td>\n",
       "      <td>0.670000</td>\n",
       "      <td>1.013300</td>\n",
       "      <td>0.530000</td>\n",
       "      <td>0.000000</td>\n",
       "      <td>0.500000</td>\n",
       "      <td>5.300000</td>\n",
       "      <td>2.000000</td>\n",
       "      <td>...</td>\n",
       "      <td>0.000000</td>\n",
       "      <td>4.100000</td>\n",
       "      <td>2.600000</td>\n",
       "      <td>0.700000</td>\n",
       "      <td>1.012100</td>\n",
       "      <td>0.550000</td>\n",
       "      <td>0.000000</td>\n",
       "      <td>7.600000</td>\n",
       "      <td>3.700000</td>\n",
       "      <td>10.800000</td>\n",
       "    </tr>\n",
       "    <tr>\n",
       "      <th>50%</th>\n",
       "      <td>2.004567e+07</td>\n",
       "      <td>7.000000</td>\n",
       "      <td>6.000000</td>\n",
       "      <td>0.760000</td>\n",
       "      <td>1.017700</td>\n",
       "      <td>1.110000</td>\n",
       "      <td>0.000000</td>\n",
       "      <td>3.600000</td>\n",
       "      <td>11.400000</td>\n",
       "      <td>7.300000</td>\n",
       "      <td>...</td>\n",
       "      <td>5.000000</td>\n",
       "      <td>11.000000</td>\n",
       "      <td>3.400000</td>\n",
       "      <td>0.800000</td>\n",
       "      <td>1.017300</td>\n",
       "      <td>1.235000</td>\n",
       "      <td>0.000000</td>\n",
       "      <td>12.300000</td>\n",
       "      <td>8.300000</td>\n",
       "      <td>16.600000</td>\n",
       "    </tr>\n",
       "    <tr>\n",
       "      <th>75%</th>\n",
       "      <td>2.007070e+07</td>\n",
       "      <td>10.000000</td>\n",
       "      <td>7.000000</td>\n",
       "      <td>0.830000</td>\n",
       "      <td>1.022700</td>\n",
       "      <td>2.060000</td>\n",
       "      <td>0.210000</td>\n",
       "      <td>8.000000</td>\n",
       "      <td>16.900000</td>\n",
       "      <td>12.400000</td>\n",
       "      <td>...</td>\n",
       "      <td>11.200000</td>\n",
       "      <td>19.000000</td>\n",
       "      <td>4.600000</td>\n",
       "      <td>0.870000</td>\n",
       "      <td>1.022200</td>\n",
       "      <td>2.090000</td>\n",
       "      <td>0.160000</td>\n",
       "      <td>17.200000</td>\n",
       "      <td>12.300000</td>\n",
       "      <td>22.400000</td>\n",
       "    </tr>\n",
       "    <tr>\n",
       "      <th>max</th>\n",
       "      <td>2.010010e+07</td>\n",
       "      <td>12.000000</td>\n",
       "      <td>8.000000</td>\n",
       "      <td>0.980000</td>\n",
       "      <td>1.040800</td>\n",
       "      <td>3.550000</td>\n",
       "      <td>7.570000</td>\n",
       "      <td>15.300000</td>\n",
       "      <td>29.000000</td>\n",
       "      <td>20.800000</td>\n",
       "      <td>...</td>\n",
       "      <td>21.200000</td>\n",
       "      <td>32.900000</td>\n",
       "      <td>10.800000</td>\n",
       "      <td>1.000000</td>\n",
       "      <td>1.041400</td>\n",
       "      <td>3.560000</td>\n",
       "      <td>6.200000</td>\n",
       "      <td>31.200000</td>\n",
       "      <td>22.600000</td>\n",
       "      <td>39.800000</td>\n",
       "    </tr>\n",
       "  </tbody>\n",
       "</table>\n",
       "<p>8 rows × 165 columns</p>\n",
       "</div>"
      ],
      "text/plain": [
       "               DATE        MONTH  BASEL_cloud_cover  BASEL_humidity  \\\n",
       "count  3.654000e+03  3654.000000        3654.000000     3654.000000   \n",
       "mean   2.004568e+07     6.520799           5.418446        0.745107   \n",
       "std    2.874287e+04     3.450083           2.325497        0.107788   \n",
       "min    2.000010e+07     1.000000           0.000000        0.380000   \n",
       "25%    2.002070e+07     4.000000           4.000000        0.670000   \n",
       "50%    2.004567e+07     7.000000           6.000000        0.760000   \n",
       "75%    2.007070e+07    10.000000           7.000000        0.830000   \n",
       "max    2.010010e+07    12.000000           8.000000        0.980000   \n",
       "\n",
       "       BASEL_pressure  BASEL_global_radiation  BASEL_precipitation  \\\n",
       "count     3654.000000             3654.000000          3654.000000   \n",
       "mean         1.017876                1.330380             0.234849   \n",
       "std          0.007962                0.935348             0.536267   \n",
       "min          0.985600                0.050000             0.000000   \n",
       "25%          1.013300                0.530000             0.000000   \n",
       "50%          1.017700                1.110000             0.000000   \n",
       "75%          1.022700                2.060000             0.210000   \n",
       "max          1.040800                3.550000             7.570000   \n",
       "\n",
       "       BASEL_sunshine  BASEL_temp_mean  BASEL_temp_min  ...  \\\n",
       "count     3654.000000      3654.000000     3654.000000  ...   \n",
       "mean         4.661193        11.022797        6.989135  ...   \n",
       "std          4.330112         7.414754        6.653356  ...   \n",
       "min          0.000000        -9.300000      -16.000000  ...   \n",
       "25%          0.500000         5.300000        2.000000  ...   \n",
       "50%          3.600000        11.400000        7.300000  ...   \n",
       "75%          8.000000        16.900000       12.400000  ...   \n",
       "max         15.300000        29.000000       20.800000  ...   \n",
       "\n",
       "       STOCKHOLM_temp_min  STOCKHOLM_temp_max  TOURS_wind_speed  \\\n",
       "count         3654.000000         3654.000000       3654.000000   \n",
       "mean             5.104215           11.470635          3.677258   \n",
       "std              7.250744            8.950217          1.519866   \n",
       "min            -19.700000          -14.500000          0.700000   \n",
       "25%              0.000000            4.100000          2.600000   \n",
       "50%              5.000000           11.000000          3.400000   \n",
       "75%             11.200000           19.000000          4.600000   \n",
       "max             21.200000           32.900000         10.800000   \n",
       "\n",
       "       TOURS_humidity  TOURS_pressure  TOURS_global_radiation  \\\n",
       "count     3654.000000     3654.000000             3654.000000   \n",
       "mean         0.781872        1.016639                1.369787   \n",
       "std          0.115572        0.018885                0.926472   \n",
       "min          0.330000        0.000300                0.050000   \n",
       "25%          0.700000        1.012100                0.550000   \n",
       "50%          0.800000        1.017300                1.235000   \n",
       "75%          0.870000        1.022200                2.090000   \n",
       "max          1.000000        1.041400                3.560000   \n",
       "\n",
       "       TOURS_precipitation  TOURS_temp_mean  TOURS_temp_min  TOURS_temp_max  \n",
       "count          3654.000000      3654.000000     3654.000000     3654.000000  \n",
       "mean              0.186100        12.205802        7.860536       16.551779  \n",
       "std               0.422151         6.467155        5.692256        7.714924  \n",
       "min               0.000000        -6.200000      -13.000000       -3.100000  \n",
       "25%               0.000000         7.600000        3.700000       10.800000  \n",
       "50%               0.000000        12.300000        8.300000       16.600000  \n",
       "75%               0.160000        17.200000       12.300000       22.400000  \n",
       "max               6.200000        31.200000       22.600000       39.800000  \n",
       "\n",
       "[8 rows x 165 columns]"
      ]
     },
     "execution_count": 8,
     "metadata": {},
     "output_type": "execute_result"
    }
   ],
   "source": [
    "fname = \"weather_prediction_dataset.csv\"\n",
    "if os.path.isfile(fname):\n",
    "    data = pd.read_csv(fname)\n",
    "else:\n",
    "    data = pd.read_csv(f\"https://zenodo.org/record/5071376/files/{fname}?download=1\")\n",
    "data.describe()"
   ]
  },
  {
   "cell_type": "markdown",
   "metadata": {
    "collapsed": false,
    "pycharm": {
     "name": "#%% md\n"
    }
   },
   "source": [
    "Given how the classification model is trained, we prepare the testing data for prediction. <br>\n",
    "To make it simpler, we only choose one location and make it a binary classification task, to determine whether it is summer or winter."
   ]
  },
  {
   "cell_type": "code",
   "execution_count": 9,
   "metadata": {
    "collapsed": false,
    "pycharm": {
     "name": "#%%\n"
    }
   },
   "outputs": [
    {
     "data": {
      "text/html": [
       "<div>\n",
       "<style scoped>\n",
       "    .dataframe tbody tr th:only-of-type {\n",
       "        vertical-align: middle;\n",
       "    }\n",
       "\n",
       "    .dataframe tbody tr th {\n",
       "        vertical-align: top;\n",
       "    }\n",
       "\n",
       "    .dataframe thead th {\n",
       "        text-align: right;\n",
       "    }\n",
       "</style>\n",
       "<table border=\"1\" class=\"dataframe\">\n",
       "  <thead>\n",
       "    <tr style=\"text-align: right;\">\n",
       "      <th></th>\n",
       "      <th>DE_BILT_temp_max</th>\n",
       "    </tr>\n",
       "  </thead>\n",
       "  <tbody>\n",
       "    <tr>\n",
       "      <th>count</th>\n",
       "      <td>3654.000000</td>\n",
       "    </tr>\n",
       "    <tr>\n",
       "      <th>mean</th>\n",
       "      <td>14.798604</td>\n",
       "    </tr>\n",
       "    <tr>\n",
       "      <th>std</th>\n",
       "      <td>7.210740</td>\n",
       "    </tr>\n",
       "    <tr>\n",
       "      <th>min</th>\n",
       "      <td>-4.700000</td>\n",
       "    </tr>\n",
       "    <tr>\n",
       "      <th>25%</th>\n",
       "      <td>9.200000</td>\n",
       "    </tr>\n",
       "    <tr>\n",
       "      <th>50%</th>\n",
       "      <td>14.900000</td>\n",
       "    </tr>\n",
       "    <tr>\n",
       "      <th>75%</th>\n",
       "      <td>20.200000</td>\n",
       "    </tr>\n",
       "    <tr>\n",
       "      <th>max</th>\n",
       "      <td>35.700000</td>\n",
       "    </tr>\n",
       "  </tbody>\n",
       "</table>\n",
       "</div>"
      ],
      "text/plain": [
       "       DE_BILT_temp_max\n",
       "count       3654.000000\n",
       "mean          14.798604\n",
       "std            7.210740\n",
       "min           -4.700000\n",
       "25%            9.200000\n",
       "50%           14.900000\n",
       "75%           20.200000\n",
       "max           35.700000"
      ]
     },
     "execution_count": 9,
     "metadata": {},
     "output_type": "execute_result"
    }
   ],
   "source": [
    "# select only data from one location (De Bilt)\n",
    "columns = [col for col in data.columns if col.startswith('DE_BILT') and col.endswith('temp_max')]\n",
    "data_debilt = data[columns]\n",
    "data_debilt.describe()"
   ]
  },
  {
   "cell_type": "code",
   "execution_count": 10,
   "metadata": {
    "collapsed": false,
    "pycharm": {
     "name": "#%%\n"
    }
   },
   "outputs": [
    {
     "name": "stdout",
     "output_type": "stream",
     "text": [
      "(120, 28, 1)\n"
     ]
    }
   ],
   "source": [
    "# find where the month changes\n",
    "idx = np.where(np.diff(data['MONTH']) != 0)[0]\n",
    "# idx contains the index of the last day of each month, except for the last month.\n",
    "# of the last month only a single day is recorded, so we discard it.\n",
    "\n",
    "nmonth = len(idx)\n",
    "# add start of first month\n",
    "idx = np.insert(idx, 0, 0)\n",
    "ncol = len(columns)\n",
    "# create single object containing each timeseries\n",
    "# for simplicity we truncate each timeseries to the same length, i.e. 28 days\n",
    "nday = 28\n",
    "data_ts = np.zeros((nmonth, nday, ncol))\n",
    "for m in range(nmonth):\n",
    "    data_ts[m] = data_debilt[idx[m]:idx[m+1]][:28]\n",
    "    \n",
    "print(data_ts.shape)"
   ]
  },
  {
   "cell_type": "markdown",
   "metadata": {
    "collapsed": false,
    "pycharm": {
     "name": "#%% md\n"
    }
   },
   "source": [
    "We label the data based on the seasons. <br>\n",
    "To simplify the problem, we make it a binary classification task and only select summer and winter. <br>"
   ]
  },
  {
   "cell_type": "code",
   "execution_count": 11,
   "metadata": {
    "collapsed": false,
    "pycharm": {
     "name": "#%%\n"
    }
   },
   "outputs": [
    {
     "data": {
      "text/plain": [
       "(60, 28, 1)"
      ]
     },
     "execution_count": 11,
     "metadata": {},
     "output_type": "execute_result"
    }
   ],
   "source": [
    "# the labels are based on the month of each timeseries, in range 1 to 12\n",
    "months = (np.arange(nmonth) + data['MONTH'][0] - 1) % 12 + 1\n",
    "\n",
    "# one class per meteorological season\n",
    "labels = np.zeros_like(months, dtype=int)\n",
    "summer = (6 <= months) & (months <= 8)   # jun - aug\n",
    "winter = (months <= 2) | (months == 12)  # dec - feb\n",
    "\n",
    "labels[summer] = 0\n",
    "labels[winter] = 1\n",
    "\n",
    "target = pd.get_dummies(labels[summer + winter])\n",
    "\n",
    "classes = ['summer', 'winter']\n",
    "nclass = len(classes)\n",
    "\n",
    "data_ts = data_ts[summer + winter]\n",
    "data_ts.shape"
   ]
  },
  {
   "cell_type": "markdown",
   "metadata": {
    "collapsed": false,
    "pycharm": {
     "name": "#%% md\n"
    }
   },
   "source": [
    "Train/test split"
   ]
  },
  {
   "cell_type": "code",
   "execution_count": 12,
   "metadata": {
    "collapsed": false,
    "pycharm": {
     "name": "#%%\n"
    }
   },
   "outputs": [
    {
     "name": "stdout",
     "output_type": "stream",
     "text": [
      "(45, 28, 1) (7, 28, 1) (8, 28, 1)\n"
     ]
    }
   ],
   "source": [
    "data_trainval, data_test, target_trainval, target_test = train_test_split(data_ts, target, stratify=target, random_state=0, test_size=.12)\n",
    "data_train, data_val, target_train, target_val = train_test_split(data_trainval, target_trainval, stratify=target_trainval, random_state=0, test_size=.12)\n",
    "print(data_train.shape, data_val.shape, data_test.shape)"
   ]
  },
  {
   "cell_type": "markdown",
   "metadata": {
    "collapsed": false,
    "pycharm": {
     "name": "#%% md\n"
    }
   },
   "source": [
    "Load ONNX model and create a ONNX model runner."
   ]
  },
  {
   "cell_type": "code",
   "execution_count": 13,
   "metadata": {
    "collapsed": false,
    "pycharm": {
     "name": "#%%\n"
    }
   },
   "outputs": [],
   "source": [
    "# onnx model available on surf drive\n",
    "# path to ONNX model\n",
    "onnx_file = 'models/season_prediction_model_temp_max_binary.onnx'\n",
    "\n",
    "# verify the ONNX model is valid\n",
    "onnx_model = onnx.load(onnx_file)\n",
    "onnx.checker.check_model(onnx_model)\n",
    "\n",
    "def run_model(data):\n",
    "    # model must receive input in the order of [batch, timeseries, channels]\n",
    "    # data = data.transpose([0,2,1])\n",
    "    # get ONNX predictions\n",
    "    sess = ort.InferenceSession(onnx_file)\n",
    "    input_name = sess.get_inputs()[0].name\n",
    "    output_name = sess.get_outputs()[0].name\n",
    "\n",
    "    onnx_input = {input_name: data.astype(np.float32)}\n",
    "    pred_onnx = sess.run([output_name], onnx_input)[0]\n",
    "    \n",
    "    return pred_onnx"
   ]
  },
  {
   "cell_type": "markdown",
   "metadata": {
    "collapsed": false,
    "pycharm": {
     "name": "#%% md\n"
    }
   },
   "source": [
    "Select an instance to explain and check the prediction with the model."
   ]
  },
  {
   "cell_type": "code",
   "execution_count": 14,
   "metadata": {
    "collapsed": false,
    "pycharm": {
     "name": "#%%\n"
    }
   },
   "outputs": [
    {
     "name": "stdout",
     "output_type": "stream",
     "text": [
      "The predicted class is: winter\n",
      "The actual class is: winter\n"
     ]
    }
   ],
   "source": [
    "idx = 6 # explained instance\n",
    "data_instance = data_test[idx][np.newaxis, ...]\n",
    "# precheck ONNX predictions\n",
    "pred_onnx = run_model(data_instance)\n",
    "pred_class = classes[np.argmax(pred_onnx)]\n",
    "print(\"The predicted class is:\", pred_class)\n",
    "print(\"The actual class is:\", classes[np.argmax(target_test.iloc[idx])])"
   ]
  },
  {
   "cell_type": "markdown",
   "metadata": {
    "collapsed": false,
    "pycharm": {
     "name": "#%% md\n"
    }
   },
   "source": [
    "#### 5 - Compute and visualize the relevance scores\n",
    "In this section we compute the relevance scores for each segment of timeseries using RISE and visualize them on the original timeseries."
   ]
  },
  {
   "cell_type": "code",
   "execution_count": 15,
   "metadata": {
    "collapsed": false,
    "pycharm": {
     "is_executing": true,
     "name": "#%%\n"
    }
   },
   "outputs": [
    {
     "name": "stderr",
     "output_type": "stream",
     "text": [
      "Explaining: 100%|██████████| 100/100 [00:00<00:00, 556.21it/s]\n"
     ]
    }
   ],
   "source": [
    "# call the explainer\n",
    "explanation = dianna.explain_timeseries(run_model, timeseries_data=data_instance[0],\n",
    "                                        method='rise', labels=[0,1], p_keep=0.1,\n",
    "                                        n_masks=10000)"
   ]
  },
  {
   "cell_type": "markdown",
   "metadata": {
    "collapsed": false,
    "pycharm": {
     "name": "#%% md\n"
    }
   },
   "source": [
    "Now we can visualize the relevance scores on top of the displayed timeseries using the visualization tool in dianna."
   ]
  },
  {
   "cell_type": "code",
   "execution_count": 16,
   "metadata": {
    "collapsed": false,
    "pycharm": {
     "is_executing": true,
     "name": "#%%\n"
    }
   },
   "outputs": [
    {
     "data": {
      "image/png": "[encoded data removed]",
      "text/plain": [
       "<Figure size 432x288 with 2 Axes>"
      ]
     },
     "metadata": {
      "needs_background": "light"
     },
     "output_type": "display_data"
    },
    {
     "data": {
      "text/plain": [
       "<AxesSubplot:xlabel='Time index', ylabel='Temperature'>"
      ]
     },
     "execution_count": 16,
     "metadata": {},
     "output_type": "execute_result"
    }
   ],
   "source": [
    "heatmap_channel = normalize(explanation[np.argmax(pred_onnx)])\n",
    "segments = []\n",
    "for i in range(len(heatmap_channel) - 1):\n",
    "    segments.append({\n",
    "        'index': i,\n",
    "        'start': i - 0.5,\n",
    "        'stop': i + 0.5,\n",
    "        'weight': heatmap_channel[i]})\n",
    "visualization.plot_timeseries(range(len(heatmap_channel)), data_instance[0],\n",
    "                              segments, xlabel=\"Time index\", ylabel=\"Temperature\",\n",
    "                              show_plot=True)"
   ]
  },
  {
   "cell_type": "markdown",
   "metadata": {
    "collapsed": false,
    "pycharm": {
     "name": "#%% md\n"
    }
   },
   "source": [
    "#### 6 - Conclusions\n",
    "The relevance scores are generated by passing multiple randomly masked inputs to the black-box model and averaging their segment-wise relevances. The idea behind this is that whenever a mask preserves important parts of the timeseries it gets higher score. <br>\n",
    "\n",
    "The first example with a designed timeseries and an expert model demonstrates that RISE is able to identify the important segments for the classification in a simplified case.\n",
    "\n",
    "The second example shows that the method still runs in a more case with real data and a real model. It is, however, hard to understand the explanation of this case. This could be due to an imperfecty trained model, not really suitable masking strategy or suboptimal masking generation.\n"
   ]
  },
  {
   "cell_type": "code",
   "execution_count": 17,
   "metadata": {
    "collapsed": false,
    "pycharm": {
     "is_executing": true,
     "name": "#%%\n"
    }
   },
   "outputs": [],
   "source": [
    "# onnx model available on surf drive\n",
    "# path to ONNX model\n",
    "onnx_file = 'models/season_prediction_model_temp_max_binary.onnx'\n",
    "\n",
    "# verify the ONNX model is valid\n",
    "onnx_model = onnx.load(onnx_file)\n",
    "onnx.checker.check_model(onnx_model)\n",
    "\n",
    "def run_model(data):\n",
    "    # model must receive input in the order of [batch, timeseries, channels]\n",
    "    # data = data.transpose([0,2,1])\n",
    "    # get ONNX predictions\n",
    "    sess = ort.InferenceSession(onnx_file)\n",
    "    input_name = sess.get_inputs()[0].name\n",
    "    output_name = sess.get_outputs()[0].name\n",
    "\n",
    "    onnx_input = {input_name: data.astype(np.float32)}\n",
    "    pred_onnx = sess.run([output_name], onnx_input)[0]\n",
    "    \n",
    "    return pred_onnx"
   ]
  },
  {
   "cell_type": "markdown",
   "metadata": {},
   "source": [
    "Select an instance to explain and check the prediction with the model."
   ]
  },
  {
   "cell_type": "code",
   "execution_count": 18,
   "metadata": {
    "collapsed": false,
    "pycharm": {
     "is_executing": true,
     "name": "#%%\n"
    }
   },
   "outputs": [
    {
     "name": "stdout",
     "output_type": "stream",
     "text": [
      "The predicted class is: winter\n",
      "The actual class is: winter\n"
     ]
    }
   ],
   "source": [
    "idx = 6 # explained instance\n",
    "data_instance = data_test[idx][np.newaxis, ...]\n",
    "# precheck ONNX predictions\n",
    "pred_onnx = run_model(data_instance)\n",
    "pred_class = classes[np.argmax(pred_onnx)]\n",
    "print(\"The predicted class is:\", pred_class)\n",
    "print(\"The actual class is:\", classes[np.argmax(target_test.iloc[idx])])"
   ]
  },
  {
   "cell_type": "markdown",
   "metadata": {},
   "source": [
    "#### 5 - Compute and visualize the relevance scores\n",
    "In this section we compute the relevance scores for each segment of timeseries using RISE and visualize them on the original timeseries."
   ]
  },
  {
   "cell_type": "code",
   "execution_count": 19,
   "metadata": {
    "pycharm": {
     "is_executing": true
    }
   },
   "outputs": [
    {
     "name": "stderr",
     "output_type": "stream",
     "text": [
      "Explaining: 100%|██████████| 100/100 [00:00<00:00, 528.36it/s]\n"
     ]
    }
   ],
   "source": [
    "# call the explainer\n",
    "explanation = dianna.explain_timeseries(run_model, timeseries_data=data_instance[0],\n",
    "                                        method='rise', labels=[0,1], p_keep=0.1,\n",
    "                                        n_masks=10000)"
   ]
  },
  {
   "cell_type": "markdown",
   "metadata": {},
   "source": [
    "Now we can visualize the relevance scores on top of the displayed timeseries using the visualization tool in dianna."
   ]
  },
  {
   "cell_type": "code",
   "execution_count": 20,
   "metadata": {
    "collapsed": false,
    "pycharm": {
     "is_executing": true,
     "name": "#%%\n"
    }
   },
   "outputs": [
    {
     "data": {
      "image/png": "[encoded data removed]",
      "text/plain": [
       "<Figure size 432x288 with 2 Axes>"
      ]
     },
     "metadata": {
      "needs_background": "light"
     },
     "output_type": "display_data"
    },
    {
     "data": {
      "text/plain": [
       "<AxesSubplot:xlabel='Time index', ylabel='Temperature'>"
      ]
     },
     "execution_count": 20,
     "metadata": {},
     "output_type": "execute_result"
    }
   ],
   "source": [
    "heatmap_channel = normalize(explanation[np.argmax(pred_onnx)])\n",
    "segments = []\n",
    "for i in range(len(heatmap_channel) - 1):\n",
    "    segments.append({\n",
    "        'index': i,\n",
    "        'start': i - 0.5,\n",
    "        'stop': i + 0.5,\n",
    "        'weight': heatmap_channel[i]})\n",
    "visualization.plot_timeseries(range(len(heatmap_channel)), data_instance[0],\n",
    "                              segments, xlabel=\"Time index\", ylabel=\"Temperature\",\n",
    "                              show_plot=True)"
   ]
  },
  {
   "attachments": {},
   "cell_type": "markdown",
   "metadata": {
    "pycharm": {
     "name": "#%% md\n"
    }
   },
   "source": [
    "#### 6 - Conclusions\n",
    "The relevance scores are generated by passing multiple randomly masked inputs to the black-box model and averaging their segment-wise relevances. The idea behind this is that whenever a mask preserves important parts of the timeseries it gets higher score. <br>\n",
    "\n",
    "The first example with a designed timeseries and an expert model demonstrates that RISE is able to identify the important segments for classification in this simplified case.\n",
    "\n",
    "The second example shows that RISE for timeseries also runs on real timeseries data. The explanation is, however, hard to interpret in this case. This could be due to an suboptimally trained model, unsuitable masking strategy or unsuitable mask generation.\n"
   ]
  }
 ],
 "metadata": {
  "kernelspec": {
   "display_name": "torch",
   "language": "python",
   "name": "python3"
  },
  "language_info": {
   "codemirror_mode": {
    "name": "ipython",
    "version": 3
   },
   "file_extension": ".py",
   "mimetype": "text/x-python",
   "name": "python",
   "nbconvert_exporter": "python",
   "pygments_lexer": "ipython3",
   "version": "3.9.12"
  },
  "vscode": {
   "interpreter": {
    "hash": "f74811edbe99894b2f930b63702daebe3ce5897f538d47d6f6827e4475af2be0"
   }
  }
 },
 "nbformat": 4,
 "nbformat_minor": 2
}
