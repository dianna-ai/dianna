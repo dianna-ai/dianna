{
 "cells": [
  {
   "cell_type": "code",
   "execution_count": 2,
   "metadata": {},
   "outputs": [],
   "source": [
    "from pathlib import Path\n",
    "import pandas as pd\n",
    "import matplotlib.pyplot as plt\n",
    "from sklearn.neighbors import KNeighborsClassifier as KNN\n",
    "from sklearn.metrics import accuracy_score as acc\n",
    "import numpy as np\n",
    "from lime import explanation\n",
    "from lime import lime_base\n",
    "import math"
   ]
  },
  {
   "cell_type": "code",
   "execution_count": 3,
   "metadata": {},
   "outputs": [],
   "source": [
    "# Download coffee dataset\n",
    "path_to_data = \"/home/yangliu/MLexpo/Lime-For-Time/demo/data\"\n",
    "\n",
    "coffee_train = pd.read_csv(Path(path_to_data, \"coffee_train.csv\"), sep=',', header=None).astype(float)\n",
    "coffee_train_y = coffee_train.loc[:, 0]\n",
    "coffee_train_x = coffee_train.loc[:, 1:]\n",
    "coffee_test = pd.read_csv(Path(path_to_data, \"coffee_test.csv\"), sep=',', header=None).astype(float)\n",
    "coffee_test_y = coffee_test.loc[:, 0]\n",
    "coffee_test_x = coffee_test.loc[:, 1:]"
   ]
  },
  {
   "cell_type": "code",
   "execution_count": 5,
   "metadata": {},
   "outputs": [
    {
     "name": "stdout",
     "output_type": "stream",
     "text": [
      "Accuracy KNN for coffee dataset: 0.964286\n"
     ]
    }
   ],
   "source": [
    "# Define and train model\n",
    "knn = KNN()\n",
    "knn.fit(coffee_train_x, coffee_train_y)\n",
    "print('Accuracy KNN for coffee dataset: %f' % (acc(coffee_test_y, knn.predict(coffee_test_x))))"
   ]
  },
  {
   "cell_type": "code",
   "execution_count": 6,
   "metadata": {},
   "outputs": [],
   "source": [
    "idx = 5 # explained instance\n",
    "num_features = 10 # how many feature contained in explanation\n",
    "num_slices = 24 # split time series\n",
    "series = coffee_test_x.iloc[idx, :]"
   ]
  },
  {
   "cell_type": "code",
   "execution_count": null,
   "metadata": {},
   "outputs": [],
   "source": [
    "def explainer(timeseries, model_or_function, num_features=num_features,\n",
    "              num_samples=500, num_slices=num_slices, replacement_method='total_mean'):\n",
    "    \n",
    "\n",
    "def masker() "
   ]
  },
  {
   "cell_type": "code",
   "execution_count": null,
   "metadata": {},
   "outputs": [],
   "source": [
    "explainer = LimeTimeSeriesExplainer(class_names=['Arabica', 'Robusta'])\n",
    "exp = explainer.explain_instance(series, knn.predict_proba, num_features=num_features, num_samples=5000, num_slices=num_slices, \n",
    "                                 replacement_method='total_mean')\n",
    "exp.as_pyplot_figure()"
   ]
  }
 ],
 "metadata": {
  "kernelspec": {
   "display_name": "torch",
   "language": "python",
   "name": "python3"
  },
  "language_info": {
   "codemirror_mode": {
    "name": "ipython",
    "version": 3
   },
   "file_extension": ".py",
   "mimetype": "text/x-python",
   "name": "python",
   "nbconvert_exporter": "python",
   "pygments_lexer": "ipython3",
   "version": "3.10.8"
  },
  "orig_nbformat": 4
 },
 "nbformat": 4,
 "nbformat_minor": 2
}
