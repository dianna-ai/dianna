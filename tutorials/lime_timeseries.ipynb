{
 "cells": [
  {
   "attachments": {},
   "cell_type": "markdown",
   "metadata": {},
   "source": [
    "<img width=\"150\" alt=\"Logo_ER10\" src=\"https://user-images.githubusercontent.com/3244249/151994514-b584b984-a148-4ade-80ee-0f88b0aefa45.png\">\n",
    "\n",
    "### Interpreting a leaf identification model with LIME\n",
    "This notebook demonstrates the use of DIANNA with the LIME timeseries method on the coffee dataset.\n",
    "\n",
    "LIME (Local Interpretable Model-agnostic Explanations) is an explainable-AI method that aims to create an interpretable model that locally represents the classifier. For more details see the [LIME paper](https://arxiv.org/abs/1602.04938).\n",
    "\n",
    "*NOTE*: This tutorial is still work-in-progress, the final results need to be improved by tweaking the LIME parameters"
   ]
  },
  {
   "cell_type": "markdown",
   "metadata": {},
   "source": [
    "#### 1. Imports and paths"
   ]
  },
  {
   "cell_type": "code",
   "execution_count": 1,
   "metadata": {},
   "outputs": [],
   "source": [
    "import dianna\n",
    "from pathlib import Path\n",
    "import pandas as pd\n",
    "from sklearn.neighbors import KNeighborsClassifier as KNN\n",
    "from sklearn.metrics import accuracy_score as acc"
   ]
  },
  {
   "cell_type": "markdown",
   "metadata": {},
   "source": [
    "#### 2. Loading the data"
   ]
  },
  {
   "cell_type": "code",
   "execution_count": 3,
   "metadata": {},
   "outputs": [],
   "source": [
    "# Load coffee dataset\n",
    "path_to_data = \"path_to_data\"\n",
    "path_to_data = \"/home/yangliu/MLexpo/Lime-For-Time/demo/data\"\n",
    "coffee_train = pd.read_csv(Path(path_to_data, \"coffee_train.csv\"),\n",
    "                            sep=',', header=None).astype(float)\n",
    "coffee_train_y = coffee_train.loc[:, 0]\n",
    "coffee_train_x = coffee_train.loc[:, 1:]\n",
    "coffee_test = pd.read_csv(Path(path_to_data, \"coffee_test.csv\"),\n",
    "                           sep=',', header=None).astype(float)\n",
    "coffee_test_y = coffee_test.loc[:, 0]\n",
    "coffee_test_x = coffee_test.loc[:, 1:]"
   ]
  },
  {
   "cell_type": "code",
   "execution_count": 4,
   "metadata": {},
   "outputs": [
    {
     "name": "stdout",
     "output_type": "stream",
     "text": [
      "Accuracy KNN for coffee dataset: 0.964286\n"
     ]
    }
   ],
   "source": [
    "# Define and train model\n",
    "knn = KNN()\n",
    "knn.fit(coffee_train_x, coffee_train_y)\n",
    "print('Accuracy KNN for coffee dataset: %f' % (acc(coffee_test_y, knn.predict(coffee_test_x))))"
   ]
  },
  {
   "cell_type": "code",
   "execution_count": 5,
   "metadata": {},
   "outputs": [],
   "source": [
    "# Select instance for explanation\n",
    "idx = 5 # explained instance\n",
    "num_features = 10 # how many feature contained in explanation\n",
    "num_slices = 24 # split time series\n",
    "series = coffee_test_x.iloc[idx, :]"
   ]
  },
  {
   "cell_type": "markdown",
   "metadata": {},
   "source": [
    "#### 3. Applying LIME with DIANNA"
   ]
  },
  {
   "cell_type": "code",
   "execution_count": null,
   "metadata": {},
   "outputs": [],
   "source": [
    "# Things we need to replace/reproduce\n",
    "class_names = ['Arabica', 'Robusta']\n",
    "\n",
    "explanation_heatmap = dianna.explain_timeseries(knn.predict_proba,\n",
    "                                                series,\n",
    "                                                'LIME',\n",
    "                                                labels=class_names[0],\n",
    "                                                num_features=num_features,\n",
    "                                                num_samples=5000,\n",
    "                                                num_slices=num_slices,\n",
    "                                                mask_type='mean'\n",
    ")"
   ]
  },
  {
   "cell_type": "code",
   "execution_count": null,
   "metadata": {},
   "outputs": [],
   "source": []
  }
 ],
 "metadata": {
  "kernelspec": {
   "display_name": "torch",
   "language": "python",
   "name": "python3"
  },
  "language_info": {
   "codemirror_mode": {
    "name": "ipython",
    "version": 3
   },
   "file_extension": ".py",
   "mimetype": "text/x-python",
   "name": "python",
   "nbconvert_exporter": "python",
   "pygments_lexer": "ipython3",
   "version": "3.10.8"
  },
  "orig_nbformat": 4
 },
 "nbformat": 4,
 "nbformat_minor": 2
}
