{
 "cells": [
  {
   "attachments": {},
   "cell_type": "markdown",
   "metadata": {},
   "source": [
    "<img width=\"150\" alt=\"Logo_ER10\" src=\"https://user-images.githubusercontent.com/3244249/151994514-b584b984-a148-4ade-80ee-0f88b0aefa45.png\">\n",
    "\n",
    "### Interpreting a leaf identification model with LIME\n",
    "This notebook demonstrates the use of DIANNA with the LIME timeseries method on the coffee dataset.\n",
    "\n",
    "LIME (Local Interpretable Model-agnostic Explanations) is an explainable-AI method that aims to create an interpretable model that locally represents the classifier. For more details see the [LIME paper](https://arxiv.org/abs/1602.04938).\n",
    "\n",
    "*NOTE*: This tutorial is still work-in-progress, the final results need to be improved by tweaking the LIME parameters"
   ]
  },
  {
   "cell_type": "markdown",
   "metadata": {},
   "source": [
    "#### 1. Imports and paths"
   ]
  },
  {
   "cell_type": "code",
   "execution_count": 1,
   "metadata": {},
   "outputs": [],
   "source": [
    "import dianna\n",
    "from pathlib import Path\n",
    "import pandas as pd\n",
    "import sklearn\n",
    "from sklearn.neighbors import KNeighborsClassifier as KNN\n",
    "from sklearn.metrics import accuracy_score as acc\n",
    "from dianna.methods import lime_timeseries\n",
    "from lime import explanation\n",
    "from lime import lime_base\n",
    "import numpy as np\n",
    "from fastdtw import fastdtw\n",
    "import os\n",
    "from sklearn.model_selection import train_test_split\n",
    "import onnx\n",
    "import onnxruntime as ort"
   ]
  },
  {
   "cell_type": "markdown",
   "metadata": {},
   "source": [
    "#### 2. Loading the data"
   ]
  },
  {
   "cell_type": "code",
   "execution_count": 2,
   "metadata": {},
   "outputs": [
    {
     "data": {
      "text/html": [
       "<div>\n",
       "<style scoped>\n",
       "    .dataframe tbody tr th:only-of-type {\n",
       "        vertical-align: middle;\n",
       "    }\n",
       "\n",
       "    .dataframe tbody tr th {\n",
       "        vertical-align: top;\n",
       "    }\n",
       "\n",
       "    .dataframe thead th {\n",
       "        text-align: right;\n",
       "    }\n",
       "</style>\n",
       "<table border=\"1\" class=\"dataframe\">\n",
       "  <thead>\n",
       "    <tr style=\"text-align: right;\">\n",
       "      <th></th>\n",
       "      <th>DATE</th>\n",
       "      <th>MONTH</th>\n",
       "      <th>BASEL_cloud_cover</th>\n",
       "      <th>BASEL_humidity</th>\n",
       "      <th>BASEL_pressure</th>\n",
       "      <th>BASEL_global_radiation</th>\n",
       "      <th>BASEL_precipitation</th>\n",
       "      <th>BASEL_sunshine</th>\n",
       "      <th>BASEL_temp_mean</th>\n",
       "      <th>BASEL_temp_min</th>\n",
       "      <th>...</th>\n",
       "      <th>STOCKHOLM_temp_min</th>\n",
       "      <th>STOCKHOLM_temp_max</th>\n",
       "      <th>TOURS_wind_speed</th>\n",
       "      <th>TOURS_humidity</th>\n",
       "      <th>TOURS_pressure</th>\n",
       "      <th>TOURS_global_radiation</th>\n",
       "      <th>TOURS_precipitation</th>\n",
       "      <th>TOURS_temp_mean</th>\n",
       "      <th>TOURS_temp_min</th>\n",
       "      <th>TOURS_temp_max</th>\n",
       "    </tr>\n",
       "  </thead>\n",
       "  <tbody>\n",
       "    <tr>\n",
       "      <th>count</th>\n",
       "      <td>3.654000e+03</td>\n",
       "      <td>3654.000000</td>\n",
       "      <td>3654.000000</td>\n",
       "      <td>3654.000000</td>\n",
       "      <td>3654.000000</td>\n",
       "      <td>3654.000000</td>\n",
       "      <td>3654.000000</td>\n",
       "      <td>3654.000000</td>\n",
       "      <td>3654.000000</td>\n",
       "      <td>3654.000000</td>\n",
       "      <td>...</td>\n",
       "      <td>3654.000000</td>\n",
       "      <td>3654.000000</td>\n",
       "      <td>3654.000000</td>\n",
       "      <td>3654.000000</td>\n",
       "      <td>3654.000000</td>\n",
       "      <td>3654.000000</td>\n",
       "      <td>3654.000000</td>\n",
       "      <td>3654.000000</td>\n",
       "      <td>3654.000000</td>\n",
       "      <td>3654.000000</td>\n",
       "    </tr>\n",
       "    <tr>\n",
       "      <th>mean</th>\n",
       "      <td>2.004568e+07</td>\n",
       "      <td>6.520799</td>\n",
       "      <td>5.418446</td>\n",
       "      <td>0.745107</td>\n",
       "      <td>1.017876</td>\n",
       "      <td>1.330380</td>\n",
       "      <td>0.234849</td>\n",
       "      <td>4.661193</td>\n",
       "      <td>11.022797</td>\n",
       "      <td>6.989135</td>\n",
       "      <td>...</td>\n",
       "      <td>5.104215</td>\n",
       "      <td>11.470635</td>\n",
       "      <td>3.677258</td>\n",
       "      <td>0.781872</td>\n",
       "      <td>1.016639</td>\n",
       "      <td>1.369787</td>\n",
       "      <td>0.186100</td>\n",
       "      <td>12.205802</td>\n",
       "      <td>7.860536</td>\n",
       "      <td>16.551779</td>\n",
       "    </tr>\n",
       "    <tr>\n",
       "      <th>std</th>\n",
       "      <td>2.874287e+04</td>\n",
       "      <td>3.450083</td>\n",
       "      <td>2.325497</td>\n",
       "      <td>0.107788</td>\n",
       "      <td>0.007962</td>\n",
       "      <td>0.935348</td>\n",
       "      <td>0.536267</td>\n",
       "      <td>4.330112</td>\n",
       "      <td>7.414754</td>\n",
       "      <td>6.653356</td>\n",
       "      <td>...</td>\n",
       "      <td>7.250744</td>\n",
       "      <td>8.950217</td>\n",
       "      <td>1.519866</td>\n",
       "      <td>0.115572</td>\n",
       "      <td>0.018885</td>\n",
       "      <td>0.926472</td>\n",
       "      <td>0.422151</td>\n",
       "      <td>6.467155</td>\n",
       "      <td>5.692256</td>\n",
       "      <td>7.714924</td>\n",
       "    </tr>\n",
       "    <tr>\n",
       "      <th>min</th>\n",
       "      <td>2.000010e+07</td>\n",
       "      <td>1.000000</td>\n",
       "      <td>0.000000</td>\n",
       "      <td>0.380000</td>\n",
       "      <td>0.985600</td>\n",
       "      <td>0.050000</td>\n",
       "      <td>0.000000</td>\n",
       "      <td>0.000000</td>\n",
       "      <td>-9.300000</td>\n",
       "      <td>-16.000000</td>\n",
       "      <td>...</td>\n",
       "      <td>-19.700000</td>\n",
       "      <td>-14.500000</td>\n",
       "      <td>0.700000</td>\n",
       "      <td>0.330000</td>\n",
       "      <td>0.000300</td>\n",
       "      <td>0.050000</td>\n",
       "      <td>0.000000</td>\n",
       "      <td>-6.200000</td>\n",
       "      <td>-13.000000</td>\n",
       "      <td>-3.100000</td>\n",
       "    </tr>\n",
       "    <tr>\n",
       "      <th>25%</th>\n",
       "      <td>2.002070e+07</td>\n",
       "      <td>4.000000</td>\n",
       "      <td>4.000000</td>\n",
       "      <td>0.670000</td>\n",
       "      <td>1.013300</td>\n",
       "      <td>0.530000</td>\n",
       "      <td>0.000000</td>\n",
       "      <td>0.500000</td>\n",
       "      <td>5.300000</td>\n",
       "      <td>2.000000</td>\n",
       "      <td>...</td>\n",
       "      <td>0.000000</td>\n",
       "      <td>4.100000</td>\n",
       "      <td>2.600000</td>\n",
       "      <td>0.700000</td>\n",
       "      <td>1.012100</td>\n",
       "      <td>0.550000</td>\n",
       "      <td>0.000000</td>\n",
       "      <td>7.600000</td>\n",
       "      <td>3.700000</td>\n",
       "      <td>10.800000</td>\n",
       "    </tr>\n",
       "    <tr>\n",
       "      <th>50%</th>\n",
       "      <td>2.004567e+07</td>\n",
       "      <td>7.000000</td>\n",
       "      <td>6.000000</td>\n",
       "      <td>0.760000</td>\n",
       "      <td>1.017700</td>\n",
       "      <td>1.110000</td>\n",
       "      <td>0.000000</td>\n",
       "      <td>3.600000</td>\n",
       "      <td>11.400000</td>\n",
       "      <td>7.300000</td>\n",
       "      <td>...</td>\n",
       "      <td>5.000000</td>\n",
       "      <td>11.000000</td>\n",
       "      <td>3.400000</td>\n",
       "      <td>0.800000</td>\n",
       "      <td>1.017300</td>\n",
       "      <td>1.235000</td>\n",
       "      <td>0.000000</td>\n",
       "      <td>12.300000</td>\n",
       "      <td>8.300000</td>\n",
       "      <td>16.600000</td>\n",
       "    </tr>\n",
       "    <tr>\n",
       "      <th>75%</th>\n",
       "      <td>2.007070e+07</td>\n",
       "      <td>10.000000</td>\n",
       "      <td>7.000000</td>\n",
       "      <td>0.830000</td>\n",
       "      <td>1.022700</td>\n",
       "      <td>2.060000</td>\n",
       "      <td>0.210000</td>\n",
       "      <td>8.000000</td>\n",
       "      <td>16.900000</td>\n",
       "      <td>12.400000</td>\n",
       "      <td>...</td>\n",
       "      <td>11.200000</td>\n",
       "      <td>19.000000</td>\n",
       "      <td>4.600000</td>\n",
       "      <td>0.870000</td>\n",
       "      <td>1.022200</td>\n",
       "      <td>2.090000</td>\n",
       "      <td>0.160000</td>\n",
       "      <td>17.200000</td>\n",
       "      <td>12.300000</td>\n",
       "      <td>22.400000</td>\n",
       "    </tr>\n",
       "    <tr>\n",
       "      <th>max</th>\n",
       "      <td>2.010010e+07</td>\n",
       "      <td>12.000000</td>\n",
       "      <td>8.000000</td>\n",
       "      <td>0.980000</td>\n",
       "      <td>1.040800</td>\n",
       "      <td>3.550000</td>\n",
       "      <td>7.570000</td>\n",
       "      <td>15.300000</td>\n",
       "      <td>29.000000</td>\n",
       "      <td>20.800000</td>\n",
       "      <td>...</td>\n",
       "      <td>21.200000</td>\n",
       "      <td>32.900000</td>\n",
       "      <td>10.800000</td>\n",
       "      <td>1.000000</td>\n",
       "      <td>1.041400</td>\n",
       "      <td>3.560000</td>\n",
       "      <td>6.200000</td>\n",
       "      <td>31.200000</td>\n",
       "      <td>22.600000</td>\n",
       "      <td>39.800000</td>\n",
       "    </tr>\n",
       "  </tbody>\n",
       "</table>\n",
       "<p>8 rows × 165 columns</p>\n",
       "</div>"
      ],
      "text/plain": [
       "               DATE        MONTH  BASEL_cloud_cover  BASEL_humidity  \\\n",
       "count  3.654000e+03  3654.000000        3654.000000     3654.000000   \n",
       "mean   2.004568e+07     6.520799           5.418446        0.745107   \n",
       "std    2.874287e+04     3.450083           2.325497        0.107788   \n",
       "min    2.000010e+07     1.000000           0.000000        0.380000   \n",
       "25%    2.002070e+07     4.000000           4.000000        0.670000   \n",
       "50%    2.004567e+07     7.000000           6.000000        0.760000   \n",
       "75%    2.007070e+07    10.000000           7.000000        0.830000   \n",
       "max    2.010010e+07    12.000000           8.000000        0.980000   \n",
       "\n",
       "       BASEL_pressure  BASEL_global_radiation  BASEL_precipitation  \\\n",
       "count     3654.000000             3654.000000          3654.000000   \n",
       "mean         1.017876                1.330380             0.234849   \n",
       "std          0.007962                0.935348             0.536267   \n",
       "min          0.985600                0.050000             0.000000   \n",
       "25%          1.013300                0.530000             0.000000   \n",
       "50%          1.017700                1.110000             0.000000   \n",
       "75%          1.022700                2.060000             0.210000   \n",
       "max          1.040800                3.550000             7.570000   \n",
       "\n",
       "       BASEL_sunshine  BASEL_temp_mean  BASEL_temp_min  ...  \\\n",
       "count     3654.000000      3654.000000     3654.000000  ...   \n",
       "mean         4.661193        11.022797        6.989135  ...   \n",
       "std          4.330112         7.414754        6.653356  ...   \n",
       "min          0.000000        -9.300000      -16.000000  ...   \n",
       "25%          0.500000         5.300000        2.000000  ...   \n",
       "50%          3.600000        11.400000        7.300000  ...   \n",
       "75%          8.000000        16.900000       12.400000  ...   \n",
       "max         15.300000        29.000000       20.800000  ...   \n",
       "\n",
       "       STOCKHOLM_temp_min  STOCKHOLM_temp_max  TOURS_wind_speed  \\\n",
       "count         3654.000000         3654.000000       3654.000000   \n",
       "mean             5.104215           11.470635          3.677258   \n",
       "std              7.250744            8.950217          1.519866   \n",
       "min            -19.700000          -14.500000          0.700000   \n",
       "25%              0.000000            4.100000          2.600000   \n",
       "50%              5.000000           11.000000          3.400000   \n",
       "75%             11.200000           19.000000          4.600000   \n",
       "max             21.200000           32.900000         10.800000   \n",
       "\n",
       "       TOURS_humidity  TOURS_pressure  TOURS_global_radiation  \\\n",
       "count     3654.000000     3654.000000             3654.000000   \n",
       "mean         0.781872        1.016639                1.369787   \n",
       "std          0.115572        0.018885                0.926472   \n",
       "min          0.330000        0.000300                0.050000   \n",
       "25%          0.700000        1.012100                0.550000   \n",
       "50%          0.800000        1.017300                1.235000   \n",
       "75%          0.870000        1.022200                2.090000   \n",
       "max          1.000000        1.041400                3.560000   \n",
       "\n",
       "       TOURS_precipitation  TOURS_temp_mean  TOURS_temp_min  TOURS_temp_max  \n",
       "count          3654.000000      3654.000000     3654.000000     3654.000000  \n",
       "mean              0.186100        12.205802        7.860536       16.551779  \n",
       "std               0.422151         6.467155        5.692256        7.714924  \n",
       "min               0.000000        -6.200000      -13.000000       -3.100000  \n",
       "25%               0.000000         7.600000        3.700000       10.800000  \n",
       "50%               0.000000        12.300000        8.300000       16.600000  \n",
       "75%               0.160000        17.200000       12.300000       22.400000  \n",
       "max               6.200000        31.200000       22.600000       39.800000  \n",
       "\n",
       "[8 rows x 165 columns]"
      ]
     },
     "execution_count": 2,
     "metadata": {},
     "output_type": "execute_result"
    }
   ],
   "source": [
    "# Load weather dataset\n",
    "fname = \"weather_prediction_dataset.csv\"\n",
    "if os.path.isfile(fname):\n",
    "    data = pd.read_csv(fname)\n",
    "else:\n",
    "    data = pd.read_csv(f\"https://zenodo.org/record/5071376/files/{fname}?download=1\")\n",
    "data.describe()"
   ]
  },
  {
   "cell_type": "code",
   "execution_count": 3,
   "metadata": {},
   "outputs": [
    {
     "data": {
      "text/html": [
       "<div>\n",
       "<style scoped>\n",
       "    .dataframe tbody tr th:only-of-type {\n",
       "        vertical-align: middle;\n",
       "    }\n",
       "\n",
       "    .dataframe tbody tr th {\n",
       "        vertical-align: top;\n",
       "    }\n",
       "\n",
       "    .dataframe thead th {\n",
       "        text-align: right;\n",
       "    }\n",
       "</style>\n",
       "<table border=\"1\" class=\"dataframe\">\n",
       "  <thead>\n",
       "    <tr style=\"text-align: right;\">\n",
       "      <th></th>\n",
       "      <th>DE_BILT_temp_max</th>\n",
       "    </tr>\n",
       "  </thead>\n",
       "  <tbody>\n",
       "    <tr>\n",
       "      <th>count</th>\n",
       "      <td>3654.000000</td>\n",
       "    </tr>\n",
       "    <tr>\n",
       "      <th>mean</th>\n",
       "      <td>14.798604</td>\n",
       "    </tr>\n",
       "    <tr>\n",
       "      <th>std</th>\n",
       "      <td>7.210740</td>\n",
       "    </tr>\n",
       "    <tr>\n",
       "      <th>min</th>\n",
       "      <td>-4.700000</td>\n",
       "    </tr>\n",
       "    <tr>\n",
       "      <th>25%</th>\n",
       "      <td>9.200000</td>\n",
       "    </tr>\n",
       "    <tr>\n",
       "      <th>50%</th>\n",
       "      <td>14.900000</td>\n",
       "    </tr>\n",
       "    <tr>\n",
       "      <th>75%</th>\n",
       "      <td>20.200000</td>\n",
       "    </tr>\n",
       "    <tr>\n",
       "      <th>max</th>\n",
       "      <td>35.700000</td>\n",
       "    </tr>\n",
       "  </tbody>\n",
       "</table>\n",
       "</div>"
      ],
      "text/plain": [
       "       DE_BILT_temp_max\n",
       "count       3654.000000\n",
       "mean          14.798604\n",
       "std            7.210740\n",
       "min           -4.700000\n",
       "25%            9.200000\n",
       "50%           14.900000\n",
       "75%           20.200000\n",
       "max           35.700000"
      ]
     },
     "execution_count": 3,
     "metadata": {},
     "output_type": "execute_result"
    }
   ],
   "source": [
    "\n",
    "# select only data from De Bilt\n",
    "columns = [col for col in data.columns if col.startswith('DE_BILT') and col.endswith('temp_max')]#[:9]\n",
    "data_debilt = data[columns]\n",
    "data_debilt.describe()"
   ]
  },
  {
   "cell_type": "code",
   "execution_count": 4,
   "metadata": {},
   "outputs": [
    {
     "name": "stdout",
     "output_type": "stream",
     "text": [
      "(120, 28, 1)\n"
     ]
    }
   ],
   "source": [
    "# find where the month changes\n",
    "idx = np.where(np.diff(data['MONTH']) != 0)[0]\n",
    "# idx contains the index of the last day of each month, except for the last month.\n",
    "# of the last month only a single day is recorded, so we discard it.\n",
    "\n",
    "nmonth = len(idx)\n",
    "# add start of first month\n",
    "idx = np.insert(idx, 0, 0)\n",
    "ncol = len(columns)\n",
    "# create single object containing each timeseries\n",
    "# for simplicity we truncate each timeseries to the same length, i.e. 28 days\n",
    "nday = 28\n",
    "data_ts = np.zeros((nmonth, nday, ncol))\n",
    "for m in range(nmonth):\n",
    "    data_ts[m] = data_debilt[idx[m]:idx[m+1]][:28]\n",
    "    \n",
    "print(data_ts.shape)"
   ]
  },
  {
   "cell_type": "code",
   "execution_count": 5,
   "metadata": {},
   "outputs": [
    {
     "data": {
      "text/html": [
       "<div>\n",
       "<style scoped>\n",
       "    .dataframe tbody tr th:only-of-type {\n",
       "        vertical-align: middle;\n",
       "    }\n",
       "\n",
       "    .dataframe tbody tr th {\n",
       "        vertical-align: top;\n",
       "    }\n",
       "\n",
       "    .dataframe thead th {\n",
       "        text-align: right;\n",
       "    }\n",
       "</style>\n",
       "<table border=\"1\" class=\"dataframe\">\n",
       "  <thead>\n",
       "    <tr style=\"text-align: right;\">\n",
       "      <th></th>\n",
       "      <th>0</th>\n",
       "      <th>1</th>\n",
       "      <th>2</th>\n",
       "      <th>3</th>\n",
       "    </tr>\n",
       "  </thead>\n",
       "  <tbody>\n",
       "    <tr>\n",
       "      <th>count</th>\n",
       "      <td>120.000000</td>\n",
       "      <td>120.000000</td>\n",
       "      <td>120.000000</td>\n",
       "      <td>120.000000</td>\n",
       "    </tr>\n",
       "    <tr>\n",
       "      <th>mean</th>\n",
       "      <td>0.250000</td>\n",
       "      <td>0.250000</td>\n",
       "      <td>0.250000</td>\n",
       "      <td>0.250000</td>\n",
       "    </tr>\n",
       "    <tr>\n",
       "      <th>std</th>\n",
       "      <td>0.434828</td>\n",
       "      <td>0.434828</td>\n",
       "      <td>0.434828</td>\n",
       "      <td>0.434828</td>\n",
       "    </tr>\n",
       "    <tr>\n",
       "      <th>min</th>\n",
       "      <td>0.000000</td>\n",
       "      <td>0.000000</td>\n",
       "      <td>0.000000</td>\n",
       "      <td>0.000000</td>\n",
       "    </tr>\n",
       "    <tr>\n",
       "      <th>25%</th>\n",
       "      <td>0.000000</td>\n",
       "      <td>0.000000</td>\n",
       "      <td>0.000000</td>\n",
       "      <td>0.000000</td>\n",
       "    </tr>\n",
       "    <tr>\n",
       "      <th>50%</th>\n",
       "      <td>0.000000</td>\n",
       "      <td>0.000000</td>\n",
       "      <td>0.000000</td>\n",
       "      <td>0.000000</td>\n",
       "    </tr>\n",
       "    <tr>\n",
       "      <th>75%</th>\n",
       "      <td>0.250000</td>\n",
       "      <td>0.250000</td>\n",
       "      <td>0.250000</td>\n",
       "      <td>0.250000</td>\n",
       "    </tr>\n",
       "    <tr>\n",
       "      <th>max</th>\n",
       "      <td>1.000000</td>\n",
       "      <td>1.000000</td>\n",
       "      <td>1.000000</td>\n",
       "      <td>1.000000</td>\n",
       "    </tr>\n",
       "  </tbody>\n",
       "</table>\n",
       "</div>"
      ],
      "text/plain": [
       "                0           1           2           3\n",
       "count  120.000000  120.000000  120.000000  120.000000\n",
       "mean     0.250000    0.250000    0.250000    0.250000\n",
       "std      0.434828    0.434828    0.434828    0.434828\n",
       "min      0.000000    0.000000    0.000000    0.000000\n",
       "25%      0.000000    0.000000    0.000000    0.000000\n",
       "50%      0.000000    0.000000    0.000000    0.000000\n",
       "75%      0.250000    0.250000    0.250000    0.250000\n",
       "max      1.000000    1.000000    1.000000    1.000000"
      ]
     },
     "execution_count": 5,
     "metadata": {},
     "output_type": "execute_result"
    }
   ],
   "source": [
    "# the labels are based on the month of each timeseries, in range 1 to 12\n",
    "months = (np.arange(nmonth) + data['MONTH'][0] - 1) % 12 + 1\n",
    "\n",
    "# one class per meteorological season\n",
    "labels = np.zeros_like(months, dtype=int)\n",
    "spring = (3 <= months) & (months <= 5)   # mar - may\n",
    "summer = (6 <= months) & (months <= 8)   # jun - aug\n",
    "autumn = (9 <= months) & (months <= 11)  # sep - nov\n",
    "winter = (months <= 2) | (months == 12)  # dec - feb\n",
    "\n",
    "labels[spring] = 0\n",
    "labels[summer] = 1\n",
    "labels[autumn] = 2\n",
    "labels[winter] = 3\n",
    "\n",
    "target = pd.get_dummies(labels)\n",
    "\n",
    "classes = ['spring', 'summer', 'autumn', 'winter']\n",
    "nclass = len(classes)\n",
    "\n",
    "target.describe()"
   ]
  },
  {
   "cell_type": "code",
   "execution_count": 6,
   "metadata": {},
   "outputs": [],
   "source": [
    "classes = ['summer', 'winter']\n",
    "nclass = 2\n",
    "labels[summer] = 0\n",
    "labels[winter] = 1\n",
    "target = pd.get_dummies(labels[summer + winter])\n",
    "data_ts = data_ts[summer + winter]"
   ]
  },
  {
   "attachments": {},
   "cell_type": "markdown",
   "metadata": {},
   "source": [
    "#### 3. Training the Model"
   ]
  },
  {
   "cell_type": "code",
   "execution_count": 7,
   "metadata": {},
   "outputs": [
    {
     "name": "stdout",
     "output_type": "stream",
     "text": [
      "(45, 28, 1) (7, 28, 1) (8, 28, 1)\n"
     ]
    }
   ],
   "source": [
    "data_trainval, data_test, target_trainval, target_test = train_test_split(data_ts, target, stratify=target, random_state=0, test_size=.12)\n",
    "data_train, data_val, target_train, target_val = train_test_split(data_trainval, target_trainval, stratify=target_trainval, random_state=0, test_size=.12)\n",
    "print(data_train.shape, data_val.shape, data_test.shape)"
   ]
  },
  {
   "cell_type": "code",
   "execution_count": 8,
   "metadata": {},
   "outputs": [],
   "source": [
    "# onnx model available on surf drive\n",
    "# path to ONNX model\n",
    "onnx_file = 'models/season_prediction_model_temp_max_binary.onnx'\n",
    "\n",
    "# verify the ONNX model is valid\n",
    "onnx_model = onnx.load(onnx_file)\n",
    "onnx.checker.check_model(onnx_model)\n",
    "\n",
    "def run_model(data):\n",
    "    # model must receive input in the order of [batch, timeseries, channels]\n",
    "    # data = data.transpose([0,2,1])\n",
    "    # get ONNX predictions\n",
    "    sess = ort.InferenceSession(onnx_file)\n",
    "    input_name = sess.get_inputs()[0].name\n",
    "    output_name = sess.get_outputs()[0].name\n",
    "\n",
    "    onnx_input = {input_name: data.astype(np.float32)}\n",
    "    pred_onnx = sess.run([output_name], onnx_input)[0]\n",
    "    print(f'mean:{np.mean(data)}, prediction:{pred_onnx}')\n",
    "    \n",
    "    return pred_onnx"
   ]
  },
  {
   "cell_type": "code",
   "execution_count": 9,
   "metadata": {},
   "outputs": [],
   "source": [
    "# We can use this 'expert' model instead of a trained model. This expert model decides it's summer if the mean temp is\n",
    "# above some threshold, and winter in other cases.\n",
    "\n",
    "def run_expert_model(data):\n",
    "    is_summer = np.mean(np.mean(data, axis=1), axis=1) > 14\n",
    "    print(f'{is_summer=}')\n",
    "    number_of_classes = 2\n",
    "    number_of_instances = data.shape[0]\n",
    "    result = np.zeros((number_of_instances ,number_of_classes))\n",
    "    result[is_summer] = [1.0, 0.0]\n",
    "    result[~is_summer] = [0.0, 1.0]\n",
    "    return result"
   ]
  },
  {
   "cell_type": "code",
   "execution_count": 10,
   "metadata": {},
   "outputs": [
    {
     "name": "stdout",
     "output_type": "stream",
     "text": [
      "is_summer=array([False])\n",
      "The predicted class is: winter\n",
      "The actual class is: winter\n",
      "(1, 28) [[8.1 8.7 9.6 9.4 7.4 9.1 7.4 8.1 7.  4.3 4.4 2.6 3.6 4.  5.4 6.9 7.5 8.6\n",
      "  5.6 6.1 7.8 6.1 4.4 0.9 2.8 5.5 3.8 5.9]]\n"
     ]
    }
   ],
   "source": [
    "idx = 6 # explained instance\n",
    "data_instance = data_test[idx][np.newaxis, ...]\n",
    "# precheck ONNX predictions\n",
    "pred_onnx = run_expert_model(data_instance)\n",
    "pred_class = classes[np.argmax(pred_onnx)]\n",
    "print(\"The predicted class is:\", pred_class)\n",
    "print(\"The actual class is:\", classes[np.argmax(target_test.iloc[idx])])\n",
    "input_image = data_instance[0]\n",
    "print(input_image.T.shape, input_image.T)"
   ]
  },
  {
   "cell_type": "code",
   "execution_count": 11,
   "metadata": {},
   "outputs": [
    {
     "data": {
      "text/plain": [
       "(28,)"
      ]
     },
     "execution_count": 11,
     "metadata": {},
     "output_type": "execute_result"
    }
   ],
   "source": [
    "series = np.squeeze(input_image)\n",
    "series.shape"
   ]
  },
  {
   "attachments": {},
   "cell_type": "markdown",
   "metadata": {},
   "source": [
    "#### 3. Applying LIME with DIANNA"
   ]
  },
  {
   "cell_type": "code",
   "execution_count": 12,
   "metadata": {},
   "outputs": [],
   "source": [
    "#inputs for Lime\n",
    "class_names = ['summer', 'winter']\n",
    "num_features = 10\n",
    "num_slices = len(input_image)"
   ]
  },
  {
   "cell_type": "code",
   "execution_count": 13,
   "metadata": {},
   "outputs": [
    {
     "ename": "InvalidArgument",
     "evalue": "[ONNXRuntimeError] : 2 : INVALID_ARGUMENT : Invalid rank for input: input_3:0 Got: 2 Expected: 3 Please fix either the inputs or the model.",
     "output_type": "error",
     "traceback": [
      "\u001b[0;31m---------------------------------------------------------------------------\u001b[0m",
      "\u001b[0;31mInvalidArgument\u001b[0m                           Traceback (most recent call last)",
      "Cell \u001b[0;32mIn[13], line 3\u001b[0m\n\u001b[1;32m      1\u001b[0m \u001b[39m#Run explainer from dianna class\u001b[39;00m\n\u001b[1;32m      2\u001b[0m explainer \u001b[39m=\u001b[39m lime_timeseries\u001b[39m.\u001b[39mLimeTimeseries()\n\u001b[0;32m----> 3\u001b[0m exp \u001b[39m=\u001b[39m explainer\u001b[39m.\u001b[39;49mexplain(run_model, series, labels\u001b[39m=\u001b[39;49m[\u001b[39m0\u001b[39;49m,\u001b[39m1\u001b[39;49m], class_names\u001b[39m=\u001b[39;49mclass_names, num_features\u001b[39m=\u001b[39;49mnum_features, num_samples\u001b[39m=\u001b[39;49m\u001b[39m100\u001b[39;49m, num_slices\u001b[39m=\u001b[39;49mnum_slices, method\u001b[39m=\u001b[39;49m\u001b[39m'\u001b[39;49m\u001b[39mcosine\u001b[39;49m\u001b[39m'\u001b[39;49m)\n",
      "File \u001b[0;32m/mnt/c/Users/PranavChandramouli/OneDrive - Netherlands eScience Center/Projects/DIANNA+/dianna/dianna/methods/lime_timeseries.py:53\u001b[0m, in \u001b[0;36mLimeTimeseries.explain\u001b[0;34m(self, model_or_function, input_data, labels, class_names, num_features, num_samples, num_slices, mask_type, method)\u001b[0m\n\u001b[1;32m     49\u001b[0m distance \u001b[39m=\u001b[39m \u001b[39mself\u001b[39m\u001b[39m.\u001b[39m_calculate_distance(input_data, masked, method\u001b[39m=\u001b[39mmethod)\n\u001b[1;32m     50\u001b[0m \u001b[39m# implementation for reference\u001b[39;00m\n\u001b[1;32m     51\u001b[0m \u001b[39m# https://github.com/emanuel-metzenthin/Lime-For-Time/blob/3af530f778ab2593246cefc1e5fdb28fa872dbdf/lime_timeseries.py#L130\u001b[39;00m\n\u001b[1;32m     52\u001b[0m \u001b[39m# TODO: scores =  lime_base.explain_instance_with_data()\u001b[39;00m\n\u001b[0;32m---> 53\u001b[0m predictions \u001b[39m=\u001b[39m model_or_function(masked)       \n\u001b[1;32m     54\u001b[0m exp \u001b[39m=\u001b[39m explanation\u001b[39m.\u001b[39mExplanation(domain_mapper \u001b[39m=\u001b[39m \u001b[39mself\u001b[39m\u001b[39m.\u001b[39mdomain_mapper, class_names \u001b[39m=\u001b[39m class_names)\n\u001b[1;32m     56\u001b[0m \u001b[39m# TODO: The current form of explanation follows lime-for-time. Would be good to merge formatting with DIANNA.\u001b[39;00m\n\u001b[1;32m     57\u001b[0m \u001b[39m# run the explanation.\u001b[39;00m\n",
      "Cell \u001b[0;32mIn[8], line 18\u001b[0m, in \u001b[0;36mrun_model\u001b[0;34m(data)\u001b[0m\n\u001b[1;32m     15\u001b[0m output_name \u001b[39m=\u001b[39m sess\u001b[39m.\u001b[39mget_outputs()[\u001b[39m0\u001b[39m]\u001b[39m.\u001b[39mname\n\u001b[1;32m     17\u001b[0m onnx_input \u001b[39m=\u001b[39m {input_name: data\u001b[39m.\u001b[39mastype(np\u001b[39m.\u001b[39mfloat32)}\n\u001b[0;32m---> 18\u001b[0m pred_onnx \u001b[39m=\u001b[39m sess\u001b[39m.\u001b[39;49mrun([output_name], onnx_input)[\u001b[39m0\u001b[39m]\n\u001b[1;32m     19\u001b[0m \u001b[39mprint\u001b[39m(\u001b[39mf\u001b[39m\u001b[39m'\u001b[39m\u001b[39mmean:\u001b[39m\u001b[39m{\u001b[39;00mnp\u001b[39m.\u001b[39mmean(data)\u001b[39m}\u001b[39;00m\u001b[39m, prediction:\u001b[39m\u001b[39m{\u001b[39;00mpred_onnx\u001b[39m}\u001b[39;00m\u001b[39m'\u001b[39m)\n\u001b[1;32m     21\u001b[0m \u001b[39mreturn\u001b[39;00m pred_onnx\n",
      "File \u001b[0;32m~/miniconda3/envs/dianna-dev/lib/python3.10/site-packages/onnxruntime/capi/onnxruntime_inference_collection.py:200\u001b[0m, in \u001b[0;36mSession.run\u001b[0;34m(self, output_names, input_feed, run_options)\u001b[0m\n\u001b[1;32m    198\u001b[0m     output_names \u001b[39m=\u001b[39m [output\u001b[39m.\u001b[39mname \u001b[39mfor\u001b[39;00m output \u001b[39min\u001b[39;00m \u001b[39mself\u001b[39m\u001b[39m.\u001b[39m_outputs_meta]\n\u001b[1;32m    199\u001b[0m \u001b[39mtry\u001b[39;00m:\n\u001b[0;32m--> 200\u001b[0m     \u001b[39mreturn\u001b[39;00m \u001b[39mself\u001b[39;49m\u001b[39m.\u001b[39;49m_sess\u001b[39m.\u001b[39;49mrun(output_names, input_feed, run_options)\n\u001b[1;32m    201\u001b[0m \u001b[39mexcept\u001b[39;00m C\u001b[39m.\u001b[39mEPFail \u001b[39mas\u001b[39;00m err:\n\u001b[1;32m    202\u001b[0m     \u001b[39mif\u001b[39;00m \u001b[39mself\u001b[39m\u001b[39m.\u001b[39m_enable_fallback:\n",
      "\u001b[0;31mInvalidArgument\u001b[0m: [ONNXRuntimeError] : 2 : INVALID_ARGUMENT : Invalid rank for input: input_3:0 Got: 2 Expected: 3 Please fix either the inputs or the model."
     ]
    }
   ],
   "source": [
    "#Run explainer from dianna class\n",
    "explainer = lime_timeseries.LimeTimeseries()\n",
    "exp = explainer.explain(run_model, series, labels=[0,1], class_names=class_names, num_features=num_features, num_samples=100, num_slices=num_slices, method='cosine')"
   ]
  },
  {
   "attachments": {},
   "cell_type": "markdown",
   "metadata": {},
   "source": [
    "#### 4. Plot results "
   ]
  },
  {
   "cell_type": "code",
   "execution_count": 6,
   "metadata": {},
   "outputs": [
    {
     "data": {
      "image/png": "[encoded data removed]",
      "text/plain": [
       "<Figure size 640x480 with 1 Axes>"
      ]
     },
     "execution_count": 6,
     "metadata": {},
     "output_type": "execute_result"
    },
    {
     "data": {
      "image/png": "[encoded data removed]",
      "text/plain": [
       "<Figure size 640x480 with 1 Axes>"
      ]
     },
     "metadata": {},
     "output_type": "display_data"
    }
   ],
   "source": [
    "import matplotlib.pyplot as plt\n",
    "exp.as_pyplot_figure()"
   ]
  },
  {
   "cell_type": "code",
   "execution_count": 7,
   "metadata": {},
   "outputs": [
    {
     "name": "stdout",
     "output_type": "stream",
     "text": [
      "1\n"
     ]
    },
    {
     "data": {
      "image/png": "[encoded data removed]",
      "text/plain": [
       "<Figure size 640x480 with 1 Axes>"
      ]
     },
     "metadata": {},
     "output_type": "display_data"
    }
   ],
   "source": [
    "import math\n",
    "values_per_slice = math.ceil(len(series) / num_slices)\n",
    "print (values_per_slice)\n",
    "plt.plot(series, color='b', label='Explained instance')\n",
    "plt.plot(coffee_test_x.iloc[15:,:].mean(), color='green', label='Mean of other class')\n",
    "plt.plot(coffee_test_x.iloc[:14,:].mean(), color='black', label='Mean of this class')\n",
    "plt.legend(loc='lower left')\n",
    "\n",
    "for i in range(num_features):\n",
    "    feature, weight = exp.as_list()[i]\n",
    "    start = feature * values_per_slice\n",
    "    end = start + values_per_slice\n",
    "    color = 'red' if weight < 0 else 'green' \n",
    "    plt.axvspan(start , end, color=color, alpha=abs(weight*2))\n",
    "plt.show()"
   ]
  },
  {
   "attachments": {},
   "cell_type": "markdown",
   "metadata": {},
   "source": [
    "#### Functions to run lime for time-series - explicitly written here until lime_timeseries is finalised in DIANNA"
   ]
  },
  {
   "cell_type": "code",
   "execution_count": 9,
   "metadata": {},
   "outputs": [],
   "source": [
    "#Mask data from dianna functions\n",
    "from dianna.utils.maskers import generate_masks\n",
    "from dianna.utils.maskers import mask_data\n",
    "masks = generate_masks(series, 10, p_keep=0.9)\n",
    "masked = mask_data(series, masks, mask_type='mean')"
   ]
  },
  {
   "cell_type": "code",
   "execution_count": null,
   "metadata": {},
   "outputs": [],
   "source": [
    "#Domain Mapper for use in Lime\n",
    "class TSDomainMapper(explanation.DomainMapper):\n",
    "    def __init__(self, signal_names, num_slices, is_multivariate):\n",
    "        \"\"\"Init function.\n",
    "        Args:\n",
    "            signal_names: list of strings, names of signals\n",
    "        \"\"\"\n",
    "        self.num_slices = num_slices\n",
    "        self.signal_names = signal_names\n",
    "        self.is_multivariate = is_multivariate\n",
    "        \n",
    "    def map_exp_ids(self, exp, **kwargs):\n",
    "        # in case of univariate, don't change feature ids\n",
    "        if not self.is_multivariate:\n",
    "            return exp\n",
    "        \n",
    "        names = []\n",
    "        for _id, weight in exp:\n",
    "            # from feature idx, extract both the pair number of slice\n",
    "            # and the signal perturbed\n",
    "            nsignal = int(_id / self.num_slices)\n",
    "            nslice = _id % self.num_slices\n",
    "            signalname = self.signal_names[nsignal]\n",
    "            featurename = \"%d - %s\" % (nslice, signalname)\n",
    "            names.append((featurename, weight))\n",
    "        return names\n",
    "\n",
    "#Distance calculation\n",
    "def distance_calc(input_data, masked_data):\n",
    "        \"\"\"Calculate distance based on dynamic time warping.\"\"\"\n",
    "        # implementation for reference\n",
    "        # https://github.com/TortySivill/LIMESegment/blob/0a276e30f8d259642521407e7d51d07969169432/Utils/explanations.py#L111\n",
    "        distance =  sklearn.metrics.pairwise.pairwise_distances(\n",
    "                        masked, masked[0].reshape([1, -1]),\n",
    "                        metric = 'cosine').ravel() * 100\n",
    "        return distance"
   ]
  },
  {
   "attachments": {},
   "cell_type": "markdown",
   "metadata": {},
   "source": [
    "#### 3. Applying LIME with inbuilt functions"
   ]
  },
  {
   "cell_type": "code",
   "execution_count": 75,
   "metadata": {},
   "outputs": [],
   "source": [
    "# Things we need to replace/reproduce\n",
    "kernel_width = 25\n",
    "\n",
    "distance = distance_calc(input_data=series, masked_data=masked)\n",
    "\n",
    "verbose=False\n",
    "explainer = lime_base.LimeBase(kernel, verbose)\n",
    "\n",
    "predictions = knn.predict_proba(masked) \n",
    "\n",
    "domain_mapper = explanation.DomainMapper()\n",
    "exp = explanation.Explanation(domain_mapper=domain_mapper, class_names=class_names)\n",
    "\n",
    "for label in labels:\n",
    "    (exp.intercept[int(label)],\n",
    "                exp.local_exp[int(label)],\n",
    "                exp.score,\n",
    "                exp.local_pred) = explainer.explain_instance_with_data(masked,\n",
    "                                                    predictions,\n",
    "                                                    distance,\n",
    "                                                    label=label,\n",
    "                                                    num_features=num_features,\n",
    "                                                    model_regressor = None,\n",
    "    )"
   ]
  },
  {
   "cell_type": "code",
   "execution_count": 11,
   "metadata": {},
   "outputs": [],
   "source": [
    "def dtw_distance(input_data, masked_data):\n",
    "    \"\"\"Calculate distance based on dynamic time warping.\"\"\"\n",
    "    # implementation for reference\n",
    "    # https://github.com/TortySivill/LIMESegment/blob/0a276e30f8d259642521407e7d51d07969169432/Utils/explanations.py#L111\n",
    "    distance =  np.asarray([fastdtw(input_data, one_masked_data)[0] for one_masked_data in masked_data])\n",
    "    return distance"
   ]
  },
  {
   "cell_type": "code",
   "execution_count": 35,
   "metadata": {},
   "outputs": [],
   "source": [
    "distance = dtw_distance(series, masked_data = masked)"
   ]
  },
  {
   "cell_type": "code",
   "execution_count": 36,
   "metadata": {},
   "outputs": [
    {
     "data": {
      "text/plain": [
       "array([22.19070875, 25.71927442, 22.32230542, 23.18545725, 26.43324826,\n",
       "       26.83284192, 29.09582042, 28.69291358, 22.12334709, 20.95898842])"
      ]
     },
     "execution_count": 36,
     "metadata": {},
     "output_type": "execute_result"
    }
   ],
   "source": [
    "distance"
   ]
  },
  {
   "cell_type": "code",
   "execution_count": null,
   "metadata": {},
   "outputs": [],
   "source": []
  }
 ],
 "metadata": {
  "kernelspec": {
   "display_name": "torch",
   "language": "python",
   "name": "python3"
  },
  "language_info": {
   "codemirror_mode": {
    "name": "ipython",
    "version": 3
   },
   "file_extension": ".py",
   "mimetype": "text/x-python",
   "name": "python",
   "nbconvert_exporter": "python",
   "pygments_lexer": "ipython3",
   "version": "3.10.9"
  },
  "orig_nbformat": 4
 },
 "nbformat": 4,
 "nbformat_minor": 2
}
