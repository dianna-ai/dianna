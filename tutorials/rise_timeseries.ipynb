{
 "cells": [
  {
   "cell_type": "code",
   "execution_count": 9,
   "metadata": {},
   "outputs": [],
   "source": [
    "import dianna\n",
    "import numpy as np"
   ]
  },
  {
   "cell_type": "code",
   "execution_count": 5,
   "metadata": {},
   "outputs": [],
   "source": [
    "def run_model(input_data):\n",
    "    \"\"\"\n",
    "    Simulate a model that outputs 2-classes.\n",
    "\n",
    "    Args:\n",
    "        input_data: input data for the dummy model\n",
    "\n",
    "    Returns:\n",
    "        semi random output\n",
    "    \"\"\"\n",
    "    n_class = 2\n",
    "    batch_size = input_data.shape[0]\n",
    "\n",
    "    np.random.seed(42)\n",
    "    return np.random.random((batch_size, n_class))"
   ]
  },
  {
   "cell_type": "code",
   "execution_count": 2,
   "metadata": {},
   "outputs": [],
   "source": [
    "input_data = np.random.random((10, 1))\n",
    "axis_labels = ['t', 'channels']\n",
    "labels = [1]"
   ]
  },
  {
   "cell_type": "code",
   "execution_count": 3,
   "metadata": {},
   "outputs": [
    {
     "data": {
      "text/plain": [
       "numpy.ndarray"
      ]
     },
     "execution_count": 3,
     "metadata": {},
     "output_type": "execute_result"
    }
   ],
   "source": [
    "type(input_data)"
   ]
  },
  {
   "cell_type": "code",
   "execution_count": 6,
   "metadata": {},
   "outputs": [
    {
     "name": "stderr",
     "output_type": "stream",
     "text": [
      "Explaining: 100%|██████████| 2/2 [00:00<00:00, 5047.30it/s]\n"
     ]
    }
   ],
   "source": [
    "heatmaps = dianna.explain_timeseries(run_model, input_data, \"RISE\", labels, axis_labels=axis_labels,\n",
    "                                     n_masks=200, p_keep=.5)"
   ]
  },
  {
   "cell_type": "code",
   "execution_count": 11,
   "metadata": {},
   "outputs": [],
   "source": [
    "heatmaps = heatmaps[0]"
   ]
  },
  {
   "cell_type": "code",
   "execution_count": 12,
   "metadata": {},
   "outputs": [
    {
     "ename": "AttributeError",
     "evalue": "module 'dianna' has no attribute 'visualization'",
     "output_type": "error",
     "traceback": [
      "\u001b[0;31m---------------------------------------------------------------------------\u001b[0m",
      "\u001b[0;31mAttributeError\u001b[0m                            Traceback (most recent call last)",
      "\u001b[1;32m/home/yangliu/MLexpo/dianna/tutorials/rise_timeseries.ipynb Cell 7\u001b[0m in \u001b[0;36m9\n\u001b[1;32m      <a href='vscode-notebook-cell://wsl%2Bubuntu-20.04/home/yangliu/MLexpo/dianna/tutorials/rise_timeseries.ipynb#W6sdnNjb2RlLXJlbW90ZQ%3D%3D?line=2'>3</a>\u001b[0m \u001b[39mfor\u001b[39;00m i \u001b[39min\u001b[39;00m \u001b[39mrange\u001b[39m(\u001b[39mlen\u001b[39m(heatmap_channel) \u001b[39m-\u001b[39m \u001b[39m1\u001b[39m):\n\u001b[1;32m      <a href='vscode-notebook-cell://wsl%2Bubuntu-20.04/home/yangliu/MLexpo/dianna/tutorials/rise_timeseries.ipynb#W6sdnNjb2RlLXJlbW90ZQ%3D%3D?line=3'>4</a>\u001b[0m     segments\u001b[39m.\u001b[39mappend({\n\u001b[1;32m      <a href='vscode-notebook-cell://wsl%2Bubuntu-20.04/home/yangliu/MLexpo/dianna/tutorials/rise_timeseries.ipynb#W6sdnNjb2RlLXJlbW90ZQ%3D%3D?line=4'>5</a>\u001b[0m         \u001b[39m'\u001b[39m\u001b[39mindex\u001b[39m\u001b[39m'\u001b[39m: i,\n\u001b[1;32m      <a href='vscode-notebook-cell://wsl%2Bubuntu-20.04/home/yangliu/MLexpo/dianna/tutorials/rise_timeseries.ipynb#W6sdnNjb2RlLXJlbW90ZQ%3D%3D?line=5'>6</a>\u001b[0m         \u001b[39m'\u001b[39m\u001b[39mstart\u001b[39m\u001b[39m'\u001b[39m: i,\n\u001b[1;32m      <a href='vscode-notebook-cell://wsl%2Bubuntu-20.04/home/yangliu/MLexpo/dianna/tutorials/rise_timeseries.ipynb#W6sdnNjb2RlLXJlbW90ZQ%3D%3D?line=6'>7</a>\u001b[0m         \u001b[39m'\u001b[39m\u001b[39mstop\u001b[39m\u001b[39m'\u001b[39m: i \u001b[39m+\u001b[39m \u001b[39m1\u001b[39m,\n\u001b[1;32m      <a href='vscode-notebook-cell://wsl%2Bubuntu-20.04/home/yangliu/MLexpo/dianna/tutorials/rise_timeseries.ipynb#W6sdnNjb2RlLXJlbW90ZQ%3D%3D?line=7'>8</a>\u001b[0m         \u001b[39m'\u001b[39m\u001b[39mweight\u001b[39m\u001b[39m'\u001b[39m: heatmap_channel[i]})\n\u001b[0;32m----> <a href='vscode-notebook-cell://wsl%2Bubuntu-20.04/home/yangliu/MLexpo/dianna/tutorials/rise_timeseries.ipynb#W6sdnNjb2RlLXJlbW90ZQ%3D%3D?line=8'>9</a>\u001b[0m dianna\u001b[39m.\u001b[39;49mvisualization\u001b[39m.\u001b[39mplot_timeseries(\u001b[39mrange\u001b[39m(\u001b[39mlen\u001b[39m(heatmap_channel)), input_data[:, \u001b[39m0\u001b[39m], segments, show_plot\u001b[39m=\u001b[39m\u001b[39mTrue\u001b[39;00m)\n",
      "\u001b[0;31mAttributeError\u001b[0m: module 'dianna' has no attribute 'visualization'"
     ]
    }
   ],
   "source": [
    "import dianna.visualization\n",
    "heatmap_channel = heatmaps[:, 0]\n",
    "segments = []\n",
    "for i in range(len(heatmap_channel) - 1):\n",
    "    segments.append({\n",
    "        'index': i,\n",
    "        'start': i,\n",
    "        'stop': i + 1,\n",
    "        'weight': heatmap_channel[i]})\n",
    "dianna.visualization.plot_timeseries(range(len(heatmap_channel)), input_data[:, 0], segments, show_plot=True)"
   ]
  }
 ],
 "metadata": {
  "kernelspec": {
   "display_name": "torch",
   "language": "python",
   "name": "python3"
  },
  "language_info": {
   "codemirror_mode": {
    "name": "ipython",
    "version": 3
   },
   "file_extension": ".py",
   "mimetype": "text/x-python",
   "name": "python",
   "nbconvert_exporter": "python",
   "pygments_lexer": "ipython3",
   "version": "3.10.8"
  },
  "orig_nbformat": 4
 },
 "nbformat": 4,
 "nbformat_minor": 2
}
