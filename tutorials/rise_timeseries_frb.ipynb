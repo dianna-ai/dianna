{
 "cells": [
  {
   "cell_type": "markdown",
   "metadata": {
    "pycharm": {
     "name": "#%% md\n"
    }
   },
   "source": [
    "<img width=\"150\" alt=\"Logo_ER10\" src=\"https://user-images.githubusercontent.com/3244249/151994514-b584b984-a148-4ade-80ee-0f88b0aefa45.png\">\n",
    "\n",
    "### Model Interpretation using RISE for timeseries data\n",
    "This notebook shows how to apply the RISE explainability method on a model trained to classify Fast Radio Burst (FRB) timeseries data. The model is a binary classifier that classifies the input a either noise or a real FRB.<br>\n",
    "\n",
    "RISE is short for Randomized Input Sampling for Explanation of Black-box Models. It estimates the relevance empirically by probing the model with randomly masked versions of the input image to obtain the corresponding outputs.<br>\n",
    "\n",
    "More details about this method can be found in the paper https://arxiv.org/abs/1806.07421.<br>"
   ]
  },
  {
   "cell_type": "markdown",
   "metadata": {},
   "source": [
    "#### Colab Setup"
   ]
  },
  {
   "cell_type": "code",
   "execution_count": 1,
   "metadata": {
    "ExecuteTime": {
     "end_time": "2023-05-30T16:49:27.348309Z",
     "start_time": "2023-05-30T16:49:16.050787Z"
    }
   },
   "outputs": [],
   "source": [
    "running_in_colab = 'google.colab' in str(get_ipython())\n",
    "if running_in_colab:\n",
    "    # install dianna\n",
    "    !python3 -m pip install dianna[notebooks]\n",
    "  \n",
    "    # download data used in this demo\n",
    "    import os \n",
    "    base_url = 'https://raw.githubusercontent.com/dianna-ai/dianna/main/tutorials/'\n",
    "    paths_to_download = ['data/arts_frb_classes.txt', 'data/FRB211024.npy']\n",
    "    for path in paths_to_download:\n",
    "        !wget {base_url + path} -P {os.path.dirname(path)}"
   ]
  },
  {
   "cell_type": "code",
   "execution_count": 2,
   "metadata": {},
   "outputs": [],
   "source": [
    "# Download model from zenodo\n",
    "import os\n",
    "from urllib.request import urlretrieve\n",
    "\n",
    "model_url = \"https://zenodo.org/record/10656614/files/apertif_frb_dynamic_spectrum_model.onnx?download=1\"\n",
    "model_path = 'models/apertif_frb_dynamic_spectrum_model.onnx'\n",
    "\n",
    "if not os.path.isfile(model_path):\n",
    "    print(\"Downloading model\")\n",
    "    urlretrieve(model_url, model_path)"
   ]
  },
  {
   "cell_type": "markdown",
   "metadata": {},
   "source": [
    "### Libraries"
   ]
  },
  {
   "cell_type": "code",
   "execution_count": 3,
   "metadata": {
    "ExecuteTime": {
     "end_time": "2023-05-30T16:49:27.399443Z",
     "start_time": "2023-05-30T16:49:17.537497Z"
    },
    "collapsed": false,
    "jupyter": {
     "outputs_hidden": false
    },
    "pycharm": {
     "name": "#%%\n"
    }
   },
   "outputs": [],
   "source": [
    "import numpy as np\n",
    "from dianna import visualization\n",
    "from matplotlib import pyplot as plt\n",
    "import dianna\n",
    "from dianna.visualization import plot_timeseries\n",
    "\n",
    "np.random.seed(0)"
   ]
  },
  {
   "cell_type": "code",
   "execution_count": 4,
   "metadata": {},
   "outputs": [],
   "source": [
    "classes_path = 'data/apertif_frb_classes.txt'\n",
    "data_path = 'data/FRB211024.npy'"
   ]
  },
  {
   "cell_type": "markdown",
   "metadata": {},
   "source": [
    "## Loading the data"
   ]
  },
  {
   "cell_type": "code",
   "execution_count": 5,
   "metadata": {},
   "outputs": [],
   "source": [
    "data = np.load(data_path)"
   ]
  },
  {
   "cell_type": "code",
   "execution_count": 6,
   "metadata": {},
   "outputs": [
    {
     "data": {
      "text/plain": [
       "Text(0.5, 1.0, 'FRB 211024')"
      ]
     },
     "execution_count": 6,
     "metadata": {},
     "output_type": "execute_result"
    },
    {
     "data": {
      "image/png": "[encoded data removed]",
      "text/plain": [
       "<Figure size 432x288 with 1 Axes>"
      ]
     },
     "metadata": {
      "needs_background": "light"
     },
     "output_type": "display_data"
    }
   ],
   "source": [
    "fig, ax = plt.subplots()\n",
    "ax.imshow(data, aspect='auto', origin='lower')\n",
    "ax.set_xlabel('Time step')\n",
    "ax.set_ylabel('Channel index')\n",
    "ax.set_title('FRB 211024')"
   ]
  },
  {
   "cell_type": "markdown",
   "metadata": {},
   "source": [
    "## Selecting the class to run the explainer for"
   ]
  },
  {
   "cell_type": "code",
   "execution_count": 7,
   "metadata": {},
   "outputs": [
    {
     "name": "stdout",
     "output_type": "stream",
     "text": [
      "class_names=['Noise', 'FRB']\n"
     ]
    }
   ],
   "source": [
    "with open(classes_path) as fp:\n",
    "    class_names = [line.strip() for line in fp.readlines()]\n",
    "    \n",
    "print(f\"{class_names=}\")\n",
    "    \n",
    "class_to_explain = 'FRB'\n",
    "    \n",
    "labels = [class_names.index(class_to_explain)]"
   ]
  },
  {
   "cell_type": "markdown",
   "metadata": {},
   "source": [
    "## Define function to handle difference between data shape expected by DIANNA and model|\n",
    "\n",
    "Dianna expects input with shape `(time, channel)` while the model and data use `(channel, time)`\n",
    "In addition, the model needs an extra emtpy axis at the end. \n",
    "(model detail: this is because the model is a CNN and the input is processed as if it is an image. The empty axis at the end is the \"colour channel\" axis)\n",
    "\n",
    "To handle this, we transpose the input data before feeding it to DIANNA and we define a preprocess function that is called on the data just before it is given to the model. DIANNA creates masked data in batches, so the preprocess function receives data with shape `(batch, time, channel)` which we need to convert to `(batch, channel, time, 1)`. We also convert to `float32`, as this is the only floating point format handled by models in ONNX format."
   ]
  },
  {
   "cell_type": "code",
   "execution_count": 8,
   "metadata": {},
   "outputs": [],
   "source": [
    "def preprocess(data):\n",
    "    return np.transpose(data, (0, 2, 1))[..., None].astype(np.float32)"
   ]
  },
  {
   "cell_type": "markdown",
   "metadata": {},
   "source": [
    "## Run the explainer"
   ]
  },
  {
   "cell_type": "code",
   "execution_count": 9,
   "metadata": {},
   "outputs": [
    {
     "name": "stderr",
     "output_type": "stream",
     "text": [
      "Explaining: 100%|███████████████████████████████████████████████████████████████████████████████████████████████████████████████████████████████████████████████████████████████████| 50/50 [00:01<00:00, 45.27it/s]\n"
     ]
    }
   ],
   "source": [
    "# Run the explainer with 5000 masks and a feature resolution of 8 samples\n",
    "# Masked values are replaced by the mean of the input data\n",
    "explanation = dianna.explain_timeseries(model_path, data.T, method='RISE', labels=labels,\n",
    "                                        n_masks=5000, feature_res=8, preprocess_function=preprocess,\n",
    "                                        mask_type='mean')\n",
    "\n",
    "\n",
    "# select heatmap of the first (and only) class we ran the explainer for\n",
    "heatmap = explanation[0].T"
   ]
  },
  {
   "cell_type": "markdown",
   "metadata": {},
   "source": [
    "## Plot the explanation and input data next to each other"
   ]
  },
  {
   "cell_type": "code",
   "execution_count": 10,
   "metadata": {},
   "outputs": [
    {
     "data": {
      "image/png": "[encoded data removed]",
      "text/plain": [
       "<Figure size 1008x432 with 2 Axes>"
      ]
     },
     "metadata": {
      "needs_background": "light"
     },
     "output_type": "display_data"
    }
   ],
   "source": [
    "fig, axes = plt.subplots(ncols=2, figsize=(14, 6))\n",
    "\n",
    "ax = axes[0]\n",
    "ax.imshow(data, aspect='auto', origin='lower')\n",
    "ax.set_xlabel('Time step')\n",
    "ax.set_ylabel('Channel index')\n",
    "ax.set_title('FRB 211024')\n",
    "\n",
    "ax = axes[1]\n",
    "ax.imshow(heatmap, aspect='auto', origin='lower')\n",
    "ax.set_xlabel('Time step')\n",
    "ax.set_ylabel('Channel index')\n",
    "ax.set_title(f'Explanation for class {class_to_explain}');"
   ]
  },
  {
   "cell_type": "markdown",
   "metadata": {},
   "source": [
    "## Results\n",
    "\n",
    "From the explainer output, we can clearly see that the model is mostly influenced by the vertical line in the center, which is exactly where the real FRB is located. Curiously, it is also influenced by channels that are completely masked out in the input data."
   ]
  }
 ],
 "metadata": {
  "kernelspec": {
   "display_name": "Python 3 (ipykernel)",
   "language": "python",
   "name": "python3"
  },
  "language_info": {
   "codemirror_mode": {
    "name": "ipython",
    "version": 3
   },
   "file_extension": ".py",
   "mimetype": "text/x-python",
   "name": "python",
   "nbconvert_exporter": "python",
   "pygments_lexer": "ipython3",
   "version": "3.9.1"
  },
  "vscode": {
   "interpreter": {
    "hash": "f74811edbe99894b2f930b63702daebe3ce5897f538d47d6f6827e4475af2be0"
   }
  }
 },
 "nbformat": 4,
 "nbformat_minor": 4
}
